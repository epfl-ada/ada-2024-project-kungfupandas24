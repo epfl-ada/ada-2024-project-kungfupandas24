{
 "cells": [
  {
   "cell_type": "markdown",
   "metadata": {},
   "source": [
    "<div style=\"text-align: center;\">\n",
    "<h1>Reel Realities: How Gender and Age Shape Success Across Box Office and Streaming Platforms</h1>\n",
    "</div>"
   ]
  },
  {
   "cell_type": "markdown",
   "metadata": {},
   "source": [
    "### <u>Imports</u>"
   ]
  },
  {
   "cell_type": "code",
   "execution_count": null,
   "metadata": {},
   "outputs": [],
   "source": [
    "import pandas as pd\n",
    "import matplotlib.pyplot as plt\n",
    "import ast\n",
    "import re\n",
    "import numpy as np"
   ]
  },
  {
   "cell_type": "markdown",
   "metadata": {},
   "source": [
    "### 1. <u>Data cleaning and pre-processing</u>"
   ]
  },
  {
   "cell_type": "markdown",
   "metadata": {},
   "source": [
    "#### 1.1 CMU Dataset"
   ]
  },
  {
   "cell_type": "markdown",
   "metadata": {},
   "source": [
    "We will use four files of the CMU dataset:\n",
    "1. \"plot_summaries.txt\" gives us the plots of the movies.\n",
    "2. \"movie.metadata.tsv\" gives us information about the languages, countries, and genres of the movies.\n",
    "3.\n",
    "4."
   ]
  },
  {
   "cell_type": "code",
   "execution_count": null,
   "metadata": {},
   "outputs": [],
   "source": [
    "plot_summaries_df = pd.read_csv(\"data/CMU/plot_summaries.txt\", delimiter=\"\\t\", names = [\"Wikipedia_movie_ID\", \"Plot Summaries\"])\n",
    "\n",
    "print(f\"The plot summaries dataframe has {len(plot_summaries_df):,} values.\")\n",
    "plot_summaries_df.head()"
   ]
  },
  {
   "cell_type": "code",
   "execution_count": null,
   "metadata": {},
   "outputs": [],
   "source": [
    "movie_metadata_df = pd.read_csv(\"data/CMU/movie.metadata.tsv\", delimiter='\\t', names = [\"Wikipedia_movie_ID\",\"Freebase_movie_ID\",\"Movie_name\",\"Movie_release_date\",\"Movie_box_office_revenue\",\"Movie_runtime\",\"Movie_languages\",\"Movie_countries\",\"Movie_genres\"])\n",
    "print(f\"The movie metadata dataframe has {len(movie_metadata_df):,} values.\")\n",
    "movie_metadata_df.head()"
   ]
  },
  {
   "cell_type": "code",
   "execution_count": null,
   "metadata": {},
   "outputs": [],
   "source": [
    "movie_metadata_df[\"Movie_name\"] = (movie_metadata_df[\"Movie_name\"]\n",
    "                    .str.strip()  #Remove leading/trailing whitespace\n",
    "                    .str.lower()  #Convert to lowercase\n",
    "                    .replace(\"\", np.nan)  #Replace empty strings with NaN\n",
    "                   )"
   ]
  },
  {
   "cell_type": "code",
   "execution_count": null,
   "metadata": {},
   "outputs": [],
   "source": [
    "#Movie languages, countries, and genres are formatted as a dictionary, but they are actually a string. We convert them to a list.\n",
    "movie_metadata_df[\"Movie_languages\"] = movie_metadata_df[\"Movie_languages\"].apply(ast.literal_eval)\n",
    "movie_metadata_df[\"Movie_languages\"] = movie_metadata_df[\"Movie_languages\"].apply(lambda x: list(x.values()))\n",
    "\n",
    "movie_metadata_df[\"Movie_countries\"] = movie_metadata_df[\"Movie_countries\"].apply(ast.literal_eval)\n",
    "movie_metadata_df[\"Movie_countries\"] = movie_metadata_df[\"Movie_countries\"].apply(lambda x: list(x.values()))\n",
    "\n",
    "movie_metadata_df[\"Movie_genres\"] = movie_metadata_df[\"Movie_genres\"].apply(ast.literal_eval)\n",
    "movie_metadata_df[\"Movie_genres\"] = movie_metadata_df[\"Movie_genres\"].apply(lambda x: list(x.values()))"
   ]
  },
  {
   "cell_type": "code",
   "execution_count": null,
   "metadata": {},
   "outputs": [],
   "source": [
    "#Cleaning\n",
    "def clean_string_list(lst):\n",
    "    return [s.strip().lower() if isinstance(s, str) and s.strip() != \"\" else np.nan for s in lst]\n",
    "\n",
    "movie_metadata_df[\"Movie_languages\"] = movie_metadata_df[\"Movie_languages\"].apply(clean_string_list)\n",
    "movie_metadata_df[\"Movie_countries\"] = movie_metadata_df[\"Movie_countries\"].apply(clean_string_list)\n",
    "movie_metadata_df[\"Movie_genres\"] = movie_metadata_df[\"Movie_genres\"].apply(clean_string_list)"
   ]
  },
  {
   "cell_type": "code",
   "execution_count": null,
   "metadata": {},
   "outputs": [],
   "source": [
    "movie_metadata_df.head()"
   ]
  },
  {
   "cell_type": "code",
   "execution_count": null,
   "metadata": {},
   "outputs": [],
   "source": [
    "#There are inconsistencies in the date format: some rows have the date as year only, others as year-month, and some as year-month-day. We convert them all to the year format only since the month and day are not relevant to our analysis.\n",
    "full_date_pattern = r'^\\d{4}-\\d{2}-\\d{2}$' #Matches YYYY-MM-DD\n",
    "year_month_pattern = r'^\\d{4}-\\d{2}$' #Matches YYYY-MM\n",
    "year_only_pattern = r'^\\d{4}$' #Matches YYYY\n",
    "\n",
    "def identify_pattern(date):\n",
    "    if pd.isna(date):\n",
    "        return \"Missing\"\n",
    "    elif re.match(full_date_pattern, date):\n",
    "        return \"Full Date (YYYY-MM-DD)\"\n",
    "    elif re.match(year_month_pattern, date):\n",
    "        return \"Year & Month Date (YYYY-MM)\"\n",
    "    elif re.match(year_only_pattern, date):\n",
    "        return \"Year Only (YYYY)\"\n",
    "    else:\n",
    "        return \"Other\"\n",
    "\n",
    "movie_metadata_df[\"Pattern\"] = movie_metadata_df[\"Movie_release_date\"].apply(identify_pattern)\n",
    "pattern_summary = movie_metadata_df.groupby(\"Pattern\").size().reset_index(name=\"Count\")\n",
    "\n",
    "print(\"Pattern Summary:\")\n",
    "print(pattern_summary)"
   ]
  },
  {
   "cell_type": "code",
   "execution_count": null,
   "metadata": {},
   "outputs": [],
   "source": [
    "movie_metadata_df[\"Movie_release_date\"] = movie_metadata_df[\"Movie_release_date\"].apply(lambda x: str(x)[:4] if pd.notnull(x) else None)\n",
    "movie_metadata_df = movie_metadata_df.drop(columns=[\"Pattern\"])"
   ]
  },
  {
   "cell_type": "code",
   "execution_count": null,
   "metadata": {},
   "outputs": [],
   "source": [
    "n_null_movie_metadata = ((movie_metadata_df.isnull().sum() / len(movie_metadata_df)) * 100).apply(lambda x: f\"{x:,.2f}%\")\n",
    "\n",
    "print(\n",
    "    f\"Percentage of null values per column:\\n\"\n",
    "    f\"movie_metadata_df:\\n{n_null_movie_metadata}\"\n",
    ")"
   ]
  },
  {
   "cell_type": "code",
   "execution_count": null,
   "metadata": {},
   "outputs": [],
   "source": [
    "movie_metadata_df.head()"
   ]
  },
  {
   "cell_type": "code",
   "execution_count": null,
   "metadata": {},
   "outputs": [],
   "source": [
    "CMU_movies = pd.read_csv(\"./data/CMU/filtered_movie_metadata.csv\", delimiter=\",\", skipinitialspace=True)\n",
    "\n",
    "# If there's an extra unnamed column, drop it\n",
    "if \"Unnamed: 0\" in CMU_movies.columns:\n",
    "    CMU_movies = CMU_movies.drop(columns=[\"Unnamed: 0\"])\n",
    "CMU_movies.columns = [\n",
    "    \"Wikipedia_movie_ID\",\n",
    "    \"Freebase_movie_ID\",\n",
    "    \"Movie_name\",\n",
    "    \"Movie_release_date\",\n",
    "    \"Movie_box_office_revenue\",\n",
    "    \"runtimeMinutes\",\n",
    "    \"Movie_languages\",\n",
    "    \"Movie_countries\",\n",
    "    \"genres\",\n",
    "    \"Cast\",\n",
    "    \"Female_actors\",\n",
    "    \"Male_actors\",\n",
    "    \"Female_actor_percentage\",\n",
    "    \"Average_female_actor_age\",\n",
    "    \"Average_male_actor_age\"\n",
    "]\n",
    "CMU_movies.head()"
   ]
  },
  {
   "cell_type": "markdown",
   "metadata": {},
   "source": [
    "#### 1.2 IMDB Dataset"
   ]
  },
  {
   "cell_type": "markdown",
   "metadata": {},
   "source": [
    "We will use two IMDB datasets to decribe movies:\n",
    "1. \"title.ratings.tsv\" gives us the ratings of the movies as voted by viewers. \n",
    "2. \"title.basics.tsv\", indexes into \"title.ratings.tsv\" using a alphanumeric unique identifier of the title. It gives general information about the movie such as runtime, release date and adult rating.\n",
    "3. \"title.crew.tsv\", indexes into the previous two using the same alphanumeric unique identifier of the title. It gives information on the directors and writers of the movie.\n",
    "\n",
    "Reference:\n",
    "Internet Movie Database. (2024). IMDb non-commercial datasets. Retrieved from https://developer.imdb.com/non-commercial-datasets/"
   ]
  },
  {
   "cell_type": "code",
   "execution_count": null,
   "metadata": {},
   "outputs": [],
   "source": [
    "# Loading the datasets. Null values are represented using \"\\N\".\n",
    "IMDB_ratings_df = pd.read_csv(\"data/IMDB/title.ratings.tsv\", delimiter=\"\\t\", na_values=\"\\\\N\")\n",
    "IMDB_basics_df = pd.read_csv(\"data/IMDB/title.basics.tsv\", delimiter=\"\\t\", na_values=\"\\\\N\", low_memory=False)\n",
    "IMDB_crew_df = pd.read_csv(\"data/IMDB/title.crew.tsv\", delimiter=\"\\t\", na_values=\"\\\\N\", low_memory=False)"
   ]
  },
  {
   "cell_type": "code",
   "execution_count": null,
   "metadata": {},
   "outputs": [],
   "source": [
    "IMDB_ratings_df.head()"
   ]
  },
  {
   "cell_type": "code",
   "execution_count": null,
   "metadata": {},
   "outputs": [],
   "source": [
    "IMDB_basics_df.head()"
   ]
  },
  {
   "cell_type": "code",
   "execution_count": null,
   "metadata": {},
   "outputs": [],
   "source": [
    "IMDB_crew_df.head()"
   ]
  },
  {
   "cell_type": "code",
   "execution_count": null,
   "metadata": {},
   "outputs": [],
   "source": [
    "# Checking the lengths of the datasets\n",
    "print(f\"Length of IMDB_ratings_df: {len(IMDB_ratings_df):,}\\n\"\n",
    "      f\"Length of IMDB_basics_df: {len(IMDB_basics_df):,}\\n\"\n",
    "      f\"Length of IMDB_crew_df: {len(IMDB_crew_df):,}\")"
   ]
  },
  {
   "cell_type": "markdown",
   "metadata": {},
   "source": [
    "Before dealing with the null values we will merge the dataframes together using the alphanumeric unique identifier."
   ]
  },
  {
   "cell_type": "code",
   "execution_count": null,
   "metadata": {},
   "outputs": [],
   "source": [
    "# Merging all three datasets.\n",
    "IMDB_merged_df = pd.merge(IMDB_ratings_df, IMDB_basics_df, how=\"inner\", left_on=\"tconst\", right_on=\"tconst\")\n",
    "IMDB_merged_df = pd.merge(IMDB_merged_df, IMDB_crew_df, how=\"inner\", on=\"tconst\")\n",
    "\n",
    "print(f\"The resulting merged dataframe has length: {len(IMDB_merged_df):,}.\")\n",
    "print(f\"{len(IMDB_ratings_df)-len(IMDB_merged_df):,} rows were lost in the merging process.\")\n",
    "IMDB_merged_df.head()"
   ]
  },
  {
   "cell_type": "markdown",
   "metadata": {},
   "source": [
    "We can see we do not lose a lot of rows with respect to the IMDB_ratings_df dataframe."
   ]
  },
  {
   "cell_type": "markdown",
   "metadata": {},
   "source": [
    "Next, we look at titleType. These dataframes do not only have movies but also short movies, tv shows, episodes. The next step is thus to filter only movies."
   ]
  },
  {
   "cell_type": "code",
   "execution_count": null,
   "metadata": {},
   "outputs": [],
   "source": [
    "# Filtering movies from the list of titles.\n",
    "IMDB_merged_df = IMDB_merged_df[IMDB_merged_df[\"titleType\"] == \"movie\"]\n",
    "\n",
    "print(f\"There are {len(IMDB_merged_df):,} movies in the resulting dataframe.\")\n",
    "IMDB_merged_df.head()"
   ]
  },
  {
   "cell_type": "markdown",
   "metadata": {},
   "source": [
    "We can now look at null values in the merged IMDB dataframe."
   ]
  },
  {
   "cell_type": "code",
   "execution_count": null,
   "metadata": {},
   "outputs": [],
   "source": [
    "# Checking the percentage of null values in the dataset.\n",
    "n_null_IMDB = ((IMDB_merged_df.isnull().sum() / len(IMDB_merged_df)) * 100).apply(lambda x: f\"{x:,.2f}%\")\n",
    "\n",
    "print(\n",
    "    f\"Percentage of null values per column:\\n\"\n",
    "    f\"IMDB_ratings_df:\\n{n_null_IMDB}\"\n",
    ")"
   ]
  },
  {
   "cell_type": "markdown",
   "metadata": {},
   "source": [
    "The end year is always missing. Other than that the proportion of missing values is very small (< 12%). End year does not have any useful information for our intended analysis and can thus be dropped. We can also drop the titleType column since we know they are all movies after the filtering that was done above."
   ]
  },
  {
   "cell_type": "code",
   "execution_count": null,
   "metadata": {},
   "outputs": [],
   "source": [
    "# Dropping unnecessary columns.\n",
    "IMDB_merged_df = IMDB_merged_df.drop(columns=[\"endYear\", \"titleType\"], axis=1)\n",
    "\n",
    "print(f\"The resulting dataframe has {len(IMDB_merged_df):,} rows.\")\n",
    "IMDB_merged_df.head()"
   ]
  },
  {
   "cell_type": "markdown",
   "metadata": {},
   "source": [
    "We will use ratings from the IMDB dataset during our study. However, these ratings are based on viewer votes. Initially we thought of discarding rows with too few votes. However, there could be a link between number of votes and number of views of a movie (although definitely not a direct one). We thus decided to keep all rows for the analysis."
   ]
  },
  {
   "cell_type": "markdown",
   "metadata": {},
   "source": [
    "#### 1.3 Merging the datasets"
   ]
  },
  {
   "cell_type": "markdown",
   "metadata": {},
   "source": [
    "##### 1.3.1 Merging IMDB and CMU Movies"
   ]
  },
  {
   "cell_type": "code",
   "execution_count": null,
   "metadata": {},
   "outputs": [],
   "source": [
    "# Merging on the original title.\n",
    "merge1 = pd.merge(IMDB_merged_df, CMU_movies, how=\"inner\", left_on=\"originalTitle\", right_on=\"Movie_name\")\n",
    "# Merging on the secondary title.\n",
    "merge2 = pd.merge(IMDB_merged_df, CMU_movies, how=\"inner\", left_on=\"primaryTitle\", right_on=\"Movie_name\")\n",
    "\n",
    "# Concatenating and dropping duplicates that appear from movies with the same originalTitle and primaryTitle.\n",
    "movie_df = pd.concat([merge1, merge2]).drop_duplicates().reset_index(drop=True)\n",
    "\n",
    "print(f\"The resulting dataframe has {len(movie_df):,} rows.\")\n",
    "movie_df.head()"
   ]
  },
  {
   "cell_type": "markdown",
   "metadata": {},
   "source": [
    "Some columns appear twice. Let's take a look at the proportion of null values in each duplicate column."
   ]
  },
  {
   "cell_type": "code",
   "execution_count": null,
   "metadata": {},
   "outputs": [],
   "source": [
    "n_null_movie = (movie_df.isnull().sum()/len(movie_df)).apply(lambda x:f\"{x:.2%}\")\n",
    "\n",
    "print(f\"Percentage of null values per column:\\n{n_null_movie}\")"
   ]
  },
  {
   "cell_type": "markdown",
   "metadata": {},
   "source": [
    "We can see:\n",
    "- runtimeMinutes_x and runtimeMinutes_y have 6.02% and 11.58% missing values respectively. We will combine the non null values from both these columns into a new column called runtimeMinutes and then drop the previous two columns. \n",
    "- genres_x has 1.54% missing values against 0.00% missing values for genres_y. Furthermore genres_y is from the CMU dataset and seems more complete. We will thus drop the genres_x column."
   ]
  },
  {
   "cell_type": "code",
   "execution_count": null,
   "metadata": {},
   "outputs": [],
   "source": [
    "# Combining all non-null values from runtimeMinutes_x and runtimeMinutes_y into runtimeMinutes.\n",
    "movie_df[\"runtimeMinutes\"] = movie_df[\"runtimeMinutes_x\"].combine_first(movie_df[\"runtimeMinutes_y\"])\n",
    "\n",
    "# Dropping the unnecessary columns.\n",
    "movie_df.drop(columns=[\"runtimeMinutes_x\", \"runtimeMinutes_y\", \"genres_x\"], inplace=True)\n",
    "\n",
    "# Renaming the column to Genres.\n",
    "movie_df.rename(columns={\"genres_y\":\"Genres\"}, inplace=True)\n",
    "movie_df.head()"
   ]
  },
  {
   "cell_type": "markdown",
   "metadata": {},
   "source": [
    "Let's now see if Movie_name, originalTitle and primaryTitle are all necessary or if there are any redundancies."
   ]
  },
  {
   "cell_type": "code",
   "execution_count": null,
   "metadata": {},
   "outputs": [],
   "source": [
    "test1 = movie_df[\"Movie_name\"] == movie_df[\"primaryTitle\"]  \n",
    "test2 = movie_df[\"Movie_name\"] == movie_df[\"originalTitle\"]\n",
    "\n",
    "# Checking if there are any movies for which Movie_name is not either in primaryTitle or originalTitle\n",
    "print(f\"There are {(~(test1 | test2)).sum().item()} movies for which Movie_name is in neither primaryTitle ot originalTitle.\")"
   ]
  },
  {
   "cell_type": "markdown",
   "metadata": {},
   "source": [
    "We can see the Movie_name column is redundant as its information is either in primaryTitle or in originalTitle. We can thus drop this column."
   ]
  },
  {
   "cell_type": "code",
   "execution_count": null,
   "metadata": {},
   "outputs": [],
   "source": [
    "movie_df.drop(columns=\"Movie_name\", inplace=True)"
   ]
  },
  {
   "cell_type": "markdown",
   "metadata": {},
   "source": [
    "##### 1.3.2 Adding Plot Summaries when possible"
   ]
  },
  {
   "cell_type": "code",
   "execution_count": null,
   "metadata": {},
   "outputs": [],
   "source": [
    "movie_df = pd.merge(movie_df, plot_summaries_df, how=\"left\", on=\"Wikipedia_movie_ID\")\n",
    "\n",
    "# Checking how many movies have plot summaries\n",
    "n_movie_plots = (1 - (movie_df[\"Plot Summaries\"].isnull().sum() / len(movie_df))) * len(movie_df)\n",
    "print(f\"{int(n_movie_plots):,} movies from our final dataset have plot summaries.\")"
   ]
  },
  {
   "cell_type": "markdown",
   "metadata": {},
   "source": [
    "We can now also drop movie identifier columns (as everything is already indexed): tconst, Freebase_movie_ID and Wikipedia_movie_ID."
   ]
  },
  {
   "cell_type": "code",
   "execution_count": null,
   "metadata": {},
   "outputs": [],
   "source": [
    "movie_df.drop(columns=[\"Wikipedia_movie_ID\", \"tconst\", \"Freebase_movie_ID\"], inplace=True)"
   ]
  },
  {
   "cell_type": "markdown",
   "metadata": {},
   "source": [
    "This gives us our final cleaned dataset for our study:"
   ]
  },
  {
   "cell_type": "code",
   "execution_count": null,
   "metadata": {},
   "outputs": [],
   "source": [
    "movie_df.head()"
   ]
  },
  {
   "cell_type": "markdown",
   "metadata": {},
   "source": [
    "### 2. <u>Our success metric</u>"
   ]
  },
  {
   "cell_type": "markdown",
   "metadata": {},
   "source": [
    "### 3. <u>Gender and age vs success BLABLABLA</u>"
   ]
  },
  {
   "cell_type": "markdown",
   "metadata": {},
   "source": [
    "Dependent variables:\n",
    "- Ratings\n",
    "- Success metric\n",
    "- Profit ratio\n",
    "\n",
    "Independent variables:\n",
    "- Gender\n",
    "- Age\n",
    "- Genre\n",
    "- isAdult?\n",
    "- Movie country\n",
    "- Movie language\n",
    "- Release date\n",
    "\n",
    "Look at adding starpower"
   ]
  },
  {
   "cell_type": "markdown",
   "metadata": {},
   "source": [
    "### 4. <u>How does it compare to streaming platforms? Are movies made for these platforms different? Have box office movies adapted since the rise of streaming?</u>"
   ]
  },
  {
   "cell_type": "markdown",
   "metadata": {},
   "source": [
    "### 5. <u>What are the social reasons behind the presence of female characters in movies? Is it due to sexualization or genuine equality of representation?</u>"
   ]
  }
 ],
 "metadata": {
  "kernelspec": {
   "display_name": "Python 3 (ipykernel)",
   "language": "python",
   "name": "python3"
  },
  "language_info": {
   "codemirror_mode": {
    "name": "ipython",
    "version": 3
   },
   "file_extension": ".py",
   "mimetype": "text/x-python",
   "name": "python",
   "nbconvert_exporter": "python",
   "pygments_lexer": "ipython3",
   "version": "3.12.4"
  }
 },
 "nbformat": 4,
 "nbformat_minor": 4
}
