{
 "cells": [
  {
   "cell_type": "markdown",
   "metadata": {},
   "source": [
    "<div style=\"text-align: center;\">\n",
    "<h1>Reel Realities: How Gender and Age Shape Success Across Box Office and Streaming Platforms</h1>\n",
    "</div>"
   ]
  },
  {
   "cell_type": "markdown",
   "metadata": {},
   "source": [
    "### <u>Imports</u>"
   ]
  },
  {
   "cell_type": "code",
   "execution_count": 1,
   "metadata": {},
   "outputs": [],
   "source": [
    "import pandas as pd\n",
    "import matplotlib.pyplot as plt\n",
    "import re\n",
    "import numpy as np\n",
    "import seaborn as sns\n",
    "import math\n",
    "from sklearn.preprocessing import StandardScaler\n",
    "import statsmodels.api as sm\n",
    "from statsmodels.stats.outliers_influence import variance_inflation_factor\n",
    "\n",
    "from src.data.dataloader import (\n",
    "    CMUDatasetLoader, IMDBDatasetLoader, KaggleDatasetLoader, NumbersDatasetLoader)\n",
    "import src.utils.data_utils as data_utils\n",
    "import src.utils.evaluation_utils as evaluation_utils\n",
    "from src.utils.EDA_utils import EDA\n",
    "from src.scripts.streaming import get_streaming_dataframe\n",
    "import warnings\n",
    "\n",
    "# Suppress specific FutureWarnings about is_sparse being deprecated\n",
    "warnings.filterwarnings(action=\"ignore\", category=FutureWarning, module=\"sklearn\", message=\".*is_sparse is deprecated.*\")"
   ]
  },
  {
   "cell_type": "markdown",
   "metadata": {},
   "source": [
    "### 1. <u>Data cleaning and pre-processing</u>"
   ]
  },
  {
   "cell_type": "markdown",
   "metadata": {},
   "source": [
    "#### 1.1 CMU Dataset"
   ]
  },
  {
   "cell_type": "markdown",
   "metadata": {},
   "source": [
    "We will use three files of the CMU dataset:\n",
    "1. \"plot_summaries.txt\" gives us the plots of the movies.\n",
    "2. \"movie.metadata.tsv\" gives us information about the languages, countries, and genres of the movies.\n",
    "3. \"character.metadata.tsv\" gives us information about actors and the characters they play."
   ]
  },
  {
   "cell_type": "code",
   "execution_count": null,
   "metadata": {},
   "outputs": [],
   "source": [
    "directory = \"data\"\n",
    "CMU_loader = CMUDatasetLoader(directory)\n",
    "plot_summaries_df = CMU_loader.load_plot_summaries()\n",
    "\n",
    "print(f\"The plot summaries dataframe has {len(plot_summaries_df):,} values.\")"
   ]
  },
  {
   "cell_type": "code",
   "execution_count": null,
   "metadata": {},
   "outputs": [],
   "source": [
    "null_id = plot_summaries_df[\"Wikipedia_movie_ID\"].isnull().sum()\n",
    "empty_id = plot_summaries_df[plot_summaries_df[\"Wikipedia_movie_ID\"] == \"\"][\"Wikipedia_movie_ID\"].sum()\n",
    "null_plot = plot_summaries_df[\"Plot Summaries\"].isnull().sum()\n",
    "empty_plot = plot_summaries_df[plot_summaries_df[\"Plot Summaries\"] == \"\"][\"Plot Summaries\"].sum()\n",
    "\n",
    "print(f\"Number of null values in 'Wikipedia_movie_ID': {null_id}\")\n",
    "print(f\"Number of empty values in 'Wikipedia_movie_ID': {empty_id}\")\n",
    "print(f\"Number of null values in 'Plot Summaries': {null_plot}\")\n",
    "print(f\"Number of empty values in 'Plot Summaries': {empty_plot}\")"
   ]
  },
  {
   "cell_type": "code",
   "execution_count": null,
   "metadata": {},
   "outputs": [],
   "source": [
    "movie_metadata_df = CMU_loader.load_movie_metadata()\n",
    "print(f\"The movie metadata dataframe has {len(movie_metadata_df):,} values.\")"
   ]
  },
  {
   "cell_type": "code",
   "execution_count": 5,
   "metadata": {},
   "outputs": [],
   "source": [
    "movie_metadata_df[\"Movie_name\"] = (movie_metadata_df[\"Movie_name\"]\n",
    "                    .str.strip()  #Remove leading/trailing whitespace\n",
    "                    .str.lower()  #Convert to lowercase\n",
    "                    .replace(\"\", np.nan)  #Replace empty strings with NaN\n",
    "                   )"
   ]
  },
  {
   "cell_type": "code",
   "execution_count": 6,
   "metadata": {},
   "outputs": [],
   "source": [
    "# Movie languages, countries, and genres are formatted as a dictionary, but they are actually a string.\n",
    "# We convert them to comma seperated strings. \n",
    "\n",
    "column_names_to_clean = [\"Movie_countries\", \"Movie_languages\", \"Movie_genres\"]\n",
    "movie_metadata_df = data_utils.convert_dicts_to_strings(movie_metadata_df, column_names_to_clean)\n",
    "\n",
    "# Cleaning the strings\n",
    "movie_metadata_df = data_utils.clean_string_columns(movie_metadata_df, column_names_to_clean)"
   ]
  },
  {
   "cell_type": "code",
   "execution_count": null,
   "metadata": {},
   "outputs": [],
   "source": [
    "# There are inconsistencies in the date format: some rows have the date as year only, others as year-month, and some as year-month-day. \n",
    "# We convert them all to the year format only since the month and day are not relevant to our analysis.\n",
    "movie_metadata_df, date_pattern_summary = data_utils.standardize_dates(movie_metadata_df, \"Movie_release_date\")\n",
    "print(\"Pattern Summary:\\n\", date_pattern_summary)"
   ]
  },
  {
   "cell_type": "code",
   "execution_count": null,
   "metadata": {},
   "outputs": [],
   "source": [
    "# Looking at the percentage of null values in the dataset\n",
    "n_null_movie_metadata = ((movie_metadata_df.isnull().sum() / len(movie_metadata_df)) * 100).apply(lambda x: f\"{x:,.2f}%\")\n",
    "\n",
    "print(\n",
    "    f\"Percentage of null values per column:\\n\"\n",
    "    f\"movie_metadata_df:\\n{n_null_movie_metadata}\"\n",
    ")"
   ]
  },
  {
   "cell_type": "code",
   "execution_count": 9,
   "metadata": {},
   "outputs": [],
   "source": [
    "character_metadata_df = CMU_loader.load_character_metadata()"
   ]
  },
  {
   "cell_type": "code",
   "execution_count": 10,
   "metadata": {},
   "outputs": [],
   "source": [
    "character_metadata_df[\"Actor_name\"]= character_metadata_df[\"Actor_name\"].fillna(\"unknown\").str.lower()\n",
    "\n",
    "# Ensures that the date columns are correctly interpreted as datetime objects in pandas. \n",
    "character_metadata_df[\"Movie_release_date\"] = pd.to_datetime(character_metadata_df[\"Movie_release_date\"], errors=\"coerce\").dt.date\n",
    "character_metadata_df[\"Actor_date_of_birth\"] = pd.to_datetime(character_metadata_df[\"Actor_date_of_birth\"], errors=\"coerce\").dt.date\n",
    "\n",
    "# Drop rows where \"Movie_release_date\" or \"Actor_date_of_birth\" is NaT\n",
    "character_metadata_df.dropna(subset=[\"Movie_release_date\", \"Actor_date_of_birth\"], inplace=True)\n",
    "\n",
    "# Calculate Actor_age_at_movie_release if missing and data is available\n",
    "character_metadata_df[\"Actor_age_at_movie_release\"] = character_metadata_df.apply(\n",
    "    lambda row: (row[\"Movie_release_date\"] - row[\"Actor_date_of_birth\"]).days // 365 if pd.isnull(row[\"Actor_age_at_movie_release\"]) else row[\"Actor_age_at_movie_release\"],\n",
    "    axis=1\n",
    ")"
   ]
  },
  {
   "cell_type": "code",
   "execution_count": null,
   "metadata": {},
   "outputs": [],
   "source": [
    "print(f\"Movies without actor gender data: {character_metadata_df['Actor_gender'].isnull().sum()}\") "
   ]
  },
  {
   "cell_type": "markdown",
   "metadata": {},
   "source": [
    "We therefore drop the movies with no information on the gender of the actors."
   ]
  },
  {
   "cell_type": "code",
   "execution_count": 12,
   "metadata": {},
   "outputs": [],
   "source": [
    "character_metadata_df.dropna(subset=[\"Actor_gender\"], inplace=True)"
   ]
  },
  {
   "cell_type": "markdown",
   "metadata": {},
   "source": [
    "Now, let's group the actors together by creating a *Cast* column on the *movie_metadata_df*. "
   ]
  },
  {
   "cell_type": "code",
   "execution_count": 13,
   "metadata": {},
   "outputs": [],
   "source": [
    "cast_per_movie = character_metadata_df.groupby(\"Freebase_movie_ID\")[\"Actor_name\"].apply(lambda x: \", \".join(x)).reset_index()\n",
    "cast_per_movie = cast_per_movie.rename(columns={\"Actor_name\": \"Cast\"})\n",
    "\n",
    "movie_metadata_df = movie_metadata_df.merge(cast_per_movie, on=\"Freebase_movie_ID\", how=\"left\")"
   ]
  },
  {
   "cell_type": "code",
   "execution_count": null,
   "metadata": {},
   "outputs": [],
   "source": [
    "missing_cast_count = movie_metadata_df[\"Cast\"].isna().sum()\n",
    "total_movies = len(movie_metadata_df)\n",
    "print(f\"Movies without actor data: {missing_cast_count} out of {total_movies} ({missing_cast_count / total_movies * 100:.2f}%)\")"
   ]
  },
  {
   "cell_type": "markdown",
   "metadata": {},
   "source": [
    "We decide to drop the movies without actor data since it is one of the most important features of our study. "
   ]
  },
  {
   "cell_type": "code",
   "execution_count": 15,
   "metadata": {},
   "outputs": [],
   "source": [
    "movie_metadata_df = movie_metadata_df.dropna(subset = [\"Cast\"])"
   ]
  },
  {
   "cell_type": "code",
   "execution_count": 16,
   "metadata": {},
   "outputs": [],
   "source": [
    "# Create columns for male, female actor counts\n",
    "actor_counts = character_metadata_df.groupby(\"Freebase_movie_ID\")[\"Actor_gender\"].value_counts().unstack(fill_value=0)\n",
    "actor_counts = actor_counts.rename(columns={\"M\": \"Male_actors\", \"F\": \"Female_actors\"})\n",
    "\n",
    "# Ensure all columns are present (set missing columns to 0 if necessary)\n",
    "for col in [\"Male_actors\", \"Female_actors\"]:\n",
    "    if col not in actor_counts.columns:\n",
    "        actor_counts[col] = 0\n",
    "\n",
    "actor_counts = actor_counts.reset_index()\n",
    "\n",
    "# Merge actor counts with the movie_metadata_df DataFrame\n",
    "movie_metadata_df = movie_metadata_df.merge(actor_counts, on=\"Freebase_movie_ID\", how=\"left\")\n",
    "\n",
    "# Fill NaN values with 0 \n",
    "movie_metadata_df[[\"Male_actors\", \"Female_actors\"]] = movie_metadata_df[[\"Male_actors\", \"Female_actors\"]].fillna(0)"
   ]
  },
  {
   "cell_type": "code",
   "execution_count": 17,
   "metadata": {},
   "outputs": [],
   "source": [
    "# Calculate the percentage of female actors in each movie and round to two decimal places\n",
    "movie_metadata_df[\"Female_actor_percentage\"] = (\n",
    "    (movie_metadata_df[\"Female_actors\"] / \n",
    "     (movie_metadata_df[\"Female_actors\"] + movie_metadata_df[\"Male_actors\"])) * 100\n",
    ").round(2)"
   ]
  },
  {
   "cell_type": "markdown",
   "metadata": {},
   "source": [
    "#### 1.2 IMDB Dataset"
   ]
  },
  {
   "cell_type": "markdown",
   "metadata": {},
   "source": [
    "We will use two IMDB datasets to decribe movies:\n",
    "1. \"title.ratings.tsv\" gives us the ratings of the movies as voted by viewers. \n",
    "2. \"title.basics.tsv\", indexes into \"title.ratings.tsv\" using a alphanumeric unique identifier of the title. It gives general information about the movie such as runtime, release date and adult rating.\n",
    "3. \"title.crew.tsv\", indexes into the previous two using the same alphanumeric unique identifier of the title. It gives information on the directors and writers of the movie.\n",
    "\n",
    "Reference:\n",
    "Internet Movie Database. (2024). IMDb non-commercial datasets. Retrieved from https://developer.imdb.com/non-commercial-datasets/"
   ]
  },
  {
   "cell_type": "code",
   "execution_count": null,
   "metadata": {},
   "outputs": [],
   "source": [
    "# Loading the IMDB datasets.\n",
    "IMDB_loader = IMDBDatasetLoader(directory)\n",
    "IMDB_ratings_df = IMDB_loader.load_ratings()\n",
    "\n",
    "IMDB_basics_df = IMDB_loader.load_basics()\n",
    "\n",
    "IMDB_crew_df = IMDB_loader.load_crew()"
   ]
  },
  {
   "cell_type": "code",
   "execution_count": null,
   "metadata": {},
   "outputs": [],
   "source": [
    "# Checking the lengths of the datasets\n",
    "print(f\"Length of IMDB_ratings_df: {len(IMDB_ratings_df):,}\\n\"\n",
    "      f\"Length of IMDB_basics_df: {len(IMDB_basics_df):,}\\n\"\n",
    "      f\"Length of IMDB_crew_df: {len(IMDB_crew_df):,}\")"
   ]
  },
  {
   "cell_type": "markdown",
   "metadata": {},
   "source": [
    "Before dealing with the null values we will merge the dataframes together using the alphanumeric unique identifier."
   ]
  },
  {
   "cell_type": "code",
   "execution_count": 20,
   "metadata": {},
   "outputs": [],
   "source": [
    "# Merging all three datasets.\n",
    "IMDB_merged_df = pd.merge(IMDB_ratings_df, IMDB_basics_df, how=\"inner\", left_on=\"tconst\", right_on=\"tconst\")\n",
    "IMDB_merged_df = pd.merge(IMDB_merged_df, IMDB_crew_df, how=\"inner\", on=\"tconst\")"
   ]
  },
  {
   "cell_type": "code",
   "execution_count": null,
   "metadata": {},
   "outputs": [],
   "source": [
    "print(f\"The resulting merged dataframe has length: {len(IMDB_merged_df):,}.\")"
   ]
  },
  {
   "cell_type": "markdown",
   "metadata": {},
   "source": [
    "Formatting the strings appropriately."
   ]
  },
  {
   "cell_type": "code",
   "execution_count": 22,
   "metadata": {},
   "outputs": [],
   "source": [
    "IMDB_merged_df = data_utils.clean_string_columns(IMDB_merged_df, [\"Original_title\", \"Primary_title\"])"
   ]
  },
  {
   "cell_type": "markdown",
   "metadata": {},
   "source": [
    "We can now look at null values in the merged IMDB dataframe."
   ]
  },
  {
   "cell_type": "code",
   "execution_count": null,
   "metadata": {},
   "outputs": [],
   "source": [
    "# Checking the percentage of null values in the dataset.\n",
    "n_null_IMDB = ((IMDB_merged_df.isnull().sum() / len(IMDB_merged_df)) * 100).apply(lambda x: f\"{x:,.2f}%\")\n",
    "\n",
    "print(\n",
    "    f\"Percentage of null values per column:\\n\"\n",
    "    f\"IMDB_ratings_df:\\n{n_null_IMDB}\"\n",
    ")"
   ]
  },
  {
   "cell_type": "markdown",
   "metadata": {},
   "source": [
    "The end year is always missing. Other than that the proportion of missing values is very small (< 12%). End year is always null for movies and only makes sense for TV shows. It can thus be dropped. We can also drop the titleType column since we know they are all movies after the filtering that was done above."
   ]
  },
  {
   "cell_type": "code",
   "execution_count": null,
   "metadata": {},
   "outputs": [],
   "source": [
    "# Dropping unnecessary columns.\n",
    "IMDB_merged_df = IMDB_merged_df.drop(columns=[\"End_year\", \"Title_type\"], axis=1)\n",
    "\n",
    "print(f\"The resulting dataframe has {len(IMDB_merged_df):,} rows.\")"
   ]
  },
  {
   "cell_type": "markdown",
   "metadata": {},
   "source": [
    "We will use ratings from the IMDB dataset during our study. However, these ratings are based on viewer votes. Initially we thought of discarding rows with too few votes. However, there could be a link between number of votes and number of views of a movie (although definitely not a direct one). We thus decided to keep all rows for the analysis."
   ]
  },
  {
   "cell_type": "markdown",
   "metadata": {},
   "source": [
    "#### 1.3 Merging the datasets"
   ]
  },
  {
   "cell_type": "markdown",
   "metadata": {},
   "source": [
    "##### 1.3.1 Merging IMDB and CMU Movies"
   ]
  },
  {
   "cell_type": "code",
   "execution_count": null,
   "metadata": {},
   "outputs": [],
   "source": [
    "# Merging on the original title.\n",
    "merge1 = pd.merge(IMDB_merged_df, movie_metadata_df, how=\"inner\", left_on=\"Original_title\", right_on=\"Movie_name\")\n",
    "# Merging on the primary title.\n",
    "merge2 = pd.merge(IMDB_merged_df, movie_metadata_df, how=\"inner\", left_on=\"Primary_title\", right_on=\"Movie_name\")\n",
    "\n",
    "# Concatenating and dropping duplicates that appear from movies with the same Original_title and Primary_title.\n",
    "movie_df = pd.concat([merge1, merge2]).drop_duplicates(subset=[\"tconst\"]).reset_index(drop=True)\n",
    "\n",
    "print(f\"The resulting dataframe has {len(movie_df):,} rows.\")"
   ]
  },
  {
   "cell_type": "markdown",
   "metadata": {},
   "source": [
    "Some columns appear twice. Let's take a look at the proportion of null values in each duplicate column."
   ]
  },
  {
   "cell_type": "code",
   "execution_count": null,
   "metadata": {},
   "outputs": [],
   "source": [
    "n_null_movie = (movie_df.isnull().sum()/len(movie_df)).apply(lambda x:f\"{x:.2%}\")\n",
    "\n",
    "print(f\"Percentage of null values per column:\\n{n_null_movie}\")"
   ]
  },
  {
   "cell_type": "markdown",
   "metadata": {},
   "source": [
    "We can see:\n",
    "- Movie_runtime_x and Movie_runtime_y have 6.02% and 11.58% missing values respectively. We will combine the non null values from both these columns into a new column called runtimeMinutes and then drop the previous two columns. \n",
    "- Movie_genres_x has 1.54% missing values against 0.00% missing values for Movie_genres_y. Furthermore Movie_genres_y is from the CMU dataset and seems more complete. We will thus drop the genres_x column."
   ]
  },
  {
   "cell_type": "code",
   "execution_count": 27,
   "metadata": {},
   "outputs": [],
   "source": [
    "# Combining all non-null values from Movie_runtime_x and Movie_runtime_y into runtimeMinutes.\n",
    "movie_df[\"Movie_runtime\"] = movie_df[\"Movie_runtime_x\"].combine_first(movie_df[\"Movie_runtime_y\"])\n",
    "\n",
    "# Dropping the unnecessary columns.\n",
    "movie_df.drop(columns=[\"Movie_runtime_x\", \"Movie_runtime_y\", \"Movie_genres_x\"], inplace=True)"
   ]
  },
  {
   "cell_type": "markdown",
   "metadata": {},
   "source": [
    "Let's now see if Movie_name, originalTitle and primaryTitle are all necessary or if there are any redundancies."
   ]
  },
  {
   "cell_type": "code",
   "execution_count": null,
   "metadata": {},
   "outputs": [],
   "source": [
    "test1 = movie_df[\"Movie_name\"] == movie_df[\"Primary_title\"]  \n",
    "test2 = movie_df[\"Movie_name\"] == movie_df[\"Original_title\"]\n",
    "\n",
    "# Checking if there are any movies for which Movie_name is not either in Primary_title or Original_title\n",
    "print(f\"There are {(~(test1 | test2)).sum().item()} movies for which Movie_name is in neither Primary_title ot Original_title.\")"
   ]
  },
  {
   "cell_type": "markdown",
   "metadata": {},
   "source": [
    "We can see the Movie_name column is redundant as its information is either in primaryTitle or in originalTitle. We can thus drop this column."
   ]
  },
  {
   "cell_type": "code",
   "execution_count": 29,
   "metadata": {},
   "outputs": [],
   "source": [
    "movie_df.drop(columns=\"Movie_name\", inplace=True)"
   ]
  },
  {
   "cell_type": "markdown",
   "metadata": {},
   "source": [
    "We can now also drop movie identifier columns Freebase_movie_ID (as everything is already indexed). We will need tconst later on so we keep it."
   ]
  },
  {
   "cell_type": "code",
   "execution_count": 30,
   "metadata": {},
   "outputs": [],
   "source": [
    "movie_df.drop(columns=[\"Freebase_movie_ID\"], inplace=True)"
   ]
  },
  {
   "cell_type": "markdown",
   "metadata": {},
   "source": [
    "To connect this with the plot_summaries_df, we perform a left merge."
   ]
  },
  {
   "cell_type": "code",
   "execution_count": 31,
   "metadata": {},
   "outputs": [],
   "source": [
    "movie_df = pd.merge(movie_df, plot_summaries_df, on=\"Wikipedia_movie_ID\", how=\"left\")"
   ]
  },
  {
   "cell_type": "markdown",
   "metadata": {},
   "source": [
    "Finally, we can drop Wikipedia_movie_ID, which is also a movie identifier column."
   ]
  },
  {
   "cell_type": "code",
   "execution_count": 32,
   "metadata": {},
   "outputs": [],
   "source": [
    "movie_df.drop(columns=\"Wikipedia_movie_ID\", inplace=True)"
   ]
  },
  {
   "cell_type": "markdown",
   "metadata": {},
   "source": [
    "##### 1.3.3 Merging Kaggle and The numbers datasets to the rest"
   ]
  },
  {
   "cell_type": "markdown",
   "metadata": {},
   "source": [
    "We have a problem, a lot of missing values(NaN or 0) in Movie box office revenue in movie_df and no production budget included. \n",
    "These two new datasets include information about movies revenue and budget and other attributes which are crucial for our analysis.\n",
    "\n",
    "- `Kaggle_df`: Contains important details about movies, including budgets, genres, and revenue.\n",
    "- `TheNumbers_df`: Provides detailed financial data, focusing on budget and box office gross both domestically and worldwide."
   ]
  },
  {
   "cell_type": "code",
   "execution_count": 33,
   "metadata": {},
   "outputs": [],
   "source": [
    "Kaggle_df = KaggleDatasetLoader(directory).load_kaggle()\n",
    "TheNumbers_df = NumbersDatasetLoader(directory).load_numbers()"
   ]
  },
  {
   "cell_type": "markdown",
   "metadata": {},
   "source": [
    "Quickly view the structure of the dataframes to understand the data types and confirm data has loaded correctly"
   ]
  },
  {
   "cell_type": "code",
   "execution_count": null,
   "metadata": {},
   "outputs": [],
   "source": [
    "Kaggle_df.head()"
   ]
  },
  {
   "cell_type": "code",
   "execution_count": 35,
   "metadata": {},
   "outputs": [],
   "source": [
    "# Clean and convert financials to float for consistency with the movie_df\n",
    "TheNumbers_df = data_utils.clean_currency_columns(TheNumbers_df, [\"production_budget\", \"domestic_gross\", \"worldwide_gross\"])"
   ]
  },
  {
   "cell_type": "code",
   "execution_count": null,
   "metadata": {},
   "outputs": [],
   "source": [
    "TheNumbers_df.head()"
   ]
  },
  {
   "cell_type": "markdown",
   "metadata": {},
   "source": [
    "We now perform an outer merge to include all records from both datasets, aligning them based on movie titles.\n"
   ]
  },
  {
   "cell_type": "code",
   "execution_count": 37,
   "metadata": {},
   "outputs": [],
   "source": [
    "# Normalize the title columns for case insensitive matching\n",
    "Kaggle_df = data_utils.clean_string_columns(Kaggle_df, [\"original_title\"])\n",
    "TheNumbers_df = data_utils.clean_string_columns(TheNumbers_df, [\"movie\"])\n",
    "\n",
    "# Merge both dataframes on the title columns\n",
    "merged_df = pd.merge(Kaggle_df, TheNumbers_df, left_on=\"original_title\", right_on=\"movie\", how=\"outer\")"
   ]
  },
  {
   "cell_type": "markdown",
   "metadata": {},
   "source": [
    "##### Post-merge cleaning\n",
    "\n",
    "We create the main financial columns (\"movie_budget\" and \"movie_revenue\") by selecting non-null and non-zero values, prioritizing data from TheNumbers dataset when available.\n"
   ]
  },
  {
   "cell_type": "code",
   "execution_count": 38,
   "metadata": {},
   "outputs": [],
   "source": [
    "merged_df[\"movie_budget\"] = np.where((merged_df[\"production_budget\"].notna() & (merged_df[\"production_budget\"] != 0)),\n",
    "                                     merged_df[\"production_budget\"],\n",
    "                                     merged_df[\"budget\"])\n",
    "\n",
    "merged_df[\"movie_revenue\"] = np.where((merged_df[\"worldwide_gross\"].notna() & (merged_df[\"worldwide_gross\"] != 0)),\n",
    "                                      merged_df[\"worldwide_gross\"],\n",
    "                                      merged_df[\"revenue\"])\n",
    "\n",
    "# Drop the original columns that were merged into new ones\n",
    "merged_df.drop(columns=[\"budget\", \"revenue\", \"production_budget\", \"worldwide_gross\", \"movie\"], inplace=True)"
   ]
  },
  {
   "cell_type": "markdown",
   "metadata": {},
   "source": [
    "Filter out movies where both budget and revenue data are missing or zero, as they do not provide value for financial analysis.\n"
   ]
  },
  {
   "cell_type": "code",
   "execution_count": 39,
   "metadata": {},
   "outputs": [],
   "source": [
    "# Create a mask where both columns are either zero or NaN\n",
    "mask = (\n",
    "    (merged_df[\"movie_budget\"].isna() | (merged_df[\"movie_budget\"] == 0)) &\n",
    "    (merged_df[\"movie_revenue\"].isna() | (merged_df[\"movie_revenue\"] == 0))\n",
    ")\n",
    "\n",
    "# Apply the mask and drop those rows\n",
    "df_filtered = merged_df[~mask]"
   ]
  },
  {
   "cell_type": "code",
   "execution_count": null,
   "metadata": {},
   "outputs": [],
   "source": [
    "print(\"The number of available and relevant movie budget and revenue information is \" + str(df_filtered[\"movie_budget\"].size))\n",
    "\n",
    "df_filtered.head()"
   ]
  },
  {
   "cell_type": "markdown",
   "metadata": {},
   "source": [
    "Two merging strategies are employed here to maximize the potential for matching records across the datasets:\n",
    "\n",
    "Original Title Merge: Merging based on the Original_title from movie_df to the original_title from df_filtered to catch the most direct title matches. \n",
    "\n",
    "Primary Title Merge: Using Primary_title as an alternative matching criterion, knowing that some movies might be listed under alternate titles.\n"
   ]
  },
  {
   "cell_type": "code",
   "execution_count": null,
   "metadata": {},
   "outputs": [],
   "source": [
    "# Normalize the title columns for case-insensitive matching\n",
    "movie_df[\"Original_title\"] = movie_df[\"Original_title\"].str.strip().str.lower()\n",
    "movie_df[\"Primary_title\"] = movie_df[\"Primary_title\"].str.strip().str.lower()\n",
    "\n",
    "# Merging on the original title.\n",
    "merge1 = pd.merge(movie_df, df_filtered, how=\"left\", left_on=\"Original_title\", right_on=\"original_title\")\n",
    "# Merging on the secondary title.\n",
    "merge2 = pd.merge(movie_df, df_filtered, how=\"left\", left_on=\"Primary_title\", right_on=\"original_title\")\n",
    "\n",
    "# Concatenating and dropping duplicates that appear from movies with the same Original_title and Primary_title.\n",
    "final_df = pd.concat([merge1, merge2]).drop_duplicates().reset_index(drop=True)\n",
    "\n",
    "# Filter out movies where revenue data is missing or zero and prioritize initial revenue\n",
    "final_df[\"final_movie_revenue\"] = np.where(\n",
    "    (final_df[\"Movie_box_office_revenue\"].notna() & (final_df[\"Movie_box_office_revenue\"] != 0)),\n",
    "    final_df[\"Movie_box_office_revenue\"],\n",
    "    final_df[\"movie_revenue\"]\n",
    ")\n",
    "\n",
    "final_df.drop(columns=[\"Movie_box_office_revenue\", \"movie_revenue\", \"original_title\", \"genres\", \"id\", \"release_date\"], inplace=True, errors=\"ignore\")\n",
    "\n",
    "# Renaming the columns to follow the convention\n",
    "rename_columns = {\"popularity\":\"Popularity\", \n",
    "                  \"production_companies\":\"Production_companies\", \n",
    "                  \"prodcution_countries\":\"Production_countries\",\n",
    "                  \"domestic_gross\":\"Domestic_gross\",\n",
    "                  \"movie_budget\":\"Movie_budget\",\n",
    "                  \"final_movie_revenue\":\"Final_movie_revenue\",\n",
    "                  \"Movie_genres_y\":\"Movie_genres\"}\n",
    "\n",
    "final_df.rename(columns=rename_columns, inplace=True)\n",
    "\n",
    "\n",
    "print(f\"The resulting dataframe has {len(final_df):,} rows.\")\n",
    "final_df.head()"
   ]
  },
  {
   "cell_type": "markdown",
   "metadata": {},
   "source": [
    "### 2. Our success metric"
   ]
  },
  {
   "cell_type": "markdown",
   "metadata": {},
   "source": [
    "#### Financial Analysis\n",
    "\n",
    "##### Calculating Return on Investment (ROI)\n",
    "\n",
    "To provide insights into the financial success of the movies, we calculate the Return on Investment (ROI). This metric is derived by comparing the movie\"s final revenue to its budget.\n",
    "\n",
    "- **Condition**: Ensure that both `movie_budget` and `final_movie_revenue` are non-zero and non-null to avoid division errors and ensure data integrity\n"
   ]
  },
  {
   "cell_type": "code",
   "execution_count": null,
   "metadata": {},
   "outputs": [],
   "source": [
    "final_df = evaluation_utils.calculate_roi(final_df, \"Movie_budget\", \"Final_movie_revenue\")\n",
    "print(\"There is now \" + str(final_df[\"Final_movie_revenue\"].size) + \" movies to work with in the financial success analysis\")"
   ]
  },
  {
   "cell_type": "markdown",
   "metadata": {},
   "source": [
    "#### Data Normalization and Scaling\n",
    "\n",
    "Given the varied scales of ratings and ROI, we standardize these features to a common scale using both Standard and Min-Max scalers. "
   ]
  },
  {
   "cell_type": "code",
   "execution_count": 43,
   "metadata": {},
   "outputs": [],
   "source": [
    "# Initialize scalers\n",
    "final_df = evaluation_utils.scale_features(final_df)"
   ]
  },
  {
   "cell_type": "markdown",
   "metadata": {},
   "source": [
    "#### Weighted Success Metric\n",
    "\n",
    "To evaluate overall movie success, we calculate a weighted sum of normalized ratings and ROI, assigning double the weight to ROI given its financial significance in assessing success."
   ]
  },
  {
   "cell_type": "code",
   "execution_count": null,
   "metadata": {},
   "outputs": [],
   "source": [
    "# Calculate movie success which is a weighted sum choosing that the ROI feature will have double the importance of ratings\n",
    "final_df = evaluation_utils.calculate_weighted_success(final_df, 0.67)\n",
    "\n",
    "final_df.head()"
   ]
  },
  {
   "cell_type": "markdown",
   "metadata": {},
   "source": [
    "### 3. Gender and age vs success"
   ]
  },
  {
   "cell_type": "markdown",
   "metadata": {},
   "source": [
    "Now that we have have established our success metric, we can evaluate the effect of actors' gender on the success of a movie. \n",
    "\n",
    "The best way we chose in order to conduct our analysis is a **Regression analysis**. Indeed, this will allow us to quantify and understand the relationship between gender, age, and other factors on ROI, ratings and our success metric while controlling for potential confounders.\n",
    "\n",
    "Before diving into regression, we should perform an **Exploratory Data Analysis (EDA)** to understand the relationships among variables and detect any anomalies."
   ]
  },
  {
   "cell_type": "markdown",
   "metadata": {},
   "source": [
    "#### 1.1 Exploratory Data Analysis (EDA)\n",
    "\n",
    "First, let's list the variable of interest:\n",
    "\n",
    "Categorical variable:\n",
    "- *Actor_gender*: An actor is either Male or Female. \n",
    "- *isAdult*: A boolean. Returns 1 if it a +18 rated movie\n",
    "- *Movie_genre*\n",
    "- *Movie_countries*, \n",
    "- *Movie_languages*\n",
    "\n",
    "Continous variable:\n",
    "- *Average_female_actor_age*: Represents the average age of the female actresses. \n",
    "- *Average_male_actor_age*: Represents the average age of the male actresses.\n",
    "- *Average_ratings* and *Movie_box_office_revenue*: These are the dependent variables of our studies.    \n",
    "\n"
   ]
  },
  {
   "cell_type": "markdown",
   "metadata": {},
   "source": [
    "##### A quick comment about the dependent variables:\n",
    "The goal of our study is to look at ratings, ROI and our succes metric. However, due to complications with finding enough data for the ROI and success metric estimation we will need to postpone the in-depth analysis to P3."
   ]
  },
  {
   "cell_type": "markdown",
   "metadata": {},
   "source": [
    "##### 1.1.1 Univariate Analysis of continuous variables"
   ]
  },
  {
   "cell_type": "markdown",
   "metadata": {},
   "source": [
    "As a numerical analysis, we can show a table with the minimum, maximum, mean, standard deviation (SD) and median of each variable."
   ]
  },
  {
   "cell_type": "code",
   "execution_count": 45,
   "metadata": {},
   "outputs": [],
   "source": [
    "# Initialize object for EDA processing\n",
    "eda = EDA(final_df.copy())"
   ]
  },
  {
   "cell_type": "code",
   "execution_count": null,
   "metadata": {},
   "outputs": [],
   "source": [
    "pd.options.display.float_format = \"{:,.2f}\".format\n",
    "\n",
    "# Convert columns to numeric and drop rows with missing data.\n",
    "eda.dataframe[eda.numeric_columns] = eda.dataframe[eda.numeric_columns].apply(pd.to_numeric, errors=\"coerce\")\n",
    "eda.dataframe.dropna(subset=eda.numeric_columns, inplace=True)\n",
    "\n",
    "# Summary statistics\n",
    "summary_table = eda.summary()\n",
    "\n",
    "summary_table"
   ]
  },
  {
   "cell_type": "code",
   "execution_count": null,
   "metadata": {},
   "outputs": [],
   "source": [
    "eda.plot_histograms_combined(\n",
    "    variables=[\"Average_ratings\", \"Final_movie_revenue\", \"ROI\", \"Movie_success\"],\n",
    "    title=\"Figure 1: Histogram of Dependent Variables\",\n",
    "    bins=15,\n",
    "    layout=(2, 2)\n",
    ")"
   ]
  },
  {
   "cell_type": "markdown",
   "metadata": {},
   "source": [
    "As we can see in Figure 1, the histogram for *Average_ratings* and *Movie_success* is bell-shaped, indicating a **normal distribution** of movie ratings and success.\n",
    "\n",
    "As for the distribution of *Final_movie_revenue* and *ROI* are highly skewed. In order to adresse that, we have to apply a log transformation to them."
   ]
  },
  {
   "cell_type": "code",
   "execution_count": null,
   "metadata": {},
   "outputs": [],
   "source": [
    "eda.dataframe = evaluation_utils.log_transform(eda.dataframe, [\"Final_movie_revenue\", \"ROI\"])\n",
    "eda.plot_log_transformed_histograms()"
   ]
  },
  {
   "cell_type": "markdown",
   "metadata": {},
   "source": [
    "Now we have successfully obtained a normal distribution for the *Final_Movie_revenue* and *ROI*. \n",
    "\n",
    "Let's now look at our independent variables."
   ]
  },
  {
   "cell_type": "code",
   "execution_count": null,
   "metadata": {},
   "outputs": [],
   "source": [
    "eda.plot_histograms_combined(\n",
    "    variables=[\"Num_votes\", \"Movie_release_date\", \"Movie_runtime\", \"Female_actors\", \"Male_actors\"],\n",
    "    title=\"Figure 2: Histogram of Independent Variables\",\n",
    "    bins=15,\n",
    "    layout=(2, 3)\n",
    ")"
   ]
  },
  {
   "cell_type": "markdown",
   "metadata": {},
   "source": [
    "The histogram for the *Movie_release_date* shows an increase in movie releases after the 1980s, with a sharp spike around the 2000s. This suggests that the number of movie releases accelerated significantly in the late 20th and early 21st centuries.\n",
    "\n",
    "For the rest of the variables, we need to apply log transformation since they are skewed, being: *Num_votes*, *Movie_runtime*, *Female_actors* and *Male_actors*."
   ]
  },
  {
   "cell_type": "code",
   "execution_count": null,
   "metadata": {},
   "outputs": [],
   "source": [
    "# Apply log transformation to skewed independent variables\n",
    "eda.dataframe = evaluation_utils.log_transform(eda.dataframe, [\"Num_votes\", \"Movie_runtime\", \"Female_actors\", \"Male_actors\"])\n",
    "\n",
    "eda.plot_log_transformed_independent_histograms()"
   ]
  },
  {
   "cell_type": "markdown",
   "metadata": {},
   "source": [
    "Log of Num_votes: A bimodal distribution, with most movies receiving moderate votes and a smaller group of popular movies getting significantly more votes.\n",
    "\n",
    "Log of Movie_runtime: Right-skewed, with most movies having runtimes between 50 to 150 minutes (from Figure 2), and few with very long runtimes.\n",
    "\n",
    "Log of Female_actors: Slightly bimodal, with most movies having a small number of female actors, and a few with more.\n",
    "\n",
    "Log of Male_actors: Similar to female actors, the distribution is skewed towards movies with fewer male actors, and only a few movies have a large number of male actors."
   ]
  },
  {
   "cell_type": "code",
   "execution_count": null,
   "metadata": {},
   "outputs": [],
   "source": [
    "eda.numeric_columns = [\"Average_ratings\",\n",
    "                   \"log_Num_votes\",\n",
    "                   \"Movie_release_date\",\n",
    "                   \"log_Final_movie_revenue\",\n",
    "                   \"log_ROI\",\n",
    "                   \"log_Movie_runtime\",\n",
    "                   \"log_Female_actors\",\n",
    "                   \"log_Male_actors\",\n",
    "                   \"Movie_success\"]\n",
    "\n",
    "eda.plot_boxplots()"
   ]
  },
  {
   "cell_type": "markdown",
   "metadata": {},
   "source": [
    "We now have to focus on outliers and removing them for a more accurate modeling. From the boxplots, we chose the remove the outliers of the *Movie_box_office_revenue* and the *Minutes_runtime* variables. To do that, we use the **InterQuartile Range (IQR) method**, which identifies values that are significantly higher or lower than the majority of the data.\n",
    "\n",
    "The *remove_outliers* function will calculate the IQR for each column specified and removes any rows with values outside the range:\n",
    "\n",
    "$[Q1 - 1.5 \\times \\text{IQR}, Q3 + 1.5 \\times \\text{IQR}]$\n"
   ]
  },
  {
   "cell_type": "code",
   "execution_count": null,
   "metadata": {},
   "outputs": [],
   "source": [
    "eda.numeric_columns = [\"Average_ratings\",\n",
    "                   \"log_Num_votes\",\n",
    "                   \"Movie_release_date\",\n",
    "                   #\"log_Final_movie_revenue\",\n",
    "                   \"log_ROI\",\n",
    "                   \"log_Movie_runtime\",\n",
    "                   \"log_Female_actors\",\n",
    "                   \"log_Male_actors\",\n",
    "                   \"Movie_success\"]\n",
    "\n",
    "# Dataframe without outliers\n",
    "eda.dataframe = data_utils.remove_outliers(eda.dataframe, eda.numeric_columns)\n",
    "\n",
    "eda.plot_boxplots()"
   ]
  },
  {
   "cell_type": "code",
   "execution_count": null,
   "metadata": {},
   "outputs": [],
   "source": [
    "print(f\"After removing the outliers and dropping the null values, we are left with {len(eda.dataframe):,} movies.\")"
   ]
  },
  {
   "cell_type": "markdown",
   "metadata": {},
   "source": [
    "##### 1.1.2 Bivariate Analysis of continuous variables"
   ]
  },
  {
   "cell_type": "code",
   "execution_count": null,
   "metadata": {},
   "outputs": [],
   "source": [
    "eda.plot_correlation_matrix()"
   ]
  },
  {
   "cell_type": "markdown",
   "metadata": {},
   "source": [
    "The correlation matrix for the continuous variables in our dataset shows the following relationships:\n",
    "\n",
    "•⁠  *log_⁠Female_actors* and *log_Male_actors*: The correlation coefficient is *0.11*, indicating a weak positive correlation. This suggests that movies with a higher number of female actors also tend to have a higher number of male actors. We note that this could indicate a general tendency for larger casts to include more actors of both genders.\n",
    "\n",
    "•⁠  *log_⁠Final_movie_revenue* and *log_Male_actors*: The correlation coefficient is *0.27*, indicating a moderate positive correlation. This suggests that movies with more male actors might achieve higher box office earnings. \n",
    "\n",
    "•⁠  *log_Female_actors* and *Movie_release_date*: The correlation coefficient is *0.15*, indicating a weak positive correlation. This suggests that more recent movies tend to include a higher number of female actors. \n",
    "\n",
    "•⁠  *Movie_success* has a strong positive correlation with *log_ROI* (0.79) and A*verage_ratings* (0.72), which makes sense since it was calculated from them.\n",
    "\n",
    "While gender composition affects the correlation, these findings highlight the need for deeper analysis (e.g., regression) to control for potential confounders and isolate the impact of gender on box office success."
   ]
  },
  {
   "cell_type": "markdown",
   "metadata": {},
   "source": [
    "#### 1.1.3 Analysis and encoding of categorical variables\n",
    "Regression analysis with many categorical variables can quickly get complicated. Indeed using a boolean value for each category except one can cause us to have too many regressors. For variables like isAdult and Gender it is easy as there are only two possibilities. However, for Movie_genre, Movie_countries and Movie_languages we can quickly get into the hundreds. Here is how we plan on managing this:"
   ]
  },
  {
   "cell_type": "markdown",
   "metadata": {},
   "source": [
    "##### 1.1.3.1 Analysis of the Movies' genres"
   ]
  },
  {
   "cell_type": "markdown",
   "metadata": {},
   "source": [
    "We set a cutoff threshold of 1000. This means all genres with less than 1000 occurences will be discarded. "
   ]
  },
  {
   "cell_type": "code",
   "execution_count": null,
   "metadata": {},
   "outputs": [],
   "source": [
    "filtered_genre_counts = eda.filter_and_count(column_name=\"Movie_genres\", threshold=1000)"
   ]
  },
  {
   "cell_type": "markdown",
   "metadata": {},
   "source": [
    "Let us check if this restricts our study to too few movies."
   ]
  },
  {
   "cell_type": "code",
   "execution_count": null,
   "metadata": {},
   "outputs": [],
   "source": [
    "popular_genres = eda.analyze_popular_genres(filtered_genre_counts=filtered_genre_counts)"
   ]
  },
  {
   "cell_type": "markdown",
   "metadata": {},
   "source": [
    "We can drop the movies that have none of the most popular genres. We can also assume that the genres are ordered by relevance. This assumption was made after manually checking for 50 randomly sampled movies. It was true for all 50. We will thus keep for each movie, the first popular genre that appears."
   ]
  },
  {
   "cell_type": "code",
   "execution_count": null,
   "metadata": {},
   "outputs": [],
   "source": [
    "# Creating a new column named \"Main_genre\" that stores, for each movie, the first occurence of one of the popular genres\n",
    "eda.get_main_genres(popular_genres=popular_genres)"
   ]
  },
  {
   "cell_type": "markdown",
   "metadata": {},
   "source": [
    "We can now create the dummy variables for the \"Main_genre\" column using one-hot encoding."
   ]
  },
  {
   "cell_type": "code",
   "execution_count": null,
   "metadata": {},
   "outputs": [],
   "source": [
    "eda.dataframe = pd.get_dummies(eda.dataframe, columns=[\"Main_genre\"], drop_first=True) # Reference category is action/adventure\n",
    "eda.dataframe.sample(5)"
   ]
  },
  {
   "cell_type": "markdown",
   "metadata": {},
   "source": [
    "##### 1.1.3.2 Analysis of the Movies' languages"
   ]
  },
  {
   "cell_type": "markdown",
   "metadata": {},
   "source": [
    "We will plot the top 5 languages by number of occurences:"
   ]
  },
  {
   "cell_type": "code",
   "execution_count": null,
   "metadata": {},
   "outputs": [],
   "source": [
    "eda.analyze_languages()"
   ]
  },
  {
   "cell_type": "markdown",
   "metadata": {},
   "source": [
    "We have an unbalanced dataset with English being much more prominent than other languages."
   ]
  },
  {
   "cell_type": "markdown",
   "metadata": {},
   "source": [
    "Categorizing movies into two groups: \n",
    "- those available exclusively in English, \n",
    "- those available in other languages (which may include English alongside another language).\n",
    "\n",
    "This will be done through the creation of the boolean \"Is_not_only_english\" which is True when the movie is available in another language."
   ]
  },
  {
   "cell_type": "code",
   "execution_count": null,
   "metadata": {},
   "outputs": [],
   "source": [
    "eda.categorize_languages()"
   ]
  },
  {
   "cell_type": "markdown",
   "metadata": {},
   "source": [
    "##### 1.1.3.2 Analysis of the Movies' countries"
   ]
  },
  {
   "cell_type": "code",
   "execution_count": null,
   "metadata": {},
   "outputs": [],
   "source": [
    "eda.analyze_countries()"
   ]
  },
  {
   "cell_type": "markdown",
   "metadata": {},
   "source": [
    "We have a very similar situation to the languages. The United States of America have a much more prominent number of movies. We will thus proceed like previously by categorizing the movies into two groups:\n",
    "- USA movies \n",
    "- Movies from other countries \n",
    "\n",
    "This will be done through the creation of the boolean \"Is_USA_movie\" which is True when the movie is from the USA."
   ]
  },
  {
   "cell_type": "code",
   "execution_count": null,
   "metadata": {},
   "outputs": [],
   "source": [
    "count_usa_movies = (eda.dataframe[\"Movie_countries\"] == \"united states of america\").sum()\n",
    "count_other_countries_movie = len(eda.dataframe) - count_usa_movies \n",
    "print(f\"There are {count_usa_movies} USA movies and {count_other_countries_movie} movies from other countries.\")"
   ]
  },
  {
   "cell_type": "code",
   "execution_count": null,
   "metadata": {},
   "outputs": [],
   "source": [
    "eda.categorize_countries()"
   ]
  },
  {
   "cell_type": "markdown",
   "metadata": {},
   "source": [
    "##### 1.1.3.2 Analysis of the Movies' production companies"
   ]
  },
  {
   "cell_type": "code",
   "execution_count": null,
   "metadata": {},
   "outputs": [],
   "source": [
    "filtered_production_count = eda.analyze_production_companies()"
   ]
  },
  {
   "cell_type": "code",
   "execution_count": 65,
   "metadata": {},
   "outputs": [],
   "source": [
    "prod_companies = pd.read_csv(\"data/Extra CSV/production_companies.csv\")\n",
    "\n",
    "box_office = eda.merge_production_data(filtered_production_count, prod_companies)\n"
   ]
  },
  {
   "cell_type": "markdown",
   "metadata": {},
   "source": [
    "We inspect the company names and we saw that there are Columbia Pictures and Columbia Pictures Corporation. There are two names for the same company. \n",
    "We apply unify_columbia_revenue to attribute the same revenue for them. "
   ]
  },
  {
   "cell_type": "code",
   "execution_count": 66,
   "metadata": {},
   "outputs": [],
   "source": [
    "eda.unify_columbia_revenue(box_office_df=box_office)\n"
   ]
  },
  {
   "cell_type": "code",
   "execution_count": null,
   "metadata": {},
   "outputs": [],
   "source": [
    "box_office[\"Total Worldwide Box Office\"] = box_office[\"Total Worldwide Box Office\"].replace(\n",
    "    {\"\\$\": \"\", \",\": \"\"}, regex=True).astype(float)\n",
    "\n",
    "def calculate_box_office(companies_list):\n",
    "   if not companies_list:\n",
    "        return 0  \n",
    "   return box_office.loc[box_office[\"Company Name\"].isin(companies_list), \"Total Worldwide Box Office\"].sum()\n",
    "\n",
    "eda.dataframe[\"Box_office_companies\"] = eda.dataframe[\"Production_companies_cleaned\"].apply(calculate_box_office)\n",
    "eda.filter_movies_with_box_office(box_office_column=\"Box_office_companies\")"
   ]
  },
  {
   "cell_type": "markdown",
   "metadata": {},
   "source": [
    "## je regle ca asap juste la ca me pete les couilles "
   ]
  },
  {
   "cell_type": "code",
   "execution_count": null,
   "metadata": {},
   "outputs": [],
   "source": [
    "print(eda.dataframe.columns)\n"
   ]
  },
  {
   "cell_type": "markdown",
   "metadata": {},
   "source": [
    "### 1.2 Identifying Potential Confounders\n",
    "In order to not have bias in our study, it is essential we add the confounders. This means that we have to identify the variables that have an impact on both treatment and outcome, here being the actor gender and the final box office revenue respectivly. The confounders are: \n",
    "-  ⁠Movie_genre\n",
    "-  ⁠Movie_countries\n",
    "- ⁠Movie_languages\n",
    "- Num_votes"
   ]
  },
  {
   "cell_type": "markdown",
   "metadata": {},
   "source": [
    "### 1.3 Linear Regression\n"
   ]
  },
  {
   "cell_type": "code",
   "execution_count": 69,
   "metadata": {},
   "outputs": [],
   "source": [
    "final_df_regression = eda.dataframe.copy()"
   ]
  },
  {
   "cell_type": "code",
   "execution_count": null,
   "metadata": {},
   "outputs": [],
   "source": [
    "print(final_df_regression.columns)"
   ]
  },
  {
   "cell_type": "code",
   "execution_count": 71,
   "metadata": {},
   "outputs": [],
   "source": [
    "indep_vars = [\"log_Female_actors\", \"log_Male_actors\", \"log_Movie_runtime\", \"Is_not_only_english\", \n",
    "                   \"Is_USA_movie\",  \"Main_genre_drama\",\n",
    "                   \"Main_genre_thriller\", \"Main_genre_comedy\", \"Main_genre_romance_film\", \"Start_year\",\n",
    "                   \"Box_office_companies\", \"log_Num_votes\"]\n",
    "\n",
    "dep_vars = \"Log_ROI\"\n",
    "\n",
    "X = final_df_regression[indep_vars]\n",
    "y = final_df_regression[dep_vars]\n",
    "\n",
    "scaler = StandardScaler()\n",
    "X_scaled = scaler.fit_transform(X)\n",
    "\n",
    "X_scaled = pd.DataFrame(X_scaled, columns=X.columns, index=X.index)\n",
    "\n",
    "X_scaled_wconst = sm.add_constant(X_scaled)"
   ]
  },
  {
   "cell_type": "code",
   "execution_count": null,
   "metadata": {},
   "outputs": [],
   "source": [
    "# Create a DataFrame to store VIF values\n",
    "vif_data = pd.DataFrame()\n",
    "vif_data[\"Feature\"] = X_scaled.columns\n",
    "\n",
    "# Calculate VIF for each feature\n",
    "vif_data[\"VIF\"] = [variance_inflation_factor(X_scaled.values, i) for i in range(X_scaled.shape[1])]\n",
    "\n",
    "# Display VIF values\n",
    "print(vif_data)"
   ]
  },
  {
   "cell_type": "markdown",
   "metadata": {},
   "source": [
    "We can see that all VIF values are far below 5 indicating multicollinearity should not be an issue."
   ]
  },
  {
   "cell_type": "code",
   "execution_count": null,
   "metadata": {},
   "outputs": [],
   "source": [
    "model = sm.OLS(y, X_scaled_wconst).fit()\n",
    "print(model.summary())"
   ]
  },
  {
   "cell_type": "code",
   "execution_count": null,
   "metadata": {},
   "outputs": [],
   "source": [
    "indep_vars = [\"log_Female_actors\", \"log_Male_actors\", \"Movie_runtime\", \"Is_not_only_english\", \n",
    "                   \"Is_USA_movie\",  \"Main_genre_drama\",\n",
    "                   \"Main_genre_thriller\", \"Main_genre_comedy\", \"Main_genre_romance_film\", \"Start_year\",\n",
    "                   \"Box_office_companies\", \"Log_ROI\"]\n",
    "\n",
    "dep_vars = \"Normalized_Rating\"\n",
    "\n",
    "X = final_df_regression[indep_vars]\n",
    "y = final_df_regression[dep_vars]\n",
    "\n",
    "scaler = StandardScaler()\n",
    "X_scaled = scaler.fit_transform(X)\n",
    "\n",
    "X_scaled = pd.DataFrame(X_scaled, columns=X.columns, index=X.index)\n",
    "\n",
    "X_scaled_wconst = sm.add_constant(X_scaled)\n",
    "\n",
    "model = sm.OLS(y, X_scaled_wconst).fit()\n",
    "print(model.summary())"
   ]
  },
  {
   "cell_type": "code",
   "execution_count": null,
   "metadata": {},
   "outputs": [],
   "source": [
    "# Create a DataFrame to store VIF values\n",
    "vif_data = pd.DataFrame()\n",
    "vif_data[\"Feature\"] = X_scaled.columns\n",
    "\n",
    "# Calculate VIF for each feature\n",
    "vif_data[\"VIF\"] = [variance_inflation_factor(X_scaled.values, i) for i in range(X_scaled.shape[1])]\n",
    "\n",
    "# Display VIF values\n",
    "print(vif_data)"
   ]
  },
  {
   "cell_type": "markdown",
   "metadata": {},
   "source": [
    "We can see that all VIF values are far below 5 indicating multicollinearity should not be an issue."
   ]
  },
  {
   "cell_type": "markdown",
   "metadata": {},
   "source": [
    "### 4. How does it compare to streaming platforms?"
   ]
  },
  {
   "cell_type": "markdown",
   "metadata": {},
   "source": [
    "In this section, we want to expand our study by analyzing data from various streaming platforms. We focus on the movies of Netflix, Amazon Prime, Disney+, and Hulu. To achieve this, we created a dataset by merging data from multiple sources found on Kaggle.\n",
    "\n",
    "\n",
    "This dataset structure enables comprehensive analysis across various dimensions such as gender repartition in the cast, the ratings and description. Using these columns, we can investigate how streaming platform movies differ in content and ratings compared to traditional box office movies.\n",
    "\n"
   ]
  },
  {
   "cell_type": "code",
   "execution_count": 76,
   "metadata": {},
   "outputs": [],
   "source": [
    "streaming_df = get_streaming_dataframe()"
   ]
  },
  {
   "cell_type": "code",
   "execution_count": null,
   "metadata": {},
   "outputs": [],
   "source": [
    "streaming_df.head()"
   ]
  },
  {
   "cell_type": "code",
   "execution_count": 78,
   "metadata": {},
   "outputs": [],
   "source": [
    "streaming_df.drop_duplicates(inplace=True)\n"
   ]
  },
  {
   "cell_type": "markdown",
   "metadata": {},
   "source": [
    "a. <u>Numerical Analysis</u>: "
   ]
  },
  {
   "cell_type": "code",
   "execution_count": 79,
   "metadata": {},
   "outputs": [],
   "source": [
    "eda_streaming = EDA(streaming_df.copy())\n"
   ]
  },
  {
   "cell_type": "code",
   "execution_count": null,
   "metadata": {},
   "outputs": [],
   "source": [
    "pd.options.display.float_format = \"{:,.2f}\".format\n",
    "\n",
    "# Filtrer uniquement les colonnes qui existent dans la dataframe\n",
    "existing_numeric_columns = [col for col in eda_streaming.numeric_columns if col in eda_streaming.dataframe.columns]\n",
    "\n",
    "# Convert columns to numeric for existing columns and drop rows with missing data\n",
    "eda_streaming.dataframe[existing_numeric_columns] = eda_streaming.dataframe[existing_numeric_columns].apply(pd.to_numeric, errors=\"coerce\")\n",
    "eda_streaming.dataframe.dropna(subset=existing_numeric_columns, inplace=True)\n",
    "\n",
    "# Summary statistics\n",
    "summary_table = eda_streaming.summary_bis()\n",
    "\n",
    "summary_table\n"
   ]
  },
  {
   "cell_type": "code",
   "execution_count": null,
   "metadata": {},
   "outputs": [],
   "source": [
    "eda_streaming.plot_histograms_combined(\n",
    "    variables=[\"Num_votes\", \"Movie_release_date\", \"Movie_runtime\", \"Female_actors\", \"Male_actors\"],\n",
    "    title=\"Figure 2: Histogram of Independent Variables\",\n",
    "    bins=15,\n",
    "    layout=(2, 3)\n",
    ")"
   ]
  },
  {
   "cell_type": "markdown",
   "metadata": {},
   "source": [
    "Release_year : The majority of movies in the dataset are very recent with an increase after the year 2000. This distribution seems to be logical beause streaming platform really took place recently.\n",
    "\n",
    "Movie_runtime: The duration of most movies is between 90 and 120 minutes, which is typical for films.\n",
    "\n",
    "Female_count and male_count: We can see that the number of men is greater than women but this difference is lower than for CMU/IMDB movies.\n",
    "\n"
   ]
  },
  {
   "cell_type": "markdown",
   "metadata": {},
   "source": [
    "## PEUT ETRE CHANGER LE SCALE DE NUMVOTES"
   ]
  },
  {
   "cell_type": "code",
   "execution_count": null,
   "metadata": {},
   "outputs": [],
   "source": [
    "# Apply log transformation to skewed independent variables\n",
    "eda_streaming.dataframe = evaluation_utils.log_transform(eda_streaming.dataframe, [\"Num_votes\", \"Movie_runtime\", \"Female_actors\", \"Male_actors\"])\n",
    "\n",
    "eda_streaming.plot_log_transformed_independent_histograms()"
   ]
  },
  {
   "cell_type": "markdown",
   "metadata": {},
   "source": [
    "Log_Num_Votes : The histogram shows a near symmetric distribution of log transformed movie votes resembling a normal distribution. Most movies have log-votes between 6 and 10.\n",
    "\n",
    "Log_Movie_runtime: Most movies have a log runtime between 4 and 5, with the distribution slightly skewed to the right.\n",
    "\n",
    "Log_Male_actors and log_female_actors : The log of female actors is slightly lower than the log of male actors. "
   ]
  },
  {
   "cell_type": "code",
   "execution_count": null,
   "metadata": {},
   "outputs": [],
   "source": [
    "eda_streaming.numeric_columns = [\"Average_ratings\",\n",
    "                   \"log_Num_votes\",\n",
    "                   \"Movie_release_date\",\n",
    "                   #\"log_Final_movie_revenue\",\n",
    "                   #\"log_ROI\",   # je crois juste lui je le teje \n",
    "                   \"log_Movie_runtime\",\n",
    "                   \"log_Female_actors\",\n",
    "                   \"log_Male_actors\",\n",
    "                   #\"Movie_success\"\n",
    "                   ]\n",
    "\n",
    "eda_streaming.plot_boxplots()"
   ]
  },
  {
   "cell_type": "markdown",
   "metadata": {},
   "source": [
    "As we did in the previous part, we now have to focus on outliers and removing them for a more accurate modeling."
   ]
  },
  {
   "cell_type": "code",
   "execution_count": null,
   "metadata": {},
   "outputs": [],
   "source": [
    "\n",
    "eda_streaming.dataframe = data_utils.remove_outliers(eda_streaming.dataframe, eda_streaming.numeric_columns)\n",
    "\n",
    "eda_streaming.plot_boxplots()"
   ]
  },
  {
   "cell_type": "code",
   "execution_count": null,
   "metadata": {},
   "outputs": [],
   "source": [
    "print(f\"After removing the outliers and dropping the null values, we are left with {len(eda_streaming.dataframe):,} movies.\")"
   ]
  },
  {
   "cell_type": "markdown",
   "metadata": {},
   "source": [
    "##### 4.1.2 Bivariate Analysis of continuous variables"
   ]
  },
  {
   "cell_type": "code",
   "execution_count": null,
   "metadata": {},
   "outputs": [],
   "source": [
    "eda_streaming.plot_correlation_matrix()"
   ]
  },
  {
   "cell_type": "markdown",
   "metadata": {},
   "source": [
    "The number of votes and gender composition (especially the number of male actors) seem to influence movie duration. It suggests that popularity and cast composition could impact movie production characteristics.\n",
    "Weak correlations between movie duration and other variables indicate that duration might not strongly determine popularity based on votes.\n",
    "This correlation matrix suggests further analysis like regression that could help separate and clarify the effects of gender and duration on popularity."
   ]
  },
  {
   "cell_type": "markdown",
   "metadata": {},
   "source": [
    "#### 4.1.3 Analysis and encoding of categorical variables\n",
    "Regression analysis with many categorical variables can quickly get complicated. Indeed using a boolean value for each category except one can cause us to have too many regressors. For variables like isAdult and Gender it is easy as there are only two possibilities. However, for Movie_genre, Movie_countries and Movie_languages we can quickly get into the hundreds. Here is how we plan on managing this:"
   ]
  },
  {
   "cell_type": "markdown",
   "metadata": {},
   "source": [
    "##### 4.1.3.1 Analysis of the Movies' genres"
   ]
  },
  {
   "cell_type": "markdown",
   "metadata": {},
   "source": [
    "We set a cutoff threshold of 500. This means all genres with less than 500 occurences will be discarded. "
   ]
  },
  {
   "cell_type": "code",
   "execution_count": null,
   "metadata": {},
   "outputs": [],
   "source": [
    "filtered_genre_counts = eda_streaming.filter_and_count(column_name=\"Movie_genres\", threshold=500)"
   ]
  },
  {
   "cell_type": "markdown",
   "metadata": {},
   "source": [
    "Let us check if this restricts our study to too few movies."
   ]
  },
  {
   "cell_type": "code",
   "execution_count": null,
   "metadata": {},
   "outputs": [],
   "source": [
    "popular_genres = eda_streaming.analyze_popular_genres(filtered_genre_counts=filtered_genre_counts)"
   ]
  },
  {
   "cell_type": "code",
   "execution_count": null,
   "metadata": {},
   "outputs": [],
   "source": []
  },
  {
   "cell_type": "markdown",
   "metadata": {},
   "source": [
    "We choose to only keep only the movies xhich have at more 2 genres and create dummies with all other combinations."
   ]
  },
  {
   "cell_type": "code",
   "execution_count": 89,
   "metadata": {},
   "outputs": [],
   "source": [
    "eda_streaming.dataframe = eda_streaming.dataframe[eda_streaming.dataframe[\"Movie_genres\"].apply(lambda x: len(x.split(\",\")) <= 2)]"
   ]
  },
  {
   "cell_type": "code",
   "execution_count": null,
   "metadata": {},
   "outputs": [],
   "source": [
    "eda_streaming.dataframe[\"Movie_genres\"].value_counts()"
   ]
  },
  {
   "cell_type": "code",
   "execution_count": null,
   "metadata": {},
   "outputs": [],
   "source": [
    "\n",
    "dummies = pd.get_dummies(eda_streaming.dataframe[\"Movie_genres\"], prefix=\"Movie_genres\", drop_first=True)\n",
    "\n",
    "dummy_columns = dummies.columns.tolist()\n",
    "print(\"Dummies columns :\", dummy_columns)\n"
   ]
  },
  {
   "cell_type": "code",
   "execution_count": null,
   "metadata": {},
   "outputs": [],
   "source": [
    "#eda_streaming.dataframe = pd.get_dummies(eda_streaming.dataframe, columns=[\"Movie_genres\"], drop_first=True) \n",
    "eda_streaming.dataframe = pd.concat([eda_streaming.dataframe, dummies], axis=1)\n",
    "\n",
    "eda_streaming.dataframe.sample(5)"
   ]
  },
  {
   "cell_type": "markdown",
   "metadata": {},
   "source": [
    "##### 1.1.3.2 Analysis of the Movies' languages"
   ]
  },
  {
   "cell_type": "markdown",
   "metadata": {},
   "source": [
    "We will plot the top 5 languages by number of occurences:"
   ]
  },
  {
   "cell_type": "code",
   "execution_count": null,
   "metadata": {},
   "outputs": [],
   "source": [
    "eda_streaming.analyze_languages()"
   ]
  },
  {
   "cell_type": "markdown",
   "metadata": {},
   "source": [
    "Categorizing movies into two groups: \n",
    "- those available exclusively in English, \n",
    "- those available in other languages (which may include English alongside another language).\n",
    "\n",
    "This will be done through the creation of the boolean \"Is_not_only_english\" which is True when the movie is available in another language."
   ]
  },
  {
   "cell_type": "code",
   "execution_count": null,
   "metadata": {},
   "outputs": [],
   "source": [
    "eda_streaming.categorize_languages()"
   ]
  },
  {
   "cell_type": "markdown",
   "metadata": {},
   "source": [
    "##### 1.1.3.2 Analysis of the Movies' countries"
   ]
  },
  {
   "cell_type": "code",
   "execution_count": null,
   "metadata": {},
   "outputs": [],
   "source": [
    "eda_streaming.analyze_countries()"
   ]
  },
  {
   "cell_type": "markdown",
   "metadata": {},
   "source": [
    "We have a very similar situation to the languages. The United States of America have a much more prominent number of movies. We will thus proceed like previously by categorizing the movies into two groups:\n",
    "- USA movies \n",
    "- Movies from other countries \n",
    "\n",
    "This will be done through the creation of the boolean \"Is_USA_movie\" which is True when the movie is from the USA."
   ]
  },
  {
   "cell_type": "code",
   "execution_count": null,
   "metadata": {},
   "outputs": [],
   "source": [
    "count_usa_movies = (eda_streaming.dataframe[\"Movie_countries\"] == \"United States\").sum()\n",
    "count_other_countries_movie = len(eda_streaming.dataframe) - count_usa_movies \n",
    "print(f\"There are {count_usa_movies} USA movies and {count_other_countries_movie} movies from other countries.\")"
   ]
  },
  {
   "cell_type": "code",
   "execution_count": null,
   "metadata": {},
   "outputs": [],
   "source": [
    "eda_streaming.categorize_countries_bis()"
   ]
  },
  {
   "cell_type": "markdown",
   "metadata": {},
   "source": [
    "##### 1.1.3.2 Analysis of the Movies' streaming platforms "
   ]
  },
  {
   "cell_type": "markdown",
   "metadata": {},
   "source": [
    "We created dummy variables for the streaming platforms(Netflix, Disney, Amazon prime). Each platform is now a column with 0 or 1, where 1 means the movie is available on that platform."
   ]
  },
  {
   "cell_type": "code",
   "execution_count": null,
   "metadata": {},
   "outputs": [],
   "source": [
    "eda_streaming.dataframe = pd.get_dummies(eda_streaming.dataframe, columns=[\"Platform\"], drop_first=True) \n",
    "eda_streaming.dataframe.sample(5)"
   ]
  },
  {
   "cell_type": "markdown",
   "metadata": {},
   "source": [
    "### 1.3 Linear Regression"
   ]
  },
  {
   "cell_type": "code",
   "execution_count": 99,
   "metadata": {},
   "outputs": [],
   "source": [
    "streaming_df_regression = eda_streaming.dataframe.copy()"
   ]
  },
  {
   "cell_type": "code",
   "execution_count": null,
   "metadata": {},
   "outputs": [],
   "source": [
    "print(streaming_df_regression.columns)"
   ]
  },
  {
   "cell_type": "code",
   "execution_count": 101,
   "metadata": {},
   "outputs": [],
   "source": [
    "indep_vars1=[\"log_Female_actors\", \"log_Male_actors\", \"Num_votes\", \"log_Movie_runtime\", \"Is_not_only_english\", \"Is_USA_movie\",\n",
    "          'Platform_Disney', 'Platform_Netflix', \"Is_Adult\"]\n",
    "\n",
    "indep_vars=np.hstack([indep_vars1, dummy_columns])\n",
    "dep_vars = \"Average_ratings\"\n",
    "\n",
    "X = streaming_df_regression[indep_vars]\n",
    "y = streaming_df_regression[dep_vars]\n",
    "\n",
    "scaler = StandardScaler()\n",
    "X_scaled_streaming = scaler.fit_transform(X)\n",
    "\n",
    "X_scaled_streaming = pd.DataFrame(X_scaled_streaming, columns=X.columns, index=X.index)\n",
    "\n",
    "X_scaled_wconst_streaming = sm.add_constant(X_scaled_streaming)"
   ]
  },
  {
   "cell_type": "code",
   "execution_count": null,
   "metadata": {},
   "outputs": [],
   "source": [
    "# Create a DataFrame to store VIF values\n",
    "vif_data = pd.DataFrame()\n",
    "vif_data[\"Feature\"] = X_scaled_streaming.columns\n",
    "\n",
    "# Calculate VIF for each feature\n",
    "vif_data[\"VIF\"] = [variance_inflation_factor(X_scaled_streaming.values, i) for i in range(X_scaled_streaming.shape[1])]\n",
    "\n",
    "# Display VIF values\n",
    "print(vif_data)"
   ]
  },
  {
   "cell_type": "code",
   "execution_count": null,
   "metadata": {},
   "outputs": [],
   "source": [
    "model_streaming = sm.OLS(y, X_scaled_wconst_streaming).fit()\n",
    "print(model_streaming.summary())"
   ]
  },
  {
   "cell_type": "markdown",
   "metadata": {},
   "source": [
    "### 5. <u>What are the social reasons behind the presence of female characters in movies? Is it due to sexualization or genuine equality of representation?</u>"
   ]
  },
  {
   "cell_type": "markdown",
   "metadata": {},
   "source": [
    "The first part of our analysis uses plot summaries to examine whether female characters are portrayed as having agency (taking action and driving the story) or are reduced to sexualized or objectified roles. So far, we have used LLMs, such as ChatGPT Plus, to classify plot summaries based on these criteria (contains/does not contain sexualization of females), which provided useful initial results and validated the approach. However, due to time constraints during milestone 2, we were unable to use more advanced methods, such as zero-shot or few-shot learning with models like OpenAI's GPT-4, T5, or BERT variants, which we plan to explore further in milestone 3.\n",
    "The second part of our analysis focuses on adult-rated films in the resulting merged dataframe, specifically examining the gender of the actors to understand patterns of representation."
   ]
  },
  {
   "cell_type": "code",
   "execution_count": null,
   "metadata": {},
   "outputs": [],
   "source": [
    "bechdel_df = pd.read_csv(\"data/Bechdel test/bechdel_test_movies.csv\", names=[\"Id\", \"Year\", \"Title\", \"Bechdel_rating\", \"tconst\"], header=None)\n",
    "\n",
    "bechdel_df = bechdel_df.drop(index=0)\n",
    "bechdel_df.head()"
   ]
  },
  {
   "cell_type": "code",
   "execution_count": null,
   "metadata": {},
   "outputs": [],
   "source": [
    "bechdel_df[\"tconst\"] = bechdel_df[\"tconst\"].apply(lambda x : \"tt\"+str(x))\n",
    "bechdel_df.head()"
   ]
  },
  {
   "cell_type": "code",
   "execution_count": null,
   "metadata": {},
   "outputs": [],
   "source": [
    "final_final_df = pd.merge(eda.dataframe.copy(), bechdel_df, on=\"tconst\")\n",
    "len(final_final_df)"
   ]
  },
  {
   "cell_type": "code",
   "execution_count": null,
   "metadata": {},
   "outputs": [],
   "source": [
    "final_final_df.drop(columns=[\"tconst\"])\n",
    "final_final_df[\"Bechdel_rating\"].value_counts()"
   ]
  },
  {
   "cell_type": "code",
   "execution_count": 108,
   "metadata": {},
   "outputs": [],
   "source": [
    "final_final_df[\"Bechdel_rating\"] = pd.to_numeric(final_final_df[\"Bechdel_rating\"])"
   ]
  },
  {
   "cell_type": "code",
   "execution_count": 109,
   "metadata": {},
   "outputs": [],
   "source": [
    "indep_cols = [\"log_Female_actors\", \"log_Male_actors\", \"log_Movie_runtime\", \"Is_not_only_english\", \n",
    "                   \"Is_USA_movie\", \"Main_genre_drama\",\n",
    "                   \"Main_genre_thriller\", \"Main_genre_comedy\", \"Main_genre_romance_film\", \"Start_year\",\n",
    "                   \"Box_office_companies\", \"Bechdel_rating\", \"log_Num_votes\"]\n",
    "\n",
    "X = final_final_df[indep_cols]\n",
    "\n",
    "y = final_final_df[\"Log_ROI\"]"
   ]
  },
  {
   "cell_type": "code",
   "execution_count": null,
   "metadata": {},
   "outputs": [],
   "source": [
    "from sklearn.preprocessing import StandardScaler\n",
    "import statsmodels.api as sm\n",
    "\n",
    "scaler = StandardScaler()\n",
    "X_scaled = scaler.fit_transform(X)\n",
    "\n",
    "X_scaled = pd.DataFrame(X_scaled, columns=X.columns, index=X.index)\n",
    "\n",
    "X_scaled_wconst = sm.add_constant(X_scaled)\n",
    "\n",
    "model = sm.OLS(y, X_scaled_wconst).fit()\n",
    "print(model.summary())"
   ]
  },
  {
   "cell_type": "code",
   "execution_count": null,
   "metadata": {},
   "outputs": [],
   "source": [
    "from statsmodels.stats.outliers_influence import variance_inflation_factor\n",
    "\n",
    "# Create a DataFrame to store VIF values\n",
    "vif_data = pd.DataFrame()\n",
    "vif_data[\"Feature\"] = X_scaled.columns\n",
    "\n",
    "# Calculate VIF for each feature\n",
    "vif_data[\"VIF\"] = [variance_inflation_factor(X_scaled.values, i) for i in range(X_scaled.shape[1])]\n",
    "\n",
    "# Display VIF values\n",
    "print(vif_data)"
   ]
  },
  {
   "cell_type": "code",
   "execution_count": 112,
   "metadata": {},
   "outputs": [],
   "source": [
    "indep_cols = [\"log_Female_actors\", \"log_Male_actors\", \"Movie_runtime\", \"Is_not_only_english\", \n",
    "                   \"Is_USA_movie\", \"Main_genre_drama\",\n",
    "                   \"Main_genre_thriller\", \"Main_genre_comedy\", \"Main_genre_romance_film\", \"Start_year\",\n",
    "                   \"Box_office_companies\", \"Bechdel_rating\", \"Log_ROI\"]\n",
    "\n",
    "X = final_final_df[indep_cols]\n",
    "\n",
    "y = final_final_df[\"Normalized_Rating\"]"
   ]
  },
  {
   "cell_type": "code",
   "execution_count": null,
   "metadata": {},
   "outputs": [],
   "source": [
    "from sklearn.preprocessing import StandardScaler\n",
    "import statsmodels.api as sm\n",
    "\n",
    "scaler = StandardScaler()\n",
    "X_scaled = scaler.fit_transform(X)\n",
    "\n",
    "X_scaled = pd.DataFrame(X_scaled, columns=X.columns, index=X.index)\n",
    "\n",
    "X_scaled_wconst = sm.add_constant(X_scaled)\n",
    "\n",
    "model = sm.OLS(y, X_scaled_wconst).fit()\n",
    "print(model.summary())"
   ]
  },
  {
   "cell_type": "code",
   "execution_count": null,
   "metadata": {},
   "outputs": [],
   "source": [
    "from statsmodels.stats.outliers_influence import variance_inflation_factor\n",
    "\n",
    "# Create a DataFrame to store VIF values\n",
    "vif_data = pd.DataFrame()\n",
    "vif_data[\"Feature\"] = X_scaled.columns\n",
    "\n",
    "# Calculate VIF for each feature\n",
    "vif_data[\"VIF\"] = [variance_inflation_factor(X_scaled.values, i) for i in range(X_scaled.shape[1])]\n",
    "\n",
    "# Display VIF values\n",
    "print(vif_data)"
   ]
  },
  {
   "cell_type": "code",
   "execution_count": 115,
   "metadata": {},
   "outputs": [],
   "source": [
    "indep_cols = [\"log_Female_actors\", \"log_Male_actors\", \"Movie_runtime\", \"Is_not_only_english\", \n",
    "                   \"Is_USA_movie\", \"Main_genre_drama\",\n",
    "                   \"Main_genre_thriller\", \"Main_genre_comedy\", \"Main_genre_romance_film\", \"Start_year\",\n",
    "                   \"Box_office_companies\", \"Log_ROI\"]\n",
    "\n",
    "X = final_final_df[indep_cols]\n",
    "\n",
    "y = final_final_df[\"Bechdel_rating\"]"
   ]
  },
  {
   "cell_type": "code",
   "execution_count": null,
   "metadata": {},
   "outputs": [],
   "source": [
    "from sklearn.preprocessing import StandardScaler\n",
    "import statsmodels.api as sm\n",
    "\n",
    "scaler = StandardScaler()\n",
    "X_scaled = scaler.fit_transform(X)\n",
    "\n",
    "X_scaled = pd.DataFrame(X_scaled, columns=X.columns, index=X.index)\n",
    "\n",
    "X_scaled_wconst = sm.add_constant(X_scaled)\n",
    "\n",
    "model = sm.OLS(y, X_scaled_wconst).fit()\n",
    "print(model.summary())"
   ]
  },
  {
   "cell_type": "code",
   "execution_count": null,
   "metadata": {},
   "outputs": [],
   "source": [
    "from statsmodels.stats.outliers_influence import variance_inflation_factor\n",
    "\n",
    "# Create a DataFrame to store VIF values\n",
    "vif_data = pd.DataFrame()\n",
    "vif_data[\"Feature\"] = X_scaled.columns\n",
    "\n",
    "# Calculate VIF for each feature\n",
    "vif_data[\"VIF\"] = [variance_inflation_factor(X_scaled.values, i) for i in range(X_scaled.shape[1])]\n",
    "\n",
    "# Display VIF values\n",
    "print(vif_data)"
   ]
  },
  {
   "cell_type": "markdown",
   "metadata": {},
   "source": [
    "## New Dialogue dataset"
   ]
  },
  {
   "cell_type": "code",
   "execution_count": null,
   "metadata": {},
   "outputs": [],
   "source": [
    "movie_dialogue_df = pd.read_csv(\"data/Dialogue/meta_data7.csv\",names=[\"Script_id\", \"tconst\", \"Title\", \"Year\", \"Gross\", \"Lines_Data\"], header=0, encoding=\"ISO-8859-1\")\n",
    "movie_dialogue_df.drop(columns=[\"Gross\", \"Lines_Data\"], inplace=True)\n",
    "movie_dialogue_df.head()"
   ]
  },
  {
   "cell_type": "code",
   "execution_count": null,
   "metadata": {},
   "outputs": [],
   "source": [
    "character_dialogue_df = pd.read_csv(\"data/Dialogue/character_list5.csv\",names=[\"Script_id\", \"Character_name\", \"Words\", \"Gender\", \"Age\"], header=0, encoding=\"ISO-8859-1\")\n",
    "character_dialogue_df.dropna(subset=[\"Character_name\", \"Age\"], inplace=True)\n",
    "character_dialogue_df.head()"
   ]
  },
  {
   "cell_type": "code",
   "execution_count": null,
   "metadata": {},
   "outputs": [],
   "source": [
    "dialogue_df = pd.merge(movie_dialogue_df, character_dialogue_df, on=\"Script_id\")\n",
    "dialogue_df.drop(columns=[\"Script_id\"], inplace = True)\n",
    "dialogue_df.head()"
   ]
  },
  {
   "cell_type": "code",
   "execution_count": null,
   "metadata": {},
   "outputs": [],
   "source": [
    "final_dialogue_df = dialogue_df.groupby(\"tconst\").agg(\n",
    "    Characters=(\"Character_name\", list),\n",
    "    Words=(\"Words\", list),\n",
    "    Gender=(\"Gender\", list)\n",
    ")\n",
    "final_dialogue_df.head()"
   ]
  },
  {
   "cell_type": "code",
   "execution_count": null,
   "metadata": {},
   "outputs": [],
   "source": [
    "dialogue_merged_df = pd.merge(final_df, final_dialogue_df, on=\"tconst\")\n",
    "len(dialogue_merged_df)"
   ]
  }
 ],
 "metadata": {
  "kernelspec": {
   "display_name": "Python 3",
   "language": "python",
   "name": "python3"
  },
  "language_info": {
   "codemirror_mode": {
    "name": "ipython",
    "version": 3
   },
   "file_extension": ".py",
   "mimetype": "text/x-python",
   "name": "python",
   "nbconvert_exporter": "python",
   "pygments_lexer": "ipython3",
   "version": "3.11.9"
  }
 },
 "nbformat": 4,
 "nbformat_minor": 4
}
