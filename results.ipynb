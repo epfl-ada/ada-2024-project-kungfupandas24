{
 "cells": [
  {
   "cell_type": "markdown",
   "metadata": {},
   "source": [
    "<div style=\"text-align: center;\">\n",
    "<h1>Reel Realities: How Gender and Age Shape Success Across Box Office and Streaming Platforms</h1>\n",
    "</div>"
   ]
  },
  {
   "cell_type": "markdown",
   "metadata": {},
   "source": [
    "### <u>Imports</u>"
   ]
  },
  {
   "cell_type": "code",
   "execution_count": 1,
   "metadata": {},
   "outputs": [],
   "source": [
    "import pandas as pd\n",
    "import matplotlib.pyplot as plt\n",
    "import re\n",
    "import numpy as np\n",
    "import seaborn as sns\n",
    "import math\n",
    "from sklearn.preprocessing import StandardScaler\n",
    "import statsmodels.api as sm\n",
    "from statsmodels.stats.outliers_influence import variance_inflation_factor\n",
    "import plotly.express as px\n",
    "\n",
    "from src.data.dataloader import (\n",
    "    CMUDatasetLoader, IMDBDatasetLoader, KaggleDatasetLoader, NumbersDatasetLoader)\n",
    "import src.utils.data_utils as data_utils\n",
    "import src.utils.evaluation_utils as evaluation_utils\n",
    "from src.utils.EDA_utils import EDA\n",
    "from src.scripts.streaming import get_streaming_dataframe\n",
    "import warnings\n",
    "\n",
    "# Suppress specific FutureWarnings about is_sparse being deprecated\n",
    "warnings.filterwarnings(action=\"ignore\", category=FutureWarning, module=\"sklearn\", message=\".*is_sparse is deprecated.*\")"
   ]
  },
  {
   "cell_type": "markdown",
   "metadata": {},
   "source": [
    "### 1. <u>Data cleaning and pre-processing</u>"
   ]
  },
  {
   "cell_type": "markdown",
   "metadata": {},
   "source": [
    "#### 1.1 CMU Dataset"
   ]
  },
  {
   "cell_type": "markdown",
   "metadata": {},
   "source": [
    "We will use three files of the CMU dataset:\n",
    "1. \"plot_summaries.txt\" gives us the plots of the movies.\n",
    "2. \"movie.metadata.tsv\" gives us information about the languages, countries, and genres of the movies.\n",
    "3. \"character.metadata.tsv\" gives us information about actors and the characters they play."
   ]
  },
  {
   "cell_type": "code",
   "execution_count": 2,
   "metadata": {},
   "outputs": [
    {
     "name": "stdout",
     "output_type": "stream",
     "text": [
      "The plot summaries dataframe has 42,303 values.\n"
     ]
    }
   ],
   "source": [
    "directory = \"data\"\n",
    "CMU_loader = CMUDatasetLoader(directory)\n",
    "plot_summaries_df = CMU_loader.load_plot_summaries()\n",
    "\n",
    "print(f\"The plot summaries dataframe has {len(plot_summaries_df):,} values.\")"
   ]
  },
  {
   "cell_type": "code",
   "execution_count": 3,
   "metadata": {},
   "outputs": [
    {
     "name": "stdout",
     "output_type": "stream",
     "text": [
      "Number of null values in 'Wikipedia_movie_ID': 0\n",
      "Number of empty values in 'Wikipedia_movie_ID': 0\n",
      "Number of null values in 'Plot Summaries': 0\n",
      "Number of empty values in 'Plot Summaries': 0\n"
     ]
    }
   ],
   "source": [
    "null_id = plot_summaries_df[\"Wikipedia_movie_ID\"].isnull().sum()\n",
    "empty_id = plot_summaries_df[plot_summaries_df[\"Wikipedia_movie_ID\"] == \"\"][\"Wikipedia_movie_ID\"].sum()\n",
    "null_plot = plot_summaries_df[\"Plot Summaries\"].isnull().sum()\n",
    "empty_plot = plot_summaries_df[plot_summaries_df[\"Plot Summaries\"] == \"\"][\"Plot Summaries\"].sum()\n",
    "\n",
    "print(f\"Number of null values in 'Wikipedia_movie_ID': {null_id}\")\n",
    "print(f\"Number of empty values in 'Wikipedia_movie_ID': {empty_id}\")\n",
    "print(f\"Number of null values in 'Plot Summaries': {null_plot}\")\n",
    "print(f\"Number of empty values in 'Plot Summaries': {empty_plot}\")"
   ]
  },
  {
   "cell_type": "code",
   "execution_count": 4,
   "metadata": {},
   "outputs": [
    {
     "name": "stdout",
     "output_type": "stream",
     "text": [
      "The movie metadata dataframe has 81,741 values.\n"
     ]
    }
   ],
   "source": [
    "movie_metadata_df = CMU_loader.load_movie_metadata()\n",
    "print(f\"The movie metadata dataframe has {len(movie_metadata_df):,} values.\")"
   ]
  },
  {
   "cell_type": "code",
   "execution_count": 5,
   "metadata": {},
   "outputs": [],
   "source": [
    "movie_metadata_df[\"Movie_name\"] = (movie_metadata_df[\"Movie_name\"]\n",
    "                    .str.strip()  #Remove leading/trailing whitespace\n",
    "                    .str.lower()  #Convert to lowercase\n",
    "                    .replace(\"\", np.nan)  #Replace empty strings with NaN\n",
    "                   )"
   ]
  },
  {
   "cell_type": "code",
   "execution_count": 6,
   "metadata": {},
   "outputs": [],
   "source": [
    "# Movie languages, countries, and genres are formatted as a dictionary, but they are actually a string.\n",
    "# We convert them to comma seperated strings. \n",
    "\n",
    "column_names_to_clean = [\"Movie_countries\", \"Movie_languages\", \"Movie_genres\"]\n",
    "movie_metadata_df = data_utils.convert_dicts_to_strings(movie_metadata_df, column_names_to_clean)\n",
    "\n",
    "# Cleaning the strings\n",
    "movie_metadata_df = data_utils.clean_string_columns(movie_metadata_df, column_names_to_clean)"
   ]
  },
  {
   "cell_type": "code",
   "execution_count": 7,
   "metadata": {},
   "outputs": [
    {
     "name": "stdout",
     "output_type": "stream",
     "text": [
      "Pattern Summary:\n",
      "                        Pattern  Count\n",
      "0       Full Date (YYYY-MM-DD)  39373\n",
      "1             Year Only (YYYY)  32172\n",
      "2                      Missing   6902\n",
      "3  Year & Month Date (YYYY-MM)   3294\n"
     ]
    }
   ],
   "source": [
    "# There are inconsistencies in the date format: some rows have the date as year only, others as year-month, and some as year-month-day. \n",
    "# We convert them all to the year format only since the month and day are not relevant to our analysis.\n",
    "movie_metadata_df, date_pattern_summary = data_utils.standardize_dates(movie_metadata_df, \"Movie_release_date\")\n",
    "print(\"Pattern Summary:\\n\", date_pattern_summary)"
   ]
  },
  {
   "cell_type": "code",
   "execution_count": 8,
   "metadata": {},
   "outputs": [
    {
     "name": "stdout",
     "output_type": "stream",
     "text": [
      "Percentage of null values per column:\n",
      "movie_metadata_df:\n",
      "Wikipedia_movie_ID           0.00%\n",
      "Freebase_movie_ID            0.00%\n",
      "Movie_name                   0.00%\n",
      "Movie_release_date           8.44%\n",
      "Movie_box_office_revenue    89.72%\n",
      "Movie_runtime               25.02%\n",
      "Movie_languages              0.00%\n",
      "Movie_countries              0.00%\n",
      "Movie_genres                 0.00%\n",
      "dtype: object\n"
     ]
    }
   ],
   "source": [
    "# Looking at the percentage of null values in the dataset\n",
    "n_null_movie_metadata = ((movie_metadata_df.isnull().sum() / len(movie_metadata_df)) * 100).apply(lambda x: f\"{x:,.2f}%\")\n",
    "\n",
    "print(\n",
    "    f\"Percentage of null values per column:\\n\"\n",
    "    f\"movie_metadata_df:\\n{n_null_movie_metadata}\"\n",
    ")"
   ]
  },
  {
   "cell_type": "code",
   "execution_count": 9,
   "metadata": {},
   "outputs": [],
   "source": [
    "character_metadata_df = CMU_loader.load_character_metadata()"
   ]
  },
  {
   "cell_type": "code",
   "execution_count": 10,
   "metadata": {},
   "outputs": [],
   "source": [
    "character_metadata_df[\"Actor_name\"]= character_metadata_df[\"Actor_name\"].fillna(\"unknown\").str.lower()\n",
    "\n",
    "# Ensures that the date columns are correctly interpreted as datetime objects in pandas. \n",
    "character_metadata_df[\"Movie_release_date\"] = pd.to_datetime(character_metadata_df[\"Movie_release_date\"], errors=\"coerce\").dt.date\n",
    "character_metadata_df[\"Actor_date_of_birth\"] = pd.to_datetime(character_metadata_df[\"Actor_date_of_birth\"], errors=\"coerce\").dt.date\n",
    "\n",
    "# Drop rows where \"Movie_release_date\" or \"Actor_date_of_birth\" is NaT\n",
    "character_metadata_df.dropna(subset=[\"Movie_release_date\", \"Actor_date_of_birth\"], inplace=True)\n",
    "\n",
    "# Calculate Actor_age_at_movie_release if missing and data is available\n",
    "character_metadata_df[\"Actor_age_at_movie_release\"] = character_metadata_df.apply(\n",
    "    lambda row: (row[\"Movie_release_date\"] - row[\"Actor_date_of_birth\"]).days // 365 if pd.isnull(row[\"Actor_age_at_movie_release\"]) else row[\"Actor_age_at_movie_release\"],\n",
    "    axis=1\n",
    ")"
   ]
  },
  {
   "cell_type": "code",
   "execution_count": 11,
   "metadata": {},
   "outputs": [
    {
     "name": "stdout",
     "output_type": "stream",
     "text": [
      "Movies without actor gender data: 892\n"
     ]
    }
   ],
   "source": [
    "print(f\"Movies without actor gender data: {character_metadata_df['Actor_gender'].isnull().sum()}\") "
   ]
  },
  {
   "cell_type": "markdown",
   "metadata": {},
   "source": [
    "We therefore drop the movies with no information on the gender of the actors."
   ]
  },
  {
   "cell_type": "code",
   "execution_count": 12,
   "metadata": {},
   "outputs": [],
   "source": [
    "character_metadata_df.dropna(subset=[\"Actor_gender\"], inplace=True)"
   ]
  },
  {
   "cell_type": "markdown",
   "metadata": {},
   "source": [
    "Now, let's group the actors together by creating a *Cast* column on the *movie_metadata_df*. "
   ]
  },
  {
   "cell_type": "code",
   "execution_count": 13,
   "metadata": {},
   "outputs": [],
   "source": [
    "cast_per_movie = character_metadata_df.groupby(\"Freebase_movie_ID\")[\"Actor_name\"].apply(lambda x: \", \".join(x)).reset_index()\n",
    "cast_per_movie = cast_per_movie.rename(columns={\"Actor_name\": \"Cast\"})\n",
    "\n",
    "movie_metadata_df = movie_metadata_df.merge(cast_per_movie, on=\"Freebase_movie_ID\", how=\"left\")"
   ]
  },
  {
   "cell_type": "code",
   "execution_count": 14,
   "metadata": {},
   "outputs": [
    {
     "name": "stdout",
     "output_type": "stream",
     "text": [
      "Movies without actor data: 48556 out of 81741 (59.40%)\n"
     ]
    }
   ],
   "source": [
    "missing_cast_count = movie_metadata_df[\"Cast\"].isna().sum()\n",
    "total_movies = len(movie_metadata_df)\n",
    "print(f\"Movies without actor data: {missing_cast_count} out of {total_movies} ({missing_cast_count / total_movies * 100:.2f}%)\")"
   ]
  },
  {
   "cell_type": "markdown",
   "metadata": {},
   "source": [
    "We decide to drop the movies without actor data since it is one of the most important features of our study. "
   ]
  },
  {
   "cell_type": "code",
   "execution_count": 15,
   "metadata": {},
   "outputs": [],
   "source": [
    "movie_metadata_df = movie_metadata_df.dropna(subset = [\"Cast\"])"
   ]
  },
  {
   "cell_type": "code",
   "execution_count": 16,
   "metadata": {},
   "outputs": [],
   "source": [
    "# Create columns for male, female actor counts\n",
    "actor_counts = character_metadata_df.groupby(\"Freebase_movie_ID\")[\"Actor_gender\"].value_counts().unstack(fill_value=0)\n",
    "actor_counts = actor_counts.rename(columns={\"M\": \"Male_actors\", \"F\": \"Female_actors\"})\n",
    "\n",
    "# Ensure all columns are present (set missing columns to 0 if necessary)\n",
    "for col in [\"Male_actors\", \"Female_actors\"]:\n",
    "    if col not in actor_counts.columns:\n",
    "        actor_counts[col] = 0\n",
    "\n",
    "actor_counts = actor_counts.reset_index()\n",
    "\n",
    "# Merge actor counts with the movie_metadata_df DataFrame\n",
    "movie_metadata_df = movie_metadata_df.merge(actor_counts, on=\"Freebase_movie_ID\", how=\"left\")\n",
    "\n",
    "# Fill NaN values with 0 \n",
    "movie_metadata_df[[\"Male_actors\", \"Female_actors\"]] = movie_metadata_df[[\"Male_actors\", \"Female_actors\"]].fillna(0)"
   ]
  },
  {
   "cell_type": "code",
   "execution_count": 17,
   "metadata": {},
   "outputs": [],
   "source": [
    "# Calculate the percentage of female actors in each movie and round to two decimal places\n",
    "movie_metadata_df[\"Female_actor_percentage\"] = (\n",
    "    (movie_metadata_df[\"Female_actors\"] / \n",
    "     (movie_metadata_df[\"Female_actors\"] + movie_metadata_df[\"Male_actors\"])) * 100\n",
    ").round(2)"
   ]
  },
  {
   "cell_type": "markdown",
   "metadata": {},
   "source": [
    "#### 1.2 IMDB Dataset"
   ]
  },
  {
   "cell_type": "markdown",
   "metadata": {},
   "source": [
    "We will use two IMDB datasets to decribe movies:\n",
    "1. \"title.ratings.tsv\" gives us the ratings of the movies as voted by viewers. \n",
    "2. \"title.basics.tsv\", indexes into \"title.ratings.tsv\" using a alphanumeric unique identifier of the title. It gives general information about the movie such as runtime, release date and adult rating.\n",
    "3. \"title.crew.tsv\", indexes into the previous two using the same alphanumeric unique identifier of the title. It gives information on the directors and writers of the movie.\n",
    "\n",
    "Reference:\n",
    "Internet Movie Database. (2024). IMDb non-commercial datasets. Retrieved from https://developer.imdb.com/non-commercial-datasets/"
   ]
  },
  {
   "cell_type": "code",
   "execution_count": 18,
   "metadata": {},
   "outputs": [],
   "source": [
    "# Loading the IMDB datasets.\n",
    "IMDB_loader = IMDBDatasetLoader(directory)\n",
    "IMDB_ratings_df = IMDB_loader.load_ratings()\n",
    "\n",
    "IMDB_basics_df = IMDB_loader.load_basics()\n",
    "\n",
    "IMDB_crew_df = IMDB_loader.load_crew()"
   ]
  },
  {
   "cell_type": "code",
   "execution_count": 19,
   "metadata": {},
   "outputs": [
    {
     "name": "stdout",
     "output_type": "stream",
     "text": [
      "Length of IMDB_ratings_df: 1,498,616\n",
      "Length of IMDB_basics_df: 697,175\n",
      "Length of IMDB_crew_df: 10,571,537\n"
     ]
    }
   ],
   "source": [
    "# Checking the lengths of the datasets\n",
    "print(f\"Length of IMDB_ratings_df: {len(IMDB_ratings_df):,}\\n\"\n",
    "      f\"Length of IMDB_basics_df: {len(IMDB_basics_df):,}\\n\"\n",
    "      f\"Length of IMDB_crew_df: {len(IMDB_crew_df):,}\")"
   ]
  },
  {
   "cell_type": "markdown",
   "metadata": {},
   "source": [
    "Before dealing with the null values we will merge the dataframes together using the alphanumeric unique identifier."
   ]
  },
  {
   "cell_type": "code",
   "execution_count": 20,
   "metadata": {},
   "outputs": [],
   "source": [
    "# Merging all three datasets.\n",
    "IMDB_merged_df = pd.merge(IMDB_ratings_df, IMDB_basics_df, how=\"inner\", left_on=\"tconst\", right_on=\"tconst\")\n",
    "IMDB_merged_df = pd.merge(IMDB_merged_df, IMDB_crew_df, how=\"inner\", on=\"tconst\")"
   ]
  },
  {
   "cell_type": "code",
   "execution_count": 21,
   "metadata": {},
   "outputs": [
    {
     "name": "stdout",
     "output_type": "stream",
     "text": [
      "The resulting merged dataframe has length: 319,293.\n"
     ]
    }
   ],
   "source": [
    "print(f\"The resulting merged dataframe has length: {len(IMDB_merged_df):,}.\")"
   ]
  },
  {
   "cell_type": "markdown",
   "metadata": {},
   "source": [
    "Formatting the strings appropriately."
   ]
  },
  {
   "cell_type": "code",
   "execution_count": 22,
   "metadata": {},
   "outputs": [],
   "source": [
    "IMDB_merged_df = data_utils.clean_string_columns(IMDB_merged_df, [\"Original_title\", \"Primary_title\"])"
   ]
  },
  {
   "cell_type": "markdown",
   "metadata": {},
   "source": [
    "We can now look at null values in the merged IMDB dataframe."
   ]
  },
  {
   "cell_type": "code",
   "execution_count": 23,
   "metadata": {},
   "outputs": [
    {
     "name": "stdout",
     "output_type": "stream",
     "text": [
      "Percentage of null values per column:\n",
      "IMDB_ratings_df:\n",
      "tconst               0.00%\n",
      "Average_ratings      0.00%\n",
      "Num_votes            0.00%\n",
      "Title_type           0.00%\n",
      "Primary_title        0.00%\n",
      "Original_title       0.00%\n",
      "Is_adult             0.00%\n",
      "Start_year           0.01%\n",
      "End_year           100.00%\n",
      "Movie_runtime        9.98%\n",
      "Movie_genres         3.26%\n",
      "Directors            0.98%\n",
      "Writers             12.30%\n",
      "dtype: object\n"
     ]
    }
   ],
   "source": [
    "# Checking the percentage of null values in the dataset.\n",
    "n_null_IMDB = ((IMDB_merged_df.isnull().sum() / len(IMDB_merged_df)) * 100).apply(lambda x: f\"{x:,.2f}%\")\n",
    "\n",
    "print(\n",
    "    f\"Percentage of null values per column:\\n\"\n",
    "    f\"IMDB_ratings_df:\\n{n_null_IMDB}\"\n",
    ")"
   ]
  },
  {
   "cell_type": "markdown",
   "metadata": {},
   "source": [
    "The end year is always missing. Other than that the proportion of missing values is very small (< 12%). End year is always null for movies and only makes sense for TV shows. It can thus be dropped. We can also drop the titleType column since we know they are all movies after the filtering that was done above."
   ]
  },
  {
   "cell_type": "code",
   "execution_count": 24,
   "metadata": {},
   "outputs": [
    {
     "name": "stdout",
     "output_type": "stream",
     "text": [
      "The resulting dataframe has 319,293 rows.\n"
     ]
    }
   ],
   "source": [
    "# Dropping unnecessary columns.\n",
    "IMDB_merged_df = IMDB_merged_df.drop(columns=[\"End_year\", \"Title_type\"], axis=1)\n",
    "\n",
    "print(f\"The resulting dataframe has {len(IMDB_merged_df):,} rows.\")"
   ]
  },
  {
   "cell_type": "markdown",
   "metadata": {},
   "source": [
    "We will use ratings from the IMDB dataset during our study. However, these ratings are based on viewer votes. Initially we thought of discarding rows with too few votes. However, there could be a link between number of votes and number of views of a movie (although definitely not a direct one). We thus decided to keep all rows for the analysis."
   ]
  },
  {
   "cell_type": "markdown",
   "metadata": {},
   "source": [
    "#### 1.3 Merging the datasets"
   ]
  },
  {
   "cell_type": "markdown",
   "metadata": {},
   "source": [
    "##### 1.3.1 Merging IMDB and CMU Movies"
   ]
  },
  {
   "cell_type": "code",
   "execution_count": 25,
   "metadata": {},
   "outputs": [
    {
     "name": "stdout",
     "output_type": "stream",
     "text": [
      "The resulting dataframe has 22,044 rows.\n"
     ]
    }
   ],
   "source": [
    "# Merging on the original title.\n",
    "merge1 = pd.merge(IMDB_merged_df, movie_metadata_df, how=\"inner\", left_on=[\"Original_title\", \"Start_year\"],  right_on=[\"Movie_name\", \"Movie_release_date\"])\n",
    "# Merging on the primary title.\n",
    "merge2 = pd.merge(IMDB_merged_df, movie_metadata_df, how=\"inner\", left_on=[\"Primary_title\", \"Start_year\"], right_on=[\"Movie_name\", \"Movie_release_date\"])\n",
    "\n",
    "# Concatenating and dropping duplicates that appear from movies with the same Original_title and Primary_title.\n",
    "movie_df = pd.concat([merge1, merge2]).drop_duplicates(subset=[\"tconst\"]).reset_index(drop=True)\n",
    "\n",
    "print(f\"The resulting dataframe has {len(movie_df):,} rows.\")"
   ]
  },
  {
   "cell_type": "markdown",
   "metadata": {},
   "source": [
    "Some columns appear twice. Let's take a look at the proportion of null values in each duplicate column."
   ]
  },
  {
   "cell_type": "code",
   "execution_count": 26,
   "metadata": {},
   "outputs": [
    {
     "name": "stdout",
     "output_type": "stream",
     "text": [
      "Percentage of null values per column:\n",
      "tconst                       0.00%\n",
      "Average_ratings              0.00%\n",
      "Num_votes                    0.00%\n",
      "Primary_title                0.00%\n",
      "Original_title               0.00%\n",
      "Is_adult                     0.00%\n",
      "Start_year                   0.00%\n",
      "Movie_runtime_x              3.11%\n",
      "Movie_genres_x               0.61%\n",
      "Directors                    0.16%\n",
      "Writers                      2.41%\n",
      "Wikipedia_movie_ID           0.00%\n",
      "Freebase_movie_ID            0.00%\n",
      "Movie_name                   0.00%\n",
      "Movie_release_date           0.00%\n",
      "Movie_box_office_revenue    72.33%\n",
      "Movie_runtime_y             10.31%\n",
      "Movie_languages              0.00%\n",
      "Movie_countries              0.00%\n",
      "Movie_genres_y               0.00%\n",
      "Cast                         0.00%\n",
      "Female_actors                0.00%\n",
      "Male_actors                  0.00%\n",
      "Female_actor_percentage      0.00%\n",
      "dtype: object\n"
     ]
    }
   ],
   "source": [
    "n_null_movie = (movie_df.isnull().sum()/len(movie_df)).apply(lambda x:f\"{x:.2%}\")\n",
    "\n",
    "print(f\"Percentage of null values per column:\\n{n_null_movie}\")"
   ]
  },
  {
   "cell_type": "markdown",
   "metadata": {},
   "source": [
    "We can see:\n",
    "- Movie_runtime_x and Movie_runtime_y have 6.02% and 11.58% missing values respectively. We will combine the non null values from both these columns into a new column called runtimeMinutes and then drop the previous two columns. \n",
    "- Movie_genres_x has 1.54% missing values against 0.00% missing values for Movie_genres_y. Furthermore Movie_genres_y is from the CMU dataset and seems more complete. We will thus drop the genres_x column."
   ]
  },
  {
   "cell_type": "code",
   "execution_count": 27,
   "metadata": {},
   "outputs": [],
   "source": [
    "# Combining all non-null values from Movie_runtime_x and Movie_runtime_y into runtimeMinutes.\n",
    "movie_df[\"Movie_runtime\"] = movie_df[\"Movie_runtime_x\"].combine_first(movie_df[\"Movie_runtime_y\"])\n",
    "\n",
    "# Dropping the unnecessary columns.\n",
    "movie_df.drop(columns=[\"Movie_runtime_x\", \"Movie_runtime_y\", \"Movie_genres_x\"], inplace=True)"
   ]
  },
  {
   "cell_type": "markdown",
   "metadata": {},
   "source": [
    "Let's now see if Movie_name, originalTitle and primaryTitle are all necessary or if there are any redundancies."
   ]
  },
  {
   "cell_type": "code",
   "execution_count": 28,
   "metadata": {},
   "outputs": [
    {
     "name": "stdout",
     "output_type": "stream",
     "text": [
      "There are 0 movies for which Movie_name is in neither Primary_title ot Original_title.\n"
     ]
    }
   ],
   "source": [
    "test1 = movie_df[\"Movie_name\"] == movie_df[\"Primary_title\"]  \n",
    "test2 = movie_df[\"Movie_name\"] == movie_df[\"Original_title\"]\n",
    "\n",
    "# Checking if there are any movies for which Movie_name is not either in Primary_title or Original_title\n",
    "print(f\"There are {(~(test1 | test2)).sum().item()} movies for which Movie_name is in neither Primary_title ot Original_title.\")"
   ]
  },
  {
   "cell_type": "markdown",
   "metadata": {},
   "source": [
    "We can see the Movie_name column is redundant as its information is either in primaryTitle or in originalTitle. We can thus drop this column."
   ]
  },
  {
   "cell_type": "code",
   "execution_count": 29,
   "metadata": {},
   "outputs": [],
   "source": [
    "movie_df.drop(columns=\"Movie_name\", inplace=True)"
   ]
  },
  {
   "cell_type": "markdown",
   "metadata": {},
   "source": [
    "We can now also drop movie identifier columns Freebase_movie_ID (as everything is already indexed). We will need tconst later on so we keep it."
   ]
  },
  {
   "cell_type": "code",
   "execution_count": 30,
   "metadata": {},
   "outputs": [],
   "source": [
    "movie_df.drop(columns=[\"Freebase_movie_ID\"], inplace=True)"
   ]
  },
  {
   "cell_type": "markdown",
   "metadata": {},
   "source": [
    "To connect this with the plot_summaries_df, we perform a left merge."
   ]
  },
  {
   "cell_type": "code",
   "execution_count": 31,
   "metadata": {},
   "outputs": [],
   "source": [
    "movie_df = pd.merge(movie_df, plot_summaries_df, on=\"Wikipedia_movie_ID\", how=\"left\")"
   ]
  },
  {
   "cell_type": "markdown",
   "metadata": {},
   "source": [
    "Finally, we can drop Wikipedia_movie_ID, which is also a movie identifier column."
   ]
  },
  {
   "cell_type": "code",
   "execution_count": 32,
   "metadata": {},
   "outputs": [],
   "source": [
    "movie_df.drop(columns=\"Wikipedia_movie_ID\", inplace=True)"
   ]
  },
  {
   "cell_type": "code",
   "execution_count": 33,
   "metadata": {},
   "outputs": [],
   "source": [
    "movie_df[\"Movie_release_date\"] = movie_df[\"Movie_release_date\"].astype(float)"
   ]
  },
  {
   "cell_type": "code",
   "execution_count": 34,
   "metadata": {},
   "outputs": [
    {
     "data": {
      "text/plain": [
       "109"
      ]
     },
     "execution_count": 34,
     "metadata": {},
     "output_type": "execute_result"
    }
   ],
   "source": [
    "# Check for duplicates in movie_df\n",
    "movie_df.duplicated(subset=['Primary_title', 'Original_title', 'Movie_release_date']).sum()"
   ]
  },
  {
   "cell_type": "code",
   "execution_count": 35,
   "metadata": {},
   "outputs": [
    {
     "data": {
      "text/plain": [
       "0"
      ]
     },
     "execution_count": 35,
     "metadata": {},
     "output_type": "execute_result"
    }
   ],
   "source": [
    "# Get the index of the max Num_votes for duplicated rows\n",
    "idx = movie_df.groupby(['Primary_title', 'Original_title', 'Movie_release_date'])['Num_votes'].idxmax()\n",
    "\n",
    "movie_df = movie_df.loc[idx]\n",
    "\n",
    "movie_df.reset_index(drop=True, inplace=True)\n",
    "\n",
    "# Check again if duplicated rows are still here\n",
    "movie_df.duplicated(subset=['Primary_title', 'Original_title', 'Movie_release_date']).sum()"
   ]
  },
  {
   "cell_type": "markdown",
   "metadata": {},
   "source": [
    "##### 1.3.3 Merging Kaggle and The numbers datasets to the rest"
   ]
  },
  {
   "cell_type": "markdown",
   "metadata": {},
   "source": [
    "We have a problem, a lot of missing values(NaN or 0) in Movie box office revenue in movie_df and no production budget included. \n",
    "These two new datasets include information about movies revenue and budget and other attributes which are crucial for our analysis.\n",
    "\n",
    "- `Kaggle_df`: Contains important details about movies, including budgets, genres, and revenue.\n",
    "- `TheNumbers_df`: Provides detailed financial data, focusing on budget and box office gross both domestically and worldwide."
   ]
  },
  {
   "cell_type": "code",
   "execution_count": 36,
   "metadata": {},
   "outputs": [],
   "source": [
    "Kaggle_df = KaggleDatasetLoader(directory).load_kaggle()\n",
    "TheNumbers_df = NumbersDatasetLoader(directory).load_numbers()"
   ]
  },
  {
   "cell_type": "markdown",
   "metadata": {},
   "source": [
    "Quickly view the structure of the dataframes to understand the data types and confirm data has loaded correctly"
   ]
  },
  {
   "cell_type": "code",
   "execution_count": 37,
   "metadata": {},
   "outputs": [
    {
     "data": {
      "text/html": [
       "<div>\n",
       "<style scoped>\n",
       "    .dataframe tbody tr th:only-of-type {\n",
       "        vertical-align: middle;\n",
       "    }\n",
       "\n",
       "    .dataframe tbody tr th {\n",
       "        vertical-align: top;\n",
       "    }\n",
       "\n",
       "    .dataframe thead th {\n",
       "        text-align: right;\n",
       "    }\n",
       "</style>\n",
       "<table border=\"1\" class=\"dataframe\">\n",
       "  <thead>\n",
       "    <tr style=\"text-align: right;\">\n",
       "      <th></th>\n",
       "      <th>budget</th>\n",
       "      <th>genres</th>\n",
       "      <th>original_title</th>\n",
       "      <th>popularity</th>\n",
       "      <th>production_companies</th>\n",
       "      <th>production_countries</th>\n",
       "      <th>revenue</th>\n",
       "    </tr>\n",
       "  </thead>\n",
       "  <tbody>\n",
       "    <tr>\n",
       "      <th>0</th>\n",
       "      <td>237000000.0</td>\n",
       "      <td>Action Adventure Fantasy Science Fiction</td>\n",
       "      <td>Avatar</td>\n",
       "      <td>150.437577</td>\n",
       "      <td>[{\"name\": \"Ingenious Film Partners\", \"id\": 289...</td>\n",
       "      <td>[{\"iso_3166_1\": \"US\", \"name\": \"United States o...</td>\n",
       "      <td>2.787965e+09</td>\n",
       "    </tr>\n",
       "    <tr>\n",
       "      <th>1</th>\n",
       "      <td>300000000.0</td>\n",
       "      <td>Adventure Fantasy Action</td>\n",
       "      <td>Pirates of the Caribbean: At World's End</td>\n",
       "      <td>139.082615</td>\n",
       "      <td>[{\"name\": \"Walt Disney Pictures\", \"id\": 2}, {\"...</td>\n",
       "      <td>[{\"iso_3166_1\": \"US\", \"name\": \"United States o...</td>\n",
       "      <td>9.610000e+08</td>\n",
       "    </tr>\n",
       "    <tr>\n",
       "      <th>2</th>\n",
       "      <td>245000000.0</td>\n",
       "      <td>Action Adventure Crime</td>\n",
       "      <td>Spectre</td>\n",
       "      <td>107.376788</td>\n",
       "      <td>[{\"name\": \"Columbia Pictures\", \"id\": 5}, {\"nam...</td>\n",
       "      <td>[{\"iso_3166_1\": \"GB\", \"name\": \"United Kingdom\"...</td>\n",
       "      <td>8.806746e+08</td>\n",
       "    </tr>\n",
       "    <tr>\n",
       "      <th>3</th>\n",
       "      <td>250000000.0</td>\n",
       "      <td>Action Crime Drama Thriller</td>\n",
       "      <td>The Dark Knight Rises</td>\n",
       "      <td>112.312950</td>\n",
       "      <td>[{\"name\": \"Legendary Pictures\", \"id\": 923}, {\"...</td>\n",
       "      <td>[{\"iso_3166_1\": \"US\", \"name\": \"United States o...</td>\n",
       "      <td>1.084939e+09</td>\n",
       "    </tr>\n",
       "    <tr>\n",
       "      <th>4</th>\n",
       "      <td>260000000.0</td>\n",
       "      <td>Action Adventure Science Fiction</td>\n",
       "      <td>John Carter</td>\n",
       "      <td>43.926995</td>\n",
       "      <td>[{\"name\": \"Walt Disney Pictures\", \"id\": 2}]</td>\n",
       "      <td>[{\"iso_3166_1\": \"US\", \"name\": \"United States o...</td>\n",
       "      <td>2.841391e+08</td>\n",
       "    </tr>\n",
       "  </tbody>\n",
       "</table>\n",
       "</div>"
      ],
      "text/plain": [
       "        budget                                    genres  \\\n",
       "0  237000000.0  Action Adventure Fantasy Science Fiction   \n",
       "1  300000000.0                  Adventure Fantasy Action   \n",
       "2  245000000.0                    Action Adventure Crime   \n",
       "3  250000000.0               Action Crime Drama Thriller   \n",
       "4  260000000.0          Action Adventure Science Fiction   \n",
       "\n",
       "                             original_title  popularity  \\\n",
       "0                                    Avatar  150.437577   \n",
       "1  Pirates of the Caribbean: At World's End  139.082615   \n",
       "2                                   Spectre  107.376788   \n",
       "3                     The Dark Knight Rises  112.312950   \n",
       "4                               John Carter   43.926995   \n",
       "\n",
       "                                production_companies  \\\n",
       "0  [{\"name\": \"Ingenious Film Partners\", \"id\": 289...   \n",
       "1  [{\"name\": \"Walt Disney Pictures\", \"id\": 2}, {\"...   \n",
       "2  [{\"name\": \"Columbia Pictures\", \"id\": 5}, {\"nam...   \n",
       "3  [{\"name\": \"Legendary Pictures\", \"id\": 923}, {\"...   \n",
       "4        [{\"name\": \"Walt Disney Pictures\", \"id\": 2}]   \n",
       "\n",
       "                                production_countries       revenue  \n",
       "0  [{\"iso_3166_1\": \"US\", \"name\": \"United States o...  2.787965e+09  \n",
       "1  [{\"iso_3166_1\": \"US\", \"name\": \"United States o...  9.610000e+08  \n",
       "2  [{\"iso_3166_1\": \"GB\", \"name\": \"United Kingdom\"...  8.806746e+08  \n",
       "3  [{\"iso_3166_1\": \"US\", \"name\": \"United States o...  1.084939e+09  \n",
       "4  [{\"iso_3166_1\": \"US\", \"name\": \"United States o...  2.841391e+08  "
      ]
     },
     "execution_count": 37,
     "metadata": {},
     "output_type": "execute_result"
    }
   ],
   "source": [
    "Kaggle_df.head()"
   ]
  },
  {
   "cell_type": "code",
   "execution_count": 38,
   "metadata": {},
   "outputs": [],
   "source": [
    "# Clean and convert financials to float for consistency with the movie_df\n",
    "TheNumbers_df = data_utils.clean_currency_columns(TheNumbers_df, [\"production_budget\", \"domestic_gross\", \"worldwide_gross\"])"
   ]
  },
  {
   "cell_type": "code",
   "execution_count": 39,
   "metadata": {},
   "outputs": [
    {
     "data": {
      "text/html": [
       "<div>\n",
       "<style scoped>\n",
       "    .dataframe tbody tr th:only-of-type {\n",
       "        vertical-align: middle;\n",
       "    }\n",
       "\n",
       "    .dataframe tbody tr th {\n",
       "        vertical-align: top;\n",
       "    }\n",
       "\n",
       "    .dataframe thead th {\n",
       "        text-align: right;\n",
       "    }\n",
       "</style>\n",
       "<table border=\"1\" class=\"dataframe\">\n",
       "  <thead>\n",
       "    <tr style=\"text-align: right;\">\n",
       "      <th></th>\n",
       "      <th>id</th>\n",
       "      <th>release_date</th>\n",
       "      <th>movie</th>\n",
       "      <th>production_budget</th>\n",
       "      <th>domestic_gross</th>\n",
       "      <th>worldwide_gross</th>\n",
       "    </tr>\n",
       "  </thead>\n",
       "  <tbody>\n",
       "    <tr>\n",
       "      <th>0</th>\n",
       "      <td>1</td>\n",
       "      <td>Dec 18, 2009</td>\n",
       "      <td>Avatar</td>\n",
       "      <td>425000000.0</td>\n",
       "      <td>760507625.0</td>\n",
       "      <td>2.776345e+09</td>\n",
       "    </tr>\n",
       "    <tr>\n",
       "      <th>1</th>\n",
       "      <td>2</td>\n",
       "      <td>May 20, 2011</td>\n",
       "      <td>Pirates of the Caribbean: On Stranger Tides</td>\n",
       "      <td>410600000.0</td>\n",
       "      <td>241063875.0</td>\n",
       "      <td>1.045664e+09</td>\n",
       "    </tr>\n",
       "    <tr>\n",
       "      <th>2</th>\n",
       "      <td>3</td>\n",
       "      <td>Jun 7, 2019</td>\n",
       "      <td>Dark Phoenix</td>\n",
       "      <td>350000000.0</td>\n",
       "      <td>42762350.0</td>\n",
       "      <td>1.497624e+08</td>\n",
       "    </tr>\n",
       "    <tr>\n",
       "      <th>3</th>\n",
       "      <td>4</td>\n",
       "      <td>May 1, 2015</td>\n",
       "      <td>Avengers: Age of Ultron</td>\n",
       "      <td>330600000.0</td>\n",
       "      <td>459005868.0</td>\n",
       "      <td>1.403014e+09</td>\n",
       "    </tr>\n",
       "    <tr>\n",
       "      <th>4</th>\n",
       "      <td>5</td>\n",
       "      <td>Dec 15, 2017</td>\n",
       "      <td>Star Wars Ep. VIII: The Last Jedi</td>\n",
       "      <td>317000000.0</td>\n",
       "      <td>620181382.0</td>\n",
       "      <td>1.316722e+09</td>\n",
       "    </tr>\n",
       "  </tbody>\n",
       "</table>\n",
       "</div>"
      ],
      "text/plain": [
       "   id  release_date                                        movie  \\\n",
       "0   1  Dec 18, 2009                                       Avatar   \n",
       "1   2  May 20, 2011  Pirates of the Caribbean: On Stranger Tides   \n",
       "2   3   Jun 7, 2019                                 Dark Phoenix   \n",
       "3   4   May 1, 2015                      Avengers: Age of Ultron   \n",
       "4   5  Dec 15, 2017            Star Wars Ep. VIII: The Last Jedi   \n",
       "\n",
       "   production_budget  domestic_gross  worldwide_gross  \n",
       "0        425000000.0     760507625.0     2.776345e+09  \n",
       "1        410600000.0     241063875.0     1.045664e+09  \n",
       "2        350000000.0      42762350.0     1.497624e+08  \n",
       "3        330600000.0     459005868.0     1.403014e+09  \n",
       "4        317000000.0     620181382.0     1.316722e+09  "
      ]
     },
     "execution_count": 39,
     "metadata": {},
     "output_type": "execute_result"
    }
   ],
   "source": [
    "TheNumbers_df.head()"
   ]
  },
  {
   "cell_type": "markdown",
   "metadata": {},
   "source": [
    "We now perform an outer merge to include all records from both datasets, aligning them based on movie titles.\n"
   ]
  },
  {
   "cell_type": "code",
   "execution_count": 40,
   "metadata": {},
   "outputs": [],
   "source": [
    "# Normalize the title columns for case insensitive matching\n",
    "Kaggle_df = data_utils.clean_string_columns(Kaggle_df, [\"original_title\"])\n",
    "TheNumbers_df = data_utils.clean_string_columns(TheNumbers_df, [\"movie\"])\n",
    "\n",
    "# Merge both dataframes on the title columns\n",
    "merged_df = pd.merge(Kaggle_df, TheNumbers_df, left_on=\"original_title\", right_on=\"movie\", how=\"outer\")"
   ]
  },
  {
   "cell_type": "markdown",
   "metadata": {},
   "source": [
    "##### Post-merge cleaning\n",
    "\n",
    "We create the main financial columns (\"movie_budget\" and \"movie_revenue\") by selecting non-null and non-zero values, prioritizing data from TheNumbers dataset when available.\n"
   ]
  },
  {
   "cell_type": "code",
   "execution_count": 41,
   "metadata": {},
   "outputs": [],
   "source": [
    "merged_df[\"movie_budget\"] = np.where((merged_df[\"production_budget\"].notna() & (merged_df[\"production_budget\"] != 0)),\n",
    "                                     merged_df[\"production_budget\"],\n",
    "                                     merged_df[\"budget\"])\n",
    "\n",
    "merged_df[\"movie_revenue\"] = np.where((merged_df[\"worldwide_gross\"].notna() & (merged_df[\"worldwide_gross\"] != 0)),\n",
    "                                      merged_df[\"worldwide_gross\"],\n",
    "                                      merged_df[\"revenue\"])\n",
    "\n",
    "# Drop the original columns that were merged into new ones\n",
    "merged_df.drop(columns=[\"budget\", \"revenue\", \"production_budget\", \"worldwide_gross\", \"movie\"], inplace=True)"
   ]
  },
  {
   "cell_type": "markdown",
   "metadata": {},
   "source": [
    "Filter out movies where both budget and revenue data are missing or zero, as they do not provide value for financial analysis.\n"
   ]
  },
  {
   "cell_type": "code",
   "execution_count": 42,
   "metadata": {},
   "outputs": [],
   "source": [
    "# Create a mask where both columns are either zero or NaN\n",
    "mask = (\n",
    "    (merged_df[\"movie_budget\"].isna() | (merged_df[\"movie_budget\"] == 0)) &\n",
    "    (merged_df[\"movie_revenue\"].isna() | (merged_df[\"movie_revenue\"] == 0))\n",
    ")\n",
    "\n",
    "# Apply the mask and drop those rows\n",
    "df_filtered = merged_df[~mask]"
   ]
  },
  {
   "cell_type": "code",
   "execution_count": 43,
   "metadata": {},
   "outputs": [
    {
     "name": "stdout",
     "output_type": "stream",
     "text": [
      "The number of available and relevant movie budget and revenue information is 6085\n"
     ]
    },
    {
     "data": {
      "text/html": [
       "<div>\n",
       "<style scoped>\n",
       "    .dataframe tbody tr th:only-of-type {\n",
       "        vertical-align: middle;\n",
       "    }\n",
       "\n",
       "    .dataframe tbody tr th {\n",
       "        vertical-align: top;\n",
       "    }\n",
       "\n",
       "    .dataframe thead th {\n",
       "        text-align: right;\n",
       "    }\n",
       "</style>\n",
       "<table border=\"1\" class=\"dataframe\">\n",
       "  <thead>\n",
       "    <tr style=\"text-align: right;\">\n",
       "      <th></th>\n",
       "      <th>genres</th>\n",
       "      <th>original_title</th>\n",
       "      <th>popularity</th>\n",
       "      <th>production_companies</th>\n",
       "      <th>production_countries</th>\n",
       "      <th>id</th>\n",
       "      <th>release_date</th>\n",
       "      <th>domestic_gross</th>\n",
       "      <th>movie_budget</th>\n",
       "      <th>movie_revenue</th>\n",
       "    </tr>\n",
       "  </thead>\n",
       "  <tbody>\n",
       "    <tr>\n",
       "      <th>0</th>\n",
       "      <td>Action Adventure Fantasy Science Fiction</td>\n",
       "      <td>avatar</td>\n",
       "      <td>150.437577</td>\n",
       "      <td>[{\"name\": \"Ingenious Film Partners\", \"id\": 289...</td>\n",
       "      <td>[{\"iso_3166_1\": \"US\", \"name\": \"United States o...</td>\n",
       "      <td>1.0</td>\n",
       "      <td>Dec 18, 2009</td>\n",
       "      <td>760507625.0</td>\n",
       "      <td>425000000.0</td>\n",
       "      <td>2.776345e+09</td>\n",
       "    </tr>\n",
       "    <tr>\n",
       "      <th>1</th>\n",
       "      <td>Adventure Fantasy Action</td>\n",
       "      <td>pirates of the caribbean: at world's end</td>\n",
       "      <td>139.082615</td>\n",
       "      <td>[{\"name\": \"Walt Disney Pictures\", \"id\": 2}, {\"...</td>\n",
       "      <td>[{\"iso_3166_1\": \"US\", \"name\": \"United States o...</td>\n",
       "      <td>NaN</td>\n",
       "      <td>NaN</td>\n",
       "      <td>NaN</td>\n",
       "      <td>300000000.0</td>\n",
       "      <td>9.610000e+08</td>\n",
       "    </tr>\n",
       "    <tr>\n",
       "      <th>2</th>\n",
       "      <td>Action Adventure Crime</td>\n",
       "      <td>spectre</td>\n",
       "      <td>107.376788</td>\n",
       "      <td>[{\"name\": \"Columbia Pictures\", \"id\": 5}, {\"nam...</td>\n",
       "      <td>[{\"iso_3166_1\": \"GB\", \"name\": \"United Kingdom\"...</td>\n",
       "      <td>10.0</td>\n",
       "      <td>Nov 6, 2015</td>\n",
       "      <td>200074175.0</td>\n",
       "      <td>300000000.0</td>\n",
       "      <td>8.796209e+08</td>\n",
       "    </tr>\n",
       "    <tr>\n",
       "      <th>3</th>\n",
       "      <td>Action Crime Drama Thriller</td>\n",
       "      <td>the dark knight rises</td>\n",
       "      <td>112.312950</td>\n",
       "      <td>[{\"name\": \"Legendary Pictures\", \"id\": 923}, {\"...</td>\n",
       "      <td>[{\"iso_3166_1\": \"US\", \"name\": \"United States o...</td>\n",
       "      <td>11.0</td>\n",
       "      <td>Jul 20, 2012</td>\n",
       "      <td>448139099.0</td>\n",
       "      <td>275000000.0</td>\n",
       "      <td>1.084439e+09</td>\n",
       "    </tr>\n",
       "    <tr>\n",
       "      <th>4</th>\n",
       "      <td>Action Adventure Science Fiction</td>\n",
       "      <td>john carter</td>\n",
       "      <td>43.926995</td>\n",
       "      <td>[{\"name\": \"Walt Disney Pictures\", \"id\": 2}]</td>\n",
       "      <td>[{\"iso_3166_1\": \"US\", \"name\": \"United States o...</td>\n",
       "      <td>14.0</td>\n",
       "      <td>Mar 9, 2012</td>\n",
       "      <td>73058679.0</td>\n",
       "      <td>275000000.0</td>\n",
       "      <td>2.827781e+08</td>\n",
       "    </tr>\n",
       "  </tbody>\n",
       "</table>\n",
       "</div>"
      ],
      "text/plain": [
       "                                     genres  \\\n",
       "0  Action Adventure Fantasy Science Fiction   \n",
       "1                  Adventure Fantasy Action   \n",
       "2                    Action Adventure Crime   \n",
       "3               Action Crime Drama Thriller   \n",
       "4          Action Adventure Science Fiction   \n",
       "\n",
       "                             original_title  popularity  \\\n",
       "0                                    avatar  150.437577   \n",
       "1  pirates of the caribbean: at world's end  139.082615   \n",
       "2                                   spectre  107.376788   \n",
       "3                     the dark knight rises  112.312950   \n",
       "4                               john carter   43.926995   \n",
       "\n",
       "                                production_companies  \\\n",
       "0  [{\"name\": \"Ingenious Film Partners\", \"id\": 289...   \n",
       "1  [{\"name\": \"Walt Disney Pictures\", \"id\": 2}, {\"...   \n",
       "2  [{\"name\": \"Columbia Pictures\", \"id\": 5}, {\"nam...   \n",
       "3  [{\"name\": \"Legendary Pictures\", \"id\": 923}, {\"...   \n",
       "4        [{\"name\": \"Walt Disney Pictures\", \"id\": 2}]   \n",
       "\n",
       "                                production_countries    id  release_date  \\\n",
       "0  [{\"iso_3166_1\": \"US\", \"name\": \"United States o...   1.0  Dec 18, 2009   \n",
       "1  [{\"iso_3166_1\": \"US\", \"name\": \"United States o...   NaN           NaN   \n",
       "2  [{\"iso_3166_1\": \"GB\", \"name\": \"United Kingdom\"...  10.0   Nov 6, 2015   \n",
       "3  [{\"iso_3166_1\": \"US\", \"name\": \"United States o...  11.0  Jul 20, 2012   \n",
       "4  [{\"iso_3166_1\": \"US\", \"name\": \"United States o...  14.0   Mar 9, 2012   \n",
       "\n",
       "   domestic_gross  movie_budget  movie_revenue  \n",
       "0     760507625.0   425000000.0   2.776345e+09  \n",
       "1             NaN   300000000.0   9.610000e+08  \n",
       "2     200074175.0   300000000.0   8.796209e+08  \n",
       "3     448139099.0   275000000.0   1.084439e+09  \n",
       "4      73058679.0   275000000.0   2.827781e+08  "
      ]
     },
     "execution_count": 43,
     "metadata": {},
     "output_type": "execute_result"
    }
   ],
   "source": [
    "print(\"The number of available and relevant movie budget and revenue information is \" + str(df_filtered[\"movie_budget\"].size))\n",
    "\n",
    "df_filtered.head()"
   ]
  },
  {
   "cell_type": "markdown",
   "metadata": {},
   "source": [
    "Two merging strategies are employed here to maximize the potential for matching records across the datasets:\n",
    "\n",
    "Original Title Merge: Merging based on the Original_title from movie_df to the original_title from df_filtered to catch the most direct title matches. \n",
    "\n",
    "Primary Title Merge: Using Primary_title as an alternative matching criterion, knowing that some movies might be listed under alternate titles.\n"
   ]
  },
  {
   "cell_type": "code",
   "execution_count": 44,
   "metadata": {},
   "outputs": [],
   "source": [
    "# Convert the 'Release_Date' column to datetime\n",
    "df_filtered['release_date'] = pd.to_datetime(df_filtered['release_date'])\n",
    "\n",
    "# Extract the year from the datetime\n",
    "df_filtered['release_date'] = df_filtered['release_date'].dt.year"
   ]
  },
  {
   "cell_type": "code",
   "execution_count": 45,
   "metadata": {},
   "outputs": [
    {
     "name": "stdout",
     "output_type": "stream",
     "text": [
      "The resulting dataframe has 2,371 rows.\n"
     ]
    },
    {
     "data": {
      "text/html": [
       "<div>\n",
       "<style scoped>\n",
       "    .dataframe tbody tr th:only-of-type {\n",
       "        vertical-align: middle;\n",
       "    }\n",
       "\n",
       "    .dataframe tbody tr th {\n",
       "        vertical-align: top;\n",
       "    }\n",
       "\n",
       "    .dataframe thead th {\n",
       "        text-align: right;\n",
       "    }\n",
       "</style>\n",
       "<table border=\"1\" class=\"dataframe\">\n",
       "  <thead>\n",
       "    <tr style=\"text-align: right;\">\n",
       "      <th></th>\n",
       "      <th>tconst</th>\n",
       "      <th>Average_ratings</th>\n",
       "      <th>Num_votes</th>\n",
       "      <th>Primary_title</th>\n",
       "      <th>Original_title</th>\n",
       "      <th>Is_adult</th>\n",
       "      <th>Start_year</th>\n",
       "      <th>Directors</th>\n",
       "      <th>Writers</th>\n",
       "      <th>Movie_release_date</th>\n",
       "      <th>...</th>\n",
       "      <th>Female_actors</th>\n",
       "      <th>Male_actors</th>\n",
       "      <th>Female_actor_percentage</th>\n",
       "      <th>Movie_runtime</th>\n",
       "      <th>Plot Summaries</th>\n",
       "      <th>Popularity</th>\n",
       "      <th>Production_companies</th>\n",
       "      <th>production_countries</th>\n",
       "      <th>Movie_budget</th>\n",
       "      <th>Final_movie_revenue</th>\n",
       "    </tr>\n",
       "  </thead>\n",
       "  <tbody>\n",
       "    <tr>\n",
       "      <th>0</th>\n",
       "      <td>tt0147800</td>\n",
       "      <td>7.3</td>\n",
       "      <td>402271</td>\n",
       "      <td>10 things i hate about you</td>\n",
       "      <td>10 things i hate about you</td>\n",
       "      <td>0</td>\n",
       "      <td>1999</td>\n",
       "      <td>nm0432627</td>\n",
       "      <td>nm0527581,nm0809006,nm0000636</td>\n",
       "      <td>1999.0</td>\n",
       "      <td>...</td>\n",
       "      <td>6</td>\n",
       "      <td>7</td>\n",
       "      <td>46.15</td>\n",
       "      <td>97</td>\n",
       "      <td>Cameron James , a new student at Padua Stadium...</td>\n",
       "      <td>54.550275</td>\n",
       "      <td>[{\"name\": \"Mad Chance\", \"id\": 1757}, {\"name\": ...</td>\n",
       "      <td>[{\"iso_3166_1\": \"US\", \"name\": \"United States o...</td>\n",
       "      <td>13000000.0</td>\n",
       "      <td>53478166.0</td>\n",
       "    </tr>\n",
       "    <tr>\n",
       "      <th>1</th>\n",
       "      <td>tt0211181</td>\n",
       "      <td>4.8</td>\n",
       "      <td>40166</td>\n",
       "      <td>102 dalmatians</td>\n",
       "      <td>102 dalmatians</td>\n",
       "      <td>0</td>\n",
       "      <td>2000</td>\n",
       "      <td>nm0510674</td>\n",
       "      <td>nm0807977,nm0118649,nm0716391,nm0879318,nm0925276</td>\n",
       "      <td>2000.0</td>\n",
       "      <td>...</td>\n",
       "      <td>2</td>\n",
       "      <td>5</td>\n",
       "      <td>28.57</td>\n",
       "      <td>100</td>\n",
       "      <td>After three years in prison, Cruella de Vil ha...</td>\n",
       "      <td>9.895061</td>\n",
       "      <td>[{\"name\": \"Walt Disney Pictures\", \"id\": 2}, {\"...</td>\n",
       "      <td>[{\"iso_3166_1\": \"US\", \"name\": \"United States o...</td>\n",
       "      <td>85000000.0</td>\n",
       "      <td>183611771.0</td>\n",
       "    </tr>\n",
       "    <tr>\n",
       "      <th>2</th>\n",
       "      <td>tt0360323</td>\n",
       "      <td>6.3</td>\n",
       "      <td>7052</td>\n",
       "      <td>10th &amp; wolf</td>\n",
       "      <td>10th &amp; wolf</td>\n",
       "      <td>0</td>\n",
       "      <td>2006</td>\n",
       "      <td>nm0604263</td>\n",
       "      <td>nm0604263,nm0824481</td>\n",
       "      <td>2006.0</td>\n",
       "      <td>...</td>\n",
       "      <td>2</td>\n",
       "      <td>8</td>\n",
       "      <td>20.00</td>\n",
       "      <td>107</td>\n",
       "      <td>Tommy is the son of a Mafia hitman, who, after...</td>\n",
       "      <td>3.942464</td>\n",
       "      <td>[{\"name\": \"Thinkfilm\", \"id\": 446}]</td>\n",
       "      <td>[{\"iso_3166_1\": \"US\", \"name\": \"United States o...</td>\n",
       "      <td>8000000.0</td>\n",
       "      <td>143782.0</td>\n",
       "    </tr>\n",
       "    <tr>\n",
       "      <th>3</th>\n",
       "      <td>tt0050083</td>\n",
       "      <td>9.0</td>\n",
       "      <td>892430</td>\n",
       "      <td>12 angry men</td>\n",
       "      <td>12 angry men</td>\n",
       "      <td>0</td>\n",
       "      <td>1957</td>\n",
       "      <td>nm0001486</td>\n",
       "      <td>nm0741627</td>\n",
       "      <td>1957.0</td>\n",
       "      <td>...</td>\n",
       "      <td>0</td>\n",
       "      <td>14</td>\n",
       "      <td>0.00</td>\n",
       "      <td>96</td>\n",
       "      <td>The story begins in a courtroom where an 18-ye...</td>\n",
       "      <td>59.259204</td>\n",
       "      <td>[{\"name\": \"United Artists\", \"id\": 60}, {\"name\"...</td>\n",
       "      <td>[{\"iso_3166_1\": \"US\", \"name\": \"United States o...</td>\n",
       "      <td>340000.0</td>\n",
       "      <td>1000000.0</td>\n",
       "    </tr>\n",
       "    <tr>\n",
       "      <th>4</th>\n",
       "      <td>tt1160368</td>\n",
       "      <td>5.6</td>\n",
       "      <td>30914</td>\n",
       "      <td>12 rounds</td>\n",
       "      <td>12 rounds</td>\n",
       "      <td>0</td>\n",
       "      <td>2009</td>\n",
       "      <td>nm0001317</td>\n",
       "      <td>nm2896816</td>\n",
       "      <td>2009.0</td>\n",
       "      <td>...</td>\n",
       "      <td>4</td>\n",
       "      <td>11</td>\n",
       "      <td>26.67</td>\n",
       "      <td>108</td>\n",
       "      <td>A sting operation to capture notorious arms de...</td>\n",
       "      <td>15.661350</td>\n",
       "      <td>[{\"name\": \"The Mark Gordon Company\", \"id\": 155...</td>\n",
       "      <td>[{\"iso_3166_1\": \"US\", \"name\": \"United States o...</td>\n",
       "      <td>20000000.0</td>\n",
       "      <td>18184083.0</td>\n",
       "    </tr>\n",
       "  </tbody>\n",
       "</table>\n",
       "<p>5 rows × 24 columns</p>\n",
       "</div>"
      ],
      "text/plain": [
       "      tconst Average_ratings Num_votes               Primary_title  \\\n",
       "0  tt0147800             7.3    402271  10 things i hate about you   \n",
       "1  tt0211181             4.8     40166              102 dalmatians   \n",
       "2  tt0360323             6.3      7052                 10th & wolf   \n",
       "3  tt0050083             9.0    892430                12 angry men   \n",
       "4  tt1160368             5.6     30914                   12 rounds   \n",
       "\n",
       "               Original_title Is_adult Start_year  Directors  \\\n",
       "0  10 things i hate about you        0       1999  nm0432627   \n",
       "1              102 dalmatians        0       2000  nm0510674   \n",
       "2                 10th & wolf        0       2006  nm0604263   \n",
       "3                12 angry men        0       1957  nm0001486   \n",
       "4                   12 rounds        0       2009  nm0001317   \n",
       "\n",
       "                                             Writers  Movie_release_date  ...  \\\n",
       "0                      nm0527581,nm0809006,nm0000636              1999.0  ...   \n",
       "1  nm0807977,nm0118649,nm0716391,nm0879318,nm0925276              2000.0  ...   \n",
       "2                                nm0604263,nm0824481              2006.0  ...   \n",
       "3                                          nm0741627              1957.0  ...   \n",
       "4                                          nm2896816              2009.0  ...   \n",
       "\n",
       "  Female_actors Male_actors Female_actor_percentage Movie_runtime  \\\n",
       "0             6           7                   46.15            97   \n",
       "1             2           5                   28.57           100   \n",
       "2             2           8                   20.00           107   \n",
       "3             0          14                    0.00            96   \n",
       "4             4          11                   26.67           108   \n",
       "\n",
       "                                      Plot Summaries  Popularity  \\\n",
       "0  Cameron James , a new student at Padua Stadium...   54.550275   \n",
       "1  After three years in prison, Cruella de Vil ha...    9.895061   \n",
       "2  Tommy is the son of a Mafia hitman, who, after...    3.942464   \n",
       "3  The story begins in a courtroom where an 18-ye...   59.259204   \n",
       "4  A sting operation to capture notorious arms de...   15.661350   \n",
       "\n",
       "                                Production_companies  \\\n",
       "0  [{\"name\": \"Mad Chance\", \"id\": 1757}, {\"name\": ...   \n",
       "1  [{\"name\": \"Walt Disney Pictures\", \"id\": 2}, {\"...   \n",
       "2                 [{\"name\": \"Thinkfilm\", \"id\": 446}]   \n",
       "3  [{\"name\": \"United Artists\", \"id\": 60}, {\"name\"...   \n",
       "4  [{\"name\": \"The Mark Gordon Company\", \"id\": 155...   \n",
       "\n",
       "                                production_countries Movie_budget  \\\n",
       "0  [{\"iso_3166_1\": \"US\", \"name\": \"United States o...   13000000.0   \n",
       "1  [{\"iso_3166_1\": \"US\", \"name\": \"United States o...   85000000.0   \n",
       "2  [{\"iso_3166_1\": \"US\", \"name\": \"United States o...    8000000.0   \n",
       "3  [{\"iso_3166_1\": \"US\", \"name\": \"United States o...     340000.0   \n",
       "4  [{\"iso_3166_1\": \"US\", \"name\": \"United States o...   20000000.0   \n",
       "\n",
       "   Final_movie_revenue  \n",
       "0           53478166.0  \n",
       "1          183611771.0  \n",
       "2             143782.0  \n",
       "3            1000000.0  \n",
       "4           18184083.0  \n",
       "\n",
       "[5 rows x 24 columns]"
      ]
     },
     "execution_count": 45,
     "metadata": {},
     "output_type": "execute_result"
    }
   ],
   "source": [
    "# Normalize the title columns for case-insensitive matching\n",
    "movie_df[\"Original_title\"] = movie_df[\"Original_title\"].str.strip().str.lower()\n",
    "movie_df[\"Primary_title\"] = movie_df[\"Primary_title\"].str.strip().str.lower()\n",
    "\n",
    "# Merging on the original title.\n",
    "merge1 = pd.merge(movie_df, df_filtered, how=\"inner\", left_on=[\"Original_title\", \"Movie_release_date\"], right_on=[\"original_title\", \"release_date\"])\n",
    "# Merging on the secondary title.\n",
    "merge2 = pd.merge(movie_df, df_filtered, how=\"inner\", left_on=[\"Primary_title\", \"Movie_release_date\"], right_on=[\"original_title\", \"release_date\"])\n",
    "\n",
    "# Concatenating and dropping duplicates that appear from movies with the same Original_title and Primary_title.\n",
    "final_df = pd.concat([merge1, merge2]).drop_duplicates(subset=[\"tconst\"]).reset_index(drop=True)\n",
    "\n",
    "# Filter out movies where revenue data is missing or zero and prioritize initial revenue\n",
    "final_df[\"final_movie_revenue\"] = np.where(\n",
    "    (final_df[\"Movie_box_office_revenue\"].notna() & (final_df[\"Movie_box_office_revenue\"] != 0)),\n",
    "    final_df[\"Movie_box_office_revenue\"],\n",
    "    final_df[\"movie_revenue\"]\n",
    ")\n",
    "\n",
    "final_df.drop(columns=[\"Movie_box_office_revenue\", \"domestic_gross\", \"movie_revenue\", \"original_title\", \"genres\", \"id\", \"release_date\"], inplace=True, errors=\"ignore\")\n",
    "\n",
    "# Renaming the columns to follow the convention\n",
    "rename_columns = {\"popularity\":\"Popularity\", \n",
    "                  \"production_companies\":\"Production_companies\", \n",
    "                  \"prodcution_countries\":\"Production_countries\",\n",
    "                  \"movie_budget\":\"Movie_budget\",\n",
    "                  \"final_movie_revenue\":\"Final_movie_revenue\",\n",
    "                  \"Movie_genres_y\":\"Movie_genres\"}\n",
    "\n",
    "final_df.rename(columns=rename_columns, inplace=True)\n",
    "\n",
    "\n",
    "print(f\"The resulting dataframe has {len(final_df):,} rows.\")\n",
    "final_df.head()"
   ]
  },
  {
   "cell_type": "markdown",
   "metadata": {},
   "source": [
    "### 2. Our success metric"
   ]
  },
  {
   "cell_type": "markdown",
   "metadata": {},
   "source": [
    "#### Financial Analysis\n",
    "\n",
    "##### Calculating Return on Investment (ROI)\n",
    "\n",
    "To provide insights into the financial success of the movies, we calculate the Return on Investment (ROI). This metric is derived by comparing the movie\"s final revenue to its budget.\n",
    "\n",
    "- **Condition**: Ensure that both `movie_budget` and `final_movie_revenue` are non-zero and non-null to avoid division errors and ensure data integrity\n"
   ]
  },
  {
   "cell_type": "code",
   "execution_count": 46,
   "metadata": {},
   "outputs": [
    {
     "name": "stdout",
     "output_type": "stream",
     "text": [
      "There is now 2364 movies to work with in the financial success analysis\n"
     ]
    }
   ],
   "source": [
    "final_df = evaluation_utils.calculate_roi(final_df, \"Movie_budget\", \"Final_movie_revenue\")\n",
    "print(\"There is now \" + str(final_df[\"Final_movie_revenue\"].size) + \" movies to work with in the financial success analysis\")"
   ]
  },
  {
   "cell_type": "markdown",
   "metadata": {},
   "source": [
    "#### Data Normalization and Scaling\n",
    "\n",
    "Given the varied scales of ratings and ROI, we standardize these features to a common scale using both Standard and Min-Max scalers. "
   ]
  },
  {
   "cell_type": "code",
   "execution_count": 47,
   "metadata": {},
   "outputs": [],
   "source": [
    "# Initialize scalers\n",
    "final_df = evaluation_utils.scale_features(final_df)"
   ]
  },
  {
   "cell_type": "markdown",
   "metadata": {},
   "source": [
    "#### Weighted Success Metric\n",
    "\n",
    "To evaluate overall movie success, we calculate a weighted sum of normalized ratings and ROI, assigning double the weight to ROI given its financial significance in assessing success."
   ]
  },
  {
   "cell_type": "code",
   "execution_count": 48,
   "metadata": {},
   "outputs": [
    {
     "data": {
      "text/html": [
       "<div>\n",
       "<style scoped>\n",
       "    .dataframe tbody tr th:only-of-type {\n",
       "        vertical-align: middle;\n",
       "    }\n",
       "\n",
       "    .dataframe tbody tr th {\n",
       "        vertical-align: top;\n",
       "    }\n",
       "\n",
       "    .dataframe thead th {\n",
       "        text-align: right;\n",
       "    }\n",
       "</style>\n",
       "<table border=\"1\" class=\"dataframe\">\n",
       "  <thead>\n",
       "    <tr style=\"text-align: right;\">\n",
       "      <th></th>\n",
       "      <th>tconst</th>\n",
       "      <th>Average_ratings</th>\n",
       "      <th>Num_votes</th>\n",
       "      <th>Primary_title</th>\n",
       "      <th>Original_title</th>\n",
       "      <th>Is_adult</th>\n",
       "      <th>Start_year</th>\n",
       "      <th>Directors</th>\n",
       "      <th>Writers</th>\n",
       "      <th>Movie_release_date</th>\n",
       "      <th>...</th>\n",
       "      <th>Female_actor_percentage</th>\n",
       "      <th>Movie_runtime</th>\n",
       "      <th>Plot Summaries</th>\n",
       "      <th>Popularity</th>\n",
       "      <th>Production_companies</th>\n",
       "      <th>production_countries</th>\n",
       "      <th>Movie_budget</th>\n",
       "      <th>Final_movie_revenue</th>\n",
       "      <th>ROI</th>\n",
       "      <th>Normalized_Rating</th>\n",
       "    </tr>\n",
       "  </thead>\n",
       "  <tbody>\n",
       "    <tr>\n",
       "      <th>0</th>\n",
       "      <td>tt0147800</td>\n",
       "      <td>7.3</td>\n",
       "      <td>402271</td>\n",
       "      <td>10 things i hate about you</td>\n",
       "      <td>10 things i hate about you</td>\n",
       "      <td>0</td>\n",
       "      <td>1999</td>\n",
       "      <td>nm0432627</td>\n",
       "      <td>nm0527581,nm0809006,nm0000636</td>\n",
       "      <td>1999.0</td>\n",
       "      <td>...</td>\n",
       "      <td>46.15</td>\n",
       "      <td>97</td>\n",
       "      <td>Cameron James , a new student at Padua Stadium...</td>\n",
       "      <td>54.550275</td>\n",
       "      <td>[{\"name\": \"Mad Chance\", \"id\": 1757}, {\"name\": ...</td>\n",
       "      <td>[{\"iso_3166_1\": \"US\", \"name\": \"United States o...</td>\n",
       "      <td>13000000.0</td>\n",
       "      <td>53478166.0</td>\n",
       "      <td>3.113705</td>\n",
       "      <td>0.73</td>\n",
       "    </tr>\n",
       "    <tr>\n",
       "      <th>1</th>\n",
       "      <td>tt0211181</td>\n",
       "      <td>4.8</td>\n",
       "      <td>40166</td>\n",
       "      <td>102 dalmatians</td>\n",
       "      <td>102 dalmatians</td>\n",
       "      <td>0</td>\n",
       "      <td>2000</td>\n",
       "      <td>nm0510674</td>\n",
       "      <td>nm0807977,nm0118649,nm0716391,nm0879318,nm0925276</td>\n",
       "      <td>2000.0</td>\n",
       "      <td>...</td>\n",
       "      <td>28.57</td>\n",
       "      <td>100</td>\n",
       "      <td>After three years in prison, Cruella de Vil ha...</td>\n",
       "      <td>9.895061</td>\n",
       "      <td>[{\"name\": \"Walt Disney Pictures\", \"id\": 2}, {\"...</td>\n",
       "      <td>[{\"iso_3166_1\": \"US\", \"name\": \"United States o...</td>\n",
       "      <td>85000000.0</td>\n",
       "      <td>183611771.0</td>\n",
       "      <td>1.160138</td>\n",
       "      <td>0.48</td>\n",
       "    </tr>\n",
       "    <tr>\n",
       "      <th>2</th>\n",
       "      <td>tt0360323</td>\n",
       "      <td>6.3</td>\n",
       "      <td>7052</td>\n",
       "      <td>10th &amp; wolf</td>\n",
       "      <td>10th &amp; wolf</td>\n",
       "      <td>0</td>\n",
       "      <td>2006</td>\n",
       "      <td>nm0604263</td>\n",
       "      <td>nm0604263,nm0824481</td>\n",
       "      <td>2006.0</td>\n",
       "      <td>...</td>\n",
       "      <td>20.00</td>\n",
       "      <td>107</td>\n",
       "      <td>Tommy is the son of a Mafia hitman, who, after...</td>\n",
       "      <td>3.942464</td>\n",
       "      <td>[{\"name\": \"Thinkfilm\", \"id\": 446}]</td>\n",
       "      <td>[{\"iso_3166_1\": \"US\", \"name\": \"United States o...</td>\n",
       "      <td>8000000.0</td>\n",
       "      <td>143782.0</td>\n",
       "      <td>-0.982027</td>\n",
       "      <td>0.63</td>\n",
       "    </tr>\n",
       "    <tr>\n",
       "      <th>3</th>\n",
       "      <td>tt0050083</td>\n",
       "      <td>9.0</td>\n",
       "      <td>892430</td>\n",
       "      <td>12 angry men</td>\n",
       "      <td>12 angry men</td>\n",
       "      <td>0</td>\n",
       "      <td>1957</td>\n",
       "      <td>nm0001486</td>\n",
       "      <td>nm0741627</td>\n",
       "      <td>1957.0</td>\n",
       "      <td>...</td>\n",
       "      <td>0.00</td>\n",
       "      <td>96</td>\n",
       "      <td>The story begins in a courtroom where an 18-ye...</td>\n",
       "      <td>59.259204</td>\n",
       "      <td>[{\"name\": \"United Artists\", \"id\": 60}, {\"name\"...</td>\n",
       "      <td>[{\"iso_3166_1\": \"US\", \"name\": \"United States o...</td>\n",
       "      <td>340000.0</td>\n",
       "      <td>1000000.0</td>\n",
       "      <td>1.941176</td>\n",
       "      <td>0.90</td>\n",
       "    </tr>\n",
       "    <tr>\n",
       "      <th>4</th>\n",
       "      <td>tt1160368</td>\n",
       "      <td>5.6</td>\n",
       "      <td>30914</td>\n",
       "      <td>12 rounds</td>\n",
       "      <td>12 rounds</td>\n",
       "      <td>0</td>\n",
       "      <td>2009</td>\n",
       "      <td>nm0001317</td>\n",
       "      <td>nm2896816</td>\n",
       "      <td>2009.0</td>\n",
       "      <td>...</td>\n",
       "      <td>26.67</td>\n",
       "      <td>108</td>\n",
       "      <td>A sting operation to capture notorious arms de...</td>\n",
       "      <td>15.661350</td>\n",
       "      <td>[{\"name\": \"The Mark Gordon Company\", \"id\": 155...</td>\n",
       "      <td>[{\"iso_3166_1\": \"US\", \"name\": \"United States o...</td>\n",
       "      <td>20000000.0</td>\n",
       "      <td>18184083.0</td>\n",
       "      <td>-0.090796</td>\n",
       "      <td>0.56</td>\n",
       "    </tr>\n",
       "  </tbody>\n",
       "</table>\n",
       "<p>5 rows × 26 columns</p>\n",
       "</div>"
      ],
      "text/plain": [
       "      tconst Average_ratings Num_votes               Primary_title  \\\n",
       "0  tt0147800             7.3    402271  10 things i hate about you   \n",
       "1  tt0211181             4.8     40166              102 dalmatians   \n",
       "2  tt0360323             6.3      7052                 10th & wolf   \n",
       "3  tt0050083             9.0    892430                12 angry men   \n",
       "4  tt1160368             5.6     30914                   12 rounds   \n",
       "\n",
       "               Original_title Is_adult Start_year  Directors  \\\n",
       "0  10 things i hate about you        0       1999  nm0432627   \n",
       "1              102 dalmatians        0       2000  nm0510674   \n",
       "2                 10th & wolf        0       2006  nm0604263   \n",
       "3                12 angry men        0       1957  nm0001486   \n",
       "4                   12 rounds        0       2009  nm0001317   \n",
       "\n",
       "                                             Writers  Movie_release_date  ...  \\\n",
       "0                      nm0527581,nm0809006,nm0000636              1999.0  ...   \n",
       "1  nm0807977,nm0118649,nm0716391,nm0879318,nm0925276              2000.0  ...   \n",
       "2                                nm0604263,nm0824481              2006.0  ...   \n",
       "3                                          nm0741627              1957.0  ...   \n",
       "4                                          nm2896816              2009.0  ...   \n",
       "\n",
       "  Female_actor_percentage Movie_runtime  \\\n",
       "0                   46.15            97   \n",
       "1                   28.57           100   \n",
       "2                   20.00           107   \n",
       "3                    0.00            96   \n",
       "4                   26.67           108   \n",
       "\n",
       "                                      Plot Summaries Popularity  \\\n",
       "0  Cameron James , a new student at Padua Stadium...  54.550275   \n",
       "1  After three years in prison, Cruella de Vil ha...   9.895061   \n",
       "2  Tommy is the son of a Mafia hitman, who, after...   3.942464   \n",
       "3  The story begins in a courtroom where an 18-ye...  59.259204   \n",
       "4  A sting operation to capture notorious arms de...  15.661350   \n",
       "\n",
       "                                Production_companies  \\\n",
       "0  [{\"name\": \"Mad Chance\", \"id\": 1757}, {\"name\": ...   \n",
       "1  [{\"name\": \"Walt Disney Pictures\", \"id\": 2}, {\"...   \n",
       "2                 [{\"name\": \"Thinkfilm\", \"id\": 446}]   \n",
       "3  [{\"name\": \"United Artists\", \"id\": 60}, {\"name\"...   \n",
       "4  [{\"name\": \"The Mark Gordon Company\", \"id\": 155...   \n",
       "\n",
       "                                production_countries  Movie_budget  \\\n",
       "0  [{\"iso_3166_1\": \"US\", \"name\": \"United States o...    13000000.0   \n",
       "1  [{\"iso_3166_1\": \"US\", \"name\": \"United States o...    85000000.0   \n",
       "2  [{\"iso_3166_1\": \"US\", \"name\": \"United States o...     8000000.0   \n",
       "3  [{\"iso_3166_1\": \"US\", \"name\": \"United States o...      340000.0   \n",
       "4  [{\"iso_3166_1\": \"US\", \"name\": \"United States o...    20000000.0   \n",
       "\n",
       "  Final_movie_revenue       ROI  Normalized_Rating  \n",
       "0          53478166.0  3.113705               0.73  \n",
       "1         183611771.0  1.160138               0.48  \n",
       "2            143782.0 -0.982027               0.63  \n",
       "3           1000000.0  1.941176               0.90  \n",
       "4          18184083.0 -0.090796               0.56  \n",
       "\n",
       "[5 rows x 26 columns]"
      ]
     },
     "execution_count": 48,
     "metadata": {},
     "output_type": "execute_result"
    }
   ],
   "source": [
    "# Calculate movie success which is a weighted sum choosing that the ROI feature will have double the importance of ratings\n",
    "# final_df = evaluation_utils.calculate_weighted_success(final_df, 0.67)\n",
    "\n",
    "final_df.head()"
   ]
  },
  {
   "cell_type": "markdown",
   "metadata": {},
   "source": [
    "### 3. Gender and age vs success"
   ]
  },
  {
   "cell_type": "markdown",
   "metadata": {},
   "source": [
    "Now that we have have established our success metric, we can evaluate the effect of actors' gender on the success of a movie. \n",
    "\n",
    "The best way we chose in order to conduct our analysis is a **Regression analysis**. Indeed, this will allow us to quantify and understand the relationship between gender, age, and other factors on ROI, ratings and our success metric while controlling for potential confounders.\n",
    "\n",
    "Before diving into regression, we should perform an **Exploratory Data Analysis (EDA)** to understand the relationships among variables and detect any anomalies."
   ]
  },
  {
   "cell_type": "markdown",
   "metadata": {},
   "source": [
    "#### 1.1 Exploratory Data Analysis (EDA)\n",
    "\n",
    "First, let's list the variable of interest:\n",
    "\n",
    "Categorical variable:\n",
    "- *Actor_gender*: An actor is either Male or Female. \n",
    "- *isAdult*: A boolean. Returns 1 if it a +18 rated movie\n",
    "- *Movie_genre*\n",
    "- *Movie_countries*, \n",
    "- *Movie_languages*\n",
    "\n",
    "Continous variable:\n",
    "- *Average_female_actor_age*: Represents the average age of the female actresses. \n",
    "- *Average_male_actor_age*: Represents the average age of the male actresses.\n",
    "- *Average_ratings* and *Movie_box_office_revenue*: These are the dependent variables of our studies.    \n",
    "\n"
   ]
  },
  {
   "cell_type": "markdown",
   "metadata": {},
   "source": [
    "##### A quick comment about the dependent variables:\n",
    "The goal of our study is to look at ratings, ROI and our succes metric. However, due to complications with finding enough data for the ROI and success metric estimation we will need to postpone the in-depth analysis to P3."
   ]
  },
  {
   "cell_type": "markdown",
   "metadata": {},
   "source": [
    "##### 1.1.1 Univariate Analysis of continuous variables"
   ]
  },
  {
   "cell_type": "markdown",
   "metadata": {},
   "source": [
    "As a numerical analysis, we can show a table with the minimum, maximum, mean, standard deviation (SD) and median of each variable."
   ]
  },
  {
   "cell_type": "code",
   "execution_count": 49,
   "metadata": {},
   "outputs": [],
   "source": [
    "# Initialize object for EDA processing\n",
    "eda = EDA(final_df.copy())"
   ]
  },
  {
   "cell_type": "code",
   "execution_count": 50,
   "metadata": {},
   "outputs": [
    {
     "data": {
      "text/html": [
       "<div>\n",
       "<style scoped>\n",
       "    .dataframe tbody tr th:only-of-type {\n",
       "        vertical-align: middle;\n",
       "    }\n",
       "\n",
       "    .dataframe tbody tr th {\n",
       "        vertical-align: top;\n",
       "    }\n",
       "\n",
       "    .dataframe thead th {\n",
       "        text-align: right;\n",
       "    }\n",
       "</style>\n",
       "<table border=\"1\" class=\"dataframe\">\n",
       "  <thead>\n",
       "    <tr style=\"text-align: right;\">\n",
       "      <th></th>\n",
       "      <th>Min</th>\n",
       "      <th>Max</th>\n",
       "      <th>Mean</th>\n",
       "      <th>SD</th>\n",
       "      <th>Median</th>\n",
       "    </tr>\n",
       "  </thead>\n",
       "  <tbody>\n",
       "    <tr>\n",
       "      <th>Average_ratings</th>\n",
       "      <td>1.90</td>\n",
       "      <td>9.30</td>\n",
       "      <td>6.49</td>\n",
       "      <td>1.02</td>\n",
       "      <td>6.60</td>\n",
       "    </tr>\n",
       "    <tr>\n",
       "      <th>Num_votes</th>\n",
       "      <td>15.00</td>\n",
       "      <td>2,962,241.00</td>\n",
       "      <td>180,926.53</td>\n",
       "      <td>266,922.31</td>\n",
       "      <td>96,254.50</td>\n",
       "    </tr>\n",
       "    <tr>\n",
       "      <th>Movie_release_date</th>\n",
       "      <td>1,916.00</td>\n",
       "      <td>2,014.00</td>\n",
       "      <td>1,999.84</td>\n",
       "      <td>12.14</td>\n",
       "      <td>2,003.00</td>\n",
       "    </tr>\n",
       "    <tr>\n",
       "      <th>Movie_budget</th>\n",
       "      <td>7,000.00</td>\n",
       "      <td>425,000,000.00</td>\n",
       "      <td>41,813,030.83</td>\n",
       "      <td>43,097,470.32</td>\n",
       "      <td>29,500,000.00</td>\n",
       "    </tr>\n",
       "    <tr>\n",
       "      <th>Final_movie_revenue</th>\n",
       "      <td>423.00</td>\n",
       "      <td>2,782,275,172.00</td>\n",
       "      <td>121,971,196.29</td>\n",
       "      <td>179,309,207.50</td>\n",
       "      <td>60,225,819.50</td>\n",
       "    </tr>\n",
       "    <tr>\n",
       "      <th>ROI</th>\n",
       "      <td>-1.00</td>\n",
       "      <td>413.40</td>\n",
       "      <td>4.03</td>\n",
       "      <td>18.87</td>\n",
       "      <td>1.24</td>\n",
       "    </tr>\n",
       "    <tr>\n",
       "      <th>Movie_runtime</th>\n",
       "      <td>49.00</td>\n",
       "      <td>260.00</td>\n",
       "      <td>110.52</td>\n",
       "      <td>20.94</td>\n",
       "      <td>107.00</td>\n",
       "    </tr>\n",
       "    <tr>\n",
       "      <th>Female_actors</th>\n",
       "      <td>0.00</td>\n",
       "      <td>17.00</td>\n",
       "      <td>4.12</td>\n",
       "      <td>2.55</td>\n",
       "      <td>4.00</td>\n",
       "    </tr>\n",
       "    <tr>\n",
       "      <th>Male_actors</th>\n",
       "      <td>0.00</td>\n",
       "      <td>38.00</td>\n",
       "      <td>8.94</td>\n",
       "      <td>4.23</td>\n",
       "      <td>8.00</td>\n",
       "    </tr>\n",
       "  </tbody>\n",
       "</table>\n",
       "</div>"
      ],
      "text/plain": [
       "                         Min              Max           Mean             SD  \\\n",
       "Average_ratings         1.90             9.30           6.49           1.02   \n",
       "Num_votes              15.00     2,962,241.00     180,926.53     266,922.31   \n",
       "Movie_release_date  1,916.00         2,014.00       1,999.84          12.14   \n",
       "Movie_budget        7,000.00   425,000,000.00  41,813,030.83  43,097,470.32   \n",
       "Final_movie_revenue   423.00 2,782,275,172.00 121,971,196.29 179,309,207.50   \n",
       "ROI                    -1.00           413.40           4.03          18.87   \n",
       "Movie_runtime          49.00           260.00         110.52          20.94   \n",
       "Female_actors           0.00            17.00           4.12           2.55   \n",
       "Male_actors             0.00            38.00           8.94           4.23   \n",
       "\n",
       "                           Median  \n",
       "Average_ratings              6.60  \n",
       "Num_votes               96,254.50  \n",
       "Movie_release_date       2,003.00  \n",
       "Movie_budget        29,500,000.00  \n",
       "Final_movie_revenue 60,225,819.50  \n",
       "ROI                          1.24  \n",
       "Movie_runtime              107.00  \n",
       "Female_actors                4.00  \n",
       "Male_actors                  8.00  "
      ]
     },
     "execution_count": 50,
     "metadata": {},
     "output_type": "execute_result"
    }
   ],
   "source": [
    "pd.options.display.float_format = \"{:,.2f}\".format\n",
    "\n",
    "# Convert columns to numeric and drop rows with missing data.\n",
    "eda.dataframe[eda.numeric_columns] = eda.dataframe[eda.numeric_columns].apply(pd.to_numeric, errors=\"coerce\")\n",
    "eda.dataframe.dropna(subset=eda.numeric_columns, inplace=True)\n",
    "\n",
    "# Summary statistics\n",
    "summary_table = eda.summary()\n",
    "\n",
    "summary_table"
   ]
  },
  {
   "cell_type": "code",
   "execution_count": 51,
   "metadata": {},
   "outputs": [
    {
     "data": {
      "image/png": "[encoded data removed]",
      "text/plain": [
       "<Figure size 720x576 with 4 Axes>"
      ]
     },
     "metadata": {
      "needs_background": "light"
     },
     "output_type": "display_data"
    }
   ],
   "source": [
    "eda.plot_histograms(\n",
    "    variables=[\"Average_ratings\", \"Movie_budget\", \"Final_movie_revenue\", \"ROI\"],\n",
    "    title=\"Figure 1: Histogram of Dependent Variables\",\n",
    "    bins=15,\n",
    "    layout=(2, 2)\n",
    ")"
   ]
  },
  {
   "cell_type": "markdown",
   "metadata": {},
   "source": [
    "As we can see in Figure 1, the histogram for *Average_ratings* is bell-shaped, indicating a **normal distribution** of movie ratings.\n",
    "\n",
    "As for the distribution of *Movie_budget*, *Final_movie_revenue* and *ROI* are highly skewed. In order to adresse that, we have to apply a log transformation to ROI which is a combination of the budget and revenue."
   ]
  },
  {
   "cell_type": "code",
   "execution_count": 52,
   "metadata": {},
   "outputs": [
    {
     "data": {
      "image/png": "[encoded data removed]",
      "text/plain": [
       "<Figure size 360x288 with 1 Axes>"
      ]
     },
     "metadata": {
      "needs_background": "light"
     },
     "output_type": "display_data"
    }
   ],
   "source": [
    "# Apply log transformation to skewed dependent variables\n",
    "eda.dataframe = evaluation_utils.log_transform(eda.dataframe, [\"ROI\"])\n",
    "\n",
    "\n",
    "eda.plot_histograms(\n",
    "    variables=[\"log_ROI\"],\n",
    "    title=\"Figure 2: Histogram of Log Dependent Variable ROI\",\n",
    "    bins=15,\n",
    "    layout=(1, 1)\n",
    ")"
   ]
  },
  {
   "cell_type": "markdown",
   "metadata": {},
   "source": [
    "Now we have successfully obtained a normal distribution for the *ROI*. \n",
    "\n",
    "Let's now look at our independent variables."
   ]
  },
  {
   "cell_type": "code",
   "execution_count": 53,
   "metadata": {},
   "outputs": [
    {
     "data": {
      "image/png": "[encoded data removed]",
      "text/plain": [
       "<Figure size 1080x576 with 5 Axes>"
      ]
     },
     "metadata": {
      "needs_background": "light"
     },
     "output_type": "display_data"
    }
   ],
   "source": [
    "eda.plot_histograms(\n",
    "    variables=[\"Num_votes\", \"Movie_release_date\", \"Movie_runtime\", \"Female_actors\", \"Male_actors\"],\n",
    "    title=\"Figure 3: Histogram of Independent Variables\",\n",
    "    bins=15,\n",
    "    layout=(2, 3)\n",
    ")"
   ]
  },
  {
   "cell_type": "markdown",
   "metadata": {},
   "source": [
    "The histogram for the *Movie_release_date* shows an increase in movie releases after the 1980s, with a sharp spike around the 2000s. This suggests that the number of movie releases accelerated significantly in the late 20th and early 21st centuries.\n",
    "\n",
    "Since the histogram for *Movie_release_date*, *Movie_runtime*, *Female_actors* and *Male_actors* are bell-shaped and follow a normal distribution, thus we keep these variables as they are.\n",
    "\n",
    "For the *Num_votes*, we need to apply log transformation since it is skewed."
   ]
  },
  {
   "cell_type": "code",
   "execution_count": 54,
   "metadata": {},
   "outputs": [
    {
     "data": {
      "image/png": "[encoded data removed]",
      "text/plain": [
       "<Figure size 360x288 with 1 Axes>"
      ]
     },
     "metadata": {
      "needs_background": "light"
     },
     "output_type": "display_data"
    }
   ],
   "source": [
    "# Apply log transformation to skewed independent variables\n",
    "eda.dataframe = evaluation_utils.log_transform(eda.dataframe, [\"Num_votes\"])\n",
    "\n",
    "eda.plot_histograms(\n",
    "    variables=[\"log_Num_votes\"],\n",
    "    title=\"Figure 4: Histogram of Log Independent Variable Num_votes\",\n",
    "    bins=15,\n",
    "    layout=(1, 1)\n",
    ")"
   ]
  },
  {
   "cell_type": "markdown",
   "metadata": {},
   "source": [
    "Log of Num_votes: A normal distribution with most movies receiving moderate number of votes and a smaller group of popular movies getting significantly more votes "
   ]
  },
  {
   "cell_type": "code",
   "execution_count": 55,
   "metadata": {},
   "outputs": [
    {
     "data": {
      "image/png": "[encoded data removed]",
      "text/plain": [
       "<Figure size 1728x576 with 7 Axes>"
      ]
     },
     "metadata": {
      "needs_background": "light"
     },
     "output_type": "display_data"
    }
   ],
   "source": [
    "eda.numeric_columns = [\"Average_ratings\",\n",
    "                   \"log_Num_votes\",\n",
    "                   \"Movie_release_date\",\n",
    "                   \"log_ROI\",\n",
    "                   \"Movie_runtime\",\n",
    "                   \"Female_actors\",\n",
    "                   \"Male_actors\"]\n",
    "\n",
    "eda.plot_boxplots()"
   ]
  },
  {
   "cell_type": "markdown",
   "metadata": {},
   "source": [
    "We filter movies with a release date after 1970 and a runtime below 200 minutes to ensure meaningful results from our linear regression model. The movies post-1970 align more with modern filmmaking trends, audience preferences, and even available data quality, all contributing to minimizing potential biases based on older production trends. Limiting runtime to under 200 minutes helps exclude extreme outliers that could distort model coefficients, as excessively long films are rare and often follow unconventional storytelling formats, making them less representative of typical movie characteristics."
   ]
  },
  {
   "cell_type": "code",
   "execution_count": 56,
   "metadata": {},
   "outputs": [],
   "source": [
    "# Filtering movies after 1970 awith runtime less than 200 minutes\n",
    "eda.dataframe = eda.dataframe[(eda.dataframe[\"Movie_release_date\"] > 1970) & (eda.dataframe[\"Movie_runtime\"] < 200)]"
   ]
  },
  {
   "cell_type": "code",
   "execution_count": 57,
   "metadata": {},
   "outputs": [
    {
     "name": "stdout",
     "output_type": "stream",
     "text": [
      "After filtering the dataframe we are left with 2,268 movies.\n"
     ]
    }
   ],
   "source": [
    "print(f\"After filtering the dataframe we are left with {len(eda.dataframe):,} movies.\")"
   ]
  },
  {
   "cell_type": "markdown",
   "metadata": {},
   "source": [
    "We now have to focus on outliers and removing them for a more accurate modeling. From the boxplots, we chose the remove the outliers of the *Movie_box_office_revenue* and the *Minutes_runtime* variables. To do that, we use the **InterQuartile Range (IQR) method**, which identifies values that are significantly higher or lower than the majority of the data.\n",
    "\n",
    "The *remove_outliers* function will calculate the IQR for each column specified and removes any rows with values outside the range:\n",
    "\n",
    "$[Q1 - 1.5 \\times \\text{IQR}, Q3 + 1.5 \\times \\text{IQR}]$\n"
   ]
  },
  {
   "cell_type": "code",
   "execution_count": 58,
   "metadata": {},
   "outputs": [],
   "source": [
    "# eda.numeric_columns = [\"Average_ratings\",\n",
    "#                    \"log_Num_votes\",\n",
    "#                    \"Movie_release_date\",\n",
    "#                    #\"log_Final_movie_revenue\",\n",
    "#                    \"log_ROI\",\n",
    "#                    \"log_Movie_runtime\",\n",
    "#                    \"log_Female_actors\",\n",
    "#                    \"log_Male_actors\",\n",
    "#                    \"Movie_success\"]\n",
    "\n",
    "# # Dataframe without outliers\n",
    "# eda.dataframe = data_utils.remove_outliers(eda.dataframe, eda.numeric_columns)\n",
    "\n",
    "# eda.plot_boxplots()"
   ]
  },
  {
   "cell_type": "code",
   "execution_count": 59,
   "metadata": {},
   "outputs": [],
   "source": [
    "# print(f\"After removing the outliers and dropping the null values, we are left with {len(eda.dataframe):,} movies.\")"
   ]
  },
  {
   "cell_type": "markdown",
   "metadata": {},
   "source": [
    "##### 1.1.2 Bivariate Analysis of continuous variables"
   ]
  },
  {
   "cell_type": "code",
   "execution_count": 60,
   "metadata": {},
   "outputs": [
    {
     "data": {
      "image/png": "[encoded data removed]",
      "text/plain": [
       "<Figure size 720x576 with 2 Axes>"
      ]
     },
     "metadata": {
      "needs_background": "light"
     },
     "output_type": "display_data"
    }
   ],
   "source": [
    "eda.plot_correlation_matrix()"
   ]
  },
  {
   "cell_type": "markdown",
   "metadata": {},
   "source": [
    "The correlation matrix for the continuous variables in our dataset shows the following relationships:\n",
    "\n",
    "•⁠  *⁠Female_actors* and *Male_actors*: The correlation coefficient is *0.12*, indicating a weak positive correlation. This suggests that movies with a higher number of female actors also tend to have a higher number of male actors. We note that this could indicate a general tendency for larger casts to include more actors of both genders.\n",
    "\n",
    "•⁠  *log_Female_actors* and *Movie_release_date*: The correlation coefficient is *0.13*, indicating a weak positive correlation. This suggests that more recent movies tend to include a higher number of female actors. \n",
    "\n",
    "While gender composition affects the correlation, these findings highlight the need for deeper analysis (e.g., regression) to control for potential confounders and isolate the impact of gender on box office success."
   ]
  },
  {
   "cell_type": "markdown",
   "metadata": {},
   "source": [
    "#### 1.1.3 Analysis and encoding of categorical variables\n",
    "Regression analysis with many categorical variables can quickly get complicated. Indeed using a boolean value for each category except one can cause us to have too many regressors. For variables like isAdult and Gender it is easy as there are only two possibilities. However, for Movie_genre, Movie_countries and Movie_languages we can quickly get into the hundreds. Here is how we plan on managing this:"
   ]
  },
  {
   "cell_type": "markdown",
   "metadata": {},
   "source": [
    "##### 1.1.3.1 Analysis of the Movies' genres"
   ]
  },
  {
   "cell_type": "markdown",
   "metadata": {},
   "source": [
    "We set a cutoff threshold of 200. This means all genres with less than 200 occurences will be discarded. "
   ]
  },
  {
   "cell_type": "code",
   "execution_count": 61,
   "metadata": {},
   "outputs": [
    {
     "data": {
      "image/png": "[encoded data removed]",
      "text/plain": [
       "<Figure size 576x288 with 1 Axes>"
      ]
     },
     "metadata": {
      "needs_background": "light"
     },
     "output_type": "display_data"
    },
    {
     "name": "stdout",
     "output_type": "stream",
     "text": [
      "There are 15 genres with more that 200 occurences.\n"
     ]
    }
   ],
   "source": [
    "filtered_genre_counts = eda.filter_and_count(column_name=\"Movie_genres\", threshold=200)"
   ]
  },
  {
   "cell_type": "markdown",
   "metadata": {},
   "source": [
    "Let us check if this restricts our study to too few movies."
   ]
  },
  {
   "cell_type": "code",
   "execution_count": 62,
   "metadata": {},
   "outputs": [
    {
     "name": "stdout",
     "output_type": "stream",
     "text": [
      "There are 2246 movies that belong to at least one of the 15 most popular genres. \n",
      "There were 2268 movies in the dataset before this operation, meaning we lost 0.97% of the movies.\n"
     ]
    }
   ],
   "source": [
    "popular_genres = eda.analyze_popular_genres(filtered_genre_counts=filtered_genre_counts)"
   ]
  },
  {
   "cell_type": "markdown",
   "metadata": {},
   "source": [
    "We can drop the movies that have none of the most popular genres. We can also assume that the genres are ordered by relevance. This assumption was made after manually checking for 50 randomly sampled movies. It was true for all 50. We will thus keep for each movie, the first popular genre that appears."
   ]
  },
  {
   "cell_type": "code",
   "execution_count": 63,
   "metadata": {},
   "outputs": [
    {
     "data": {
      "image/png": "[encoded data removed]",
      "text/plain": [
       "<Figure size 720x432 with 1 Axes>"
      ]
     },
     "metadata": {
      "needs_background": "light"
     },
     "output_type": "display_data"
    }
   ],
   "source": [
    "# Creating a new column named \"Main_genre\" that stores, for each movie, the first occurence of one of the popular genres\n",
    "eda.get_main_genres(popular_genres=popular_genres)"
   ]
  },
  {
   "cell_type": "markdown",
   "metadata": {},
   "source": [
    "We can now create the dummy variables for the \"Main_genre\" column using one-hot encoding."
   ]
  },
  {
   "cell_type": "code",
   "execution_count": 64,
   "metadata": {},
   "outputs": [
    {
     "data": {
      "text/html": [
       "<div>\n",
       "<style scoped>\n",
       "    .dataframe tbody tr th:only-of-type {\n",
       "        vertical-align: middle;\n",
       "    }\n",
       "\n",
       "    .dataframe tbody tr th {\n",
       "        vertical-align: top;\n",
       "    }\n",
       "\n",
       "    .dataframe thead th {\n",
       "        text-align: right;\n",
       "    }\n",
       "</style>\n",
       "<table border=\"1\" class=\"dataframe\">\n",
       "  <thead>\n",
       "    <tr style=\"text-align: right;\">\n",
       "      <th></th>\n",
       "      <th>tconst</th>\n",
       "      <th>Average_ratings</th>\n",
       "      <th>Num_votes</th>\n",
       "      <th>Primary_title</th>\n",
       "      <th>Original_title</th>\n",
       "      <th>Is_adult</th>\n",
       "      <th>Start_year</th>\n",
       "      <th>Directors</th>\n",
       "      <th>Writers</th>\n",
       "      <th>Movie_release_date</th>\n",
       "      <th>...</th>\n",
       "      <th>Final_movie_revenue</th>\n",
       "      <th>ROI</th>\n",
       "      <th>Normalized_Rating</th>\n",
       "      <th>log_ROI</th>\n",
       "      <th>log_Num_votes</th>\n",
       "      <th>Main_genre_comedy</th>\n",
       "      <th>Main_genre_drama</th>\n",
       "      <th>Main_genre_fantasy</th>\n",
       "      <th>Main_genre_horror</th>\n",
       "      <th>Main_genre_thriller</th>\n",
       "    </tr>\n",
       "  </thead>\n",
       "  <tbody>\n",
       "    <tr>\n",
       "      <th>416</th>\n",
       "      <td>tt0844671</td>\n",
       "      <td>4.60</td>\n",
       "      <td>12736</td>\n",
       "      <td>college</td>\n",
       "      <td>college</td>\n",
       "      <td>0</td>\n",
       "      <td>2008</td>\n",
       "      <td>nm1834176</td>\n",
       "      <td>nm0990439,nm1337351</td>\n",
       "      <td>2,008.00</td>\n",
       "      <td>...</td>\n",
       "      <td>5,629,618.00</td>\n",
       "      <td>-0.06</td>\n",
       "      <td>0.46</td>\n",
       "      <td>-0.06</td>\n",
       "      <td>9.45</td>\n",
       "      <td>True</td>\n",
       "      <td>False</td>\n",
       "      <td>False</td>\n",
       "      <td>False</td>\n",
       "      <td>False</td>\n",
       "    </tr>\n",
       "    <tr>\n",
       "      <th>1910</th>\n",
       "      <td>tt0089461</td>\n",
       "      <td>6.80</td>\n",
       "      <td>18009</td>\n",
       "      <td>the last dragon</td>\n",
       "      <td>the last dragon</td>\n",
       "      <td>0</td>\n",
       "      <td>1985</td>\n",
       "      <td>nm0776317</td>\n",
       "      <td>nm0893207</td>\n",
       "      <td>1,985.00</td>\n",
       "      <td>...</td>\n",
       "      <td>25,784,554.00</td>\n",
       "      <td>1.58</td>\n",
       "      <td>0.68</td>\n",
       "      <td>0.95</td>\n",
       "      <td>9.80</td>\n",
       "      <td>False</td>\n",
       "      <td>False</td>\n",
       "      <td>False</td>\n",
       "      <td>False</td>\n",
       "      <td>False</td>\n",
       "    </tr>\n",
       "    <tr>\n",
       "      <th>1628</th>\n",
       "      <td>tt0230838</td>\n",
       "      <td>6.70</td>\n",
       "      <td>95801</td>\n",
       "      <td>sweet november</td>\n",
       "      <td>sweet november</td>\n",
       "      <td>0</td>\n",
       "      <td>2001</td>\n",
       "      <td>nm0640466</td>\n",
       "      <td>nm0712029,nm0951049,nm0900820</td>\n",
       "      <td>2,001.00</td>\n",
       "      <td>...</td>\n",
       "      <td>65,754,228.00</td>\n",
       "      <td>0.64</td>\n",
       "      <td>0.67</td>\n",
       "      <td>0.50</td>\n",
       "      <td>11.47</td>\n",
       "      <td>False</td>\n",
       "      <td>True</td>\n",
       "      <td>False</td>\n",
       "      <td>False</td>\n",
       "      <td>False</td>\n",
       "    </tr>\n",
       "    <tr>\n",
       "      <th>1669</th>\n",
       "      <td>tt0106226</td>\n",
       "      <td>7.20</td>\n",
       "      <td>69514</td>\n",
       "      <td>the age of innocence</td>\n",
       "      <td>the age of innocence</td>\n",
       "      <td>0</td>\n",
       "      <td>1993</td>\n",
       "      <td>nm0000217</td>\n",
       "      <td>nm0923585,nm0168379,nm0000217</td>\n",
       "      <td>1,993.00</td>\n",
       "      <td>...</td>\n",
       "      <td>32,255,440.00</td>\n",
       "      <td>-0.05</td>\n",
       "      <td>0.72</td>\n",
       "      <td>-0.05</td>\n",
       "      <td>11.15</td>\n",
       "      <td>False</td>\n",
       "      <td>True</td>\n",
       "      <td>False</td>\n",
       "      <td>False</td>\n",
       "      <td>False</td>\n",
       "    </tr>\n",
       "    <tr>\n",
       "      <th>1772</th>\n",
       "      <td>tt0458352</td>\n",
       "      <td>6.90</td>\n",
       "      <td>485180</td>\n",
       "      <td>the devil wears prada</td>\n",
       "      <td>the devil wears prada</td>\n",
       "      <td>0</td>\n",
       "      <td>2006</td>\n",
       "      <td>nm0291205</td>\n",
       "      <td>nm0112459,nm1916979</td>\n",
       "      <td>2,006.00</td>\n",
       "      <td>...</td>\n",
       "      <td>326,551,094.00</td>\n",
       "      <td>8.33</td>\n",
       "      <td>0.69</td>\n",
       "      <td>2.23</td>\n",
       "      <td>13.09</td>\n",
       "      <td>False</td>\n",
       "      <td>True</td>\n",
       "      <td>False</td>\n",
       "      <td>False</td>\n",
       "      <td>False</td>\n",
       "    </tr>\n",
       "  </tbody>\n",
       "</table>\n",
       "<p>5 rows × 33 columns</p>\n",
       "</div>"
      ],
      "text/plain": [
       "         tconst  Average_ratings  Num_votes          Primary_title  \\\n",
       "416   tt0844671             4.60      12736                college   \n",
       "1910  tt0089461             6.80      18009        the last dragon   \n",
       "1628  tt0230838             6.70      95801         sweet november   \n",
       "1669  tt0106226             7.20      69514   the age of innocence   \n",
       "1772  tt0458352             6.90     485180  the devil wears prada   \n",
       "\n",
       "             Original_title Is_adult Start_year  Directors  \\\n",
       "416                 college        0       2008  nm1834176   \n",
       "1910        the last dragon        0       1985  nm0776317   \n",
       "1628         sweet november        0       2001  nm0640466   \n",
       "1669   the age of innocence        0       1993  nm0000217   \n",
       "1772  the devil wears prada        0       2006  nm0291205   \n",
       "\n",
       "                            Writers  Movie_release_date  ...  \\\n",
       "416             nm0990439,nm1337351            2,008.00  ...   \n",
       "1910                      nm0893207            1,985.00  ...   \n",
       "1628  nm0712029,nm0951049,nm0900820            2,001.00  ...   \n",
       "1669  nm0923585,nm0168379,nm0000217            1,993.00  ...   \n",
       "1772            nm0112459,nm1916979            2,006.00  ...   \n",
       "\n",
       "     Final_movie_revenue   ROI Normalized_Rating log_ROI  log_Num_votes  \\\n",
       "416         5,629,618.00 -0.06              0.46   -0.06           9.45   \n",
       "1910       25,784,554.00  1.58              0.68    0.95           9.80   \n",
       "1628       65,754,228.00  0.64              0.67    0.50          11.47   \n",
       "1669       32,255,440.00 -0.05              0.72   -0.05          11.15   \n",
       "1772      326,551,094.00  8.33              0.69    2.23          13.09   \n",
       "\n",
       "      Main_genre_comedy  Main_genre_drama  Main_genre_fantasy  \\\n",
       "416                True             False               False   \n",
       "1910              False             False               False   \n",
       "1628              False              True               False   \n",
       "1669              False              True               False   \n",
       "1772              False              True               False   \n",
       "\n",
       "     Main_genre_horror  Main_genre_thriller  \n",
       "416              False                False  \n",
       "1910             False                False  \n",
       "1628             False                False  \n",
       "1669             False                False  \n",
       "1772             False                False  \n",
       "\n",
       "[5 rows x 33 columns]"
      ]
     },
     "execution_count": 64,
     "metadata": {},
     "output_type": "execute_result"
    }
   ],
   "source": [
    "eda.dataframe = pd.get_dummies(eda.dataframe, columns=[\"Main_genre\"], drop_first=True)\n",
    "eda.dataframe.sample(5)"
   ]
  },
  {
   "cell_type": "markdown",
   "metadata": {},
   "source": [
    "##### 1.1.3.2 Analysis of the Movies' languages"
   ]
  },
  {
   "cell_type": "markdown",
   "metadata": {},
   "source": [
    "We will plot the top 5 languages by number of occurences:"
   ]
  },
  {
   "cell_type": "code",
   "execution_count": 65,
   "metadata": {},
   "outputs": [
    {
     "data": {
      "image/png": "[encoded data removed]",
      "text/plain": [
       "<Figure size 720x432 with 1 Axes>"
      ]
     },
     "metadata": {
      "needs_background": "light"
     },
     "output_type": "display_data"
    }
   ],
   "source": [
    "eda.analyze_languages()"
   ]
  },
  {
   "cell_type": "markdown",
   "metadata": {},
   "source": [
    "We have an unbalanced dataset with English being much more prominent than other languages."
   ]
  },
  {
   "cell_type": "markdown",
   "metadata": {},
   "source": [
    "Categorizing movies into two groups: \n",
    "- those available exclusively in English, \n",
    "- those available in other languages (which may include English alongside another language).\n",
    "\n",
    "This will be done through the creation of the boolean \"Is_not_only_english\" which is True when the movie is available in another language."
   ]
  },
  {
   "cell_type": "code",
   "execution_count": 66,
   "metadata": {},
   "outputs": [
    {
     "name": "stdout",
     "output_type": "stream",
     "text": [
      "There are 686 movies that are available in other languages and 1560 movies that are only available in English.\n"
     ]
    }
   ],
   "source": [
    "eda.categorize_languages()"
   ]
  },
  {
   "cell_type": "markdown",
   "metadata": {},
   "source": [
    "##### 1.1.3.2 Analysis of the Movies' countries"
   ]
  },
  {
   "cell_type": "code",
   "execution_count": 67,
   "metadata": {},
   "outputs": [
    {
     "data": {
      "image/png": "[encoded data removed]",
      "text/plain": [
       "<Figure size 720x432 with 1 Axes>"
      ]
     },
     "metadata": {
      "needs_background": "light"
     },
     "output_type": "display_data"
    }
   ],
   "source": [
    "eda.analyze_countries()"
   ]
  },
  {
   "cell_type": "markdown",
   "metadata": {},
   "source": [
    "We have a very similar situation to the languages. The United States of America have a much more prominent number of movies. We will thus proceed like previously by categorizing the movies into two groups:\n",
    "- USA movies \n",
    "- Movies from other countries \n",
    "\n",
    "This will be done through the creation of the boolean \"Is_USA_movie\" which is True when the movie is from the USA."
   ]
  },
  {
   "cell_type": "code",
   "execution_count": 68,
   "metadata": {},
   "outputs": [
    {
     "name": "stdout",
     "output_type": "stream",
     "text": [
      "There are 1476 USA movies and 763 movies from other countries.\n"
     ]
    }
   ],
   "source": [
    "count_usa_movies = (eda.dataframe[\"Movie_countries\"] == \"united states of america\").sum()\n",
    "count_other_countries_movie = len(eda.dataframe) - count_usa_movies \n",
    "print(f\"There are {count_usa_movies} USA movies and {count_other_countries_movie} movies from other countries.\")"
   ]
  },
  {
   "cell_type": "code",
   "execution_count": 69,
   "metadata": {},
   "outputs": [
    {
     "name": "stdout",
     "output_type": "stream",
     "text": [
      "There are 1476 USA movies and 763 movies from other countries.\n"
     ]
    }
   ],
   "source": [
    "eda.categorize_countries()"
   ]
  },
  {
   "cell_type": "markdown",
   "metadata": {},
   "source": [
    "##### 1.1.3.2 Analysis of the Movies' production companies"
   ]
  },
  {
   "cell_type": "code",
   "execution_count": 70,
   "metadata": {},
   "outputs": [
    {
     "name": "stdout",
     "output_type": "stream",
     "text": [
      "There are 2368 unique production companies.\n"
     ]
    },
    {
     "data": {
      "image/png": "[encoded data removed]",
      "text/plain": [
       "<Figure size 1008x432 with 1 Axes>"
      ]
     },
     "metadata": {
      "needs_background": "light"
     },
     "output_type": "display_data"
    }
   ],
   "source": [
    "filtered_production_count = eda.analyze_production_companies()"
   ]
  },
  {
   "cell_type": "code",
   "execution_count": 71,
   "metadata": {},
   "outputs": [],
   "source": [
    "prod_companies = pd.read_csv(\"data/Extra CSV/production_companies.csv\")\n",
    "\n",
    "box_office = eda.merge_production_data(filtered_production_count, prod_companies)\n"
   ]
  },
  {
   "cell_type": "markdown",
   "metadata": {},
   "source": [
    "We inspect the company names and we saw that there are Columbia Pictures and Columbia Pictures Corporation. There are two names for the same company. \n",
    "We apply unify_columbia_revenue to attribute the same revenue for them. "
   ]
  },
  {
   "cell_type": "code",
   "execution_count": 72,
   "metadata": {},
   "outputs": [],
   "source": [
    "eda.unify_columbia_revenue(box_office_df=box_office)\n"
   ]
  },
  {
   "cell_type": "code",
   "execution_count": 73,
   "metadata": {},
   "outputs": [
    {
     "name": "stdout",
     "output_type": "stream",
     "text": [
      "After removing rows without Box Office revenue, 2221 movies remain out of 2221.\n"
     ]
    }
   ],
   "source": [
    "box_office[\"Total Worldwide Box Office\"] = box_office[\"Total Worldwide Box Office\"].replace(\n",
    "    {\"\\$\": \"\", \",\": \"\"}, regex=True).astype(float)\n",
    "\n",
    "def calculate_box_office(companies_list):\n",
    "   if not companies_list:\n",
    "        return 0  \n",
    "   return box_office.loc[box_office[\"Company Name\"].isin(companies_list), \"Total Worldwide Box Office\"].sum()\n",
    "\n",
    "eda.dataframe[\"Box_office_companies\"] = eda.dataframe[\"Production_companies_cleaned\"].apply(calculate_box_office)\n",
    "eda.filter_movies_with_box_office(box_office_column=\"Box_office_companies\")"
   ]
  },
  {
   "cell_type": "markdown",
   "metadata": {},
   "source": [
    "## je regle ca asap juste la ca me pete les couilles "
   ]
  },
  {
   "cell_type": "code",
   "execution_count": 74,
   "metadata": {},
   "outputs": [
    {
     "name": "stdout",
     "output_type": "stream",
     "text": [
      "Index(['tconst', 'Average_ratings', 'Num_votes', 'Primary_title',\n",
      "       'Original_title', 'Is_adult', 'Start_year', 'Directors', 'Writers',\n",
      "       'Movie_release_date', 'Movie_languages', 'Movie_countries',\n",
      "       'Movie_genres', 'Cast', 'Female_actors', 'Male_actors',\n",
      "       'Female_actor_percentage', 'Movie_runtime', 'Plot Summaries',\n",
      "       'Popularity', 'Production_companies', 'production_countries',\n",
      "       'Movie_budget', 'Final_movie_revenue', 'ROI', 'Normalized_Rating',\n",
      "       'log_ROI', 'log_Num_votes', 'Main_genre_comedy', 'Main_genre_drama',\n",
      "       'Main_genre_fantasy', 'Main_genre_horror', 'Main_genre_thriller',\n",
      "       'Is_not_only_english', 'Is_USA_movie', 'Production_companies_cleaned',\n",
      "       'Box_office_companies'],\n",
      "      dtype='object')\n"
     ]
    }
   ],
   "source": [
    "print(eda.dataframe.columns)\n"
   ]
  },
  {
   "cell_type": "markdown",
   "metadata": {},
   "source": [
    "### 1.2 Identifying Potential Confounders\n",
    "In order to not have bias in our study, it is essential we add the confounders. This means that we have to identify the variables that have an impact on both treatment and outcome, here being the actor gender and the final box office revenue respectivly. The confounders are: \n",
    "-  ⁠Movie_genre\n",
    "-  ⁠Movie_countries\n",
    "- ⁠Movie_languages\n",
    "- Num_votes"
   ]
  },
  {
   "cell_type": "markdown",
   "metadata": {},
   "source": [
    "### 1.3 Linear Regression\n"
   ]
  },
  {
   "cell_type": "code",
   "execution_count": 75,
   "metadata": {},
   "outputs": [],
   "source": [
    "final_df_regression = eda.dataframe.copy()"
   ]
  },
  {
   "cell_type": "code",
   "execution_count": 76,
   "metadata": {},
   "outputs": [
    {
     "name": "stdout",
     "output_type": "stream",
     "text": [
      "Index(['tconst', 'Average_ratings', 'Num_votes', 'Primary_title',\n",
      "       'Original_title', 'Is_adult', 'Start_year', 'Directors', 'Writers',\n",
      "       'Movie_release_date', 'Movie_languages', 'Movie_countries',\n",
      "       'Movie_genres', 'Cast', 'Female_actors', 'Male_actors',\n",
      "       'Female_actor_percentage', 'Movie_runtime', 'Plot Summaries',\n",
      "       'Popularity', 'Production_companies', 'production_countries',\n",
      "       'Movie_budget', 'Final_movie_revenue', 'ROI', 'Normalized_Rating',\n",
      "       'log_ROI', 'log_Num_votes', 'Main_genre_comedy', 'Main_genre_drama',\n",
      "       'Main_genre_fantasy', 'Main_genre_horror', 'Main_genre_thriller',\n",
      "       'Is_not_only_english', 'Is_USA_movie', 'Production_companies_cleaned',\n",
      "       'Box_office_companies'],\n",
      "      dtype='object')\n"
     ]
    }
   ],
   "source": [
    "print(final_df_regression.columns)"
   ]
  },
  {
   "cell_type": "code",
   "execution_count": 77,
   "metadata": {},
   "outputs": [],
   "source": [
    "indep_vars = [\"Female_actors\", \"Male_actors\", \"Movie_runtime\", \"Is_not_only_english\", \n",
    "                   \"Is_USA_movie\",  \"Main_genre_drama\",\n",
    "                   \"Main_genre_thriller\", \"Main_genre_comedy\", \"Main_genre_fantasy\", \"Main_genre_horror\", \"Movie_release_date\",\n",
    "                   \"Box_office_companies\", \"log_Num_votes\"]\n",
    "\n",
    "dep_vars = \"log_ROI\"\n",
    "\n",
    "X = final_df_regression[indep_vars]\n",
    "y = final_df_regression[dep_vars]\n",
    "\n",
    "scaler = StandardScaler()\n",
    "X_scaled = scaler.fit_transform(X)\n",
    "\n",
    "X_scaled = pd.DataFrame(X_scaled, columns=X.columns, index=X.index)\n",
    "\n",
    "X_scaled_wconst = sm.add_constant(X_scaled)"
   ]
  },
  {
   "cell_type": "code",
   "execution_count": 78,
   "metadata": {},
   "outputs": [
    {
     "name": "stdout",
     "output_type": "stream",
     "text": [
      "                 Feature  VIF\n",
      "0          Female_actors 1.12\n",
      "1            Male_actors 1.23\n",
      "2          Movie_runtime 1.48\n",
      "3    Is_not_only_english 1.10\n",
      "4           Is_USA_movie 1.06\n",
      "5       Main_genre_drama 2.70\n",
      "6    Main_genre_thriller 2.83\n",
      "7      Main_genre_comedy 2.34\n",
      "8     Main_genre_fantasy 1.59\n",
      "9      Main_genre_horror 1.38\n",
      "10    Movie_release_date 1.11\n",
      "11  Box_office_companies 1.06\n",
      "12         log_Num_votes 1.29\n"
     ]
    }
   ],
   "source": [
    "# Create a DataFrame to store VIF values\n",
    "vif_data = pd.DataFrame()\n",
    "vif_data[\"Feature\"] = X_scaled.columns\n",
    "\n",
    "# Calculate VIF for each feature\n",
    "vif_data[\"VIF\"] = [variance_inflation_factor(X_scaled.values, i) for i in range(X_scaled.shape[1])]\n",
    "\n",
    "# Display VIF values\n",
    "print(vif_data)"
   ]
  },
  {
   "cell_type": "markdown",
   "metadata": {},
   "source": [
    "We can see that all VIF values are far below 5 indicating multicollinearity should not be an issue."
   ]
  },
  {
   "cell_type": "code",
   "execution_count": 79,
   "metadata": {},
   "outputs": [
    {
     "name": "stdout",
     "output_type": "stream",
     "text": [
      "                            OLS Regression Results                            \n",
      "==============================================================================\n",
      "Dep. Variable:                log_ROI   R-squared:                       0.355\n",
      "Model:                            OLS   Adj. R-squared:                  0.352\n",
      "Method:                 Least Squares   F-statistic:                     93.58\n",
      "Date:                Wed, 18 Dec 2024   Prob (F-statistic):          2.52e-199\n",
      "Time:                        10:21:56   Log-Likelihood:                -3120.3\n",
      "No. Observations:                2221   AIC:                             6269.\n",
      "Df Residuals:                    2207   BIC:                             6348.\n",
      "Df Model:                          13                                         \n",
      "Covariance Type:            nonrobust                                         \n",
      "========================================================================================\n",
      "                           coef    std err          t      P>|t|      [0.025      0.975]\n",
      "----------------------------------------------------------------------------------------\n",
      "const                    0.6995      0.021     33.327      0.000       0.658       0.741\n",
      "Female_actors            0.0941      0.022      4.246      0.000       0.051       0.138\n",
      "Male_actors             -0.0654      0.023     -2.806      0.005      -0.111      -0.020\n",
      "Movie_runtime           -0.1886      0.026     -7.387      0.000      -0.239      -0.139\n",
      "Is_not_only_english      0.0157      0.022      0.712      0.476      -0.027       0.059\n",
      "Is_USA_movie             0.0549      0.022      2.541      0.011       0.013       0.097\n",
      "Main_genre_drama         0.0904      0.035      2.619      0.009       0.023       0.158\n",
      "Main_genre_thriller     -0.0360      0.035     -1.020      0.308      -0.105       0.033\n",
      "Main_genre_comedy        0.1089      0.032      3.388      0.001       0.046       0.172\n",
      "Main_genre_fantasy      -0.0183      0.026     -0.692      0.489      -0.070       0.034\n",
      "Main_genre_horror        0.0851      0.025      3.451      0.001       0.037       0.133\n",
      "Movie_release_date      -0.3046      0.022    -13.776      0.000      -0.348      -0.261\n",
      "Box_office_companies    -0.0244      0.022     -1.131      0.258      -0.067       0.018\n",
      "log_Num_votes            0.7507      0.024     31.462      0.000       0.704       0.798\n",
      "==============================================================================\n",
      "Omnibus:                      294.159   Durbin-Watson:                   1.847\n",
      "Prob(Omnibus):                  0.000   Jarque-Bera (JB):             2570.682\n",
      "Skew:                          -0.310   Prob(JB):                         0.00\n",
      "Kurtosis:                       8.234   Cond. No.                         3.79\n",
      "==============================================================================\n",
      "\n",
      "Notes:\n",
      "[1] Standard Errors assume that the covariance matrix of the errors is correctly specified.\n"
     ]
    }
   ],
   "source": [
    "model = sm.OLS(y, X_scaled_wconst).fit()\n",
    "print(model.summary())"
   ]
  },
  {
   "cell_type": "code",
   "execution_count": 80,
   "metadata": {},
   "outputs": [
    {
     "name": "stdout",
     "output_type": "stream",
     "text": [
      "                            OLS Regression Results                            \n",
      "==============================================================================\n",
      "Dep. Variable:      Normalized_Rating   R-squared:                       0.252\n",
      "Model:                            OLS   Adj. R-squared:                  0.248\n",
      "Method:                 Least Squares   F-statistic:                     61.99\n",
      "Date:                Wed, 18 Dec 2024   Prob (F-statistic):          8.57e-130\n",
      "Time:                        10:21:56   Log-Likelihood:                 2269.2\n",
      "No. Observations:                2221   AIC:                            -4512.\n",
      "Df Residuals:                    2208   BIC:                            -4438.\n",
      "Df Model:                          12                                         \n",
      "Covariance Type:            nonrobust                                         \n",
      "========================================================================================\n",
      "                           coef    std err          t      P>|t|      [0.025      0.975]\n",
      "----------------------------------------------------------------------------------------\n",
      "const                    0.6462      0.002    348.596      0.000       0.643       0.650\n",
      "Female_actors           -0.0069      0.002     -3.510      0.000      -0.011      -0.003\n",
      "Male_actors              0.0086      0.002      4.262      0.000       0.005       0.013\n",
      "Movie_runtime            0.0363      0.002     16.737      0.000       0.032       0.041\n",
      "Is_not_only_english      0.0093      0.002      4.842      0.000       0.006       0.013\n",
      "Is_USA_movie            -0.0020      0.002     -1.028      0.304      -0.006       0.002\n",
      "Main_genre_drama         0.0268      0.003      8.798      0.000       0.021       0.033\n",
      "Main_genre_thriller      0.0110      0.003      3.533      0.000       0.005       0.017\n",
      "Main_genre_comedy        0.0086      0.003      3.022      0.003       0.003       0.014\n",
      "Main_genre_fantasy       0.0141      0.002      6.052      0.000       0.010       0.019\n",
      "Main_genre_horror        0.0039      0.002      1.775      0.076      -0.000       0.008\n",
      "Movie_release_date      -0.0111      0.002     -5.740      0.000      -0.015      -0.007\n",
      "Box_office_companies    -0.0034      0.002     -1.805      0.071      -0.007       0.000\n",
      "==============================================================================\n",
      "Omnibus:                      256.610   Durbin-Watson:                   1.972\n",
      "Prob(Omnibus):                  0.000   Jarque-Bera (JB):              477.172\n",
      "Skew:                          -0.749   Prob(JB):                    2.42e-104\n",
      "Kurtosis:                       4.706   Cond. No.                         3.58\n",
      "==============================================================================\n",
      "\n",
      "Notes:\n",
      "[1] Standard Errors assume that the covariance matrix of the errors is correctly specified.\n"
     ]
    }
   ],
   "source": [
    "indep_vars = [\"Female_actors\", \"Male_actors\", \"Movie_runtime\", \"Is_not_only_english\", \n",
    "                   \"Is_USA_movie\",  \"Main_genre_drama\",\n",
    "                   \"Main_genre_thriller\", \"Main_genre_comedy\", \"Main_genre_fantasy\", \"Main_genre_horror\", \"Movie_release_date\",\n",
    "                   \"Box_office_companies\"]\n",
    "\n",
    "dep_vars = \"Normalized_Rating\"\n",
    "\n",
    "X = final_df_regression[indep_vars]\n",
    "y = final_df_regression[dep_vars]\n",
    "\n",
    "scaler = StandardScaler()\n",
    "X_scaled = scaler.fit_transform(X)\n",
    "\n",
    "X_scaled = pd.DataFrame(X_scaled, columns=X.columns, index=X.index)\n",
    "\n",
    "X_scaled_wconst = sm.add_constant(X_scaled)\n",
    "\n",
    "model = sm.OLS(y, X_scaled_wconst).fit()\n",
    "print(model.summary())"
   ]
  },
  {
   "cell_type": "code",
   "execution_count": 81,
   "metadata": {},
   "outputs": [
    {
     "name": "stdout",
     "output_type": "stream",
     "text": [
      "                 Feature  VIF\n",
      "0          Female_actors 1.11\n",
      "1            Male_actors 1.19\n",
      "2          Movie_runtime 1.37\n",
      "3    Is_not_only_english 1.08\n",
      "4           Is_USA_movie 1.06\n",
      "5       Main_genre_drama 2.69\n",
      "6    Main_genre_thriller 2.82\n",
      "7      Main_genre_comedy 2.34\n",
      "8     Main_genre_fantasy 1.57\n",
      "9      Main_genre_horror 1.37\n",
      "10    Movie_release_date 1.08\n",
      "11  Box_office_companies 1.05\n"
     ]
    }
   ],
   "source": [
    "# Create a DataFrame to store VIF values\n",
    "vif_data = pd.DataFrame()\n",
    "vif_data[\"Feature\"] = X_scaled.columns\n",
    "\n",
    "# Calculate VIF for each feature\n",
    "vif_data[\"VIF\"] = [variance_inflation_factor(X_scaled.values, i) for i in range(X_scaled.shape[1])]\n",
    "\n",
    "# Display VIF values\n",
    "print(vif_data)"
   ]
  },
  {
   "cell_type": "markdown",
   "metadata": {},
   "source": [
    "We can see that all VIF values are far below 5 indicating multicollinearity should not be an issue."
   ]
  },
  {
   "cell_type": "code",
   "execution_count": 82,
   "metadata": {},
   "outputs": [
    {
     "name": "stdout",
     "output_type": "stream",
     "text": [
      "                            OLS Regression Results                            \n",
      "==============================================================================\n",
      "Dep. Variable:          Movie_success   R-squared:                       0.494\n",
      "Model:                            OLS   Adj. R-squared:                  0.491\n",
      "Method:                 Least Squares   F-statistic:                     165.9\n",
      "Date:                Wed, 18 Dec 2024   Prob (F-statistic):          7.72e-315\n",
      "Time:                        10:21:56   Log-Likelihood:                 2419.4\n",
      "No. Observations:                2221   AIC:                            -4811.\n",
      "Df Residuals:                    2207   BIC:                            -4731.\n",
      "Df Model:                          13                                         \n",
      "Covariance Type:            nonrobust                                         \n",
      "========================================================================================\n",
      "                           coef    std err          t      P>|t|      [0.025      0.975]\n",
      "----------------------------------------------------------------------------------------\n",
      "const                    0.5766      0.002    332.758      0.000       0.573       0.580\n",
      "Female_actors            0.0032      0.002      1.764      0.078      -0.000       0.007\n",
      "Male_actors             -0.0053      0.002     -2.751      0.006      -0.009      -0.002\n",
      "Movie_runtime           -0.0043      0.002     -2.038      0.042      -0.008      -0.000\n",
      "Is_not_only_english      0.0022      0.002      1.231      0.218      -0.001       0.006\n",
      "Is_USA_movie             0.0031      0.002      1.751      0.080      -0.000       0.007\n",
      "Main_genre_drama         0.0214      0.003      7.499      0.000       0.016       0.027\n",
      "Main_genre_thriller   9.182e-05      0.003      0.032      0.975      -0.006       0.006\n",
      "Main_genre_comedy        0.0120      0.003      4.515      0.000       0.007       0.017\n",
      "Main_genre_fantasy       0.0022      0.002      1.022      0.307      -0.002       0.007\n",
      "Main_genre_horror        0.0063      0.002      3.086      0.002       0.002       0.010\n",
      "Movie_release_date      -0.0312      0.002    -17.108      0.000      -0.035      -0.028\n",
      "Box_office_companies    -0.0049      0.002     -2.730      0.006      -0.008      -0.001\n",
      "log_Num_votes            0.0809      0.002     41.071      0.000       0.077       0.085\n",
      "==============================================================================\n",
      "Omnibus:                      319.411   Durbin-Watson:                   1.850\n",
      "Prob(Omnibus):                  0.000   Jarque-Bera (JB):             3661.136\n",
      "Skew:                           0.252   Prob(JB):                         0.00\n",
      "Kurtosis:                       9.270   Cond. No.                         3.79\n",
      "==============================================================================\n",
      "\n",
      "Notes:\n",
      "[1] Standard Errors assume that the covariance matrix of the errors is correctly specified.\n"
     ]
    }
   ],
   "source": [
    "final_df_regression = evaluation_utils.calculate_weighted_success(final_df_regression, 0.67)\n",
    "\n",
    "indep_vars = [\"Female_actors\", \"Male_actors\", \"Movie_runtime\", \"Is_not_only_english\", \n",
    "                   \"Is_USA_movie\",  \"Main_genre_drama\",\n",
    "                   \"Main_genre_thriller\", \"Main_genre_comedy\", \"Main_genre_fantasy\", \"Main_genre_horror\", \"Movie_release_date\",\n",
    "                   \"Box_office_companies\", \"log_Num_votes\"]\n",
    "\n",
    "dep_vars = \"Movie_success\"\n",
    "\n",
    "X = final_df_regression[indep_vars]\n",
    "y = final_df_regression[dep_vars]\n",
    "\n",
    "scaler = StandardScaler()\n",
    "X_scaled = scaler.fit_transform(X)\n",
    "\n",
    "X_scaled = pd.DataFrame(X_scaled, columns=X.columns, index=X.index)\n",
    "\n",
    "X_scaled_wconst = sm.add_constant(X_scaled)\n",
    "\n",
    "model = sm.OLS(y, X_scaled_wconst).fit()\n",
    "print(model.summary())"
   ]
  },
  {
   "cell_type": "code",
   "execution_count": 83,
   "metadata": {},
   "outputs": [
    {
     "name": "stdout",
     "output_type": "stream",
     "text": [
      "                 Feature  VIF\n",
      "0          Female_actors 1.12\n",
      "1            Male_actors 1.23\n",
      "2          Movie_runtime 1.48\n",
      "3    Is_not_only_english 1.10\n",
      "4           Is_USA_movie 1.06\n",
      "5       Main_genre_drama 2.70\n",
      "6    Main_genre_thriller 2.83\n",
      "7      Main_genre_comedy 2.34\n",
      "8     Main_genre_fantasy 1.59\n",
      "9      Main_genre_horror 1.38\n",
      "10    Movie_release_date 1.11\n",
      "11  Box_office_companies 1.06\n",
      "12         log_Num_votes 1.29\n"
     ]
    }
   ],
   "source": [
    "# Create a DataFrame to store VIF values\n",
    "vif_data = pd.DataFrame()\n",
    "vif_data[\"Feature\"] = X_scaled.columns\n",
    "\n",
    "# Calculate VIF for each feature\n",
    "vif_data[\"VIF\"] = [variance_inflation_factor(X_scaled.values, i) for i in range(X_scaled.shape[1])]\n",
    "\n",
    "# Display VIF values\n",
    "print(vif_data)"
   ]
  },
  {
   "cell_type": "markdown",
   "metadata": {},
   "source": [
    "### 4. How does it compare to streaming platforms?"
   ]
  },
  {
   "cell_type": "markdown",
   "metadata": {},
   "source": [
    "In this section, we want to expand our study by analyzing data from various streaming platforms. We focus on the movies of Netflix, Amazon Prime, Disney+, and Hulu. To achieve this, we created a dataset by merging data from multiple sources found on Kaggle.\n",
    "\n",
    "\n",
    "This dataset structure enables comprehensive analysis across various dimensions such as gender repartition in the cast, the ratings and description. Using these columns, we can investigate how streaming platform movies differ in content and ratings compared to traditional box office movies.\n",
    "\n"
   ]
  },
  {
   "cell_type": "code",
   "execution_count": 84,
   "metadata": {},
   "outputs": [],
   "source": [
    "streaming_df = get_streaming_dataframe()"
   ]
  },
  {
   "cell_type": "code",
   "execution_count": 85,
   "metadata": {},
   "outputs": [
    {
     "data": {
      "text/html": [
       "<div>\n",
       "<style scoped>\n",
       "    .dataframe tbody tr th:only-of-type {\n",
       "        vertical-align: middle;\n",
       "    }\n",
       "\n",
       "    .dataframe tbody tr th {\n",
       "        vertical-align: top;\n",
       "    }\n",
       "\n",
       "    .dataframe thead th {\n",
       "        text-align: right;\n",
       "    }\n",
       "</style>\n",
       "<table border=\"1\" class=\"dataframe\">\n",
       "  <thead>\n",
       "    <tr style=\"text-align: right;\">\n",
       "      <th></th>\n",
       "      <th>Show_id</th>\n",
       "      <th>Type</th>\n",
       "      <th>Movie_name</th>\n",
       "      <th>Director</th>\n",
       "      <th>Cast</th>\n",
       "      <th>Movie_countries</th>\n",
       "      <th>Date_added</th>\n",
       "      <th>Movie_release_date</th>\n",
       "      <th>Age_ratings</th>\n",
       "      <th>Movie_runtime</th>\n",
       "      <th>Movie_genres</th>\n",
       "      <th>Description</th>\n",
       "      <th>Platform</th>\n",
       "      <th>Male_actors</th>\n",
       "      <th>Female_actors</th>\n",
       "      <th>Average_ratings</th>\n",
       "      <th>Num_votes</th>\n",
       "      <th>Is_Adult</th>\n",
       "      <th>Movie_languages</th>\n",
       "    </tr>\n",
       "  </thead>\n",
       "  <tbody>\n",
       "    <tr>\n",
       "      <th>1</th>\n",
       "      <td>s8</td>\n",
       "      <td>Movie</td>\n",
       "      <td>Sankofa</td>\n",
       "      <td>Haile Gerima</td>\n",
       "      <td>Kofi Ghanaba, Oyafunmike Ogunlano, Alexandra D...</td>\n",
       "      <td>United States, Ghana, Burkina Faso, United Kin...</td>\n",
       "      <td>September 24, 2021</td>\n",
       "      <td>1993</td>\n",
       "      <td>TV-MA</td>\n",
       "      <td>125.00</td>\n",
       "      <td>Drama &amp; Emotion</td>\n",
       "      <td>On a photo shoot in Ghana, an American model s...</td>\n",
       "      <td>Netflix</td>\n",
       "      <td>2</td>\n",
       "      <td>2</td>\n",
       "      <td>7.00</td>\n",
       "      <td>859</td>\n",
       "      <td>1</td>\n",
       "      <td>German, English, French</td>\n",
       "    </tr>\n",
       "    <tr>\n",
       "      <th>2</th>\n",
       "      <td>s10</td>\n",
       "      <td>Movie</td>\n",
       "      <td>The Starling</td>\n",
       "      <td>Theodore Melfi</td>\n",
       "      <td>Melissa McCarthy, Chris O'Dowd, Kevin Kline, T...</td>\n",
       "      <td>United States</td>\n",
       "      <td>September 24, 2021</td>\n",
       "      <td>2021</td>\n",
       "      <td>PG-13</td>\n",
       "      <td>104.00</td>\n",
       "      <td>Drama &amp; Emotion, Comedy &amp; Light-Hearted</td>\n",
       "      <td>A woman adjusting to life after a loss contend...</td>\n",
       "      <td>Netflix</td>\n",
       "      <td>5</td>\n",
       "      <td>6</td>\n",
       "      <td>6.40</td>\n",
       "      <td>15653</td>\n",
       "      <td>0</td>\n",
       "      <td>English</td>\n",
       "    </tr>\n",
       "    <tr>\n",
       "      <th>3</th>\n",
       "      <td>s13</td>\n",
       "      <td>Movie</td>\n",
       "      <td>Je Suis Karl</td>\n",
       "      <td>Christian Schwochow</td>\n",
       "      <td>Luna Wedler, Jannis Niewöhner, Milan Peschel, ...</td>\n",
       "      <td>Germany, Czech Republic</td>\n",
       "      <td>September 23, 2021</td>\n",
       "      <td>2021</td>\n",
       "      <td>TV-MA</td>\n",
       "      <td>127.00</td>\n",
       "      <td>Drama &amp; Emotion</td>\n",
       "      <td>After most of her family is murdered in a terr...</td>\n",
       "      <td>Netflix</td>\n",
       "      <td>3</td>\n",
       "      <td>6</td>\n",
       "      <td>5.60</td>\n",
       "      <td>1622</td>\n",
       "      <td>1</td>\n",
       "      <td>German, Czech</td>\n",
       "    </tr>\n",
       "    <tr>\n",
       "      <th>8</th>\n",
       "      <td>s25</td>\n",
       "      <td>Movie</td>\n",
       "      <td>Jeans</td>\n",
       "      <td>S. Shankar</td>\n",
       "      <td>Prashanth, Aishwarya Rai Bachchan, Sri Lakshmi...</td>\n",
       "      <td>India</td>\n",
       "      <td>September 21, 2021</td>\n",
       "      <td>1998</td>\n",
       "      <td>TV-14</td>\n",
       "      <td>166.00</td>\n",
       "      <td>Drama &amp; Emotion, Comedy &amp; Light-Hearted</td>\n",
       "      <td>When the father of the man she loves insists t...</td>\n",
       "      <td>Netflix</td>\n",
       "      <td>0</td>\n",
       "      <td>1</td>\n",
       "      <td>6.50</td>\n",
       "      <td>4085</td>\n",
       "      <td>0</td>\n",
       "      <td>Hindi</td>\n",
       "    </tr>\n",
       "    <tr>\n",
       "      <th>9</th>\n",
       "      <td>s28</td>\n",
       "      <td>Movie</td>\n",
       "      <td>Grown Ups</td>\n",
       "      <td>Dennis Dugan</td>\n",
       "      <td>Adam Sandler, Kevin James, Chris Rock, David S...</td>\n",
       "      <td>United States</td>\n",
       "      <td>September 20, 2021</td>\n",
       "      <td>2010</td>\n",
       "      <td>PG-13</td>\n",
       "      <td>103.00</td>\n",
       "      <td>Comedy &amp; Light-Hearted</td>\n",
       "      <td>Mourning the loss of their beloved junior high...</td>\n",
       "      <td>Netflix</td>\n",
       "      <td>5</td>\n",
       "      <td>6</td>\n",
       "      <td>6.00</td>\n",
       "      <td>286335</td>\n",
       "      <td>0</td>\n",
       "      <td>English</td>\n",
       "    </tr>\n",
       "  </tbody>\n",
       "</table>\n",
       "</div>"
      ],
      "text/plain": [
       "  Show_id   Type    Movie_name             Director  \\\n",
       "1      s8  Movie       Sankofa         Haile Gerima   \n",
       "2     s10  Movie  The Starling       Theodore Melfi   \n",
       "3     s13  Movie  Je Suis Karl  Christian Schwochow   \n",
       "8     s25  Movie         Jeans           S. Shankar   \n",
       "9     s28  Movie     Grown Ups         Dennis Dugan   \n",
       "\n",
       "                                                Cast  \\\n",
       "1  Kofi Ghanaba, Oyafunmike Ogunlano, Alexandra D...   \n",
       "2  Melissa McCarthy, Chris O'Dowd, Kevin Kline, T...   \n",
       "3  Luna Wedler, Jannis Niewöhner, Milan Peschel, ...   \n",
       "8  Prashanth, Aishwarya Rai Bachchan, Sri Lakshmi...   \n",
       "9  Adam Sandler, Kevin James, Chris Rock, David S...   \n",
       "\n",
       "                                     Movie_countries          Date_added  \\\n",
       "1  United States, Ghana, Burkina Faso, United Kin...  September 24, 2021   \n",
       "2                                      United States  September 24, 2021   \n",
       "3                            Germany, Czech Republic  September 23, 2021   \n",
       "8                                              India  September 21, 2021   \n",
       "9                                      United States  September 20, 2021   \n",
       "\n",
       "   Movie_release_date Age_ratings  Movie_runtime  \\\n",
       "1                1993       TV-MA         125.00   \n",
       "2                2021       PG-13         104.00   \n",
       "3                2021       TV-MA         127.00   \n",
       "8                1998       TV-14         166.00   \n",
       "9                2010       PG-13         103.00   \n",
       "\n",
       "                              Movie_genres  \\\n",
       "1                          Drama & Emotion   \n",
       "2  Drama & Emotion, Comedy & Light-Hearted   \n",
       "3                          Drama & Emotion   \n",
       "8  Drama & Emotion, Comedy & Light-Hearted   \n",
       "9                   Comedy & Light-Hearted   \n",
       "\n",
       "                                         Description Platform  Male_actors  \\\n",
       "1  On a photo shoot in Ghana, an American model s...  Netflix            2   \n",
       "2  A woman adjusting to life after a loss contend...  Netflix            5   \n",
       "3  After most of her family is murdered in a terr...  Netflix            3   \n",
       "8  When the father of the man she loves insists t...  Netflix            0   \n",
       "9  Mourning the loss of their beloved junior high...  Netflix            5   \n",
       "\n",
       "   Female_actors  Average_ratings  Num_votes  Is_Adult  \\\n",
       "1              2             7.00        859         1   \n",
       "2              6             6.40      15653         0   \n",
       "3              6             5.60       1622         1   \n",
       "8              1             6.50       4085         0   \n",
       "9              6             6.00     286335         0   \n",
       "\n",
       "           Movie_languages  \n",
       "1  German, English, French  \n",
       "2                  English  \n",
       "3            German, Czech  \n",
       "8                    Hindi  \n",
       "9                  English  "
      ]
     },
     "execution_count": 85,
     "metadata": {},
     "output_type": "execute_result"
    }
   ],
   "source": [
    "streaming_df.head()"
   ]
  },
  {
   "cell_type": "code",
   "execution_count": 86,
   "metadata": {},
   "outputs": [],
   "source": [
    "streaming_df.drop_duplicates(inplace=True)\n"
   ]
  },
  {
   "cell_type": "markdown",
   "metadata": {},
   "source": [
    "a. <u>Numerical Analysis</u>: "
   ]
  },
  {
   "cell_type": "code",
   "execution_count": 87,
   "metadata": {},
   "outputs": [],
   "source": [
    "eda_streaming = EDA(streaming_df.copy())\n"
   ]
  },
  {
   "cell_type": "code",
   "execution_count": 88,
   "metadata": {},
   "outputs": [
    {
     "name": "stdout",
     "output_type": "stream",
     "text": [
      "Warning: The following columns are missing and will be ignored: ['Movie_budget', 'Final_movie_revenue', 'ROI']\n"
     ]
    },
    {
     "data": {
      "text/html": [
       "<div>\n",
       "<style scoped>\n",
       "    .dataframe tbody tr th:only-of-type {\n",
       "        vertical-align: middle;\n",
       "    }\n",
       "\n",
       "    .dataframe tbody tr th {\n",
       "        vertical-align: top;\n",
       "    }\n",
       "\n",
       "    .dataframe thead th {\n",
       "        text-align: right;\n",
       "    }\n",
       "</style>\n",
       "<table border=\"1\" class=\"dataframe\">\n",
       "  <thead>\n",
       "    <tr style=\"text-align: right;\">\n",
       "      <th></th>\n",
       "      <th>Min</th>\n",
       "      <th>Max</th>\n",
       "      <th>Mean</th>\n",
       "      <th>SD</th>\n",
       "      <th>Median</th>\n",
       "    </tr>\n",
       "  </thead>\n",
       "  <tbody>\n",
       "    <tr>\n",
       "      <th>Average_ratings</th>\n",
       "      <td>1.50</td>\n",
       "      <td>10.00</td>\n",
       "      <td>6.31</td>\n",
       "      <td>1.20</td>\n",
       "      <td>6.40</td>\n",
       "    </tr>\n",
       "    <tr>\n",
       "      <th>Num_votes</th>\n",
       "      <td>5.00</td>\n",
       "      <td>2,612,159.00</td>\n",
       "      <td>42,414.68</td>\n",
       "      <td>135,616.58</td>\n",
       "      <td>2,596.00</td>\n",
       "    </tr>\n",
       "    <tr>\n",
       "      <th>Movie_release_date</th>\n",
       "      <td>1,928.00</td>\n",
       "      <td>2,021.00</td>\n",
       "      <td>2,011.11</td>\n",
       "      <td>12.13</td>\n",
       "      <td>2,016.00</td>\n",
       "    </tr>\n",
       "    <tr>\n",
       "      <th>Movie_runtime</th>\n",
       "      <td>4.00</td>\n",
       "      <td>312.00</td>\n",
       "      <td>103.19</td>\n",
       "      <td>27.68</td>\n",
       "      <td>101.00</td>\n",
       "    </tr>\n",
       "    <tr>\n",
       "      <th>Female_actors</th>\n",
       "      <td>0.00</td>\n",
       "      <td>27.00</td>\n",
       "      <td>3.23</td>\n",
       "      <td>2.23</td>\n",
       "      <td>3.00</td>\n",
       "    </tr>\n",
       "    <tr>\n",
       "      <th>Male_actors</th>\n",
       "      <td>0.00</td>\n",
       "      <td>35.00</td>\n",
       "      <td>4.06</td>\n",
       "      <td>2.59</td>\n",
       "      <td>4.00</td>\n",
       "    </tr>\n",
       "  </tbody>\n",
       "</table>\n",
       "</div>"
      ],
      "text/plain": [
       "                        Min          Max      Mean         SD   Median\n",
       "Average_ratings        1.50        10.00      6.31       1.20     6.40\n",
       "Num_votes              5.00 2,612,159.00 42,414.68 135,616.58 2,596.00\n",
       "Movie_release_date 1,928.00     2,021.00  2,011.11      12.13 2,016.00\n",
       "Movie_runtime          4.00       312.00    103.19      27.68   101.00\n",
       "Female_actors          0.00        27.00      3.23       2.23     3.00\n",
       "Male_actors            0.00        35.00      4.06       2.59     4.00"
      ]
     },
     "execution_count": 88,
     "metadata": {},
     "output_type": "execute_result"
    }
   ],
   "source": [
    "pd.options.display.float_format = \"{:,.2f}\".format\n",
    "\n",
    "# Filtrer uniquement les colonnes qui existent dans la dataframe\n",
    "existing_numeric_columns = [col for col in eda_streaming.numeric_columns if col in eda_streaming.dataframe.columns]\n",
    "\n",
    "# Convert columns to numeric for existing columns and drop rows with missing data\n",
    "eda_streaming.dataframe[existing_numeric_columns] = eda_streaming.dataframe[existing_numeric_columns].apply(pd.to_numeric, errors=\"coerce\")\n",
    "eda_streaming.dataframe.dropna(subset=existing_numeric_columns, inplace=True)\n",
    "\n",
    "# Summary statistics\n",
    "summary_table = eda_streaming.summary_bis()\n",
    "\n",
    "summary_table\n"
   ]
  },
  {
   "cell_type": "code",
   "execution_count": 90,
   "metadata": {},
   "outputs": [
    {
     "data": {
      "image/png": "[encoded data removed]",
      "text/plain": [
       "<Figure size 1080x576 with 5 Axes>"
      ]
     },
     "metadata": {
      "needs_background": "light"
     },
     "output_type": "display_data"
    }
   ],
   "source": [
    "eda_streaming.plot_histograms(\n",
    "    variables=[\"Num_votes\", \"Movie_release_date\", \"Movie_runtime\", \"Female_actors\", \"Male_actors\"],\n",
    "    title=\"Figure 2: Histogram of Independent Variables\",\n",
    "    bins=15,\n",
    "    layout=(2, 3)\n",
    ")"
   ]
  },
  {
   "cell_type": "markdown",
   "metadata": {},
   "source": [
    "Release_year : The majority of movies in the dataset are very recent with an increase after the year 2000. This distribution seems to be logical beause streaming platform really took place recently.\n",
    "\n",
    "Movie_runtime: The duration of most movies is between 90 and 120 minutes, which is typical for films.\n",
    "\n",
    "Female_count and male_count: We can see that the number of men is greater than women but this difference is lower than for CMU/IMDB movies.\n",
    "\n"
   ]
  },
  {
   "cell_type": "markdown",
   "metadata": {},
   "source": [
    "## PEUT ETRE CHANGER LE SCALE DE NUMVOTES"
   ]
  },
  {
   "cell_type": "code",
   "execution_count": null,
   "metadata": {},
   "outputs": [],
   "source": [
    "# Apply log transformation to skewed independent variables\n",
    "eda_streaming.dataframe = evaluation_utils.log_transform(eda_streaming.dataframe, [\"Num_votes\", \"Movie_runtime\", \"Female_actors\", \"Male_actors\"])\n",
    "\n",
    "eda_streaming.plot_log_transformed_independent_histograms()"
   ]
  },
  {
   "cell_type": "markdown",
   "metadata": {},
   "source": [
    "Log_Num_Votes : The histogram shows a near symmetric distribution of log transformed movie votes resembling a normal distribution. Most movies have log-votes between 6 and 10.\n",
    "\n",
    "Log_Movie_runtime: Most movies have a log runtime between 4 and 5, with the distribution slightly skewed to the right.\n",
    "\n",
    "Log_Male_actors and log_female_actors : The log of female actors is slightly lower than the log of male actors. "
   ]
  },
  {
   "cell_type": "code",
   "execution_count": null,
   "metadata": {},
   "outputs": [],
   "source": [
    "eda_streaming.numeric_columns = [\"Average_ratings\",\n",
    "                   \"log_Num_votes\",\n",
    "                   \"Movie_release_date\",\n",
    "                   #\"log_Final_movie_revenue\",\n",
    "                   #\"log_ROI\",   # je crois juste lui je le teje \n",
    "                   \"log_Movie_runtime\",\n",
    "                   \"log_Female_actors\",\n",
    "                   \"log_Male_actors\",\n",
    "                   #\"Movie_success\"\n",
    "                   ]\n",
    "\n",
    "eda_streaming.plot_boxplots()"
   ]
  },
  {
   "cell_type": "markdown",
   "metadata": {},
   "source": [
    "As we did in the previous part, we now have to focus on outliers and removing them for a more accurate modeling."
   ]
  },
  {
   "cell_type": "code",
   "execution_count": null,
   "metadata": {},
   "outputs": [],
   "source": [
    "\n",
    "eda_streaming.dataframe = data_utils.remove_outliers(eda_streaming.dataframe, eda_streaming.numeric_columns)\n",
    "\n",
    "eda_streaming.plot_boxplots()"
   ]
  },
  {
   "cell_type": "code",
   "execution_count": null,
   "metadata": {},
   "outputs": [],
   "source": [
    "print(f\"After removing the outliers and dropping the null values, we are left with {len(eda_streaming.dataframe):,} movies.\")"
   ]
  },
  {
   "cell_type": "markdown",
   "metadata": {},
   "source": [
    "##### 4.1.2 Bivariate Analysis of continuous variables"
   ]
  },
  {
   "cell_type": "code",
   "execution_count": null,
   "metadata": {},
   "outputs": [],
   "source": [
    "eda_streaming.plot_correlation_matrix()"
   ]
  },
  {
   "cell_type": "markdown",
   "metadata": {},
   "source": [
    "The number of votes and gender composition (especially the number of male actors) seem to influence movie duration. It suggests that popularity and cast composition could impact movie production characteristics.\n",
    "Weak correlations between movie duration and other variables indicate that duration might not strongly determine popularity based on votes.\n",
    "This correlation matrix suggests further analysis like regression that could help separate and clarify the effects of gender and duration on popularity."
   ]
  },
  {
   "cell_type": "markdown",
   "metadata": {},
   "source": [
    "#### 4.1.3 Analysis and encoding of categorical variables\n",
    "Regression analysis with many categorical variables can quickly get complicated. Indeed using a boolean value for each category except one can cause us to have too many regressors. For variables like isAdult and Gender it is easy as there are only two possibilities. However, for Movie_genre, Movie_countries and Movie_languages we can quickly get into the hundreds. Here is how we plan on managing this:"
   ]
  },
  {
   "cell_type": "markdown",
   "metadata": {},
   "source": [
    "##### 4.1.3.1 Analysis of the Movies' genres"
   ]
  },
  {
   "cell_type": "markdown",
   "metadata": {},
   "source": [
    "We set a cutoff threshold of 500. This means all genres with less than 500 occurences will be discarded. "
   ]
  },
  {
   "cell_type": "code",
   "execution_count": null,
   "metadata": {},
   "outputs": [],
   "source": [
    "filtered_genre_counts = eda_streaming.filter_and_count(column_name=\"Movie_genres\", threshold=500)"
   ]
  },
  {
   "cell_type": "markdown",
   "metadata": {},
   "source": [
    "Let us check if this restricts our study to too few movies."
   ]
  },
  {
   "cell_type": "code",
   "execution_count": null,
   "metadata": {},
   "outputs": [],
   "source": [
    "popular_genres = eda_streaming.analyze_popular_genres(filtered_genre_counts=filtered_genre_counts)"
   ]
  },
  {
   "cell_type": "code",
   "execution_count": null,
   "metadata": {},
   "outputs": [],
   "source": []
  },
  {
   "cell_type": "markdown",
   "metadata": {},
   "source": [
    "We choose to only keep only the movies xhich have at more 2 genres and create dummies with all other combinations."
   ]
  },
  {
   "cell_type": "code",
   "execution_count": null,
   "metadata": {},
   "outputs": [],
   "source": [
    "eda_streaming.dataframe = eda_streaming.dataframe[eda_streaming.dataframe[\"Movie_genres\"].apply(lambda x: len(x.split(\",\")) <= 2)]"
   ]
  },
  {
   "cell_type": "code",
   "execution_count": null,
   "metadata": {},
   "outputs": [],
   "source": [
    "eda_streaming.dataframe[\"Movie_genres\"].value_counts()"
   ]
  },
  {
   "cell_type": "code",
   "execution_count": null,
   "metadata": {},
   "outputs": [],
   "source": [
    "\n",
    "dummies = pd.get_dummies(eda_streaming.dataframe[\"Movie_genres\"], prefix=\"Movie_genres\", drop_first=True)\n",
    "\n",
    "dummy_columns = dummies.columns.tolist()\n",
    "print(\"Dummies columns :\", dummy_columns)\n"
   ]
  },
  {
   "cell_type": "code",
   "execution_count": null,
   "metadata": {},
   "outputs": [],
   "source": [
    "#eda_streaming.dataframe = pd.get_dummies(eda_streaming.dataframe, columns=[\"Movie_genres\"], drop_first=True) \n",
    "eda_streaming.dataframe = pd.concat([eda_streaming.dataframe, dummies], axis=1)\n",
    "\n",
    "eda_streaming.dataframe.sample(5)"
   ]
  },
  {
   "cell_type": "markdown",
   "metadata": {},
   "source": [
    "##### 1.1.3.2 Analysis of the Movies' languages"
   ]
  },
  {
   "cell_type": "markdown",
   "metadata": {},
   "source": [
    "We will plot the top 5 languages by number of occurences:"
   ]
  },
  {
   "cell_type": "code",
   "execution_count": null,
   "metadata": {},
   "outputs": [],
   "source": [
    "eda_streaming.analyze_languages()"
   ]
  },
  {
   "cell_type": "markdown",
   "metadata": {},
   "source": [
    "Categorizing movies into two groups: \n",
    "- those available exclusively in English, \n",
    "- those available in other languages (which may include English alongside another language).\n",
    "\n",
    "This will be done through the creation of the boolean \"Is_not_only_english\" which is True when the movie is available in another language."
   ]
  },
  {
   "cell_type": "code",
   "execution_count": null,
   "metadata": {},
   "outputs": [],
   "source": [
    "eda_streaming.categorize_languages()"
   ]
  },
  {
   "cell_type": "markdown",
   "metadata": {},
   "source": [
    "##### 1.1.3.2 Analysis of the Movies' countries"
   ]
  },
  {
   "cell_type": "code",
   "execution_count": null,
   "metadata": {},
   "outputs": [],
   "source": [
    "eda_streaming.analyze_countries()"
   ]
  },
  {
   "cell_type": "markdown",
   "metadata": {},
   "source": [
    "We have a very similar situation to the languages. The United States of America have a much more prominent number of movies. We will thus proceed like previously by categorizing the movies into two groups:\n",
    "- USA movies \n",
    "- Movies from other countries \n",
    "\n",
    "This will be done through the creation of the boolean \"Is_USA_movie\" which is True when the movie is from the USA."
   ]
  },
  {
   "cell_type": "code",
   "execution_count": null,
   "metadata": {},
   "outputs": [],
   "source": [
    "count_usa_movies = (eda_streaming.dataframe[\"Movie_countries\"] == \"United States\").sum()\n",
    "count_other_countries_movie = len(eda_streaming.dataframe) - count_usa_movies \n",
    "print(f\"There are {count_usa_movies} USA movies and {count_other_countries_movie} movies from other countries.\")"
   ]
  },
  {
   "cell_type": "code",
   "execution_count": null,
   "metadata": {},
   "outputs": [],
   "source": [
    "eda_streaming.categorize_countries_bis()"
   ]
  },
  {
   "cell_type": "markdown",
   "metadata": {},
   "source": [
    "##### 1.1.3.2 Analysis of the Movies' streaming platforms "
   ]
  },
  {
   "cell_type": "markdown",
   "metadata": {},
   "source": [
    "We created dummy variables for the streaming platforms(Netflix, Disney, Amazon prime). Each platform is now a column with 0 or 1, where 1 means the movie is available on that platform."
   ]
  },
  {
   "cell_type": "code",
   "execution_count": null,
   "metadata": {},
   "outputs": [],
   "source": [
    "eda_streaming.dataframe = pd.get_dummies(eda_streaming.dataframe, columns=[\"Platform\"], drop_first=True) \n",
    "eda_streaming.dataframe.sample(5)"
   ]
  },
  {
   "cell_type": "markdown",
   "metadata": {},
   "source": [
    "### 1.3 Linear Regression"
   ]
  },
  {
   "cell_type": "code",
   "execution_count": null,
   "metadata": {},
   "outputs": [],
   "source": [
    "streaming_df_regression = eda_streaming.dataframe.copy()"
   ]
  },
  {
   "cell_type": "code",
   "execution_count": null,
   "metadata": {},
   "outputs": [],
   "source": [
    "print(streaming_df_regression.columns)"
   ]
  },
  {
   "cell_type": "code",
   "execution_count": null,
   "metadata": {},
   "outputs": [],
   "source": [
    "indep_vars1=[\"log_Female_actors\", \"log_Male_actors\", \"Num_votes\", \"log_Movie_runtime\", \"Is_not_only_english\", \"Is_USA_movie\",\n",
    "          'Platform_Disney', 'Platform_Netflix', \"Is_Adult\"]\n",
    "\n",
    "indep_vars=np.hstack([indep_vars1, dummy_columns])\n",
    "dep_vars = \"Average_ratings\"\n",
    "\n",
    "X = streaming_df_regression[indep_vars]\n",
    "y = streaming_df_regression[dep_vars]\n",
    "\n",
    "scaler = StandardScaler()\n",
    "X_scaled_streaming = scaler.fit_transform(X)\n",
    "\n",
    "X_scaled_streaming = pd.DataFrame(X_scaled_streaming, columns=X.columns, index=X.index)\n",
    "\n",
    "X_scaled_wconst_streaming = sm.add_constant(X_scaled_streaming)"
   ]
  },
  {
   "cell_type": "code",
   "execution_count": null,
   "metadata": {},
   "outputs": [],
   "source": [
    "# Create a DataFrame to store VIF values\n",
    "vif_data = pd.DataFrame()\n",
    "vif_data[\"Feature\"] = X_scaled_streaming.columns\n",
    "\n",
    "# Calculate VIF for each feature\n",
    "vif_data[\"VIF\"] = [variance_inflation_factor(X_scaled_streaming.values, i) for i in range(X_scaled_streaming.shape[1])]\n",
    "\n",
    "# Display VIF values\n",
    "print(vif_data)"
   ]
  },
  {
   "cell_type": "code",
   "execution_count": null,
   "metadata": {},
   "outputs": [],
   "source": [
    "model_streaming = sm.OLS(y, X_scaled_wconst_streaming).fit()\n",
    "print(model_streaming.summary())"
   ]
  },
  {
   "cell_type": "markdown",
   "metadata": {},
   "source": [
    "### 5. <u>What are the social reasons behind the presence of female characters in movies? Is it due to sexualization or genuine equality of representation?</u>"
   ]
  },
  {
   "cell_type": "markdown",
   "metadata": {},
   "source": [
    "The first part of our analysis uses plot summaries to examine whether female characters are portrayed as having agency (taking action and driving the story) or are reduced to sexualized or objectified roles. So far, we have used LLMs, such as ChatGPT Plus, to classify plot summaries based on these criteria (contains/does not contain sexualization of females), which provided useful initial results and validated the approach. However, due to time constraints during milestone 2, we were unable to use more advanced methods, such as zero-shot or few-shot learning with models like OpenAI's GPT-4, T5, or BERT variants, which we plan to explore further in milestone 3.\n",
    "The second part of our analysis focuses on adult-rated films in the resulting merged dataframe, specifically examining the gender of the actors to understand patterns of representation."
   ]
  },
  {
   "cell_type": "code",
   "execution_count": null,
   "metadata": {},
   "outputs": [],
   "source": [
    "bechdel_df = pd.read_csv(\"data/Bechdel test/bechdel_test_movies.csv\", names=[\"Id\", \"Year\", \"Title\", \"Bechdel_rating\", \"tconst\"], header=None)\n",
    "\n",
    "bechdel_df = bechdel_df.drop(index=0)\n",
    "bechdel_df.head()"
   ]
  },
  {
   "cell_type": "code",
   "execution_count": null,
   "metadata": {},
   "outputs": [],
   "source": [
    "bechdel_df[\"tconst\"] = bechdel_df[\"tconst\"].apply(lambda x : \"tt\"+str(x))\n",
    "bechdel_df.head()"
   ]
  },
  {
   "cell_type": "code",
   "execution_count": null,
   "metadata": {},
   "outputs": [],
   "source": [
    "final_final_df = pd.merge(eda.dataframe.copy(), bechdel_df, on=\"tconst\")\n",
    "len(final_final_df)"
   ]
  },
  {
   "cell_type": "code",
   "execution_count": null,
   "metadata": {},
   "outputs": [],
   "source": [
    "final_final_df.drop(columns=[\"tconst\"])\n",
    "final_final_df[\"Bechdel_rating\"].value_counts()"
   ]
  },
  {
   "cell_type": "code",
   "execution_count": null,
   "metadata": {},
   "outputs": [],
   "source": [
    "final_final_df[\"Bechdel_rating\"] = pd.to_numeric(final_final_df[\"Bechdel_rating\"])"
   ]
  },
  {
   "cell_type": "code",
   "execution_count": null,
   "metadata": {},
   "outputs": [],
   "source": [
    "indep_cols = [\"log_Female_actors\", \"log_Male_actors\", \"log_Movie_runtime\", \"Is_not_only_english\", \n",
    "                   \"Is_USA_movie\", \"Main_genre_drama\",\n",
    "                   \"Main_genre_thriller\", \"Main_genre_comedy\", \"Main_genre_romance_film\", \"Start_year\",\n",
    "                   \"Box_office_companies\", \"Bechdel_rating\", \"log_Num_votes\"]\n",
    "\n",
    "X = final_final_df[indep_cols]\n",
    "\n",
    "y = final_final_df[\"Log_ROI\"]"
   ]
  },
  {
   "cell_type": "code",
   "execution_count": null,
   "metadata": {},
   "outputs": [],
   "source": [
    "from sklearn.preprocessing import StandardScaler\n",
    "import statsmodels.api as sm\n",
    "\n",
    "scaler = StandardScaler()\n",
    "X_scaled = scaler.fit_transform(X)\n",
    "\n",
    "X_scaled = pd.DataFrame(X_scaled, columns=X.columns, index=X.index)\n",
    "\n",
    "X_scaled_wconst = sm.add_constant(X_scaled)\n",
    "\n",
    "model = sm.OLS(y, X_scaled_wconst).fit()\n",
    "print(model.summary())"
   ]
  },
  {
   "cell_type": "code",
   "execution_count": null,
   "metadata": {},
   "outputs": [],
   "source": [
    "from statsmodels.stats.outliers_influence import variance_inflation_factor\n",
    "\n",
    "# Create a DataFrame to store VIF values\n",
    "vif_data = pd.DataFrame()\n",
    "vif_data[\"Feature\"] = X_scaled.columns\n",
    "\n",
    "# Calculate VIF for each feature\n",
    "vif_data[\"VIF\"] = [variance_inflation_factor(X_scaled.values, i) for i in range(X_scaled.shape[1])]\n",
    "\n",
    "# Display VIF values\n",
    "print(vif_data)"
   ]
  },
  {
   "cell_type": "code",
   "execution_count": null,
   "metadata": {},
   "outputs": [],
   "source": [
    "indep_cols = [\"log_Female_actors\", \"log_Male_actors\", \"Movie_runtime\", \"Is_not_only_english\", \n",
    "                   \"Is_USA_movie\", \"Main_genre_drama\",\n",
    "                   \"Main_genre_thriller\", \"Main_genre_comedy\", \"Main_genre_romance_film\", \"Start_year\",\n",
    "                   \"Box_office_companies\", \"Bechdel_rating\", \"Log_ROI\"]\n",
    "\n",
    "X = final_final_df[indep_cols]\n",
    "\n",
    "y = final_final_df[\"Normalized_Rating\"]"
   ]
  },
  {
   "cell_type": "code",
   "execution_count": null,
   "metadata": {},
   "outputs": [],
   "source": [
    "from sklearn.preprocessing import StandardScaler\n",
    "import statsmodels.api as sm\n",
    "\n",
    "scaler = StandardScaler()\n",
    "X_scaled = scaler.fit_transform(X)\n",
    "\n",
    "X_scaled = pd.DataFrame(X_scaled, columns=X.columns, index=X.index)\n",
    "\n",
    "X_scaled_wconst = sm.add_constant(X_scaled)\n",
    "\n",
    "model = sm.OLS(y, X_scaled_wconst).fit()\n",
    "print(model.summary())"
   ]
  },
  {
   "cell_type": "code",
   "execution_count": null,
   "metadata": {},
   "outputs": [],
   "source": [
    "from statsmodels.stats.outliers_influence import variance_inflation_factor\n",
    "\n",
    "# Create a DataFrame to store VIF values\n",
    "vif_data = pd.DataFrame()\n",
    "vif_data[\"Feature\"] = X_scaled.columns\n",
    "\n",
    "# Calculate VIF for each feature\n",
    "vif_data[\"VIF\"] = [variance_inflation_factor(X_scaled.values, i) for i in range(X_scaled.shape[1])]\n",
    "\n",
    "# Display VIF values\n",
    "print(vif_data)"
   ]
  },
  {
   "cell_type": "code",
   "execution_count": null,
   "metadata": {},
   "outputs": [],
   "source": [
    "indep_cols = [\"log_Female_actors\", \"log_Male_actors\", \"Movie_runtime\", \"Is_not_only_english\", \n",
    "                   \"Is_USA_movie\", \"Main_genre_drama\",\n",
    "                   \"Main_genre_thriller\", \"Main_genre_comedy\", \"Main_genre_romance_film\", \"Start_year\",\n",
    "                   \"Box_office_companies\", \"Log_ROI\"]\n",
    "\n",
    "X = final_final_df[indep_cols]\n",
    "\n",
    "y = final_final_df[\"Bechdel_rating\"]"
   ]
  },
  {
   "cell_type": "code",
   "execution_count": null,
   "metadata": {},
   "outputs": [],
   "source": [
    "from sklearn.preprocessing import StandardScaler\n",
    "import statsmodels.api as sm\n",
    "\n",
    "scaler = StandardScaler()\n",
    "X_scaled = scaler.fit_transform(X)\n",
    "\n",
    "X_scaled = pd.DataFrame(X_scaled, columns=X.columns, index=X.index)\n",
    "\n",
    "X_scaled_wconst = sm.add_constant(X_scaled)\n",
    "\n",
    "model = sm.OLS(y, X_scaled_wconst).fit()\n",
    "print(model.summary())"
   ]
  },
  {
   "cell_type": "code",
   "execution_count": null,
   "metadata": {},
   "outputs": [],
   "source": [
    "from statsmodels.stats.outliers_influence import variance_inflation_factor\n",
    "\n",
    "# Create a DataFrame to store VIF values\n",
    "vif_data = pd.DataFrame()\n",
    "vif_data[\"Feature\"] = X_scaled.columns\n",
    "\n",
    "# Calculate VIF for each feature\n",
    "vif_data[\"VIF\"] = [variance_inflation_factor(X_scaled.values, i) for i in range(X_scaled.shape[1])]\n",
    "\n",
    "# Display VIF values\n",
    "print(vif_data)"
   ]
  },
  {
   "cell_type": "markdown",
   "metadata": {},
   "source": [
    "## New Dialogue dataset"
   ]
  },
  {
   "cell_type": "code",
   "execution_count": null,
   "metadata": {},
   "outputs": [],
   "source": [
    "movie_dialogue_df = pd.read_csv(\"data/Dialogue/meta_data7.csv\",\n",
    "                                names=[\"Script_id\", \"tconst\", \"Title\", \"Year\", \"Gross\", \"Lines_Data\"], \n",
    "                                header=0, \n",
    "                                encoding=\"ISO-8859-1\")\n",
    "movie_dialogue_df.drop(columns=[\"Gross\", \"Lines_Data\"], inplace=True)\n",
    "movie_dialogue_df.head()"
   ]
  },
  {
   "cell_type": "code",
   "execution_count": null,
   "metadata": {},
   "outputs": [],
   "source": [
    "character_dialogue_df = pd.read_csv(\"data/Dialogue/character_list5.csv\",\n",
    "                                    names=[\"Script_id\", \"Character_name\", \"Words\", \"Gender\", \"Age\"], \n",
    "                                    header=0, \n",
    "                                    encoding=\"ISO-8859-1\", \n",
    "                                    na_values= \"?\")\n",
    "character_dialogue_df.dropna(subset=[\"Character_name\", \"Age\"], inplace=True)\n",
    "character_dialogue_df.head()"
   ]
  },
  {
   "cell_type": "code",
   "execution_count": null,
   "metadata": {},
   "outputs": [],
   "source": [
    "dialogue_df = pd.merge(movie_dialogue_df, character_dialogue_df, on=\"Script_id\")\n",
    "dialogue_df.drop(columns=[\"Script_id\"], inplace = True)\n",
    "\n",
    "dialogue_gender_words_df = dialogue_df.drop(columns=[\"Character_name\", \"Age\", \"Year\", \"Title\"])\n",
    "dialogue_gender_words_df.head()"
   ]
  },
  {
   "cell_type": "code",
   "execution_count": null,
   "metadata": {},
   "outputs": [],
   "source": [
    "# Group by movie and gender \n",
    "gender_word_count_df = dialogue_gender_words_df.groupby([\"tconst\", \"Gender\"])[\"Words\"].sum().unstack()\n",
    "gender_word_count_df = gender_word_count_df.rename(columns={\"f\": \"Female_word_count\", \"m\": \"Male_word_count\"})\n",
    "\n",
    "# Calculate total words per movie\n",
    "gender_word_count_df[\"Total_word_count\"] = gender_word_count_df.sum(axis=1)\n",
    "\n",
    "gender_word_count_df = gender_word_count_df.reset_index()\n",
    "gender_word_count_df.columns.name = None \n",
    "\n",
    "# Calculate the percentage of words for each gender\n",
    "gender_word_count_df['Word_percentage_men'] = (gender_word_count_df['Male_word_count'] / gender_word_count_df['Total_word_count']) * 100\n",
    "gender_word_count_df['Word_percentage_women'] = (gender_word_count_df['Female_word_count'] / gender_word_count_df['Total_word_count']) * 100\n",
    "\n",
    "gender_word_count_df.head()"
   ]
  },
  {
   "cell_type": "code",
   "execution_count": null,
   "metadata": {},
   "outputs": [],
   "source": [
    "# Prepare data for plotting\n",
    "percentage_df = pd.DataFrame({\n",
    "    \"Percentage\": list(gender_word_count_df['Word_percentage_men']) + list(gender_word_count_df['Word_percentage_women']),\n",
    "    \"Gender\": [\"Men\"] * len(gender_word_count_df) + [\"Women\"] * len(gender_word_count_df)\n",
    "})\n",
    "# Create the histogram\n",
    "fig = px.histogram(\n",
    "    percentage_df, \n",
    "    x=\"Percentage\", \n",
    "    color=\"Gender\",\n",
    "    nbins=50,\n",
    "    opacity=0.6,\n",
    "    title=\"Distribution of Word Percentage Spoken by Men and Women in Movies\",\n",
    "    labels={\"Percentage\": \"Percentage of Words Spoken\", \"Gender\": \"Gender\"}\n",
    ")\n",
    "# Update layout for a clean look\n",
    "fig.update_layout(\n",
    "    yaxis_title=\"Number of Movies\",  \n",
    "    barmode='overlay'  # Overlay bars for transparency\n",
    ")\n",
    "fig.show()"
   ]
  },
  {
   "cell_type": "code",
   "execution_count": null,
   "metadata": {},
   "outputs": [],
   "source": [
    "final_dialogue_df = dialogue_df.groupby(\"tconst\").agg(\n",
    "    Characters=(\"Character_name\", list),\n",
    "    Words=(\"Words\", list),\n",
    "    Gender=(\"Gender\", list)\n",
    ")\n",
    "final_dialogue_df.head()"
   ]
  },
  {
   "cell_type": "code",
   "execution_count": null,
   "metadata": {},
   "outputs": [],
   "source": [
    "dialogue_merged_df = pd.merge(final_df, final_dialogue_df, on=\"tconst\")\n",
    "len(dialogue_merged_df)"
   ]
  }
 ],
 "metadata": {
  "kernelspec": {
   "display_name": "base",
   "language": "python",
   "name": "python3"
  },
  "language_info": {
   "codemirror_mode": {
    "name": "ipython",
    "version": 3
   },
   "file_extension": ".py",
   "mimetype": "text/x-python",
   "name": "python",
   "nbconvert_exporter": "python",
   "pygments_lexer": "ipython3",
   "version": "3.9.5"
  }
 },
 "nbformat": 4,
 "nbformat_minor": 4
}
