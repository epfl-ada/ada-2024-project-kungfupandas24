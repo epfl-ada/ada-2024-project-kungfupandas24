{
 "cells": [
  {
   "cell_type": "markdown",
   "metadata": {},
   "source": [
    "<div style=\"text-align: center;\">\n",
    "<h1>Reel Realities: How Gender and Age Shape Success Across Box Office and Streaming Platforms</h1>\n",
    "</div>"
   ]
  },
  {
   "cell_type": "markdown",
   "metadata": {},
   "source": [
    "### <u>Imports</u>"
   ]
  },
  {
   "cell_type": "code",
   "execution_count": 1,
   "metadata": {},
   "outputs": [],
   "source": [
    "import pandas as pd\n",
    "import matplotlib.pyplot as plt\n",
    "import re\n",
    "import numpy as np\n",
    "import seaborn as sns\n",
    "import math\n",
    "\n",
    "from src.data.dataloader import (\n",
    "    CMUDatasetLoader, IMDBDatasetLoader, KaggleDatasetLoader, NumbersDatasetLoader)\n",
    "import src.utils.data_utils as data_utils\n",
    "import src.utils.evaluation_utils as evaluation_utils\n",
    "import warnings\n",
    "\n",
    "# Suppress specific FutureWarnings about is_sparse being deprecated\n",
    "warnings.filterwarnings(action='ignore', category=FutureWarning, module='sklearn', message='.*is_sparse is deprecated.*')"
   ]
  },
  {
   "cell_type": "markdown",
   "metadata": {},
   "source": [
    "### 1. <u>Data cleaning and pre-processing</u>"
   ]
  },
  {
   "cell_type": "markdown",
   "metadata": {},
   "source": [
    "#### 1.1 CMU Dataset"
   ]
  },
  {
   "cell_type": "markdown",
   "metadata": {},
   "source": [
    "We will use three files of the CMU dataset:\n",
    "1. \"plot_summaries.txt\" gives us the plots of the movies.\n",
    "2. \"movie.metadata.tsv\" gives us information about the languages, countries, and genres of the movies.\n",
    "3. \"character.metadata.tsv\" gives us information about actors and the characters they play."
   ]
  },
  {
   "cell_type": "code",
   "execution_count": 2,
   "metadata": {},
   "outputs": [
    {
     "name": "stdout",
     "output_type": "stream",
     "text": [
      "The plot summaries dataframe has 42,303 values.\n"
     ]
    }
   ],
   "source": [
    "directory = \"data\"\n",
    "CMU_loader = CMUDatasetLoader(directory)\n",
    "plot_summaries_df = CMU_loader.load_plot_summaries()\n",
    "\n",
    "print(f\"The plot summaries dataframe has {len(plot_summaries_df):,} values.\")"
   ]
  },
  {
   "cell_type": "code",
   "execution_count": 3,
   "metadata": {},
   "outputs": [
    {
     "name": "stdout",
     "output_type": "stream",
     "text": [
      "Number of null values in 'Wikipedia_movie_ID': 0\n",
      "Number of empty values in 'Wikipedia_movie_ID': 0\n",
      "Number of null values in 'Plot Summaries': 0\n",
      "Number of empty values in 'Plot Summaries': 0\n"
     ]
    }
   ],
   "source": [
    "null_id = plot_summaries_df[\"Wikipedia_movie_ID\"].isnull().sum()\n",
    "empty_id = plot_summaries_df[plot_summaries_df[\"Wikipedia_movie_ID\"] == \"\"][\"Wikipedia_movie_ID\"].sum()\n",
    "null_plot = plot_summaries_df[\"Plot Summaries\"].isnull().sum()\n",
    "empty_plot = plot_summaries_df[plot_summaries_df[\"Plot Summaries\"] == \"\"][\"Plot Summaries\"].sum()\n",
    "\n",
    "print(f\"Number of null values in 'Wikipedia_movie_ID': {null_id}\")\n",
    "print(f\"Number of empty values in 'Wikipedia_movie_ID': {empty_id}\")\n",
    "print(f\"Number of null values in 'Plot Summaries': {null_plot}\")\n",
    "print(f\"Number of empty values in 'Plot Summaries': {empty_plot}\")"
   ]
  },
  {
   "cell_type": "code",
   "execution_count": 4,
   "metadata": {},
   "outputs": [
    {
     "name": "stdout",
     "output_type": "stream",
     "text": [
      "The movie metadata dataframe has 81,741 values.\n"
     ]
    }
   ],
   "source": [
    "movie_metadata_df = CMU_loader.load_movie_metadata()\n",
    "print(f\"The movie metadata dataframe has {len(movie_metadata_df):,} values.\")"
   ]
  },
  {
   "cell_type": "code",
   "execution_count": 5,
   "metadata": {},
   "outputs": [],
   "source": [
    "movie_metadata_df[\"Movie_name\"] = (movie_metadata_df[\"Movie_name\"]\n",
    "                    .str.strip()  #Remove leading/trailing whitespace\n",
    "                    .str.lower()  #Convert to lowercase\n",
    "                    .replace(\"\", np.nan)  #Replace empty strings with NaN\n",
    "                   )"
   ]
  },
  {
   "cell_type": "code",
   "execution_count": 6,
   "metadata": {},
   "outputs": [],
   "source": [
    "# Movie languages, countries, and genres are formatted as a dictionary, but they are actually a string.\n",
    "# We convert them to comma seperated strings. \n",
    "\n",
    "column_names_to_clean = [\"Movie_countries\", \"Movie_languages\", \"Movie_genres\"]\n",
    "movie_metadata_df = data_utils.convert_dicts_to_strings(movie_metadata_df, column_names_to_clean)"
   ]
  },
  {
   "cell_type": "code",
   "execution_count": 7,
   "metadata": {},
   "outputs": [],
   "source": [
    "#Cleaning\n",
    "movie_metadata_df = data_utils.clean_string_columns(movie_metadata_df, column_names_to_clean)"
   ]
  },
  {
   "cell_type": "code",
   "execution_count": 8,
   "metadata": {},
   "outputs": [
    {
     "name": "stdout",
     "output_type": "stream",
     "text": [
      "Pattern Summary:\n",
      "                        Pattern  Count\n",
      "0       Full Date (YYYY-MM-DD)  39373\n",
      "1             Year Only (YYYY)  32172\n",
      "2                      Missing   6902\n",
      "3  Year & Month Date (YYYY-MM)   3294\n"
     ]
    }
   ],
   "source": [
    "# There are inconsistencies in the date format: some rows have the date as year only, others as year-month, and some as year-month-day. \n",
    "# We convert them all to the year format only since the month and day are not relevant to our analysis.\n",
    "movie_metadata_df, date_pattern_summary = data_utils.standardize_dates(movie_metadata_df, \"Movie_release_date\")\n",
    "print(\"Pattern Summary:\\n\", date_pattern_summary)"
   ]
  },
  {
   "cell_type": "code",
   "execution_count": 9,
   "metadata": {},
   "outputs": [
    {
     "name": "stdout",
     "output_type": "stream",
     "text": [
      "Percentage of null values per column:\n",
      "movie_metadata_df:\n",
      "Wikipedia_movie_ID           0.00%\n",
      "Freebase_movie_ID            0.00%\n",
      "Movie_name                   0.00%\n",
      "Movie_release_date           8.44%\n",
      "Movie_box_office_revenue    89.72%\n",
      "Movie_runtime               25.02%\n",
      "Movie_languages              0.00%\n",
      "Movie_countries              0.00%\n",
      "Movie_genres                 0.00%\n",
      "dtype: object\n"
     ]
    }
   ],
   "source": [
    "n_null_movie_metadata = ((movie_metadata_df.isnull().sum() / len(movie_metadata_df)) * 100).apply(lambda x: f\"{x:,.2f}%\")\n",
    "\n",
    "print(\n",
    "    f\"Percentage of null values per column:\\n\"\n",
    "    f\"movie_metadata_df:\\n{n_null_movie_metadata}\"\n",
    ")"
   ]
  },
  {
   "cell_type": "code",
   "execution_count": 10,
   "metadata": {},
   "outputs": [],
   "source": [
    "character_metadata_df = CMU_loader.load_character_metadata()"
   ]
  },
  {
   "cell_type": "code",
   "execution_count": 11,
   "metadata": {},
   "outputs": [],
   "source": [
    "character_metadata_df['Actor_name']= character_metadata_df['Actor_name'].fillna('unknown').str.lower()\n",
    "\n",
    "# Ensures that the date columns are correctly interpreted as datetime objects in pandas. \n",
    "character_metadata_df['Movie_release_date'] = pd.to_datetime(character_metadata_df['Movie_release_date'], errors='coerce').dt.date\n",
    "character_metadata_df['Actor_date_of_birth'] = pd.to_datetime(character_metadata_df['Actor_date_of_birth'], errors='coerce').dt.date\n",
    "\n",
    "# Drop rows where 'Movie_release_date' or 'Actor_date_of_birth' is NaT\n",
    "character_metadata_df.dropna(subset=['Movie_release_date', 'Actor_date_of_birth'], inplace=True)\n",
    "\n",
    "# Calculate Actor_age_at_movie_release if missing and data is available\n",
    "character_metadata_df['Actor_age_at_movie_release'] = character_metadata_df.apply(\n",
    "    lambda row: (row['Movie_release_date'] - row['Actor_date_of_birth']).days // 365 if pd.isnull(row['Actor_age_at_movie_release']) else row['Actor_age_at_movie_release'],\n",
    "    axis=1\n",
    ")"
   ]
  },
  {
   "cell_type": "code",
   "execution_count": 12,
   "metadata": {},
   "outputs": [
    {
     "name": "stdout",
     "output_type": "stream",
     "text": [
      "Movies without actor gender data: 892\n"
     ]
    }
   ],
   "source": [
    "print(f\"Movies without actor gender data: {character_metadata_df['Actor_gender'].isnull().sum()}\") "
   ]
  },
  {
   "cell_type": "markdown",
   "metadata": {},
   "source": [
    "We therefore drop the movies with no information on the gender of the actors."
   ]
  },
  {
   "cell_type": "code",
   "execution_count": 13,
   "metadata": {},
   "outputs": [],
   "source": [
    "character_metadata_df.dropna(subset=['Actor_gender'], inplace=True)"
   ]
  },
  {
   "cell_type": "markdown",
   "metadata": {},
   "source": [
    "Now, let's group the actors together by creating a *Cast* column on the *movie_metadata_df*. "
   ]
  },
  {
   "cell_type": "code",
   "execution_count": 14,
   "metadata": {},
   "outputs": [],
   "source": [
    "cast_per_movie = character_metadata_df.groupby('Freebase_movie_ID')['Actor_name'].apply(lambda x: ', '.join(x)).reset_index()\n",
    "cast_per_movie = cast_per_movie.rename(columns={'Actor_name': 'Cast'})\n",
    "\n",
    "movie_metadata_df = movie_metadata_df.merge(cast_per_movie, on='Freebase_movie_ID', how='left')"
   ]
  },
  {
   "cell_type": "code",
   "execution_count": 15,
   "metadata": {},
   "outputs": [
    {
     "name": "stdout",
     "output_type": "stream",
     "text": [
      "Movies without actor data: 48556 out of 81741 (59.40%)\n"
     ]
    }
   ],
   "source": [
    "missing_cast_count = movie_metadata_df[\"Cast\"].isna().sum()\n",
    "total_movies = len(movie_metadata_df)\n",
    "print(f\"Movies without actor data: {missing_cast_count} out of {total_movies} ({missing_cast_count / total_movies * 100:.2f}%)\")"
   ]
  },
  {
   "cell_type": "markdown",
   "metadata": {},
   "source": [
    "We decide to drop the movies without actor data since it is one of the most important data of our study. "
   ]
  },
  {
   "cell_type": "code",
   "execution_count": 16,
   "metadata": {},
   "outputs": [],
   "source": [
    "movie_metadata_df = movie_metadata_df.dropna(subset = ['Cast'])"
   ]
  },
  {
   "cell_type": "code",
   "execution_count": 17,
   "metadata": {},
   "outputs": [],
   "source": [
    "# Create columns for male, female actor counts\n",
    "actor_counts = character_metadata_df.groupby('Freebase_movie_ID')['Actor_gender'].value_counts().unstack(fill_value=0)\n",
    "actor_counts = actor_counts.rename(columns={'M': 'Male_actors', 'F': 'Female_actors'})\n",
    "\n",
    "# Ensure all columns are present (set missing columns to 0 if necessary)\n",
    "for col in ['Male_actors', 'Female_actors']:\n",
    "    if col not in actor_counts.columns:\n",
    "        actor_counts[col] = 0\n",
    "\n",
    "actor_counts = actor_counts.reset_index()\n",
    "\n",
    "# Merge actor counts with the movie_metadata_df DataFrame\n",
    "movie_metadata_df = movie_metadata_df.merge(actor_counts, on='Freebase_movie_ID', how='left')\n",
    "\n",
    "# Fill NaN values with 0 \n",
    "movie_metadata_df[['Male_actors', 'Female_actors']] = movie_metadata_df[['Male_actors', 'Female_actors']].fillna(0)"
   ]
  },
  {
   "cell_type": "code",
   "execution_count": 18,
   "metadata": {},
   "outputs": [],
   "source": [
    "# Calculate the percentage of female actors in each movie and round to two decimal places\n",
    "movie_metadata_df['Female_actor_percentage'] = (\n",
    "    (movie_metadata_df['Female_actors'] / \n",
    "     (movie_metadata_df['Female_actors'] + movie_metadata_df['Male_actors'])) * 100\n",
    ").round(2)"
   ]
  },
  {
   "cell_type": "markdown",
   "metadata": {},
   "source": [
    "#### 1.2 IMDB Dataset"
   ]
  },
  {
   "cell_type": "markdown",
   "metadata": {},
   "source": [
    "We will use two IMDB datasets to decribe movies:\n",
    "1. \"title.ratings.tsv\" gives us the ratings of the movies as voted by viewers. \n",
    "2. \"title.basics.tsv\", indexes into \"title.ratings.tsv\" using a alphanumeric unique identifier of the title. It gives general information about the movie such as runtime, release date and adult rating.\n",
    "3. \"title.crew.tsv\", indexes into the previous two using the same alphanumeric unique identifier of the title. It gives information on the directors and writers of the movie.\n",
    "\n",
    "Reference:\n",
    "Internet Movie Database. (2024). IMDb non-commercial datasets. Retrieved from https://developer.imdb.com/non-commercial-datasets/"
   ]
  },
  {
   "cell_type": "code",
   "execution_count": 19,
   "metadata": {},
   "outputs": [],
   "source": [
    "# Loading the IMDB datasets.\n",
    "IMDB_loader = IMDBDatasetLoader(directory)\n",
    "IMDB_ratings_df = IMDB_loader.load_ratings()\n",
    "\n",
    "IMDB_basics_df = IMDB_loader.load_basics()\n",
    "\n",
    "IMDB_crew_df = IMDB_loader.load_crew()"
   ]
  },
  {
   "cell_type": "code",
   "execution_count": 20,
   "metadata": {},
   "outputs": [
    {
     "name": "stdout",
     "output_type": "stream",
     "text": [
      "Length of IMDB_ratings_df: 1,498,616\n",
      "Length of IMDB_basics_df: 697,175\n",
      "Length of IMDB_crew_df: 10,571,537\n"
     ]
    }
   ],
   "source": [
    "# Checking the lengths of the datasets\n",
    "print(f\"Length of IMDB_ratings_df: {len(IMDB_ratings_df):,}\\n\"\n",
    "      f\"Length of IMDB_basics_df: {len(IMDB_basics_df):,}\\n\"\n",
    "      f\"Length of IMDB_crew_df: {len(IMDB_crew_df):,}\")"
   ]
  },
  {
   "cell_type": "markdown",
   "metadata": {},
   "source": [
    "Before dealing with the null values we will merge the dataframes together using the alphanumeric unique identifier."
   ]
  },
  {
   "cell_type": "code",
   "execution_count": 21,
   "metadata": {},
   "outputs": [],
   "source": [
    "# Merging all three datasets.\n",
    "IMDB_merged_df = pd.merge(IMDB_ratings_df, IMDB_basics_df, how=\"inner\", left_on=\"tconst\", right_on=\"tconst\")\n",
    "IMDB_merged_df = pd.merge(IMDB_merged_df, IMDB_crew_df, how=\"inner\", on=\"tconst\")"
   ]
  },
  {
   "cell_type": "code",
   "execution_count": 22,
   "metadata": {},
   "outputs": [
    {
     "name": "stdout",
     "output_type": "stream",
     "text": [
      "The resulting merged dataframe has length: 319,293.\n"
     ]
    }
   ],
   "source": [
    "print(f\"The resulting merged dataframe has length: {len(IMDB_merged_df):,}.\")"
   ]
  },
  {
   "cell_type": "markdown",
   "metadata": {},
   "source": [
    "Formatting the strings appropriately."
   ]
  },
  {
   "cell_type": "code",
   "execution_count": 23,
   "metadata": {},
   "outputs": [],
   "source": [
    "IMDB_merged_df = data_utils.clean_string_columns(IMDB_merged_df, [\"Original_title\", \"Primary_title\"])"
   ]
  },
  {
   "cell_type": "markdown",
   "metadata": {},
   "source": [
    "We can now look at null values in the merged IMDB dataframe."
   ]
  },
  {
   "cell_type": "code",
   "execution_count": 24,
   "metadata": {},
   "outputs": [
    {
     "name": "stdout",
     "output_type": "stream",
     "text": [
      "Percentage of null values per column:\n",
      "IMDB_ratings_df:\n",
      "tconst               0.00%\n",
      "Average_ratings      0.00%\n",
      "Num_votes            0.00%\n",
      "Title_type           0.00%\n",
      "Primary_title        0.00%\n",
      "Original_title       0.00%\n",
      "Is_adult             0.00%\n",
      "Start_year           0.01%\n",
      "End_year           100.00%\n",
      "Movie_runtime        9.98%\n",
      "Movie_genres         3.26%\n",
      "Directors            0.98%\n",
      "Writers             12.30%\n",
      "dtype: object\n"
     ]
    }
   ],
   "source": [
    "# Checking the percentage of null values in the dataset.\n",
    "n_null_IMDB = ((IMDB_merged_df.isnull().sum() / len(IMDB_merged_df)) * 100).apply(lambda x: f\"{x:,.2f}%\")\n",
    "\n",
    "print(\n",
    "    f\"Percentage of null values per column:\\n\"\n",
    "    f\"IMDB_ratings_df:\\n{n_null_IMDB}\"\n",
    ")"
   ]
  },
  {
   "cell_type": "markdown",
   "metadata": {},
   "source": [
    "The end year is always missing. Other than that the proportion of missing values is very small (< 12%). End year is always null for movies and only makes sense for TV shows. It can thus be dropped. We can also drop the titleType column since we know they are all movies after the filtering that was done above."
   ]
  },
  {
   "cell_type": "code",
   "execution_count": 25,
   "metadata": {},
   "outputs": [
    {
     "name": "stdout",
     "output_type": "stream",
     "text": [
      "The resulting dataframe has 319,293 rows.\n"
     ]
    }
   ],
   "source": [
    "# Dropping unnecessary columns.\n",
    "IMDB_merged_df = IMDB_merged_df.drop(columns=[\"End_year\", \"Title_type\"], axis=1)\n",
    "\n",
    "print(f\"The resulting dataframe has {len(IMDB_merged_df):,} rows.\")"
   ]
  },
  {
   "cell_type": "markdown",
   "metadata": {},
   "source": [
    "We will use ratings from the IMDB dataset during our study. However, these ratings are based on viewer votes. Initially we thought of discarding rows with too few votes. However, there could be a link between number of votes and number of views of a movie (although definitely not a direct one). We thus decided to keep all rows for the analysis."
   ]
  },
  {
   "cell_type": "markdown",
   "metadata": {},
   "source": [
    "#### 1.3 Merging the datasets"
   ]
  },
  {
   "cell_type": "markdown",
   "metadata": {},
   "source": [
    "##### 1.3.1 Merging IMDB and CMU Movies"
   ]
  },
  {
   "cell_type": "code",
   "execution_count": 26,
   "metadata": {},
   "outputs": [
    {
     "name": "stdout",
     "output_type": "stream",
     "text": [
      "The resulting dataframe has 38,550 rows.\n"
     ]
    }
   ],
   "source": [
    "# Merging on the original title.\n",
    "merge1 = pd.merge(IMDB_merged_df, movie_metadata_df, how=\"inner\", left_on=\"Original_title\", right_on=\"Movie_name\")\n",
    "# Merging on the primary title.\n",
    "merge2 = pd.merge(IMDB_merged_df, movie_metadata_df, how=\"inner\", left_on=\"Primary_title\", right_on=\"Movie_name\")\n",
    "\n",
    "# Concatenating and dropping duplicates that appear from movies with the same Original_title and Primary_title.\n",
    "movie_df = pd.concat([merge1, merge2]).drop_duplicates(subset=[\"tconst\"]).reset_index(drop=True)\n",
    "\n",
    "print(f\"The resulting dataframe has {len(movie_df):,} rows.\")"
   ]
  },
  {
   "cell_type": "markdown",
   "metadata": {},
   "source": [
    "Some columns appear twice. Let's take a look at the proportion of null values in each duplicate column."
   ]
  },
  {
   "cell_type": "code",
   "execution_count": 27,
   "metadata": {},
   "outputs": [
    {
     "name": "stdout",
     "output_type": "stream",
     "text": [
      "Percentage of null values per column:\n",
      "tconst                       0.00%\n",
      "Average_ratings              0.00%\n",
      "Num_votes                    0.00%\n",
      "Primary_title                0.00%\n",
      "Original_title               0.00%\n",
      "Is_adult                     0.00%\n",
      "Start_year                   0.00%\n",
      "Movie_runtime_x              5.50%\n",
      "Movie_genres_x               1.41%\n",
      "Directors                    0.43%\n",
      "Writers                      5.31%\n",
      "Wikipedia_movie_ID           0.00%\n",
      "Freebase_movie_ID            0.00%\n",
      "Movie_name                   0.00%\n",
      "Movie_release_date           0.00%\n",
      "Movie_box_office_revenue    73.83%\n",
      "Movie_runtime_y             10.74%\n",
      "Movie_languages              0.00%\n",
      "Movie_countries              0.00%\n",
      "Movie_genres_y               0.00%\n",
      "Cast                         0.00%\n",
      "Female_actors                0.00%\n",
      "Male_actors                  0.00%\n",
      "Female_actor_percentage      0.00%\n",
      "dtype: object\n"
     ]
    }
   ],
   "source": [
    "n_null_movie = (movie_df.isnull().sum()/len(movie_df)).apply(lambda x:f\"{x:.2%}\")\n",
    "\n",
    "print(f\"Percentage of null values per column:\\n{n_null_movie}\")"
   ]
  },
  {
   "cell_type": "markdown",
   "metadata": {},
   "source": [
    "We can see:\n",
    "- Movie_runtime_x and Movie_runtime_y have 6.02% and 11.58% missing values respectively. We will combine the non null values from both these columns into a new column called runtimeMinutes and then drop the previous two columns. \n",
    "- Movie_genres_x has 1.54% missing values against 0.00% missing values for Movie_genres_y. Furthermore Movie_genres_y is from the CMU dataset and seems more complete. We will thus drop the genres_x column."
   ]
  },
  {
   "cell_type": "code",
   "execution_count": 28,
   "metadata": {},
   "outputs": [],
   "source": [
    "# Combining all non-null values from Movie_runtime_x and Movie_runtime_y into runtimeMinutes.\n",
    "movie_df[\"Movie_runtime\"] = movie_df[\"Movie_runtime_x\"].combine_first(movie_df[\"Movie_runtime_y\"])\n",
    "\n",
    "# Dropping the unnecessary columns.\n",
    "movie_df.drop(columns=[\"Movie_runtime_x\", \"Movie_runtime_y\", \"Movie_genres_x\"], inplace=True)"
   ]
  },
  {
   "cell_type": "markdown",
   "metadata": {},
   "source": [
    "Let's now see if Movie_name, originalTitle and primaryTitle are all necessary or if there are any redundancies."
   ]
  },
  {
   "cell_type": "code",
   "execution_count": 29,
   "metadata": {},
   "outputs": [
    {
     "name": "stdout",
     "output_type": "stream",
     "text": [
      "There are 0 movies for which Movie_name is in neither Primary_title ot Original_title.\n"
     ]
    }
   ],
   "source": [
    "test1 = movie_df[\"Movie_name\"] == movie_df[\"Primary_title\"]  \n",
    "test2 = movie_df[\"Movie_name\"] == movie_df[\"Original_title\"]\n",
    "\n",
    "# Checking if there are any movies for which Movie_name is not either in Primary_title or Original_title\n",
    "print(f\"There are {(~(test1 | test2)).sum().item()} movies for which Movie_name is in neither Primary_title ot Original_title.\")"
   ]
  },
  {
   "cell_type": "markdown",
   "metadata": {},
   "source": [
    "We can see the Movie_name column is redundant as its information is either in primaryTitle or in originalTitle. We can thus drop this column."
   ]
  },
  {
   "cell_type": "code",
   "execution_count": 30,
   "metadata": {},
   "outputs": [],
   "source": [
    "movie_df.drop(columns=\"Movie_name\", inplace=True)"
   ]
  },
  {
   "cell_type": "markdown",
   "metadata": {},
   "source": [
    "We can now also drop movie identifier columns (as everything is already indexed): tconst and Freebase_movie_ID"
   ]
  },
  {
   "cell_type": "code",
   "execution_count": 31,
   "metadata": {},
   "outputs": [],
   "source": [
    "movie_df.drop(columns=[\"tconst\", \"Freebase_movie_ID\"], inplace=True)"
   ]
  },
  {
   "cell_type": "markdown",
   "metadata": {},
   "source": [
    "To connect this with the plot_summaries_df, we perform a left merge."
   ]
  },
  {
   "cell_type": "code",
   "execution_count": 32,
   "metadata": {},
   "outputs": [],
   "source": [
    "movie_df = pd.merge(movie_df, plot_summaries_df, on=\"Wikipedia_movie_ID\", how=\"left\")"
   ]
  },
  {
   "cell_type": "markdown",
   "metadata": {},
   "source": [
    "Finally, we can drop Wikipedia_movie_ID, which is also a movie identifier column."
   ]
  },
  {
   "cell_type": "code",
   "execution_count": 33,
   "metadata": {},
   "outputs": [],
   "source": [
    "movie_df.drop(columns=\"Wikipedia_movie_ID\", inplace=True)"
   ]
  },
  {
   "cell_type": "markdown",
   "metadata": {},
   "source": [
    "##### 1.3.3 Merging Kaggle and The numbers datasets to the rest"
   ]
  },
  {
   "cell_type": "markdown",
   "metadata": {},
   "source": [
    "We have a problem, a lot of missing values(NaN or 0) in Movie box office revenue in movie_df and no production budget included. \n",
    "These two new datasets include information about movies revenue and budget and other attributes which are crucial for our analysis.\n",
    "\n",
    "- `Kaggle_df`: Contains important details about movies, including budgets, genres, and revenue.\n",
    "- `TheNumbers_df`: Provides detailed financial data, focusing on budget and box office gross both domestically and worldwide."
   ]
  },
  {
   "cell_type": "code",
   "execution_count": 34,
   "metadata": {},
   "outputs": [],
   "source": [
    "Kaggle_df = KaggleDatasetLoader(directory).load_kaggle()\n",
    "TheNumbers_df = NumbersDatasetLoader(directory).load_numbers()"
   ]
  },
  {
   "cell_type": "markdown",
   "metadata": {},
   "source": [
    "Quickly view the structure of the dataframes to understand the data types and confirm data has loaded correctly"
   ]
  },
  {
   "cell_type": "code",
   "execution_count": 35,
   "metadata": {},
   "outputs": [
    {
     "data": {
      "text/html": [
       "<div>\n",
       "<style scoped>\n",
       "    .dataframe tbody tr th:only-of-type {\n",
       "        vertical-align: middle;\n",
       "    }\n",
       "\n",
       "    .dataframe tbody tr th {\n",
       "        vertical-align: top;\n",
       "    }\n",
       "\n",
       "    .dataframe thead th {\n",
       "        text-align: right;\n",
       "    }\n",
       "</style>\n",
       "<table border=\"1\" class=\"dataframe\">\n",
       "  <thead>\n",
       "    <tr style=\"text-align: right;\">\n",
       "      <th></th>\n",
       "      <th>budget</th>\n",
       "      <th>genres</th>\n",
       "      <th>original_title</th>\n",
       "      <th>popularity</th>\n",
       "      <th>production_companies</th>\n",
       "      <th>production_countries</th>\n",
       "      <th>revenue</th>\n",
       "    </tr>\n",
       "  </thead>\n",
       "  <tbody>\n",
       "    <tr>\n",
       "      <th>0</th>\n",
       "      <td>237000000.0</td>\n",
       "      <td>Action Adventure Fantasy Science Fiction</td>\n",
       "      <td>Avatar</td>\n",
       "      <td>150.437577</td>\n",
       "      <td>[{\"name\": \"Ingenious Film Partners\", \"id\": 289...</td>\n",
       "      <td>[{\"iso_3166_1\": \"US\", \"name\": \"United States o...</td>\n",
       "      <td>2.787965e+09</td>\n",
       "    </tr>\n",
       "    <tr>\n",
       "      <th>1</th>\n",
       "      <td>300000000.0</td>\n",
       "      <td>Adventure Fantasy Action</td>\n",
       "      <td>Pirates of the Caribbean: At World's End</td>\n",
       "      <td>139.082615</td>\n",
       "      <td>[{\"name\": \"Walt Disney Pictures\", \"id\": 2}, {\"...</td>\n",
       "      <td>[{\"iso_3166_1\": \"US\", \"name\": \"United States o...</td>\n",
       "      <td>9.610000e+08</td>\n",
       "    </tr>\n",
       "    <tr>\n",
       "      <th>2</th>\n",
       "      <td>245000000.0</td>\n",
       "      <td>Action Adventure Crime</td>\n",
       "      <td>Spectre</td>\n",
       "      <td>107.376788</td>\n",
       "      <td>[{\"name\": \"Columbia Pictures\", \"id\": 5}, {\"nam...</td>\n",
       "      <td>[{\"iso_3166_1\": \"GB\", \"name\": \"United Kingdom\"...</td>\n",
       "      <td>8.806746e+08</td>\n",
       "    </tr>\n",
       "    <tr>\n",
       "      <th>3</th>\n",
       "      <td>250000000.0</td>\n",
       "      <td>Action Crime Drama Thriller</td>\n",
       "      <td>The Dark Knight Rises</td>\n",
       "      <td>112.312950</td>\n",
       "      <td>[{\"name\": \"Legendary Pictures\", \"id\": 923}, {\"...</td>\n",
       "      <td>[{\"iso_3166_1\": \"US\", \"name\": \"United States o...</td>\n",
       "      <td>1.084939e+09</td>\n",
       "    </tr>\n",
       "    <tr>\n",
       "      <th>4</th>\n",
       "      <td>260000000.0</td>\n",
       "      <td>Action Adventure Science Fiction</td>\n",
       "      <td>John Carter</td>\n",
       "      <td>43.926995</td>\n",
       "      <td>[{\"name\": \"Walt Disney Pictures\", \"id\": 2}]</td>\n",
       "      <td>[{\"iso_3166_1\": \"US\", \"name\": \"United States o...</td>\n",
       "      <td>2.841391e+08</td>\n",
       "    </tr>\n",
       "  </tbody>\n",
       "</table>\n",
       "</div>"
      ],
      "text/plain": [
       "        budget                                    genres  \\\n",
       "0  237000000.0  Action Adventure Fantasy Science Fiction   \n",
       "1  300000000.0                  Adventure Fantasy Action   \n",
       "2  245000000.0                    Action Adventure Crime   \n",
       "3  250000000.0               Action Crime Drama Thriller   \n",
       "4  260000000.0          Action Adventure Science Fiction   \n",
       "\n",
       "                             original_title  popularity  \\\n",
       "0                                    Avatar  150.437577   \n",
       "1  Pirates of the Caribbean: At World's End  139.082615   \n",
       "2                                   Spectre  107.376788   \n",
       "3                     The Dark Knight Rises  112.312950   \n",
       "4                               John Carter   43.926995   \n",
       "\n",
       "                                production_companies  \\\n",
       "0  [{\"name\": \"Ingenious Film Partners\", \"id\": 289...   \n",
       "1  [{\"name\": \"Walt Disney Pictures\", \"id\": 2}, {\"...   \n",
       "2  [{\"name\": \"Columbia Pictures\", \"id\": 5}, {\"nam...   \n",
       "3  [{\"name\": \"Legendary Pictures\", \"id\": 923}, {\"...   \n",
       "4        [{\"name\": \"Walt Disney Pictures\", \"id\": 2}]   \n",
       "\n",
       "                                production_countries       revenue  \n",
       "0  [{\"iso_3166_1\": \"US\", \"name\": \"United States o...  2.787965e+09  \n",
       "1  [{\"iso_3166_1\": \"US\", \"name\": \"United States o...  9.610000e+08  \n",
       "2  [{\"iso_3166_1\": \"GB\", \"name\": \"United Kingdom\"...  8.806746e+08  \n",
       "3  [{\"iso_3166_1\": \"US\", \"name\": \"United States o...  1.084939e+09  \n",
       "4  [{\"iso_3166_1\": \"US\", \"name\": \"United States o...  2.841391e+08  "
      ]
     },
     "execution_count": 35,
     "metadata": {},
     "output_type": "execute_result"
    }
   ],
   "source": [
    "Kaggle_df.head()"
   ]
  },
  {
   "cell_type": "code",
   "execution_count": 36,
   "metadata": {},
   "outputs": [
    {
     "data": {
      "text/html": [
       "<div>\n",
       "<style scoped>\n",
       "    .dataframe tbody tr th:only-of-type {\n",
       "        vertical-align: middle;\n",
       "    }\n",
       "\n",
       "    .dataframe tbody tr th {\n",
       "        vertical-align: top;\n",
       "    }\n",
       "\n",
       "    .dataframe thead th {\n",
       "        text-align: right;\n",
       "    }\n",
       "</style>\n",
       "<table border=\"1\" class=\"dataframe\">\n",
       "  <thead>\n",
       "    <tr style=\"text-align: right;\">\n",
       "      <th></th>\n",
       "      <th>id</th>\n",
       "      <th>release_date</th>\n",
       "      <th>movie</th>\n",
       "      <th>production_budget</th>\n",
       "      <th>domestic_gross</th>\n",
       "      <th>worldwide_gross</th>\n",
       "    </tr>\n",
       "  </thead>\n",
       "  <tbody>\n",
       "    <tr>\n",
       "      <th>0</th>\n",
       "      <td>1</td>\n",
       "      <td>Dec 18, 2009</td>\n",
       "      <td>Avatar</td>\n",
       "      <td>$425,000,000</td>\n",
       "      <td>$760,507,625</td>\n",
       "      <td>$2,776,345,279</td>\n",
       "    </tr>\n",
       "    <tr>\n",
       "      <th>1</th>\n",
       "      <td>2</td>\n",
       "      <td>May 20, 2011</td>\n",
       "      <td>Pirates of the Caribbean: On Stranger Tides</td>\n",
       "      <td>$410,600,000</td>\n",
       "      <td>$241,063,875</td>\n",
       "      <td>$1,045,663,875</td>\n",
       "    </tr>\n",
       "    <tr>\n",
       "      <th>2</th>\n",
       "      <td>3</td>\n",
       "      <td>Jun 7, 2019</td>\n",
       "      <td>Dark Phoenix</td>\n",
       "      <td>$350,000,000</td>\n",
       "      <td>$42,762,350</td>\n",
       "      <td>$149,762,350</td>\n",
       "    </tr>\n",
       "    <tr>\n",
       "      <th>3</th>\n",
       "      <td>4</td>\n",
       "      <td>May 1, 2015</td>\n",
       "      <td>Avengers: Age of Ultron</td>\n",
       "      <td>$330,600,000</td>\n",
       "      <td>$459,005,868</td>\n",
       "      <td>$1,403,013,963</td>\n",
       "    </tr>\n",
       "    <tr>\n",
       "      <th>4</th>\n",
       "      <td>5</td>\n",
       "      <td>Dec 15, 2017</td>\n",
       "      <td>Star Wars Ep. VIII: The Last Jedi</td>\n",
       "      <td>$317,000,000</td>\n",
       "      <td>$620,181,382</td>\n",
       "      <td>$1,316,721,747</td>\n",
       "    </tr>\n",
       "  </tbody>\n",
       "</table>\n",
       "</div>"
      ],
      "text/plain": [
       "   id  release_date                                        movie  \\\n",
       "0   1  Dec 18, 2009                                       Avatar   \n",
       "1   2  May 20, 2011  Pirates of the Caribbean: On Stranger Tides   \n",
       "2   3   Jun 7, 2019                                 Dark Phoenix   \n",
       "3   4   May 1, 2015                      Avengers: Age of Ultron   \n",
       "4   5  Dec 15, 2017            Star Wars Ep. VIII: The Last Jedi   \n",
       "\n",
       "  production_budget domestic_gross worldwide_gross  \n",
       "0      $425,000,000   $760,507,625  $2,776,345,279  \n",
       "1      $410,600,000   $241,063,875  $1,045,663,875  \n",
       "2      $350,000,000    $42,762,350    $149,762,350  \n",
       "3      $330,600,000   $459,005,868  $1,403,013,963  \n",
       "4      $317,000,000   $620,181,382  $1,316,721,747  "
      ]
     },
     "execution_count": 36,
     "metadata": {},
     "output_type": "execute_result"
    }
   ],
   "source": [
    "TheNumbers_df.head()"
   ]
  },
  {
   "cell_type": "code",
   "execution_count": 37,
   "metadata": {},
   "outputs": [],
   "source": [
    "# Clean and convert financials to float for consistency with the movie_df\n",
    "TheNumbers_df = data_utils.clean_currency_columns(TheNumbers_df, [\"production_budget\", \"domestic_gross\", \"worldwide_gross\"])"
   ]
  },
  {
   "cell_type": "code",
   "execution_count": 38,
   "metadata": {},
   "outputs": [
    {
     "data": {
      "text/html": [
       "<div>\n",
       "<style scoped>\n",
       "    .dataframe tbody tr th:only-of-type {\n",
       "        vertical-align: middle;\n",
       "    }\n",
       "\n",
       "    .dataframe tbody tr th {\n",
       "        vertical-align: top;\n",
       "    }\n",
       "\n",
       "    .dataframe thead th {\n",
       "        text-align: right;\n",
       "    }\n",
       "</style>\n",
       "<table border=\"1\" class=\"dataframe\">\n",
       "  <thead>\n",
       "    <tr style=\"text-align: right;\">\n",
       "      <th></th>\n",
       "      <th>id</th>\n",
       "      <th>release_date</th>\n",
       "      <th>movie</th>\n",
       "      <th>production_budget</th>\n",
       "      <th>domestic_gross</th>\n",
       "      <th>worldwide_gross</th>\n",
       "    </tr>\n",
       "  </thead>\n",
       "  <tbody>\n",
       "    <tr>\n",
       "      <th>0</th>\n",
       "      <td>1</td>\n",
       "      <td>Dec 18, 2009</td>\n",
       "      <td>Avatar</td>\n",
       "      <td>425000000.0</td>\n",
       "      <td>760507625.0</td>\n",
       "      <td>2.776345e+09</td>\n",
       "    </tr>\n",
       "    <tr>\n",
       "      <th>1</th>\n",
       "      <td>2</td>\n",
       "      <td>May 20, 2011</td>\n",
       "      <td>Pirates of the Caribbean: On Stranger Tides</td>\n",
       "      <td>410600000.0</td>\n",
       "      <td>241063875.0</td>\n",
       "      <td>1.045664e+09</td>\n",
       "    </tr>\n",
       "    <tr>\n",
       "      <th>2</th>\n",
       "      <td>3</td>\n",
       "      <td>Jun 7, 2019</td>\n",
       "      <td>Dark Phoenix</td>\n",
       "      <td>350000000.0</td>\n",
       "      <td>42762350.0</td>\n",
       "      <td>1.497624e+08</td>\n",
       "    </tr>\n",
       "    <tr>\n",
       "      <th>3</th>\n",
       "      <td>4</td>\n",
       "      <td>May 1, 2015</td>\n",
       "      <td>Avengers: Age of Ultron</td>\n",
       "      <td>330600000.0</td>\n",
       "      <td>459005868.0</td>\n",
       "      <td>1.403014e+09</td>\n",
       "    </tr>\n",
       "    <tr>\n",
       "      <th>4</th>\n",
       "      <td>5</td>\n",
       "      <td>Dec 15, 2017</td>\n",
       "      <td>Star Wars Ep. VIII: The Last Jedi</td>\n",
       "      <td>317000000.0</td>\n",
       "      <td>620181382.0</td>\n",
       "      <td>1.316722e+09</td>\n",
       "    </tr>\n",
       "  </tbody>\n",
       "</table>\n",
       "</div>"
      ],
      "text/plain": [
       "   id  release_date                                        movie  \\\n",
       "0   1  Dec 18, 2009                                       Avatar   \n",
       "1   2  May 20, 2011  Pirates of the Caribbean: On Stranger Tides   \n",
       "2   3   Jun 7, 2019                                 Dark Phoenix   \n",
       "3   4   May 1, 2015                      Avengers: Age of Ultron   \n",
       "4   5  Dec 15, 2017            Star Wars Ep. VIII: The Last Jedi   \n",
       "\n",
       "   production_budget  domestic_gross  worldwide_gross  \n",
       "0        425000000.0     760507625.0     2.776345e+09  \n",
       "1        410600000.0     241063875.0     1.045664e+09  \n",
       "2        350000000.0      42762350.0     1.497624e+08  \n",
       "3        330600000.0     459005868.0     1.403014e+09  \n",
       "4        317000000.0     620181382.0     1.316722e+09  "
      ]
     },
     "execution_count": 38,
     "metadata": {},
     "output_type": "execute_result"
    }
   ],
   "source": [
    "TheNumbers_df.head()"
   ]
  },
  {
   "cell_type": "markdown",
   "metadata": {},
   "source": [
    "We now perform an outer merge to include all records from both datasets, aligning them based on movie titles.\n"
   ]
  },
  {
   "cell_type": "code",
   "execution_count": 39,
   "metadata": {},
   "outputs": [
    {
     "data": {
      "text/html": [
       "<div>\n",
       "<style scoped>\n",
       "    .dataframe tbody tr th:only-of-type {\n",
       "        vertical-align: middle;\n",
       "    }\n",
       "\n",
       "    .dataframe tbody tr th {\n",
       "        vertical-align: top;\n",
       "    }\n",
       "\n",
       "    .dataframe thead th {\n",
       "        text-align: right;\n",
       "    }\n",
       "</style>\n",
       "<table border=\"1\" class=\"dataframe\">\n",
       "  <thead>\n",
       "    <tr style=\"text-align: right;\">\n",
       "      <th></th>\n",
       "      <th>budget</th>\n",
       "      <th>genres</th>\n",
       "      <th>original_title</th>\n",
       "      <th>popularity</th>\n",
       "      <th>production_companies</th>\n",
       "      <th>production_countries</th>\n",
       "      <th>revenue</th>\n",
       "      <th>id</th>\n",
       "      <th>release_date</th>\n",
       "      <th>movie</th>\n",
       "      <th>production_budget</th>\n",
       "      <th>domestic_gross</th>\n",
       "      <th>worldwide_gross</th>\n",
       "    </tr>\n",
       "  </thead>\n",
       "  <tbody>\n",
       "    <tr>\n",
       "      <th>0</th>\n",
       "      <td>237000000.0</td>\n",
       "      <td>Action Adventure Fantasy Science Fiction</td>\n",
       "      <td>avatar</td>\n",
       "      <td>150.437577</td>\n",
       "      <td>[{\"name\": \"Ingenious Film Partners\", \"id\": 289...</td>\n",
       "      <td>[{\"iso_3166_1\": \"US\", \"name\": \"United States o...</td>\n",
       "      <td>2.787965e+09</td>\n",
       "      <td>1.0</td>\n",
       "      <td>Dec 18, 2009</td>\n",
       "      <td>avatar</td>\n",
       "      <td>425000000.0</td>\n",
       "      <td>760507625.0</td>\n",
       "      <td>2.776345e+09</td>\n",
       "    </tr>\n",
       "    <tr>\n",
       "      <th>1</th>\n",
       "      <td>300000000.0</td>\n",
       "      <td>Adventure Fantasy Action</td>\n",
       "      <td>pirates of the caribbean: at world's end</td>\n",
       "      <td>139.082615</td>\n",
       "      <td>[{\"name\": \"Walt Disney Pictures\", \"id\": 2}, {\"...</td>\n",
       "      <td>[{\"iso_3166_1\": \"US\", \"name\": \"United States o...</td>\n",
       "      <td>9.610000e+08</td>\n",
       "      <td>NaN</td>\n",
       "      <td>NaN</td>\n",
       "      <td>NaN</td>\n",
       "      <td>NaN</td>\n",
       "      <td>NaN</td>\n",
       "      <td>NaN</td>\n",
       "    </tr>\n",
       "    <tr>\n",
       "      <th>2</th>\n",
       "      <td>245000000.0</td>\n",
       "      <td>Action Adventure Crime</td>\n",
       "      <td>spectre</td>\n",
       "      <td>107.376788</td>\n",
       "      <td>[{\"name\": \"Columbia Pictures\", \"id\": 5}, {\"nam...</td>\n",
       "      <td>[{\"iso_3166_1\": \"GB\", \"name\": \"United Kingdom\"...</td>\n",
       "      <td>8.806746e+08</td>\n",
       "      <td>10.0</td>\n",
       "      <td>Nov 6, 2015</td>\n",
       "      <td>spectre</td>\n",
       "      <td>300000000.0</td>\n",
       "      <td>200074175.0</td>\n",
       "      <td>8.796209e+08</td>\n",
       "    </tr>\n",
       "    <tr>\n",
       "      <th>3</th>\n",
       "      <td>250000000.0</td>\n",
       "      <td>Action Crime Drama Thriller</td>\n",
       "      <td>the dark knight rises</td>\n",
       "      <td>112.312950</td>\n",
       "      <td>[{\"name\": \"Legendary Pictures\", \"id\": 923}, {\"...</td>\n",
       "      <td>[{\"iso_3166_1\": \"US\", \"name\": \"United States o...</td>\n",
       "      <td>1.084939e+09</td>\n",
       "      <td>11.0</td>\n",
       "      <td>Jul 20, 2012</td>\n",
       "      <td>the dark knight rises</td>\n",
       "      <td>275000000.0</td>\n",
       "      <td>448139099.0</td>\n",
       "      <td>1.084439e+09</td>\n",
       "    </tr>\n",
       "    <tr>\n",
       "      <th>4</th>\n",
       "      <td>260000000.0</td>\n",
       "      <td>Action Adventure Science Fiction</td>\n",
       "      <td>john carter</td>\n",
       "      <td>43.926995</td>\n",
       "      <td>[{\"name\": \"Walt Disney Pictures\", \"id\": 2}]</td>\n",
       "      <td>[{\"iso_3166_1\": \"US\", \"name\": \"United States o...</td>\n",
       "      <td>2.841391e+08</td>\n",
       "      <td>14.0</td>\n",
       "      <td>Mar 9, 2012</td>\n",
       "      <td>john carter</td>\n",
       "      <td>275000000.0</td>\n",
       "      <td>73058679.0</td>\n",
       "      <td>2.827781e+08</td>\n",
       "    </tr>\n",
       "  </tbody>\n",
       "</table>\n",
       "</div>"
      ],
      "text/plain": [
       "        budget                                    genres  \\\n",
       "0  237000000.0  Action Adventure Fantasy Science Fiction   \n",
       "1  300000000.0                  Adventure Fantasy Action   \n",
       "2  245000000.0                    Action Adventure Crime   \n",
       "3  250000000.0               Action Crime Drama Thriller   \n",
       "4  260000000.0          Action Adventure Science Fiction   \n",
       "\n",
       "                             original_title  popularity  \\\n",
       "0                                    avatar  150.437577   \n",
       "1  pirates of the caribbean: at world's end  139.082615   \n",
       "2                                   spectre  107.376788   \n",
       "3                     the dark knight rises  112.312950   \n",
       "4                               john carter   43.926995   \n",
       "\n",
       "                                production_companies  \\\n",
       "0  [{\"name\": \"Ingenious Film Partners\", \"id\": 289...   \n",
       "1  [{\"name\": \"Walt Disney Pictures\", \"id\": 2}, {\"...   \n",
       "2  [{\"name\": \"Columbia Pictures\", \"id\": 5}, {\"nam...   \n",
       "3  [{\"name\": \"Legendary Pictures\", \"id\": 923}, {\"...   \n",
       "4        [{\"name\": \"Walt Disney Pictures\", \"id\": 2}]   \n",
       "\n",
       "                                production_countries       revenue    id  \\\n",
       "0  [{\"iso_3166_1\": \"US\", \"name\": \"United States o...  2.787965e+09   1.0   \n",
       "1  [{\"iso_3166_1\": \"US\", \"name\": \"United States o...  9.610000e+08   NaN   \n",
       "2  [{\"iso_3166_1\": \"GB\", \"name\": \"United Kingdom\"...  8.806746e+08  10.0   \n",
       "3  [{\"iso_3166_1\": \"US\", \"name\": \"United States o...  1.084939e+09  11.0   \n",
       "4  [{\"iso_3166_1\": \"US\", \"name\": \"United States o...  2.841391e+08  14.0   \n",
       "\n",
       "   release_date                  movie  production_budget  domestic_gross  \\\n",
       "0  Dec 18, 2009                 avatar        425000000.0     760507625.0   \n",
       "1           NaN                    NaN                NaN             NaN   \n",
       "2   Nov 6, 2015                spectre        300000000.0     200074175.0   \n",
       "3  Jul 20, 2012  the dark knight rises        275000000.0     448139099.0   \n",
       "4   Mar 9, 2012            john carter        275000000.0      73058679.0   \n",
       "\n",
       "   worldwide_gross  \n",
       "0     2.776345e+09  \n",
       "1              NaN  \n",
       "2     8.796209e+08  \n",
       "3     1.084439e+09  \n",
       "4     2.827781e+08  "
      ]
     },
     "execution_count": 39,
     "metadata": {},
     "output_type": "execute_result"
    }
   ],
   "source": [
    "# Normalize the title columns for case insensitive matching\n",
    "Kaggle_df = data_utils.clean_string_columns(Kaggle_df, [\"original_title\"])\n",
    "TheNumbers_df = data_utils.clean_string_columns(TheNumbers_df, [\"movie\"])\n",
    "\n",
    "# Merge both dataframes on the title columns\n",
    "merged_df = pd.merge(Kaggle_df, TheNumbers_df, left_on=\"original_title\", right_on=\"movie\", how='outer')\n",
    "merged_df.head()"
   ]
  },
  {
   "cell_type": "markdown",
   "metadata": {},
   "source": [
    "##### Post-merge cleaning\n",
    "\n",
    "We create the main financial columns ('movie_budget' and 'movie_revenue') by selecting non-null and non-zero values, prioritizing data from TheNumbers dataset when available.\n"
   ]
  },
  {
   "cell_type": "code",
   "execution_count": 40,
   "metadata": {},
   "outputs": [
    {
     "data": {
      "text/html": [
       "<div>\n",
       "<style scoped>\n",
       "    .dataframe tbody tr th:only-of-type {\n",
       "        vertical-align: middle;\n",
       "    }\n",
       "\n",
       "    .dataframe tbody tr th {\n",
       "        vertical-align: top;\n",
       "    }\n",
       "\n",
       "    .dataframe thead th {\n",
       "        text-align: right;\n",
       "    }\n",
       "</style>\n",
       "<table border=\"1\" class=\"dataframe\">\n",
       "  <thead>\n",
       "    <tr style=\"text-align: right;\">\n",
       "      <th></th>\n",
       "      <th>genres</th>\n",
       "      <th>original_title</th>\n",
       "      <th>popularity</th>\n",
       "      <th>production_companies</th>\n",
       "      <th>production_countries</th>\n",
       "      <th>id</th>\n",
       "      <th>release_date</th>\n",
       "      <th>domestic_gross</th>\n",
       "      <th>movie_budget</th>\n",
       "      <th>movie_revenue</th>\n",
       "    </tr>\n",
       "  </thead>\n",
       "  <tbody>\n",
       "    <tr>\n",
       "      <th>0</th>\n",
       "      <td>Action Adventure Fantasy Science Fiction</td>\n",
       "      <td>avatar</td>\n",
       "      <td>150.437577</td>\n",
       "      <td>[{\"name\": \"Ingenious Film Partners\", \"id\": 289...</td>\n",
       "      <td>[{\"iso_3166_1\": \"US\", \"name\": \"United States o...</td>\n",
       "      <td>1.0</td>\n",
       "      <td>Dec 18, 2009</td>\n",
       "      <td>760507625.0</td>\n",
       "      <td>425000000.0</td>\n",
       "      <td>2.776345e+09</td>\n",
       "    </tr>\n",
       "    <tr>\n",
       "      <th>1</th>\n",
       "      <td>Adventure Fantasy Action</td>\n",
       "      <td>pirates of the caribbean: at world's end</td>\n",
       "      <td>139.082615</td>\n",
       "      <td>[{\"name\": \"Walt Disney Pictures\", \"id\": 2}, {\"...</td>\n",
       "      <td>[{\"iso_3166_1\": \"US\", \"name\": \"United States o...</td>\n",
       "      <td>NaN</td>\n",
       "      <td>NaN</td>\n",
       "      <td>NaN</td>\n",
       "      <td>300000000.0</td>\n",
       "      <td>9.610000e+08</td>\n",
       "    </tr>\n",
       "    <tr>\n",
       "      <th>2</th>\n",
       "      <td>Action Adventure Crime</td>\n",
       "      <td>spectre</td>\n",
       "      <td>107.376788</td>\n",
       "      <td>[{\"name\": \"Columbia Pictures\", \"id\": 5}, {\"nam...</td>\n",
       "      <td>[{\"iso_3166_1\": \"GB\", \"name\": \"United Kingdom\"...</td>\n",
       "      <td>10.0</td>\n",
       "      <td>Nov 6, 2015</td>\n",
       "      <td>200074175.0</td>\n",
       "      <td>300000000.0</td>\n",
       "      <td>8.796209e+08</td>\n",
       "    </tr>\n",
       "    <tr>\n",
       "      <th>3</th>\n",
       "      <td>Action Crime Drama Thriller</td>\n",
       "      <td>the dark knight rises</td>\n",
       "      <td>112.312950</td>\n",
       "      <td>[{\"name\": \"Legendary Pictures\", \"id\": 923}, {\"...</td>\n",
       "      <td>[{\"iso_3166_1\": \"US\", \"name\": \"United States o...</td>\n",
       "      <td>11.0</td>\n",
       "      <td>Jul 20, 2012</td>\n",
       "      <td>448139099.0</td>\n",
       "      <td>275000000.0</td>\n",
       "      <td>1.084439e+09</td>\n",
       "    </tr>\n",
       "    <tr>\n",
       "      <th>4</th>\n",
       "      <td>Action Adventure Science Fiction</td>\n",
       "      <td>john carter</td>\n",
       "      <td>43.926995</td>\n",
       "      <td>[{\"name\": \"Walt Disney Pictures\", \"id\": 2}]</td>\n",
       "      <td>[{\"iso_3166_1\": \"US\", \"name\": \"United States o...</td>\n",
       "      <td>14.0</td>\n",
       "      <td>Mar 9, 2012</td>\n",
       "      <td>73058679.0</td>\n",
       "      <td>275000000.0</td>\n",
       "      <td>2.827781e+08</td>\n",
       "    </tr>\n",
       "  </tbody>\n",
       "</table>\n",
       "</div>"
      ],
      "text/plain": [
       "                                     genres  \\\n",
       "0  Action Adventure Fantasy Science Fiction   \n",
       "1                  Adventure Fantasy Action   \n",
       "2                    Action Adventure Crime   \n",
       "3               Action Crime Drama Thriller   \n",
       "4          Action Adventure Science Fiction   \n",
       "\n",
       "                             original_title  popularity  \\\n",
       "0                                    avatar  150.437577   \n",
       "1  pirates of the caribbean: at world's end  139.082615   \n",
       "2                                   spectre  107.376788   \n",
       "3                     the dark knight rises  112.312950   \n",
       "4                               john carter   43.926995   \n",
       "\n",
       "                                production_companies  \\\n",
       "0  [{\"name\": \"Ingenious Film Partners\", \"id\": 289...   \n",
       "1  [{\"name\": \"Walt Disney Pictures\", \"id\": 2}, {\"...   \n",
       "2  [{\"name\": \"Columbia Pictures\", \"id\": 5}, {\"nam...   \n",
       "3  [{\"name\": \"Legendary Pictures\", \"id\": 923}, {\"...   \n",
       "4        [{\"name\": \"Walt Disney Pictures\", \"id\": 2}]   \n",
       "\n",
       "                                production_countries    id  release_date  \\\n",
       "0  [{\"iso_3166_1\": \"US\", \"name\": \"United States o...   1.0  Dec 18, 2009   \n",
       "1  [{\"iso_3166_1\": \"US\", \"name\": \"United States o...   NaN           NaN   \n",
       "2  [{\"iso_3166_1\": \"GB\", \"name\": \"United Kingdom\"...  10.0   Nov 6, 2015   \n",
       "3  [{\"iso_3166_1\": \"US\", \"name\": \"United States o...  11.0  Jul 20, 2012   \n",
       "4  [{\"iso_3166_1\": \"US\", \"name\": \"United States o...  14.0   Mar 9, 2012   \n",
       "\n",
       "   domestic_gross  movie_budget  movie_revenue  \n",
       "0     760507625.0   425000000.0   2.776345e+09  \n",
       "1             NaN   300000000.0   9.610000e+08  \n",
       "2     200074175.0   300000000.0   8.796209e+08  \n",
       "3     448139099.0   275000000.0   1.084439e+09  \n",
       "4      73058679.0   275000000.0   2.827781e+08  "
      ]
     },
     "execution_count": 40,
     "metadata": {},
     "output_type": "execute_result"
    }
   ],
   "source": [
    "merged_df[\"movie_budget\"] = np.where((merged_df[\"production_budget\"].notna() & (merged_df[\"production_budget\"] != 0)),\n",
    "                                     merged_df[\"production_budget\"],\n",
    "                                     merged_df[\"budget\"])\n",
    "\n",
    "merged_df[\"movie_revenue\"] = np.where((merged_df[\"worldwide_gross\"].notna() & (merged_df[\"worldwide_gross\"] != 0)),\n",
    "                                      merged_df[\"worldwide_gross\"],\n",
    "                                      merged_df[\"revenue\"])\n",
    "\n",
    "# Drop the original columns that were merged into new ones\n",
    "merged_df.drop(columns=[\"budget\", \"revenue\", \"production_budget\", \"worldwide_gross\", \"movie\"], inplace=True)\n",
    "\n",
    "merged_df.head()"
   ]
  },
  {
   "cell_type": "markdown",
   "metadata": {},
   "source": [
    "Filter out movies where both budget and revenue data are missing or zero, as they do not provide value for financial analysis.\n"
   ]
  },
  {
   "cell_type": "code",
   "execution_count": 41,
   "metadata": {},
   "outputs": [],
   "source": [
    "# Create a mask where both columns are either zero or NaN\n",
    "mask = (\n",
    "    (merged_df[\"movie_budget\"].isna() | (merged_df[\"movie_budget\"] == 0)) &\n",
    "    (merged_df[\"movie_revenue\"].isna() | (merged_df[\"movie_revenue\"] == 0))\n",
    ")\n",
    "\n",
    "# Apply the mask and drop those rows\n",
    "df_filtered = merged_df[~mask]"
   ]
  },
  {
   "cell_type": "code",
   "execution_count": 42,
   "metadata": {},
   "outputs": [
    {
     "name": "stdout",
     "output_type": "stream",
     "text": [
      "The number of available and relevant movie budget and revenue information is 6125\n"
     ]
    },
    {
     "data": {
      "text/html": [
       "<div>\n",
       "<style scoped>\n",
       "    .dataframe tbody tr th:only-of-type {\n",
       "        vertical-align: middle;\n",
       "    }\n",
       "\n",
       "    .dataframe tbody tr th {\n",
       "        vertical-align: top;\n",
       "    }\n",
       "\n",
       "    .dataframe thead th {\n",
       "        text-align: right;\n",
       "    }\n",
       "</style>\n",
       "<table border=\"1\" class=\"dataframe\">\n",
       "  <thead>\n",
       "    <tr style=\"text-align: right;\">\n",
       "      <th></th>\n",
       "      <th>genres</th>\n",
       "      <th>original_title</th>\n",
       "      <th>popularity</th>\n",
       "      <th>production_companies</th>\n",
       "      <th>production_countries</th>\n",
       "      <th>id</th>\n",
       "      <th>release_date</th>\n",
       "      <th>domestic_gross</th>\n",
       "      <th>movie_budget</th>\n",
       "      <th>movie_revenue</th>\n",
       "    </tr>\n",
       "  </thead>\n",
       "  <tbody>\n",
       "    <tr>\n",
       "      <th>0</th>\n",
       "      <td>Action Adventure Fantasy Science Fiction</td>\n",
       "      <td>avatar</td>\n",
       "      <td>150.437577</td>\n",
       "      <td>[{\"name\": \"Ingenious Film Partners\", \"id\": 289...</td>\n",
       "      <td>[{\"iso_3166_1\": \"US\", \"name\": \"United States o...</td>\n",
       "      <td>1.0</td>\n",
       "      <td>Dec 18, 2009</td>\n",
       "      <td>760507625.0</td>\n",
       "      <td>425000000.0</td>\n",
       "      <td>2.776345e+09</td>\n",
       "    </tr>\n",
       "    <tr>\n",
       "      <th>1</th>\n",
       "      <td>Adventure Fantasy Action</td>\n",
       "      <td>pirates of the caribbean: at world's end</td>\n",
       "      <td>139.082615</td>\n",
       "      <td>[{\"name\": \"Walt Disney Pictures\", \"id\": 2}, {\"...</td>\n",
       "      <td>[{\"iso_3166_1\": \"US\", \"name\": \"United States o...</td>\n",
       "      <td>NaN</td>\n",
       "      <td>NaN</td>\n",
       "      <td>NaN</td>\n",
       "      <td>300000000.0</td>\n",
       "      <td>9.610000e+08</td>\n",
       "    </tr>\n",
       "    <tr>\n",
       "      <th>2</th>\n",
       "      <td>Action Adventure Crime</td>\n",
       "      <td>spectre</td>\n",
       "      <td>107.376788</td>\n",
       "      <td>[{\"name\": \"Columbia Pictures\", \"id\": 5}, {\"nam...</td>\n",
       "      <td>[{\"iso_3166_1\": \"GB\", \"name\": \"United Kingdom\"...</td>\n",
       "      <td>10.0</td>\n",
       "      <td>Nov 6, 2015</td>\n",
       "      <td>200074175.0</td>\n",
       "      <td>300000000.0</td>\n",
       "      <td>8.796209e+08</td>\n",
       "    </tr>\n",
       "    <tr>\n",
       "      <th>3</th>\n",
       "      <td>Action Crime Drama Thriller</td>\n",
       "      <td>the dark knight rises</td>\n",
       "      <td>112.312950</td>\n",
       "      <td>[{\"name\": \"Legendary Pictures\", \"id\": 923}, {\"...</td>\n",
       "      <td>[{\"iso_3166_1\": \"US\", \"name\": \"United States o...</td>\n",
       "      <td>11.0</td>\n",
       "      <td>Jul 20, 2012</td>\n",
       "      <td>448139099.0</td>\n",
       "      <td>275000000.0</td>\n",
       "      <td>1.084439e+09</td>\n",
       "    </tr>\n",
       "    <tr>\n",
       "      <th>4</th>\n",
       "      <td>Action Adventure Science Fiction</td>\n",
       "      <td>john carter</td>\n",
       "      <td>43.926995</td>\n",
       "      <td>[{\"name\": \"Walt Disney Pictures\", \"id\": 2}]</td>\n",
       "      <td>[{\"iso_3166_1\": \"US\", \"name\": \"United States o...</td>\n",
       "      <td>14.0</td>\n",
       "      <td>Mar 9, 2012</td>\n",
       "      <td>73058679.0</td>\n",
       "      <td>275000000.0</td>\n",
       "      <td>2.827781e+08</td>\n",
       "    </tr>\n",
       "  </tbody>\n",
       "</table>\n",
       "</div>"
      ],
      "text/plain": [
       "                                     genres  \\\n",
       "0  Action Adventure Fantasy Science Fiction   \n",
       "1                  Adventure Fantasy Action   \n",
       "2                    Action Adventure Crime   \n",
       "3               Action Crime Drama Thriller   \n",
       "4          Action Adventure Science Fiction   \n",
       "\n",
       "                             original_title  popularity  \\\n",
       "0                                    avatar  150.437577   \n",
       "1  pirates of the caribbean: at world's end  139.082615   \n",
       "2                                   spectre  107.376788   \n",
       "3                     the dark knight rises  112.312950   \n",
       "4                               john carter   43.926995   \n",
       "\n",
       "                                production_companies  \\\n",
       "0  [{\"name\": \"Ingenious Film Partners\", \"id\": 289...   \n",
       "1  [{\"name\": \"Walt Disney Pictures\", \"id\": 2}, {\"...   \n",
       "2  [{\"name\": \"Columbia Pictures\", \"id\": 5}, {\"nam...   \n",
       "3  [{\"name\": \"Legendary Pictures\", \"id\": 923}, {\"...   \n",
       "4        [{\"name\": \"Walt Disney Pictures\", \"id\": 2}]   \n",
       "\n",
       "                                production_countries    id  release_date  \\\n",
       "0  [{\"iso_3166_1\": \"US\", \"name\": \"United States o...   1.0  Dec 18, 2009   \n",
       "1  [{\"iso_3166_1\": \"US\", \"name\": \"United States o...   NaN           NaN   \n",
       "2  [{\"iso_3166_1\": \"GB\", \"name\": \"United Kingdom\"...  10.0   Nov 6, 2015   \n",
       "3  [{\"iso_3166_1\": \"US\", \"name\": \"United States o...  11.0  Jul 20, 2012   \n",
       "4  [{\"iso_3166_1\": \"US\", \"name\": \"United States o...  14.0   Mar 9, 2012   \n",
       "\n",
       "   domestic_gross  movie_budget  movie_revenue  \n",
       "0     760507625.0   425000000.0   2.776345e+09  \n",
       "1             NaN   300000000.0   9.610000e+08  \n",
       "2     200074175.0   300000000.0   8.796209e+08  \n",
       "3     448139099.0   275000000.0   1.084439e+09  \n",
       "4      73058679.0   275000000.0   2.827781e+08  "
      ]
     },
     "execution_count": 42,
     "metadata": {},
     "output_type": "execute_result"
    }
   ],
   "source": [
    "print(\"The number of available and relevant movie budget and revenue information is \" + str(df_filtered[\"movie_budget\"].size))\n",
    "\n",
    "df_filtered.head()"
   ]
  },
  {
   "cell_type": "markdown",
   "metadata": {},
   "source": [
    "Two merging strategies are employed here to maximize the potential for matching records across the datasets:\n",
    "\n",
    "Original Title Merge: Merging based on the Original_title from movie_df to the original_title from df_filtered to catch the most direct title matches. \n",
    "\n",
    "Primary Title Merge: Using Primary_title as an alternative matching criterion, knowing that some movies might be listed under alternate titles.\n"
   ]
  },
  {
   "cell_type": "code",
   "execution_count": 43,
   "metadata": {},
   "outputs": [
    {
     "name": "stdout",
     "output_type": "stream",
     "text": [
      "The resulting dataframe has 40,008 rows.\n"
     ]
    },
    {
     "data": {
      "text/html": [
       "<div>\n",
       "<style scoped>\n",
       "    .dataframe tbody tr th:only-of-type {\n",
       "        vertical-align: middle;\n",
       "    }\n",
       "\n",
       "    .dataframe tbody tr th {\n",
       "        vertical-align: top;\n",
       "    }\n",
       "\n",
       "    .dataframe thead th {\n",
       "        text-align: right;\n",
       "    }\n",
       "</style>\n",
       "<table border=\"1\" class=\"dataframe\">\n",
       "  <thead>\n",
       "    <tr style=\"text-align: right;\">\n",
       "      <th></th>\n",
       "      <th>Average_ratings</th>\n",
       "      <th>Num_votes</th>\n",
       "      <th>Primary_title</th>\n",
       "      <th>Original_title</th>\n",
       "      <th>Is_adult</th>\n",
       "      <th>Start_year</th>\n",
       "      <th>Directors</th>\n",
       "      <th>Writers</th>\n",
       "      <th>Movie_release_date</th>\n",
       "      <th>Movie_languages</th>\n",
       "      <th>...</th>\n",
       "      <th>Male_actors</th>\n",
       "      <th>Female_actor_percentage</th>\n",
       "      <th>Movie_runtime</th>\n",
       "      <th>Plot Summaries</th>\n",
       "      <th>Popularity</th>\n",
       "      <th>Production_companies</th>\n",
       "      <th>production_countries</th>\n",
       "      <th>Domestic_gross</th>\n",
       "      <th>Movie_budget</th>\n",
       "      <th>Final_movie_revenue</th>\n",
       "    </tr>\n",
       "  </thead>\n",
       "  <tbody>\n",
       "    <tr>\n",
       "      <th>0</th>\n",
       "      <td>5.2</td>\n",
       "      <td>540</td>\n",
       "      <td>the corbett-fitzsimmons fight</td>\n",
       "      <td>the corbett-fitzsimmons fight</td>\n",
       "      <td>0</td>\n",
       "      <td>1897</td>\n",
       "      <td>nm0714557</td>\n",
       "      <td>NaN</td>\n",
       "      <td>1897</td>\n",
       "      <td></td>\n",
       "      <td>...</td>\n",
       "      <td>1</td>\n",
       "      <td>0.0</td>\n",
       "      <td>100</td>\n",
       "      <td>The film no longer exists in its entirety; how...</td>\n",
       "      <td>NaN</td>\n",
       "      <td>NaN</td>\n",
       "      <td>NaN</td>\n",
       "      <td>NaN</td>\n",
       "      <td>NaN</td>\n",
       "      <td>100000.0</td>\n",
       "    </tr>\n",
       "    <tr>\n",
       "      <th>1</th>\n",
       "      <td>5.7</td>\n",
       "      <td>28</td>\n",
       "      <td>the prodigal son</td>\n",
       "      <td>l'enfant prodigue</td>\n",
       "      <td>0</td>\n",
       "      <td>1907</td>\n",
       "      <td>nm0141150</td>\n",
       "      <td>nm0141150</td>\n",
       "      <td>1907</td>\n",
       "      <td>french language</td>\n",
       "      <td>...</td>\n",
       "      <td>1</td>\n",
       "      <td>50.0</td>\n",
       "      <td>90</td>\n",
       "      <td>NaN</td>\n",
       "      <td>NaN</td>\n",
       "      <td>NaN</td>\n",
       "      <td>NaN</td>\n",
       "      <td>NaN</td>\n",
       "      <td>NaN</td>\n",
       "      <td>NaN</td>\n",
       "    </tr>\n",
       "    <tr>\n",
       "      <th>2</th>\n",
       "      <td>5.1</td>\n",
       "      <td>12</td>\n",
       "      <td>l'enfant prodigue</td>\n",
       "      <td>l'enfant prodigue</td>\n",
       "      <td>0</td>\n",
       "      <td>1916</td>\n",
       "      <td>nm0141150</td>\n",
       "      <td>nm0141150</td>\n",
       "      <td>1907</td>\n",
       "      <td>french language</td>\n",
       "      <td>...</td>\n",
       "      <td>1</td>\n",
       "      <td>50.0</td>\n",
       "      <td>90.0</td>\n",
       "      <td>NaN</td>\n",
       "      <td>NaN</td>\n",
       "      <td>NaN</td>\n",
       "      <td>NaN</td>\n",
       "      <td>NaN</td>\n",
       "      <td>NaN</td>\n",
       "      <td>NaN</td>\n",
       "    </tr>\n",
       "    <tr>\n",
       "      <th>3</th>\n",
       "      <td>4.3</td>\n",
       "      <td>27</td>\n",
       "      <td>robbery under arms</td>\n",
       "      <td>robbery under arms</td>\n",
       "      <td>0</td>\n",
       "      <td>1907</td>\n",
       "      <td>nm0533958</td>\n",
       "      <td>nm0092809,nm0533958</td>\n",
       "      <td>1985</td>\n",
       "      <td>english language</td>\n",
       "      <td>...</td>\n",
       "      <td>5</td>\n",
       "      <td>0.0</td>\n",
       "      <td>141.0</td>\n",
       "      <td>NaN</td>\n",
       "      <td>NaN</td>\n",
       "      <td>NaN</td>\n",
       "      <td>NaN</td>\n",
       "      <td>NaN</td>\n",
       "      <td>NaN</td>\n",
       "      <td>NaN</td>\n",
       "    </tr>\n",
       "    <tr>\n",
       "      <th>4</th>\n",
       "      <td>5.2</td>\n",
       "      <td>49</td>\n",
       "      <td>robbery under arms</td>\n",
       "      <td>robbery under arms</td>\n",
       "      <td>0</td>\n",
       "      <td>1920</td>\n",
       "      <td>nm0104270</td>\n",
       "      <td>nm0092809,nm0104270</td>\n",
       "      <td>1985</td>\n",
       "      <td>english language</td>\n",
       "      <td>...</td>\n",
       "      <td>5</td>\n",
       "      <td>0.0</td>\n",
       "      <td>53</td>\n",
       "      <td>NaN</td>\n",
       "      <td>NaN</td>\n",
       "      <td>NaN</td>\n",
       "      <td>NaN</td>\n",
       "      <td>NaN</td>\n",
       "      <td>NaN</td>\n",
       "      <td>NaN</td>\n",
       "    </tr>\n",
       "  </tbody>\n",
       "</table>\n",
       "<p>5 rows × 24 columns</p>\n",
       "</div>"
      ],
      "text/plain": [
       "  Average_ratings Num_votes                  Primary_title  \\\n",
       "0             5.2       540  the corbett-fitzsimmons fight   \n",
       "1             5.7        28               the prodigal son   \n",
       "2             5.1        12              l'enfant prodigue   \n",
       "3             4.3        27             robbery under arms   \n",
       "4             5.2        49             robbery under arms   \n",
       "\n",
       "                  Original_title Is_adult Start_year  Directors  \\\n",
       "0  the corbett-fitzsimmons fight        0       1897  nm0714557   \n",
       "1              l'enfant prodigue        0       1907  nm0141150   \n",
       "2              l'enfant prodigue        0       1916  nm0141150   \n",
       "3             robbery under arms        0       1907  nm0533958   \n",
       "4             robbery under arms        0       1920  nm0104270   \n",
       "\n",
       "               Writers Movie_release_date   Movie_languages  ... Male_actors  \\\n",
       "0                  NaN               1897                    ...           1   \n",
       "1            nm0141150               1907   french language  ...           1   \n",
       "2            nm0141150               1907   french language  ...           1   \n",
       "3  nm0092809,nm0533958               1985  english language  ...           5   \n",
       "4  nm0092809,nm0104270               1985  english language  ...           5   \n",
       "\n",
       "  Female_actor_percentage Movie_runtime  \\\n",
       "0                     0.0           100   \n",
       "1                    50.0            90   \n",
       "2                    50.0          90.0   \n",
       "3                     0.0         141.0   \n",
       "4                     0.0            53   \n",
       "\n",
       "                                      Plot Summaries  Popularity  \\\n",
       "0  The film no longer exists in its entirety; how...         NaN   \n",
       "1                                                NaN         NaN   \n",
       "2                                                NaN         NaN   \n",
       "3                                                NaN         NaN   \n",
       "4                                                NaN         NaN   \n",
       "\n",
       "   Production_companies production_countries Domestic_gross  Movie_budget  \\\n",
       "0                   NaN                  NaN            NaN           NaN   \n",
       "1                   NaN                  NaN            NaN           NaN   \n",
       "2                   NaN                  NaN            NaN           NaN   \n",
       "3                   NaN                  NaN            NaN           NaN   \n",
       "4                   NaN                  NaN            NaN           NaN   \n",
       "\n",
       "  Final_movie_revenue  \n",
       "0            100000.0  \n",
       "1                 NaN  \n",
       "2                 NaN  \n",
       "3                 NaN  \n",
       "4                 NaN  \n",
       "\n",
       "[5 rows x 24 columns]"
      ]
     },
     "execution_count": 43,
     "metadata": {},
     "output_type": "execute_result"
    }
   ],
   "source": [
    "# Normalize the title columns for case-insensitive matching\n",
    "movie_df[\"Original_title\"] = movie_df[\"Original_title\"].str.strip().str.lower()\n",
    "movie_df[\"Primary_title\"] = movie_df[\"Primary_title\"].str.strip().str.lower()\n",
    "\n",
    "# Merging on the original title.\n",
    "merge1 = pd.merge(movie_df, df_filtered, how=\"left\", left_on=\"Original_title\", right_on=\"original_title\")\n",
    "# Merging on the secondary title.\n",
    "merge2 = pd.merge(movie_df, df_filtered, how=\"left\", left_on=\"Primary_title\", right_on=\"original_title\")\n",
    "\n",
    "# Concatenating and dropping duplicates that appear from movies with the same Original_title and Primary_title.\n",
    "final_df = pd.concat([merge1, merge2]).drop_duplicates().reset_index(drop=True)\n",
    "\n",
    "# Filter out movies where revenue data is missing or zero and prioritize initial revenue\n",
    "final_df[\"final_movie_revenue\"] = np.where(\n",
    "    (final_df[\"Movie_box_office_revenue\"].notna() & (final_df[\"Movie_box_office_revenue\"] != 0)),\n",
    "    final_df[\"Movie_box_office_revenue\"],\n",
    "    final_df[\"movie_revenue\"]\n",
    ")\n",
    "\n",
    "final_df.drop(columns=[\"Movie_box_office_revenue\", \"movie_revenue\", \"original_title\", \"genres\", \"id\", \"release_date\"], inplace=True, errors='ignore')\n",
    "\n",
    "# Renaming the columns to follow the convention\n",
    "rename_columns = {\"popularity\":\"Popularity\", \n",
    "                  \"production_companies\":\"Production_companies\", \n",
    "                  \"prodcution_countries\":\"Production_countries\",\n",
    "                  \"domestic_gross\":\"Domestic_gross\",\n",
    "                  \"movie_budget\":\"Movie_budget\",\n",
    "                  \"final_movie_revenue\":\"Final_movie_revenue\",\n",
    "                  \"Movie_genres_y\":\"Movie_genres\"}\n",
    "\n",
    "final_df.rename(columns=rename_columns, inplace=True)\n",
    "\n",
    "\n",
    "print(f\"The resulting dataframe has {len(final_df):,} rows.\")\n",
    "final_df.head()"
   ]
  },
  {
   "cell_type": "markdown",
   "metadata": {},
   "source": [
    "### 2. <u>Our success metric</u>"
   ]
  },
  {
   "cell_type": "markdown",
   "metadata": {},
   "source": [
    "#### Financial Analysis\n",
    "\n",
    "##### Calculating Return on Investment (ROI)\n",
    "\n",
    "To provide insights into the financial success of the movies, we calculate the Return on Investment (ROI). This metric is derived by comparing the movie's final revenue to its budget.\n",
    "\n",
    "- **Condition**: Ensure that both `movie_budget` and `final_movie_revenue` are non-zero and non-null to avoid division errors and ensure data integrity\n"
   ]
  },
  {
   "cell_type": "code",
   "execution_count": 44,
   "metadata": {},
   "outputs": [
    {
     "name": "stdout",
     "output_type": "stream",
     "text": [
      "There is now 6468 movies to work with in the financial success analysis\n"
     ]
    }
   ],
   "source": [
    "final_df = evaluation_utils.calculate_roi(final_df, \"Movie_budget\", \"Final_movie_revenue\")\n",
    "print(\"There is now \" + str(final_df[\"Final_movie_revenue\"].size) + \" movies to work with in the financial success analysis\")"
   ]
  },
  {
   "cell_type": "markdown",
   "metadata": {},
   "source": [
    "#### Data Normalization and Scaling\n",
    "\n",
    "Given the varied scales of ratings and ROI, we standardize these features to a common scale using both Standard and Min-Max scalers. "
   ]
  },
  {
   "cell_type": "code",
   "execution_count": 45,
   "metadata": {},
   "outputs": [],
   "source": [
    "# Initialize scalers\n",
    "final_df = evaluation_utils.scale_features(final_df)"
   ]
  },
  {
   "cell_type": "markdown",
   "metadata": {},
   "source": [
    "#### Weighted Success Metric\n",
    "\n",
    "To evaluate overall movie success, we calculate a weighted sum of normalized ratings and ROI, assigning double the weight to ROI given its financial significance in assessing success."
   ]
  },
  {
   "cell_type": "code",
   "execution_count": 46,
   "metadata": {},
   "outputs": [
    {
     "data": {
      "text/html": [
       "<div>\n",
       "<style scoped>\n",
       "    .dataframe tbody tr th:only-of-type {\n",
       "        vertical-align: middle;\n",
       "    }\n",
       "\n",
       "    .dataframe tbody tr th {\n",
       "        vertical-align: top;\n",
       "    }\n",
       "\n",
       "    .dataframe thead th {\n",
       "        text-align: right;\n",
       "    }\n",
       "</style>\n",
       "<table border=\"1\" class=\"dataframe\">\n",
       "  <thead>\n",
       "    <tr style=\"text-align: right;\">\n",
       "      <th></th>\n",
       "      <th>Average_ratings</th>\n",
       "      <th>Num_votes</th>\n",
       "      <th>Primary_title</th>\n",
       "      <th>Original_title</th>\n",
       "      <th>Is_adult</th>\n",
       "      <th>Start_year</th>\n",
       "      <th>Directors</th>\n",
       "      <th>Writers</th>\n",
       "      <th>Movie_release_date</th>\n",
       "      <th>Movie_languages</th>\n",
       "      <th>...</th>\n",
       "      <th>Production_companies</th>\n",
       "      <th>production_countries</th>\n",
       "      <th>Domestic_gross</th>\n",
       "      <th>Movie_budget</th>\n",
       "      <th>Final_movie_revenue</th>\n",
       "      <th>ROI</th>\n",
       "      <th>Normalized_Rating</th>\n",
       "      <th>Log_ROI</th>\n",
       "      <th>Movie_success</th>\n",
       "      <th>Scaled_movie_success</th>\n",
       "    </tr>\n",
       "  </thead>\n",
       "  <tbody>\n",
       "    <tr>\n",
       "      <th>7</th>\n",
       "      <td>4.7</td>\n",
       "      <td>40</td>\n",
       "      <td>hamlet, prince of denmark</td>\n",
       "      <td>hamlet</td>\n",
       "      <td>0</td>\n",
       "      <td>1910</td>\n",
       "      <td>nm0099901</td>\n",
       "      <td>nm0000636</td>\n",
       "      <td>1921</td>\n",
       "      <td>german language</td>\n",
       "      <td>...</td>\n",
       "      <td>[{\"name\": \"Castle Rock Entertainment\", \"id\": 9...</td>\n",
       "      <td>[{\"iso_3166_1\": \"GB\", \"name\": \"United Kingdom\"...</td>\n",
       "      <td>4501094.0</td>\n",
       "      <td>18000000.0</td>\n",
       "      <td>7129670.0</td>\n",
       "      <td>-0.603907</td>\n",
       "      <td>0.47</td>\n",
       "      <td>0.349927</td>\n",
       "      <td>0.389551</td>\n",
       "      <td>0.381656</td>\n",
       "    </tr>\n",
       "    <tr>\n",
       "      <th>8</th>\n",
       "      <td>4.7</td>\n",
       "      <td>40</td>\n",
       "      <td>hamlet, prince of denmark</td>\n",
       "      <td>hamlet</td>\n",
       "      <td>0</td>\n",
       "      <td>1910</td>\n",
       "      <td>nm0099901</td>\n",
       "      <td>nm0000636</td>\n",
       "      <td>1921</td>\n",
       "      <td>german language</td>\n",
       "      <td>...</td>\n",
       "      <td>[{\"name\": \"Castle Rock Entertainment\", \"id\": 9...</td>\n",
       "      <td>[{\"iso_3166_1\": \"GB\", \"name\": \"United Kingdom\"...</td>\n",
       "      <td>1577287.0</td>\n",
       "      <td>2000000.0</td>\n",
       "      <td>2419669.0</td>\n",
       "      <td>0.209835</td>\n",
       "      <td>0.47</td>\n",
       "      <td>0.408189</td>\n",
       "      <td>0.428587</td>\n",
       "      <td>0.442113</td>\n",
       "    </tr>\n",
       "    <tr>\n",
       "      <th>9</th>\n",
       "      <td>3.8</td>\n",
       "      <td>22</td>\n",
       "      <td>hamlet</td>\n",
       "      <td>hamlet</td>\n",
       "      <td>0</td>\n",
       "      <td>1911</td>\n",
       "      <td>nm0088881</td>\n",
       "      <td>nm0000636</td>\n",
       "      <td>1921</td>\n",
       "      <td>german language</td>\n",
       "      <td>...</td>\n",
       "      <td>[{\"name\": \"Castle Rock Entertainment\", \"id\": 9...</td>\n",
       "      <td>[{\"iso_3166_1\": \"GB\", \"name\": \"United Kingdom\"...</td>\n",
       "      <td>4501094.0</td>\n",
       "      <td>18000000.0</td>\n",
       "      <td>7129670.0</td>\n",
       "      <td>-0.603907</td>\n",
       "      <td>0.38</td>\n",
       "      <td>0.349927</td>\n",
       "      <td>0.359851</td>\n",
       "      <td>0.335658</td>\n",
       "    </tr>\n",
       "    <tr>\n",
       "      <th>10</th>\n",
       "      <td>3.8</td>\n",
       "      <td>22</td>\n",
       "      <td>hamlet</td>\n",
       "      <td>hamlet</td>\n",
       "      <td>0</td>\n",
       "      <td>1911</td>\n",
       "      <td>nm0088881</td>\n",
       "      <td>nm0000636</td>\n",
       "      <td>1921</td>\n",
       "      <td>german language</td>\n",
       "      <td>...</td>\n",
       "      <td>[{\"name\": \"Castle Rock Entertainment\", \"id\": 9...</td>\n",
       "      <td>[{\"iso_3166_1\": \"GB\", \"name\": \"United Kingdom\"...</td>\n",
       "      <td>1577287.0</td>\n",
       "      <td>2000000.0</td>\n",
       "      <td>2419669.0</td>\n",
       "      <td>0.209835</td>\n",
       "      <td>0.38</td>\n",
       "      <td>0.408189</td>\n",
       "      <td>0.398887</td>\n",
       "      <td>0.396115</td>\n",
       "    </tr>\n",
       "    <tr>\n",
       "      <th>11</th>\n",
       "      <td>5.0</td>\n",
       "      <td>81</td>\n",
       "      <td>hamlet</td>\n",
       "      <td>hamlet</td>\n",
       "      <td>0</td>\n",
       "      <td>1913</td>\n",
       "      <td>nm0687575</td>\n",
       "      <td>nm0000636</td>\n",
       "      <td>1921</td>\n",
       "      <td>german language</td>\n",
       "      <td>...</td>\n",
       "      <td>[{\"name\": \"Castle Rock Entertainment\", \"id\": 9...</td>\n",
       "      <td>[{\"iso_3166_1\": \"GB\", \"name\": \"United Kingdom\"...</td>\n",
       "      <td>4501094.0</td>\n",
       "      <td>18000000.0</td>\n",
       "      <td>7129670.0</td>\n",
       "      <td>-0.603907</td>\n",
       "      <td>0.50</td>\n",
       "      <td>0.349927</td>\n",
       "      <td>0.399451</td>\n",
       "      <td>0.396989</td>\n",
       "    </tr>\n",
       "  </tbody>\n",
       "</table>\n",
       "<p>5 rows × 29 columns</p>\n",
       "</div>"
      ],
      "text/plain": [
       "   Average_ratings Num_votes              Primary_title Original_title  \\\n",
       "7              4.7        40  hamlet, prince of denmark         hamlet   \n",
       "8              4.7        40  hamlet, prince of denmark         hamlet   \n",
       "9              3.8        22                     hamlet         hamlet   \n",
       "10             3.8        22                     hamlet         hamlet   \n",
       "11             5.0        81                     hamlet         hamlet   \n",
       "\n",
       "   Is_adult Start_year  Directors    Writers Movie_release_date  \\\n",
       "7         0       1910  nm0099901  nm0000636               1921   \n",
       "8         0       1910  nm0099901  nm0000636               1921   \n",
       "9         0       1911  nm0088881  nm0000636               1921   \n",
       "10        0       1911  nm0088881  nm0000636               1921   \n",
       "11        0       1913  nm0687575  nm0000636               1921   \n",
       "\n",
       "    Movie_languages  ...                               Production_companies  \\\n",
       "7   german language  ...  [{\"name\": \"Castle Rock Entertainment\", \"id\": 9...   \n",
       "8   german language  ...  [{\"name\": \"Castle Rock Entertainment\", \"id\": 9...   \n",
       "9   german language  ...  [{\"name\": \"Castle Rock Entertainment\", \"id\": 9...   \n",
       "10  german language  ...  [{\"name\": \"Castle Rock Entertainment\", \"id\": 9...   \n",
       "11  german language  ...  [{\"name\": \"Castle Rock Entertainment\", \"id\": 9...   \n",
       "\n",
       "                                 production_countries Domestic_gross  \\\n",
       "7   [{\"iso_3166_1\": \"GB\", \"name\": \"United Kingdom\"...      4501094.0   \n",
       "8   [{\"iso_3166_1\": \"GB\", \"name\": \"United Kingdom\"...      1577287.0   \n",
       "9   [{\"iso_3166_1\": \"GB\", \"name\": \"United Kingdom\"...      4501094.0   \n",
       "10  [{\"iso_3166_1\": \"GB\", \"name\": \"United Kingdom\"...      1577287.0   \n",
       "11  [{\"iso_3166_1\": \"GB\", \"name\": \"United Kingdom\"...      4501094.0   \n",
       "\n",
       "    Movie_budget  Final_movie_revenue       ROI Normalized_Rating   Log_ROI  \\\n",
       "7     18000000.0            7129670.0 -0.603907              0.47  0.349927   \n",
       "8      2000000.0            2419669.0  0.209835              0.47  0.408189   \n",
       "9     18000000.0            7129670.0 -0.603907              0.38  0.349927   \n",
       "10     2000000.0            2419669.0  0.209835              0.38  0.408189   \n",
       "11    18000000.0            7129670.0 -0.603907              0.50  0.349927   \n",
       "\n",
       "    Movie_success Scaled_movie_success  \n",
       "7        0.389551             0.381656  \n",
       "8        0.428587             0.442113  \n",
       "9        0.359851             0.335658  \n",
       "10       0.398887             0.396115  \n",
       "11       0.399451             0.396989  \n",
       "\n",
       "[5 rows x 29 columns]"
      ]
     },
     "execution_count": 46,
     "metadata": {},
     "output_type": "execute_result"
    }
   ],
   "source": [
    "# Calculate movie success which is a weighted sum choosing that the ROI feature will have double the importance of ratings\n",
    "final_df = evaluation_utils.calculate_weighted_success(final_df, 0.67)\n",
    "\n",
    "final_df.head()"
   ]
  },
  {
   "cell_type": "markdown",
   "metadata": {},
   "source": [
    "### 3. <u>Gender and age vs success</u>"
   ]
  },
  {
   "cell_type": "markdown",
   "metadata": {},
   "source": [
    "Now that we have have established our success metric, we can evaluate the effect of actors' gender on the success of a movie. \n",
    "\n",
    "The best way we chose in order to conduct our analysis is a **Regression analysis**. Indeed, this will allow us to quantify and understand the relationship between gender, age, and other factors on ROI, ratings and our success metric while controlling for potential confounders.\n",
    "\n",
    "Before diving into regression, we should perform an **Exploratory Data Analysis (EDA)** to understand the relationships among variables and detect any anomalies."
   ]
  },
  {
   "cell_type": "markdown",
   "metadata": {},
   "source": [
    "#### 1.1 Exploratory Data Analysis (EDA)\n",
    "\n",
    "First, let's list the variable of interest:\n",
    "\n",
    "Categorical variable:\n",
    "- *Actor_gender*: An actor is either Male or Female. \n",
    "- *isAdult*: A boolean. Returns 1 if it a +18 rated movie\n",
    "- *Movie_genre*\n",
    "- *Movie_countries*, \n",
    "- *Movie_languages*\n",
    "\n",
    "Continous variable:\n",
    "- *Average_female_actor_age*: Represents the average age of the female actresses. \n",
    "- *Average_male_actor_age*: Represents the average age of the male actresses.\n",
    "- *Average_ratings* and *Movie_box_office_revenue*: These are the dependent variables of our studies.    \n",
    "\n"
   ]
  },
  {
   "cell_type": "markdown",
   "metadata": {},
   "source": [
    "##### A quick comment about the dependent variables:\n",
    "The goal of our study is to look at ratings, ROI and our succes metric. However, due to complications with finding enough data for the ROI and success metric estimation we will need to postpone the in-depth analysis to P3."
   ]
  },
  {
   "cell_type": "markdown",
   "metadata": {},
   "source": [
    "##### 1.1.1 Univariate Analysis of continuous variables\n",
    "a. <u>Numerical Analysis</u>: \n",
    "\n",
    "As a numerical analysis, we can show a table with tne minimum, maximum, mean, standar deviation (SD) and median of each variable.\n"
   ]
  },
  {
   "cell_type": "code",
   "execution_count": 47,
   "metadata": {},
   "outputs": [],
   "source": [
    "final_df_copy = final_df.copy()"
   ]
  },
  {
   "cell_type": "code",
   "execution_count": null,
   "metadata": {},
   "outputs": [],
   "source": [
    "# TODO: add here Log_ROI and Movie_success\n",
    "\n",
    "numeric_columns = [\"Average_ratings\",\n",
    "                   \"Num_votes\",\n",
    "                   \"Movie_release_date\",\n",
    "                   \"Final_movie_revenue\",\n",
    "                   #\"ROI\",\n",
    "                   \"Movie_runtime\",\n",
    "                   \"Female_actors\",\n",
    "                   \"Male_actors\"]"
   ]
  },
  {
   "cell_type": "code",
   "execution_count": 49,
   "metadata": {},
   "outputs": [
    {
     "data": {
      "text/html": [
       "<div>\n",
       "<style scoped>\n",
       "    .dataframe tbody tr th:only-of-type {\n",
       "        vertical-align: middle;\n",
       "    }\n",
       "\n",
       "    .dataframe tbody tr th {\n",
       "        vertical-align: top;\n",
       "    }\n",
       "\n",
       "    .dataframe thead th {\n",
       "        text-align: right;\n",
       "    }\n",
       "</style>\n",
       "<table border=\"1\" class=\"dataframe\">\n",
       "  <thead>\n",
       "    <tr style=\"text-align: right;\">\n",
       "      <th></th>\n",
       "      <th>Min</th>\n",
       "      <th>Max</th>\n",
       "      <th>Mean</th>\n",
       "      <th>SD</th>\n",
       "      <th>Median</th>\n",
       "    </tr>\n",
       "  </thead>\n",
       "  <tbody>\n",
       "    <tr>\n",
       "      <th>Average_ratings</th>\n",
       "      <td>1.20</td>\n",
       "      <td>10.00</td>\n",
       "      <td>6.28</td>\n",
       "      <td>1.17</td>\n",
       "      <td>6.40</td>\n",
       "    </tr>\n",
       "    <tr>\n",
       "      <th>Num_votes</th>\n",
       "      <td>5.00</td>\n",
       "      <td>2,962,241.00</td>\n",
       "      <td>82,688.95</td>\n",
       "      <td>191,770.20</td>\n",
       "      <td>10,590.00</td>\n",
       "    </tr>\n",
       "    <tr>\n",
       "      <th>Movie_release_date</th>\n",
       "      <td>1,910.00</td>\n",
       "      <td>2,014.00</td>\n",
       "      <td>1,993.12</td>\n",
       "      <td>23.25</td>\n",
       "      <td>2,002.00</td>\n",
       "    </tr>\n",
       "    <tr>\n",
       "      <th>Final_movie_revenue</th>\n",
       "      <td>423.00</td>\n",
       "      <td>2,782,275,172.00</td>\n",
       "      <td>98,109,238.64</td>\n",
       "      <td>177,826,125.90</td>\n",
       "      <td>39,686,769.00</td>\n",
       "    </tr>\n",
       "    <tr>\n",
       "      <th>ROI</th>\n",
       "      <td>-1.00</td>\n",
       "      <td>101,981.64</td>\n",
       "      <td>21.37</td>\n",
       "      <td>1,270.18</td>\n",
       "      <td>0.83</td>\n",
       "    </tr>\n",
       "    <tr>\n",
       "      <th>Log_ROI</th>\n",
       "      <td>0.00</td>\n",
       "      <td>1.00</td>\n",
       "      <td>0.42</td>\n",
       "      <td>0.08</td>\n",
       "      <td>0.43</td>\n",
       "    </tr>\n",
       "    <tr>\n",
       "      <th>Movie_success</th>\n",
       "      <td>0.14</td>\n",
       "      <td>0.79</td>\n",
       "      <td>0.49</td>\n",
       "      <td>0.07</td>\n",
       "      <td>0.50</td>\n",
       "    </tr>\n",
       "    <tr>\n",
       "      <th>Scaled_movie_success</th>\n",
       "      <td>0.00</td>\n",
       "      <td>1.00</td>\n",
       "      <td>0.54</td>\n",
       "      <td>0.11</td>\n",
       "      <td>0.55</td>\n",
       "    </tr>\n",
       "    <tr>\n",
       "      <th>Movie_runtime</th>\n",
       "      <td>4.00</td>\n",
       "      <td>450.00</td>\n",
       "      <td>103.82</td>\n",
       "      <td>24.64</td>\n",
       "      <td>100.00</td>\n",
       "    </tr>\n",
       "    <tr>\n",
       "      <th>Female_actors</th>\n",
       "      <td>0.00</td>\n",
       "      <td>20.00</td>\n",
       "      <td>3.52</td>\n",
       "      <td>2.45</td>\n",
       "      <td>3.00</td>\n",
       "    </tr>\n",
       "    <tr>\n",
       "      <th>Male_actors</th>\n",
       "      <td>0.00</td>\n",
       "      <td>47.00</td>\n",
       "      <td>7.26</td>\n",
       "      <td>4.23</td>\n",
       "      <td>7.00</td>\n",
       "    </tr>\n",
       "  </tbody>\n",
       "</table>\n",
       "</div>"
      ],
      "text/plain": [
       "                          Min              Max          Mean             SD  \\\n",
       "Average_ratings          1.20            10.00          6.28           1.17   \n",
       "Num_votes                5.00     2,962,241.00     82,688.95     191,770.20   \n",
       "Movie_release_date   1,910.00         2,014.00      1,993.12          23.25   \n",
       "Final_movie_revenue    423.00 2,782,275,172.00 98,109,238.64 177,826,125.90   \n",
       "ROI                     -1.00       101,981.64         21.37       1,270.18   \n",
       "Log_ROI                  0.00             1.00          0.42           0.08   \n",
       "Movie_success            0.14             0.79          0.49           0.07   \n",
       "Scaled_movie_success     0.00             1.00          0.54           0.11   \n",
       "Movie_runtime            4.00           450.00        103.82          24.64   \n",
       "Female_actors            0.00            20.00          3.52           2.45   \n",
       "Male_actors              0.00            47.00          7.26           4.23   \n",
       "\n",
       "                            Median  \n",
       "Average_ratings               6.40  \n",
       "Num_votes                10,590.00  \n",
       "Movie_release_date        2,002.00  \n",
       "Final_movie_revenue  39,686,769.00  \n",
       "ROI                           0.83  \n",
       "Log_ROI                       0.43  \n",
       "Movie_success                 0.50  \n",
       "Scaled_movie_success          0.55  \n",
       "Movie_runtime               100.00  \n",
       "Female_actors                 3.00  \n",
       "Male_actors                   7.00  "
      ]
     },
     "execution_count": 49,
     "metadata": {},
     "output_type": "execute_result"
    }
   ],
   "source": [
    "pd.options.display.float_format = \"{:,.2f}\".format\n",
    "\n",
    "for col in numeric_columns:\n",
    "    final_df_copy[col] = pd.to_numeric(final_df_copy[col], errors=\"coerce\")\n",
    "\n",
    "final_df_copy.dropna(subset=numeric_columns, inplace=True)\n",
    "\n",
    "# Summary statistics\n",
    "summary_table = final_df_copy[numeric_columns].agg([\"min\", \"max\", \"mean\", \"std\", \"median\"]).T\n",
    "summary_table.columns = [\"Min\", \"Max\", \"Mean\", \"SD\", \"Median\"]\n",
    "summary_table = summary_table.round(2)\n",
    "\n",
    "summary_table"
   ]
  },
  {
   "cell_type": "code",
   "execution_count": 50,
   "metadata": {},
   "outputs": [
    {
     "data": {
      "image/png": "[encoded data removed]",
      "text/plain": [
       "<Figure size 720x432 with 3 Axes>"
      ]
     },
     "metadata": {
      "needs_background": "light"
     },
     "output_type": "display_data"
    }
   ],
   "source": [
    "fig, axes = plt.subplots(nrows=1, ncols=3, figsize=(10, 6))\n",
    "fig.suptitle(\"Figure 1: Histogram of Dependent Variables\", fontsize=14)\n",
    "axes = axes.flatten()\n",
    "\n",
    "dep_var = [\"Average_ratings\", \"Final_movie_revenue\", \"ROI\"]\n",
    "\n",
    "# Plot histograms for each dependent variables\n",
    "for i, col in enumerate(dep_var):\n",
    "    if i < len(axes):  # Ensure we do not exceed the number of axes\n",
    "        ax = axes[i]\n",
    "        sns.histplot(final_df_copy, x=col, kde=True, stat=\"density\", ax=ax, bins=15)\n",
    "        ax.set_title(f\"Histogram of {col}\")\n",
    "        ax.set_xlabel(col)\n",
    "        ax.set_ylabel(\"Frequency\")\n",
    "\n",
    "# Hide any extra subplots if there are more axes than columns\n",
    "for j in range(i + 1, len(axes)):\n",
    "    fig.delaxes(axes[j])\n",
    "\n",
    "# Make space for the title\n",
    "plt.tight_layout(rect=[0, 0, 1, 0.95]) \n",
    "plt.show()"
   ]
  },
  {
   "cell_type": "markdown",
   "metadata": {},
   "source": [
    "As we can see in Figure 1, the distribution of *Final_movi_revenue* and *ROI* are highly skewed. In order to adresse that, we have to apply a log transformation to them."
   ]
  },
  {
   "cell_type": "code",
   "execution_count": 51,
   "metadata": {},
   "outputs": [
    {
     "data": {
      "image/png": "[encoded data removed]",
      "text/plain": [
       "<Figure size 864x288 with 2 Axes>"
      ]
     },
     "metadata": {
      "needs_background": "light"
     },
     "output_type": "display_data"
    }
   ],
   "source": [
    "fig, axes = plt.subplots(1, 2, figsize=(12, 4))\n",
    "\n",
    "# Histogram for Log_Final_movie_revenue\n",
    "sns.histplot(final_df_copy['Final_movie_revenue'].apply(math.log1p), kde=True, edgecolor=\"black\", bins=15, ax=axes[0])\n",
    "axes[0].set_title(\"Histogram of log-transformed Final_movie_revenue\")\n",
    "axes[0].set_xlabel(\"log_Final_Movie_revenue\")\n",
    "axes[0].set_ylabel(\"Frequency\")\n",
    "\n",
    "# Histogram for log_ROI\n",
    "sns.histplot(final_df_copy['ROI'].apply(math.log1p), kde=True, edgecolor=\"black\", bins=15, ax=axes[1])\n",
    "axes[1].set_title(\"Histogram of log-transformed ROI\")\n",
    "axes[1].set_xlabel(\"log_ROI\")\n",
    "axes[1].set_ylabel(\"Frequency\")\n",
    "\n",
    "plt.tight_layout()\n",
    "plt.show()"
   ]
  },
  {
   "cell_type": "markdown",
   "metadata": {},
   "source": [
    "Now we have successfully obtained a normal distribution for the *Final_Movie_revenue* and *ROI*. \n",
    "\n",
    "Let's now look at our independent variables."
   ]
  },
  {
   "cell_type": "code",
   "execution_count": 52,
   "metadata": {},
   "outputs": [
    {
     "data": {
      "image/png": "[encoded data removed]",
      "text/plain": [
       "<Figure size 1008x576 with 5 Axes>"
      ]
     },
     "metadata": {
      "needs_background": "light"
     },
     "output_type": "display_data"
    }
   ],
   "source": [
    "# Same as for the dependent variables\n",
    "fig, axes = plt.subplots(nrows=2, ncols=3, figsize=(14, 8))\n",
    "fig.suptitle(\"Figure 2: Histogram of Independent Variables\", fontsize=14)\n",
    "\n",
    "axes = axes.flatten()\n",
    "\n",
    "indep_var = [\"Num_votes\", \"Movie_release_date\", \"Movie_runtime\", \"Female_actors\", \"Male_actors\"]\n",
    "\n",
    "# Plot histograms for each independent variable\n",
    "for i, col in enumerate(indep_var):\n",
    "    sns.histplot(final_df_copy, x=col, kde=True, stat=\"density\", ax=axes[i], bins=15)\n",
    "    axes[i].set_title(f\"Histogram of {col}\")\n",
    "    axes[i].set_xlabel(col)\n",
    "    axes[i].set_ylabel(\"Frequency\")\n",
    "\n",
    "for j in range(i + 1, len(axes)):\n",
    "    fig.delaxes(axes[j])\n",
    "\n",
    "plt.tight_layout(rect=[0, 0, 1, 0.95])\n",
    "plt.show()"
   ]
  },
  {
   "cell_type": "markdown",
   "metadata": {},
   "source": [
    "We need to apply log transformation to the skewed independent variables being: *Num_votes*, *Movie_runtime*, *Female_actors* and *Male_actors*."
   ]
  },
  {
   "cell_type": "code",
   "execution_count": 53,
   "metadata": {},
   "outputs": [
    {
     "data": {
      "image/png": "[encoded data removed]",
      "text/plain": [
       "<Figure size 1296x432 with 4 Axes>"
      ]
     },
     "metadata": {
      "needs_background": "light"
     },
     "output_type": "display_data"
    }
   ],
   "source": [
    "# Apply log transformation to skewed independent variables\n",
    "final_df_copy = evaluation_utils.log_transform(final_df_copy, [\"Num_votes\", \"Movie_runtime\", \"Female_actors\", \"Male_actors\"])\n",
    "\n",
    "# Plot histograms of the transformed variables\n",
    "fig, axes = plt.subplots(nrows=1, ncols=4, figsize=(18, 6))\n",
    "fig.suptitle(\"Figure 3: Histograms of Log-Transformed Independent Variables\", fontsize=14)\n",
    "\n",
    "sns.histplot(final_df_copy['log_Num_votes'], kde=True, ax=axes[0], color=\"skyblue\", bins=15)\n",
    "axes[0].set_title(\"Log of Num_votes\")\n",
    "\n",
    "sns.histplot(final_df_copy['log_Movie_runtime'], kde=True, ax=axes[1], color=\"skyblue\", bins=15)\n",
    "axes[1].set_title(\"Log of Movie_runtime\")\n",
    "\n",
    "sns.histplot(final_df_copy['log_Female_actors'], kde=True, ax=axes[2], color=\"skyblue\", bins=15)\n",
    "axes[2].set_title(\"Log of Female_actors\")\n",
    "\n",
    "sns.histplot(final_df_copy['log_Male_actors'], kde=True, ax=axes[3], color=\"skyblue\", bins=15)\n",
    "axes[3].set_title(\"Log of Male_actors\")\n",
    "\n",
    "plt.tight_layout(rect=[0, 0, 1, 0.95])\n",
    "plt.show()\n"
   ]
  },
  {
   "cell_type": "markdown",
   "metadata": {},
   "source": [
    "Log of Num_votes: A bimodal distribution, with most movies receiving moderate votes and a smaller group of popular movies getting significantly more votes.\n",
    "\n",
    "Log of Movie_runtime: Right-skewed, with most movies having runtimes between 50 to 150 minutes (from Figure 2), and few with very long runtimes.\n",
    "\n",
    "Log of Female_actors: Slightly bimodal, with most movies having a small number of female actors, and a few with more.\n",
    "\n",
    "Log of Male_actors: Similar to female actors, the distribution is skewed towards movies with fewer male actors, and only a few movies have a large number of male actors."
   ]
  },
  {
   "cell_type": "code",
   "execution_count": 54,
   "metadata": {},
   "outputs": [
    {
     "ename": "ValueError",
     "evalue": "num must be an integer with 1 <= num <= 8, not 9",
     "output_type": "error",
     "traceback": [
      "\u001b[0;31m---------------------------------------------------------------------------\u001b[0m",
      "\u001b[0;31mValueError\u001b[0m                                Traceback (most recent call last)",
      "\u001b[0;32m/var/folders/dd/29y5xyp93l52_48fftnlg9mw0000gn/T/ipykernel_97610/2192208832.py\u001b[0m in \u001b[0;36m<module>\u001b[0;34m\u001b[0m\n\u001b[1;32m      1\u001b[0m \u001b[0mplt\u001b[0m\u001b[0;34m.\u001b[0m\u001b[0mfigure\u001b[0m\u001b[0;34m(\u001b[0m\u001b[0mfigsize\u001b[0m\u001b[0;34m=\u001b[0m\u001b[0;34m(\u001b[0m\u001b[0;36m14\u001b[0m\u001b[0;34m,\u001b[0m \u001b[0;36m8\u001b[0m\u001b[0;34m)\u001b[0m\u001b[0;34m)\u001b[0m\u001b[0;34m\u001b[0m\u001b[0;34m\u001b[0m\u001b[0m\n\u001b[1;32m      2\u001b[0m \u001b[0;32mfor\u001b[0m \u001b[0mi\u001b[0m\u001b[0;34m,\u001b[0m \u001b[0mcol\u001b[0m \u001b[0;32min\u001b[0m \u001b[0menumerate\u001b[0m\u001b[0;34m(\u001b[0m\u001b[0mnumeric_columns\u001b[0m\u001b[0;34m,\u001b[0m \u001b[0;36m1\u001b[0m\u001b[0;34m)\u001b[0m\u001b[0;34m:\u001b[0m\u001b[0;34m\u001b[0m\u001b[0;34m\u001b[0m\u001b[0m\n\u001b[0;32m----> 3\u001b[0;31m     \u001b[0mplt\u001b[0m\u001b[0;34m.\u001b[0m\u001b[0msubplot\u001b[0m\u001b[0;34m(\u001b[0m\u001b[0;36m4\u001b[0m\u001b[0;34m,\u001b[0m \u001b[0;36m2\u001b[0m\u001b[0;34m,\u001b[0m \u001b[0mi\u001b[0m\u001b[0;34m)\u001b[0m\u001b[0;34m\u001b[0m\u001b[0;34m\u001b[0m\u001b[0m\n\u001b[0m\u001b[1;32m      4\u001b[0m     \u001b[0msns\u001b[0m\u001b[0;34m.\u001b[0m\u001b[0mboxplot\u001b[0m\u001b[0;34m(\u001b[0m\u001b[0mdata\u001b[0m\u001b[0;34m=\u001b[0m\u001b[0mfinal_df_copy\u001b[0m\u001b[0;34m,\u001b[0m \u001b[0mx\u001b[0m\u001b[0;34m=\u001b[0m\u001b[0mcol\u001b[0m\u001b[0;34m)\u001b[0m\u001b[0;34m\u001b[0m\u001b[0;34m\u001b[0m\u001b[0m\n\u001b[1;32m      5\u001b[0m     \u001b[0mplt\u001b[0m\u001b[0;34m.\u001b[0m\u001b[0mtitle\u001b[0m\u001b[0;34m(\u001b[0m\u001b[0;34mf\"Boxplot of {col}\"\u001b[0m\u001b[0;34m)\u001b[0m\u001b[0;34m\u001b[0m\u001b[0;34m\u001b[0m\u001b[0m\n",
      "\u001b[0;32m/opt/miniconda3/lib/python3.9/site-packages/matplotlib/pyplot.py\u001b[0m in \u001b[0;36msubplot\u001b[0;34m(*args, **kwargs)\u001b[0m\n\u001b[1;32m   1423\u001b[0m \u001b[0;34m\u001b[0m\u001b[0m\n\u001b[1;32m   1424\u001b[0m     \u001b[0;31m# First, search for an existing subplot with a matching spec.\u001b[0m\u001b[0;34m\u001b[0m\u001b[0;34m\u001b[0m\u001b[0;34m\u001b[0m\u001b[0m\n\u001b[0;32m-> 1425\u001b[0;31m     \u001b[0mkey\u001b[0m \u001b[0;34m=\u001b[0m \u001b[0mSubplotSpec\u001b[0m\u001b[0;34m.\u001b[0m\u001b[0m_from_subplot_args\u001b[0m\u001b[0;34m(\u001b[0m\u001b[0mfig\u001b[0m\u001b[0;34m,\u001b[0m \u001b[0margs\u001b[0m\u001b[0;34m)\u001b[0m\u001b[0;34m\u001b[0m\u001b[0;34m\u001b[0m\u001b[0m\n\u001b[0m\u001b[1;32m   1426\u001b[0m \u001b[0;34m\u001b[0m\u001b[0m\n\u001b[1;32m   1427\u001b[0m     \u001b[0;32mfor\u001b[0m \u001b[0max\u001b[0m \u001b[0;32min\u001b[0m \u001b[0mfig\u001b[0m\u001b[0;34m.\u001b[0m\u001b[0maxes\u001b[0m\u001b[0;34m:\u001b[0m\u001b[0;34m\u001b[0m\u001b[0;34m\u001b[0m\u001b[0m\n",
      "\u001b[0;32m/opt/miniconda3/lib/python3.9/site-packages/matplotlib/gridspec.py\u001b[0m in \u001b[0;36m_from_subplot_args\u001b[0;34m(figure, args)\u001b[0m\n\u001b[1;32m    597\u001b[0m         \u001b[0;32melse\u001b[0m\u001b[0;34m:\u001b[0m\u001b[0;34m\u001b[0m\u001b[0;34m\u001b[0m\u001b[0m\n\u001b[1;32m    598\u001b[0m             \u001b[0;32mif\u001b[0m \u001b[0;32mnot\u001b[0m \u001b[0misinstance\u001b[0m\u001b[0;34m(\u001b[0m\u001b[0mnum\u001b[0m\u001b[0;34m,\u001b[0m \u001b[0mIntegral\u001b[0m\u001b[0;34m)\u001b[0m \u001b[0;32mor\u001b[0m \u001b[0mnum\u001b[0m \u001b[0;34m<\u001b[0m \u001b[0;36m1\u001b[0m \u001b[0;32mor\u001b[0m \u001b[0mnum\u001b[0m \u001b[0;34m>\u001b[0m \u001b[0mrows\u001b[0m\u001b[0;34m*\u001b[0m\u001b[0mcols\u001b[0m\u001b[0;34m:\u001b[0m\u001b[0;34m\u001b[0m\u001b[0;34m\u001b[0m\u001b[0m\n\u001b[0;32m--> 599\u001b[0;31m                 raise ValueError(\n\u001b[0m\u001b[1;32m    600\u001b[0m                     \u001b[0;34mf\"num must be an integer with 1 <= num <= {rows*cols}, \"\u001b[0m\u001b[0;34m\u001b[0m\u001b[0;34m\u001b[0m\u001b[0m\n\u001b[1;32m    601\u001b[0m                     \u001b[0;34mf\"not {num!r}\"\u001b[0m\u001b[0;34m\u001b[0m\u001b[0;34m\u001b[0m\u001b[0m\n",
      "\u001b[0;31mValueError\u001b[0m: num must be an integer with 1 <= num <= 8, not 9"
     ]
    },
    {
     "data": {
      "image/png": "[encoded data removed]",
      "text/plain": [
       "<Figure size 1008x576 with 8 Axes>"
      ]
     },
     "metadata": {
      "needs_background": "light"
     },
     "output_type": "display_data"
    }
   ],
   "source": [
    "plt.figure(figsize=(14, 8))\n",
    "for i, col in enumerate(numeric_columns, 1):\n",
    "    plt.subplot(4, 2, i)\n",
    "    sns.boxplot(data=final_df_copy, x=col)\n",
    "    plt.title(f\"Boxplot of {col}\")\n",
    "    \n",
    "plt.suptitle(\"Figure 4: Boxplot of Variables\")     \n",
    "plt.tight_layout()\n",
    "plt.show()"
   ]
  },
  {
   "cell_type": "markdown",
   "metadata": {},
   "source": [
    "We now have to focus on outliers and removing them for a more accurate modeling. From the boxplots, we chose the remove the outliers of the *Movie_box_office_revenue* and the *Minutes_runtime* variables. To do that, we use the **InterQuartile Range (IQR) method**, which identifies values that are significantly higher or lower than the majority of the data.\n",
    "\n",
    "The *remove_outliers* function will calculate the IQR for each column specified and removes any rows with values outside the range:\n",
    "\n",
    "$[Q1 - 1.5 \\times \\text{IQR}, Q3 + 1.5 \\times \\text{IQR}]$\n"
   ]
  },
  {
   "cell_type": "code",
   "execution_count": null,
   "metadata": {},
   "outputs": [],
   "source": [
    "# Create a copy of the dataframe without outliers\n",
    "final_df_no_outliers = data_utils.remove_outliers(final_df_copy, numeric_columns)\n",
    "\n",
    "# Display the boxplot again to verify the outliers are removed\n",
    "plt.figure(figsize=(12, 8))\n",
    "for i, col in enumerate(numeric_columns, 1):\n",
    "    plt.subplot(4, 2, i)\n",
    "    sns.boxplot(data=final_df_no_outliers, x=col)\n",
    "    plt.title(f\"Boxplot of {col} (Without Outliers)\")\n",
    "plt.suptitle(\"Figure 5: Boxplot of Variables without Outliers\")\n",
    "plt.tight_layout()\n",
    "plt.show()"
   ]
  },
  {
   "cell_type": "code",
   "execution_count": null,
   "metadata": {},
   "outputs": [],
   "source": [
    "print(f\"After removing the outliers and dropping the null values, we are left with {len(final_df_no_outliers):,} movies.\")"
   ]
  },
  {
   "cell_type": "markdown",
   "metadata": {},
   "source": [
    "##### 1.1.2 Bivariate Analysis of continuous variables\n",
    "a. <u>Correlation matrix</u>:"
   ]
  },
  {
   "cell_type": "code",
   "execution_count": null,
   "metadata": {},
   "outputs": [],
   "source": [
    "correlation_matrix = final_df_no_outliers[numeric_columns].corr()\n",
    "\n",
    "# Calculate and visualize the correlation matrix\n",
    "plt.figure(figsize=(10, 8))\n",
    "sns.heatmap(correlation_matrix, annot=True, cmap='coolwarm', vmin=-1, vmax=1)\n",
    "plt.title(\"Figure 6: Correlation Matrix of Numeric Variables\")\n",
    "plt.show()"
   ]
  },
  {
   "cell_type": "markdown",
   "metadata": {},
   "source": [
    "The correlation matrix for the continuous variables in our dataset shows the following relationships:\n",
    "\n",
    "•⁠  ⁠Female_actors and Male_actors : The correlation coefficient is *0.19*, indicating a weak positive correlation. This suggests that movies with a higher number of female actors also tend to have a higher number of male actors. We note that this could indicate a general tendency for larger casts to include more actors of both genders.\n",
    "\n",
    "•⁠  ⁠Final_movie_revenue and Male_actors : The correlation coefficient is *0.26*, indicating a moderate positive correlation. This suggests that movies with more male actors might achieve higher box office earnings. \n",
    "\n",
    "•⁠  ⁠Final_movie_revenue and Female_actors : The correlation coefficient is *0.16*, indicating a weak positive correlation. This suggests that movies with more female actors also have a slight tendency to generate higher revenue. We note however that this relationship is weaker than with male actors. \n",
    "\n",
    "•⁠  ⁠Female_actors and Movie_release_date : The correlation coefficient is *0.15*, indicating a weak positive correlation. This suggests that more recent movies tend to include a higher number of female actors. \n",
    "\n",
    "While gender composition affects the correlation, these findings highlight the need for deeper analysis (e.g., regression) to control for potential confounders and isolate the impact of gender on box office success."
   ]
  },
  {
   "cell_type": "markdown",
   "metadata": {},
   "source": [
    "b. <u>Scatter plots </u>:"
   ]
  },
  {
   "cell_type": "code",
   "execution_count": null,
   "metadata": {},
   "outputs": [],
   "source": [
    "sns.pairplot(final_df_no_outliers[numeric_columns])"
   ]
  },
  {
   "cell_type": "markdown",
   "metadata": {},
   "source": [
    "#### The categorical variables\n",
    "Regression analysis with many categorical variables can quickly get complicated. Indeed using a boolean value for each category except one can cause us to have too many regressors. For variables like isAdult and Gender it is easy as there are only two possibilities. However, for Movie_genre, Movie_countries and Movie_languages we can quickly get into the hundreds. Here is how we plan on managing this:"
   ]
  },
  {
   "cell_type": "markdown",
   "metadata": {},
   "source": [
    "#### Movie_genre"
   ]
  },
  {
   "cell_type": "markdown",
   "metadata": {},
   "source": [
    "We set a cutoff threshold of 1000. This means all genres with less than 1000 occurences will be discarded. "
   ]
  },
  {
   "cell_type": "code",
   "execution_count": null,
   "metadata": {},
   "outputs": [],
   "source": [
    "N = 1000  # Threshold for filtering genres\n",
    "\n",
    "genres_series = (\n",
    "    final_df_copy[\"Movie_genres\"]\n",
    "    .str.replace(r\"[\\[\\]']\", \"\", regex=True)  # Clean the string further for this application\n",
    "    .str.split(', ')  # Split the genre strings into lists for easier manipulation, using ', ' as the delimiter\n",
    "    .explode()  # Expand the lists into separate rows with one genre per row\n",
    "    .str.strip()  # Strip leading and trailing whitespace from each genre\n",
    "    .str.lower()\n",
    ")\n",
    "\n",
    "# Get the count of each genre\n",
    "genre_counts = genres_series.value_counts()\n",
    "\n",
    "# Filter out genres with counts < N\n",
    "filtered_genre_counts = genre_counts[genre_counts >= N]  \n",
    "\n",
    "# Count the number of genres appearing at least N times\n",
    "len(filtered_genre_counts) "
   ]
  },
  {
   "cell_type": "markdown",
   "metadata": {},
   "source": [
    "Let us check if this restricts our study to too few movies."
   ]
  },
  {
   "cell_type": "code",
   "execution_count": null,
   "metadata": {},
   "outputs": [],
   "source": [
    "filtered_genre_counts"
   ]
  },
  {
   "cell_type": "code",
   "execution_count": null,
   "metadata": {},
   "outputs": [],
   "source": [
    "# List of genres that meet the threshold\n",
    "popular_genres = filtered_genre_counts.index.tolist()\n",
    "\n",
    "# Remove all special characters from the strings to allow proper regex matching\n",
    "no_special_char = map(re.escape, popular_genres)\n",
    "\n",
    "# Create regex pattern using the \"OR\" operator\n",
    "pattern_genre = '|'.join(no_special_char) \n",
    "\n",
    "# Check thanks to the regex pattern if any of the popular genres are in each column of th edataframe\n",
    "rows_with_popular_genres = final_df_copy[\"Movie_genres\"].str.contains(pattern_genre, case=False, na=False)\n",
    "\n",
    "print(f\"There are {rows_with_popular_genres.sum()} movies that belong to at least one of the {len(filtered_genre_counts)} most popular genres.\",\n",
    "      f\"\\nThere were {len(final_df_copy)} movies in the dataset before this operation,\", \n",
    "      f\"meaning we lost {(len(final_df_copy) - rows_with_popular_genres.sum())/len(final_df_copy):.2%} of the movies.\")"
   ]
  },
  {
   "cell_type": "markdown",
   "metadata": {},
   "source": [
    "We can drop the movies that have none of the most popular genres. We can also assume that the genres are ordered by relevance. We will thus keep for each movie, the first popular genre that appears. This assumption was made by randomly sampling over 50 movies and manually checking that the first popular genre corresponds to the main genre of the movie."
   ]
  },
  {
   "cell_type": "code",
   "execution_count": null,
   "metadata": {},
   "outputs": [],
   "source": [
    "def get_main_genre(genres, popular_genres):\n",
    "    for genre in map(str.strip, genres.split(\",\")): # Split genres according to \",\" then remove spaces\n",
    "        if genre.lower() in popular_genres: # We are going through the list of genres in the order it is presented\n",
    "            return genre # Return the first genre that is in popular_genres\n",
    "    \n",
    "    return np.nan"
   ]
  },
  {
   "cell_type": "code",
   "execution_count": null,
   "metadata": {},
   "outputs": [],
   "source": [
    "final_df_copy = final_df_copy[rows_with_popular_genres]\n",
    "\n",
    "# Ensuring the popular_genres are lowercase\n",
    "popular_genres = set(map(str.lower, popular_genres))\n",
    "\n",
    "# Apply the function to the dataset and store the results in the Main_genre column, also we are combining action, adventure and action/adventure into one category.\n",
    "final_df_copy[\"Main_genre\"] = final_df_copy[\"Movie_genres\"].str.replace(\"action\", \"action/adventure\").str.replace(\"adventure\", \"action/adventure\").apply(lambda x : get_main_genre(x, popular_genres)).str.replace(\" \",\"_\")\n",
    "\n",
    "# Plotting the distribution of main genres\n",
    "genre_counts = final_df_copy[\"Main_genre\"].value_counts().sort_values(ascending=False)\n",
    "plt.figure(figsize=(10,6))\n",
    "plt.bar(genre_counts.index, genre_counts.values, edgecolor='black')\n",
    "plt.title(\"Distribution of Main Genres\", fontsize=16)\n",
    "plt.xlabel(\"Main Genres\", fontsize=14)\n",
    "plt.ylabel(\"Number of Movies\", fontsize=14)\n",
    "plt.xticks(rotation=45, fontsize=12)\n",
    "plt.grid(axis=\"y\", alpha=0.5)\n",
    "plt.tight_layout()\n",
    "plt.show()"
   ]
  },
  {
   "cell_type": "code",
   "execution_count": null,
   "metadata": {},
   "outputs": [],
   "source": [
    "final_df_copy = pd.get_dummies(final_df_copy, columns=[\"Main_genre\"], drop_first=True) # Reference category is action/adventure\n",
    "final_df_copy.sample(5)"
   ]
  },
  {
   "cell_type": "markdown",
   "metadata": {},
   "source": [
    "#### Movie_languages"
   ]
  },
  {
   "cell_type": "code",
   "execution_count": null,
   "metadata": {},
   "outputs": [],
   "source": [
    "language_series = (\n",
    "    final_df_copy['Movie_languages']\n",
    "    .str.replace(r\"[\\[\\]']\", \"\", regex=True) \n",
    "    .str.split(', ')\n",
    "    .explode()\n",
    "    .str.strip()\n",
    "    .str.lower()\n",
    "    .str.replace(\" language\", \"\")\n",
    ")\n",
    "\n",
    "\n",
    "language_count = language_series.value_counts()\n",
    "language_count.head(10).plot(kind='bar', figsize=(10, 6))\n",
    "plt.xlabel('Languages')\n",
    "plt.ylabel('Occurrences')\n",
    "plt.title('Top 10 Languages by Occurrences')\n",
    "plt.xticks(rotation=0)\n",
    "plt.yscale('log')\n",
    "plt.tight_layout()\n",
    "plt.show()"
   ]
  },
  {
   "cell_type": "markdown",
   "metadata": {},
   "source": [
    "We will have an unbalanced dataset with English being much more prominent than other languages."
   ]
  },
  {
   "cell_type": "code",
   "execution_count": null,
   "metadata": {},
   "outputs": [],
   "source": [
    "top_languages = language_count.index.tolist()\n",
    "\n",
    "# Dropping all the rows that do not have one of the top 4 languages.\n",
    "final_df_copy = final_df_copy[final_df_copy['Movie_languages'].str.contains('|'.join(top_languages), case=False, na=False)]\n",
    "\n",
    "print(f\"We are left with {len(final_df_copy)} datapoints.\")"
   ]
  },
  {
   "cell_type": "markdown",
   "metadata": {},
   "source": [
    "We again have certain rows with multiple languages. We must proceed in a similar way to the genres above to obtain the dummy variables."
   ]
  },
  {
   "cell_type": "markdown",
   "metadata": {},
   "source": [
    "Categorizing movies into two groups: \n",
    "- those available exclusively in English, \n",
    "- those available in other languages (which may include English alongside another language)."
   ]
  },
  {
   "cell_type": "code",
   "execution_count": null,
   "metadata": {},
   "outputs": [],
   "source": [
    "# Giving corresponding labels to each row 'English Only' or 'Not Only English'\n",
    "final_df_copy['Language_Category'] = final_df_copy['Movie_languages'].apply(\n",
    "    lambda x: 'English_only' if x.lower() == 'english language' else 'Not_only_english'\n",
    ")\n",
    "\n",
    "# Creating the dummy variable and dropping the English_only category to be used as the reference category\n",
    "final_df_copy = pd.get_dummies(final_df_copy, columns=[\"Language_Category\"], drop_first=True)\n",
    "\n",
    "# Renaming the column.\n",
    "final_df_copy.rename(columns={'Language_Category_Not_only_english': 'Is_not_only_english'}, inplace=True)\n",
    "\n",
    "# Counting the number of movies available in other languages\n",
    "not_only_eng_count = final_df_copy[\"Is_not_only_english\"].sum()\n",
    "\n",
    "print(f\"There are {not_only_eng_count} movies that are available in other languages and {len(final_df_copy)-not_only_eng_count} movies that are only available in English.\")"
   ]
  },
  {
   "cell_type": "markdown",
   "metadata": {},
   "source": [
    "### 1.2 Identifying Potential Confounders\n",
    "In order to not have bias in our study, it is essential we add the confounders. This means that we have to identify the variables that have an impact on both treatment and outcome, here being the actor gender and the final box office revenue respectivly. The confounders are: \n",
    "-  ⁠Movie_genre\n",
    "-  ⁠Movie_countries\n",
    "- ⁠Movie_languages"
   ]
  },
  {
   "cell_type": "markdown",
   "metadata": {},
   "source": [
    "### 4. <u>How does it compare to streaming platforms? Are movies made for these platforms different?</u>"
   ]
  },
  {
   "cell_type": "markdown",
   "metadata": {},
   "source": [
    "In this section, we want to expand our study by analyzing data from various streaming platforms. We focus on the movies of Netflix, Amazon Prime, Disney+, and Hulu. To achieve this, we created a dataset by merging data from multiple sources found on Kaggle.\n",
    "\n",
    "\n",
    "This dataset structure enables comprehensive analysis across various dimensions such as gender repartition in the cast, the ratings and description. Using these columns, we can investigate how streaming platform movies differ in content and ratings compared to traditional box office movies.\n",
    "\n"
   ]
  },
  {
   "cell_type": "code",
   "execution_count": null,
   "metadata": {},
   "outputs": [],
   "source": [
    "from src.scripts.streaming import get_streaming_dataframe\n",
    "\n",
    "streaming_df = get_streaming_dataframe()"
   ]
  },
  {
   "cell_type": "code",
   "execution_count": null,
   "metadata": {},
   "outputs": [],
   "source": [
    "streaming_df.drop_duplicates(inplace=True)"
   ]
  },
  {
   "cell_type": "markdown",
   "metadata": {},
   "source": [
    "a. <u>Numerical Analysis</u>: "
   ]
  },
  {
   "cell_type": "code",
   "execution_count": null,
   "metadata": {},
   "outputs": [],
   "source": [
    "numeric_columns_streaming = [\"Average_Rating\", \"Num_Votes\", \"Movie_release_date\", \"Movie_runtime\", \"Is_Adult\", \"Female_actors\", \"Male_actors\"]\n",
    "streaming_df_copy = streaming_df.copy()\n",
    "streaming_df_copy.head()\n",
    "streaming_df_copy = streaming_df_copy[streaming_df_copy['Movie_runtime'] != 0.0]"
   ]
  },
  {
   "cell_type": "code",
   "execution_count": null,
   "metadata": {},
   "outputs": [],
   "source": [
    "\n",
    "#streaming_df_copy['duration'] = streaming_df_copy['duration'].str.replace(' min', '', regex=False)\n",
    "\n",
    "streaming_df_copy['Movie_runtime'] = pd.to_numeric(streaming_df_copy['Movie_runtime'], errors=\"coerce\")\n",
    "summary_table = streaming_df_copy[numeric_columns_streaming].dropna().agg([\"min\", \"max\", \"mean\", \"std\", \"median\"]).T\n",
    "summary_table.columns = [\"Min\", \"Max\", \"Mean\", \"SD\", \"Median\"]\n",
    "summary_table = summary_table.round(2)\n",
    "summary_table\n"
   ]
  },
  {
   "cell_type": "markdown",
   "metadata": {},
   "source": [
    "b. <u>Graphical Analysis</u>: "
   ]
  },
  {
   "cell_type": "code",
   "execution_count": null,
   "metadata": {},
   "outputs": [],
   "source": [
    "fig, ax = plt.subplots(figsize=(6, 6))\n",
    "\n",
    "sns.histplot(streaming_df_copy, x=\"Average_Rating\", kde=True, stat=\"density\", ax=ax, bins=15)\n",
    "ax.set_title(\"Histogram of averageRating\")\n",
    "ax.set_xlabel(\"Average_Rating\")\n",
    "ax.set_ylabel(\"Frequency\")\n",
    "\n",
    "plt.tight_layout(rect=[0, 0, 1, 0.95]) \n",
    "plt.show()"
   ]
  },
  {
   "cell_type": "markdown",
   "metadata": {},
   "source": [
    "The streaming ratings have a more balanced distribution than the movie dataframe. This contrast highlights different success metrics: streaming platforms rely on user ratings for a measure of success and box office movies are judged on revenue.\n",
    "It's more relevant to study the success of a streaming movie based on ratings, we dont need necessarly to have the revenue."
   ]
  },
  {
   "cell_type": "code",
   "execution_count": null,
   "metadata": {},
   "outputs": [],
   "source": [
    "\n",
    "fig, axes = plt.subplots(nrows=2, ncols=3, figsize=(14, 8))\n",
    "fig.suptitle(\"Figure 2: Histogram of Independent Variables\", fontsize=14)\n",
    "\n",
    "axes = axes.flatten()\n",
    "\n",
    "indep_var = [\"Num_Votes\", \"Movie_release_date\", \"Movie_runtime\", \"Is_Adult\", \"Female_actors\", \"Male_actors\"]\n",
    "\n",
    "#Plot histograms for each independent variable\n",
    "for i, col in enumerate(indep_var):\n",
    "    sns.histplot(streaming_df_copy, x=col, kde=True, stat=\"density\", ax=axes[i], bins=15)\n",
    "    axes[i].set_title(f\"Histogram of {col}\")\n",
    "    axes[i].set_xlabel(col)\n",
    "    axes[i].set_ylabel(\"Frequency\")\n",
    "\n",
    "for j in range(i + 1, len(axes)):\n",
    "    fig.delaxes(axes[j])\n",
    "\n",
    "plt.tight_layout(rect=[0, 0, 1, 0.95])\n",
    "plt.show()\n"
   ]
  },
  {
   "cell_type": "markdown",
   "metadata": {},
   "source": [
    "Release_year : The majority of movies in the dataset are very recent with an increase after the year 2000.\n",
    "Duration: The duration of most movies is between 90 and 120 minutes, which is typical for films.\n",
    "Is_Adult: Most movies are not classified as adult content but we can see that there is an important proportion of movies classified as adult content.\n",
    "Female_count and male_count: We can see that the number of men is greater than women but this difference is lower than for CMU/IMDB movies.\n",
    "\n"
   ]
  },
  {
   "cell_type": "code",
   "execution_count": null,
   "metadata": {},
   "outputs": [],
   "source": [
    "plt.figure(figsize=(14, 8))\n",
    "for i, col in enumerate(numeric_columns_streaming, 1):\n",
    "    plt.subplot(4, 2, i)\n",
    "    sns.boxplot(data=streaming_df_copy, x=col)\n",
    "    plt.title(f\"Boxplot of {col}\")\n",
    "    \n",
    "plt.suptitle(\"Figure 3: Boxplot of Variables\")     \n",
    "plt.tight_layout()\n",
    "plt.show()"
   ]
  },
  {
   "cell_type": "markdown",
   "metadata": {},
   "source": [
    "As we did in the previous part, we now have to focus on outliers and removing them for a more accurate modeling."
   ]
  },
  {
   "cell_type": "code",
   "execution_count": null,
   "metadata": {},
   "outputs": [],
   "source": [
    "movie_df_no_outliers = data_utils.remove_outliers(streaming_df_copy, numeric_columns_streaming)\n",
    "\n",
    "plt.figure(figsize=(12, 8))\n",
    "for i, col in enumerate(numeric_columns_streaming, 1):\n",
    "    plt.subplot(4, 2, i)\n",
    "    sns.boxplot(data=movie_df_no_outliers, x=col)\n",
    "    plt.title(f\"Boxplot of {col} (Without Outliers)\")\n",
    "plt.suptitle(\"Figure 4: Boxplot of Variables without Outliers\")\n",
    "plt.tight_layout()\n",
    "plt.show()"
   ]
  },
  {
   "cell_type": "code",
   "execution_count": null,
   "metadata": {},
   "outputs": [],
   "source": [
    "print(f\"After removing the outliers and dropping the null values, we are left with {len(movie_df_no_outliers):,} movies.\")"
   ]
  },
  {
   "cell_type": "markdown",
   "metadata": {},
   "source": [
    "##### 1.1.2 Bivariate Analysis\n",
    "a. <u>Correlation matrix</u>:"
   ]
  },
  {
   "cell_type": "code",
   "execution_count": null,
   "metadata": {},
   "outputs": [],
   "source": [
    "#correlation matrix\n",
    "correlation_matrix = movie_df_no_outliers[numeric_columns_streaming].corr()\n",
    "\n",
    "plt.figure(figsize=(10, 8))\n",
    "sns.heatmap(correlation_matrix, annot=True, cmap='coolwarm', vmin=-1, vmax=1)\n",
    "plt.title(\"Figure 5: Correlation Matrix of Numeric Variables\")\n",
    "plt.show()"
   ]
  },
  {
   "cell_type": "markdown",
   "metadata": {},
   "source": [
    "The number of votes and gender composition (especially the number of male actors) seem to influence movie duration. It suggests that popularity and cast composition could impact movie production characteristics.\n",
    "Weak correlations between movie duration and other variables indicate that duration might not strongly determine popularity based on votes.\n",
    "This correlation matrix suggests further analysis like regression that could help separate and clarify the effects of gender and duration on popularity."
   ]
  },
  {
   "cell_type": "markdown",
   "metadata": {},
   "source": [
    "b. <u>Scatter plots </u>:"
   ]
  },
  {
   "cell_type": "code",
   "execution_count": null,
   "metadata": {},
   "outputs": [],
   "source": [
    "sns.pairplot(movie_df_no_outliers[numeric_columns_streaming])"
   ]
  },
  {
   "cell_type": "markdown",
   "metadata": {},
   "source": [
    "### 5. <u>What are the social reasons behind the presence of female characters in movies? Is it due to sexualization or genuine equality of representation?</u>"
   ]
  },
  {
   "cell_type": "markdown",
   "metadata": {},
   "source": [
    "The first part of our analysis uses plot summaries to examine whether female characters are portrayed as having agency (taking action and driving the story) or are reduced to sexualized or objectified roles. So far, we have used LLMs, such as ChatGPT Plus, to classify plot summaries based on these criteria (contains/does not contain sexualization of females), which provided useful initial results and validated the approach. However, due to time constraints during milestone 2, we were unable to use more advanced methods, such as zero-shot or few-shot learning with models like OpenAI's GPT-4, T5, or BERT variants, which we plan to explore further in milestone 3.\n",
    "The second part of our analysis focuses on adult-rated films in the resulting merged dataframe, specifically examining the gender of the actors to understand patterns of representation."
   ]
  }
 ],
 "metadata": {
  "kernelspec": {
   "display_name": "ada",
   "language": "python",
   "name": "python3"
  },
  "language_info": {
   "codemirror_mode": {
    "name": "ipython",
    "version": 3
   },
   "file_extension": ".py",
   "mimetype": "text/x-python",
   "name": "python",
   "nbconvert_exporter": "python",
   "pygments_lexer": "ipython3",
   "version": "3.11.9"
  }
 },
 "nbformat": 4,
 "nbformat_minor": 4
}
