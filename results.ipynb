{
 "cells": [
  {
   "cell_type": "markdown",
   "metadata": {},
   "source": [
    "<div style=\"text-align: center;\">\n",
    "<h1>Reel Realities: How Gender and Age Shape Success Across Box Office and Streaming Platforms</h1>\n",
    "</div>"
   ]
  },
  {
   "cell_type": "markdown",
   "metadata": {},
   "source": [
    "### <u>Imports</u>"
   ]
  },
  {
   "cell_type": "code",
   "execution_count": null,
   "metadata": {},
   "outputs": [],
   "source": [
    "import pandas as pd\n",
    "import matplotlib.pyplot as plt\n",
    "import re\n",
    "import numpy as np\n",
    "import seaborn as sns\n",
    "import math\n",
    "from sklearn.preprocessing import StandardScaler\n",
    "import statsmodels.api as sm\n",
    "from statsmodels.stats.outliers_influence import variance_inflation_factor\n",
    "import plotly.express as px\n",
    "import plotly.graph_objects as go\n",
    "import warnings\n",
    "import transformers\n",
    "\n",
    "from src.data.dataloader import (\n",
    "    CMUDatasetLoader, IMDBDatasetLoader, KaggleDatasetLoader, NumbersDatasetLoader, BechdelDatasetLoader, DialogueDatasetLoader, ZeroShotResultsLoader, ClusteringResultsLoader)\n",
    "from src.utils.EDA_utils import EDA\n",
    "from src.scripts.streaming import get_streaming_dataframe\n",
    "import src.models.regression as regression\n",
    "import src.utils.data_utils as data_utils\n",
    "import src.utils.evaluation_utils as evaluation_utils\n",
    "\n",
    "# Suppress specific FutureWarnings about is_sparse being deprecated\n",
    "warnings.filterwarnings(action=\"ignore\", category=FutureWarning, module=\"sklearn\", message=\".*is_sparse is deprecated.*\")"
   ]
  },
  {
   "cell_type": "markdown",
   "metadata": {},
   "source": [
    "### 1. <u>Data cleaning and pre-processing</u>"
   ]
  },
  {
   "cell_type": "markdown",
   "metadata": {},
   "source": [
    "#### 1.1 CMU Dataset"
   ]
  },
  {
   "cell_type": "markdown",
   "metadata": {},
   "source": [
    "We will use three files of the CMU dataset:\n",
    "1. \"plot_summaries.txt\" gives us the plots of the movies.\n",
    "2. \"movie.metadata.tsv\" gives us information about the languages, countries, and genres of the movies.\n",
    "3. \"character.metadata.tsv\" gives us information about actors and the characters they play."
   ]
  },
  {
   "cell_type": "code",
   "execution_count": null,
   "metadata": {},
   "outputs": [],
   "source": [
    "directory = \"data\"\n",
    "CMU_loader = CMUDatasetLoader(directory)\n",
    "plot_summaries_df = CMU_loader.load_plot_summaries()\n",
    "\n",
    "print(f\"The plot summaries dataframe has {len(plot_summaries_df):,} values.\")"
   ]
  },
  {
   "cell_type": "code",
   "execution_count": null,
   "metadata": {},
   "outputs": [],
   "source": [
    "null_id = plot_summaries_df[\"Wikipedia_movie_ID\"].isnull().sum()\n",
    "empty_id = plot_summaries_df[plot_summaries_df[\"Wikipedia_movie_ID\"] == \"\"][\"Wikipedia_movie_ID\"].sum()\n",
    "null_plot = plot_summaries_df[\"Plot Summaries\"].isnull().sum()\n",
    "empty_plot = plot_summaries_df[plot_summaries_df[\"Plot Summaries\"] == \"\"][\"Plot Summaries\"].sum()\n",
    "\n",
    "print(f\"Number of null values in 'Wikipedia_movie_ID': {null_id}\")\n",
    "print(f\"Number of empty values in 'Wikipedia_movie_ID': {empty_id}\")\n",
    "print(f\"Number of null values in 'Plot Summaries': {null_plot}\")\n",
    "print(f\"Number of empty values in 'Plot Summaries': {empty_plot}\")"
   ]
  },
  {
   "cell_type": "code",
   "execution_count": null,
   "metadata": {},
   "outputs": [],
   "source": [
    "movie_metadata_df = CMU_loader.load_movie_metadata()\n",
    "print(f\"The movie metadata dataframe has {len(movie_metadata_df):,} values.\")"
   ]
  },
  {
   "cell_type": "code",
   "execution_count": null,
   "metadata": {},
   "outputs": [],
   "source": [
    "movie_metadata_df[\"Movie_name\"] = (movie_metadata_df[\"Movie_name\"]\n",
    "                    .str.strip()  #Remove leading/trailing whitespace\n",
    "                    .str.lower()  #Convert to lowercase\n",
    "                    .replace(\"\", np.nan)  #Replace empty strings with NaN\n",
    "                   )"
   ]
  },
  {
   "cell_type": "code",
   "execution_count": null,
   "metadata": {},
   "outputs": [],
   "source": [
    "# Movie languages, countries, and genres are formatted as a dictionary, but they are actually a string.\n",
    "# We convert them to comma seperated strings. \n",
    "\n",
    "column_names_to_clean = [\"Movie_countries\", \"Movie_languages\", \"Movie_genres\"]\n",
    "movie_metadata_df = data_utils.convert_dicts_to_strings(movie_metadata_df, column_names_to_clean)\n",
    "\n",
    "# Cleaning the strings\n",
    "movie_metadata_df = data_utils.clean_string_columns(movie_metadata_df, column_names_to_clean)"
   ]
  },
  {
   "cell_type": "code",
   "execution_count": null,
   "metadata": {},
   "outputs": [],
   "source": [
    "# There are inconsistencies in the date format: some rows have the date as year only, others as year-month, and some as year-month-day. \n",
    "# We convert them all to the year format only since the month and day are not relevant to our analysis.\n",
    "movie_metadata_df, date_pattern_summary = data_utils.standardize_dates(movie_metadata_df, \"Movie_release_date\")\n",
    "print(\"Pattern Summary:\\n\", date_pattern_summary)"
   ]
  },
  {
   "cell_type": "code",
   "execution_count": null,
   "metadata": {},
   "outputs": [],
   "source": [
    "# Looking at the percentage of null values in the dataset\n",
    "n_null_movie_metadata = ((movie_metadata_df.isnull().sum() / len(movie_metadata_df)) * 100).apply(lambda x: f\"{x:,.2f}%\")\n",
    "\n",
    "print(\n",
    "    f\"Percentage of null values per column:\\n\"\n",
    "    f\"movie_metadata_df:\\n{n_null_movie_metadata}\"\n",
    ")"
   ]
  },
  {
   "cell_type": "code",
   "execution_count": null,
   "metadata": {},
   "outputs": [],
   "source": [
    "character_metadata_df = CMU_loader.load_character_metadata()"
   ]
  },
  {
   "cell_type": "code",
   "execution_count": null,
   "metadata": {},
   "outputs": [],
   "source": [
    "character_metadata_df[\"Actor_name\"]= character_metadata_df[\"Actor_name\"].fillna(\"unknown\").str.lower()\n",
    "\n",
    "# Ensures that the date columns are correctly interpreted as datetime objects in pandas. \n",
    "character_metadata_df[\"Movie_release_date\"] = pd.to_datetime(character_metadata_df[\"Movie_release_date\"], errors=\"coerce\").dt.date\n",
    "character_metadata_df[\"Actor_date_of_birth\"] = pd.to_datetime(character_metadata_df[\"Actor_date_of_birth\"], errors=\"coerce\").dt.date\n",
    "\n",
    "# Drop rows where \"Movie_release_date\" or \"Actor_date_of_birth\" is NaT\n",
    "character_metadata_df.dropna(subset=[\"Movie_release_date\", \"Actor_date_of_birth\"], inplace=True)\n",
    "\n",
    "# Calculate Actor_age_at_movie_release if missing and data is available\n",
    "character_metadata_df[\"Actor_age_at_movie_release\"] = character_metadata_df.apply(\n",
    "    lambda row: (row[\"Movie_release_date\"] - row[\"Actor_date_of_birth\"]).days // 365 if pd.isnull(row[\"Actor_age_at_movie_release\"]) else row[\"Actor_age_at_movie_release\"],\n",
    "    axis=1\n",
    ")"
   ]
  },
  {
   "cell_type": "code",
   "execution_count": null,
   "metadata": {},
   "outputs": [],
   "source": [
    "print(f\"Movies without actor gender data: {character_metadata_df['Actor_gender'].isnull().sum()}\") "
   ]
  },
  {
   "cell_type": "markdown",
   "metadata": {},
   "source": [
    "We therefore drop the movies with no information on the gender of the actors."
   ]
  },
  {
   "cell_type": "code",
   "execution_count": null,
   "metadata": {},
   "outputs": [],
   "source": [
    "character_metadata_df.dropna(subset=[\"Actor_gender\"], inplace=True)"
   ]
  },
  {
   "cell_type": "markdown",
   "metadata": {},
   "source": [
    "Now, let's group the actors together by creating a *Cast* column on the *movie_metadata_df*. "
   ]
  },
  {
   "cell_type": "code",
   "execution_count": null,
   "metadata": {},
   "outputs": [],
   "source": [
    "cast_per_movie = character_metadata_df.groupby(\"Freebase_movie_ID\")[\"Actor_name\"].apply(lambda x: \", \".join(x)).reset_index()\n",
    "cast_per_movie = cast_per_movie.rename(columns={\"Actor_name\": \"Cast\"})\n",
    "\n",
    "movie_metadata_df = movie_metadata_df.merge(cast_per_movie, on=\"Freebase_movie_ID\", how=\"left\")"
   ]
  },
  {
   "cell_type": "code",
   "execution_count": null,
   "metadata": {},
   "outputs": [],
   "source": [
    "missing_cast_count = movie_metadata_df[\"Cast\"].isna().sum()\n",
    "total_movies = len(movie_metadata_df)\n",
    "print(f\"Movies without actor data: {missing_cast_count} out of {total_movies} ({missing_cast_count / total_movies * 100:.2f}%)\")"
   ]
  },
  {
   "cell_type": "markdown",
   "metadata": {},
   "source": [
    "We decide to drop the movies without actor data since it is one of the most important features of our study. "
   ]
  },
  {
   "cell_type": "code",
   "execution_count": null,
   "metadata": {},
   "outputs": [],
   "source": [
    "movie_metadata_df = movie_metadata_df.dropna(subset = [\"Cast\"])"
   ]
  },
  {
   "cell_type": "code",
   "execution_count": null,
   "metadata": {},
   "outputs": [],
   "source": [
    "# Create columns for male, female actor counts\n",
    "actor_counts = character_metadata_df.groupby(\"Freebase_movie_ID\")[\"Actor_gender\"].value_counts().unstack(fill_value=0)\n",
    "actor_counts = actor_counts.rename(columns={\"M\": \"Male_actors\", \"F\": \"Female_actors\"})\n",
    "\n",
    "# Ensure all columns are present (set missing columns to 0 if necessary)\n",
    "for col in [\"Male_actors\", \"Female_actors\"]:\n",
    "    if col not in actor_counts.columns:\n",
    "        actor_counts[col] = 0\n",
    "\n",
    "actor_counts = actor_counts.reset_index()\n",
    "\n",
    "# Merge actor counts with the movie_metadata_df DataFrame\n",
    "movie_metadata_df = movie_metadata_df.merge(actor_counts, on=\"Freebase_movie_ID\", how=\"left\")\n",
    "\n",
    "# Fill NaN values with 0 \n",
    "movie_metadata_df[[\"Male_actors\", \"Female_actors\"]] = movie_metadata_df[[\"Male_actors\", \"Female_actors\"]].fillna(0)"
   ]
  },
  {
   "cell_type": "code",
   "execution_count": null,
   "metadata": {},
   "outputs": [],
   "source": [
    "# Calculate the percentage of female actors in each movie and round to two decimal places\n",
    "movie_metadata_df[\"Female_actor_percentage\"] = (\n",
    "    (movie_metadata_df[\"Female_actors\"] / \n",
    "     (movie_metadata_df[\"Female_actors\"] + movie_metadata_df[\"Male_actors\"])) * 100\n",
    ").round(2)"
   ]
  },
  {
   "cell_type": "markdown",
   "metadata": {},
   "source": [
    "#### 1.2 IMDB Dataset"
   ]
  },
  {
   "cell_type": "markdown",
   "metadata": {},
   "source": [
    "We will use two IMDB datasets to decribe movies:\n",
    "1. \"title.ratings.tsv\" gives us the ratings of the movies as voted by viewers. \n",
    "2. \"title.basics.tsv\", indexes into \"title.ratings.tsv\" using a alphanumeric unique identifier of the title. It gives general information about the movie such as runtime, release date and adult rating.\n",
    "3. \"title.crew.tsv\", indexes into the previous two using the same alphanumeric unique identifier of the title. It gives information on the directors and writers of the movie.\n",
    "\n",
    "Reference:\n",
    "Internet Movie Database. (2024). IMDb non-commercial datasets. Retrieved from https://developer.imdb.com/non-commercial-datasets/"
   ]
  },
  {
   "cell_type": "code",
   "execution_count": null,
   "metadata": {},
   "outputs": [],
   "source": [
    "# Loading the IMDB datasets.\n",
    "IMDB_loader = IMDBDatasetLoader(directory)\n",
    "IMDB_ratings_df = IMDB_loader.load_ratings()\n",
    "\n",
    "IMDB_basics_df = IMDB_loader.load_basics()\n",
    "\n",
    "IMDB_crew_df = IMDB_loader.load_crew()"
   ]
  },
  {
   "cell_type": "code",
   "execution_count": null,
   "metadata": {},
   "outputs": [],
   "source": [
    "# Checking the lengths of the datasets\n",
    "print(f\"Length of IMDB_ratings_df: {len(IMDB_ratings_df):,}\\n\"\n",
    "      f\"Length of IMDB_basics_df: {len(IMDB_basics_df):,}\\n\"\n",
    "      f\"Length of IMDB_crew_df: {len(IMDB_crew_df):,}\")"
   ]
  },
  {
   "cell_type": "markdown",
   "metadata": {},
   "source": [
    "Before dealing with the null values we will merge the dataframes together using the alphanumeric unique identifier."
   ]
  },
  {
   "cell_type": "code",
   "execution_count": null,
   "metadata": {},
   "outputs": [],
   "source": [
    "# Merging all three datasets.\n",
    "IMDB_merged_df = pd.merge(IMDB_ratings_df, IMDB_basics_df, how=\"inner\", left_on=\"tconst\", right_on=\"tconst\")\n",
    "IMDB_merged_df = pd.merge(IMDB_merged_df, IMDB_crew_df, how=\"inner\", on=\"tconst\")"
   ]
  },
  {
   "cell_type": "code",
   "execution_count": null,
   "metadata": {},
   "outputs": [],
   "source": [
    "print(f\"The resulting merged dataframe has length: {len(IMDB_merged_df):,}.\")"
   ]
  },
  {
   "cell_type": "markdown",
   "metadata": {},
   "source": [
    "Formatting the strings appropriately."
   ]
  },
  {
   "cell_type": "code",
   "execution_count": null,
   "metadata": {},
   "outputs": [],
   "source": [
    "IMDB_merged_df = data_utils.clean_string_columns(IMDB_merged_df, [\"Original_title\", \"Primary_title\"])"
   ]
  },
  {
   "cell_type": "markdown",
   "metadata": {},
   "source": [
    "We can now look at null values in the merged IMDB dataframe."
   ]
  },
  {
   "cell_type": "code",
   "execution_count": null,
   "metadata": {},
   "outputs": [],
   "source": [
    "# Checking the percentage of null values in the dataset.\n",
    "n_null_IMDB = ((IMDB_merged_df.isnull().sum() / len(IMDB_merged_df)) * 100).apply(lambda x: f\"{x:,.2f}%\")\n",
    "\n",
    "print(\n",
    "    f\"Percentage of null values per column:\\n\"\n",
    "    f\"IMDB_ratings_df:\\n{n_null_IMDB}\"\n",
    ")"
   ]
  },
  {
   "cell_type": "markdown",
   "metadata": {},
   "source": [
    "The end year is always missing. Other than that the proportion of missing values is very small (< 12%). End year is always null for movies and only makes sense for TV shows. It can thus be dropped. We can also drop the titleType column since we know they are all movies after the filtering that was done above."
   ]
  },
  {
   "cell_type": "code",
   "execution_count": null,
   "metadata": {},
   "outputs": [],
   "source": [
    "# Dropping unnecessary columns.\n",
    "IMDB_merged_df = IMDB_merged_df.drop(columns=[\"End_year\", \"Title_type\"], axis=1)\n",
    "\n",
    "print(f\"The resulting dataframe has {len(IMDB_merged_df):,} rows.\")"
   ]
  },
  {
   "cell_type": "markdown",
   "metadata": {},
   "source": [
    "We will use ratings from the IMDB dataset during our study. However, these ratings are based on viewer votes. Initially we thought of discarding rows with too few votes. However, there could be a link between number of votes and number of views of a movie (although definitely not a direct one). We thus decided to keep all rows for the analysis."
   ]
  },
  {
   "cell_type": "markdown",
   "metadata": {},
   "source": [
    "#### 1.3 Merging the datasets"
   ]
  },
  {
   "cell_type": "markdown",
   "metadata": {},
   "source": [
    "##### 1.3.1 Merging IMDB and CMU Movies"
   ]
  },
  {
   "cell_type": "code",
   "execution_count": null,
   "metadata": {},
   "outputs": [],
   "source": [
    "# Merging on the original title.\n",
    "merge1 = pd.merge(IMDB_merged_df, movie_metadata_df, how=\"inner\", left_on=[\"Original_title\", \"Start_year\"],  right_on=[\"Movie_name\", \"Movie_release_date\"])\n",
    "# Merging on the primary title.\n",
    "merge2 = pd.merge(IMDB_merged_df, movie_metadata_df, how=\"inner\", left_on=[\"Primary_title\", \"Start_year\"], right_on=[\"Movie_name\", \"Movie_release_date\"])\n",
    "\n",
    "# Concatenating and dropping duplicates that appear from movies with the same Original_title and Primary_title.\n",
    "movie_df = pd.concat([merge1, merge2]).drop_duplicates(subset=[\"tconst\"]).reset_index(drop=True)\n",
    "\n",
    "print(f\"The resulting dataframe has {len(movie_df):,} rows.\")"
   ]
  },
  {
   "cell_type": "markdown",
   "metadata": {},
   "source": [
    "Some columns appear twice. Let's take a look at the proportion of null values in each duplicate column."
   ]
  },
  {
   "cell_type": "code",
   "execution_count": null,
   "metadata": {},
   "outputs": [],
   "source": [
    "n_null_movie = (movie_df.isnull().sum()/len(movie_df)).apply(lambda x:f\"{x:.2%}\")\n",
    "\n",
    "print(f\"Percentage of null values per column:\\n{n_null_movie}\")"
   ]
  },
  {
   "cell_type": "markdown",
   "metadata": {},
   "source": [
    "We can see:\n",
    "- Movie_runtime_x and Movie_runtime_y have 6.02% and 11.58% missing values respectively. We will combine the non null values from both these columns into a new column called runtimeMinutes and then drop the previous two columns. \n",
    "- Movie_genres_x has 1.54% missing values against 0.00% missing values for Movie_genres_y. Furthermore Movie_genres_y is from the CMU dataset and seems more complete. We will thus drop the genres_x column."
   ]
  },
  {
   "cell_type": "code",
   "execution_count": null,
   "metadata": {},
   "outputs": [],
   "source": [
    "# Combining all non-null values from Movie_runtime_x and Movie_runtime_y into runtimeMinutes.\n",
    "movie_df[\"Movie_runtime\"] = movie_df[\"Movie_runtime_x\"].combine_first(movie_df[\"Movie_runtime_y\"])\n",
    "\n",
    "# Dropping the unnecessary columns.\n",
    "movie_df.drop(columns=[\"Movie_runtime_x\", \"Movie_runtime_y\", \"Movie_genres_x\"], inplace=True)"
   ]
  },
  {
   "cell_type": "markdown",
   "metadata": {},
   "source": [
    "Let's now see if Movie_name, originalTitle and primaryTitle are all necessary or if there are any redundancies."
   ]
  },
  {
   "cell_type": "code",
   "execution_count": null,
   "metadata": {},
   "outputs": [],
   "source": [
    "test1 = movie_df[\"Movie_name\"] == movie_df[\"Primary_title\"]  \n",
    "test2 = movie_df[\"Movie_name\"] == movie_df[\"Original_title\"]\n",
    "\n",
    "# Checking if there are any movies for which Movie_name is not either in Primary_title or Original_title\n",
    "print(f\"There are {(~(test1 | test2)).sum().item()} movies for which Movie_name is in neither Primary_title ot Original_title.\")"
   ]
  },
  {
   "cell_type": "markdown",
   "metadata": {},
   "source": [
    "We can see the Movie_name column is redundant as its information is either in primaryTitle or in originalTitle. We can thus drop this column."
   ]
  },
  {
   "cell_type": "code",
   "execution_count": null,
   "metadata": {},
   "outputs": [],
   "source": [
    "movie_df.drop(columns=\"Movie_name\", inplace=True)"
   ]
  },
  {
   "cell_type": "markdown",
   "metadata": {},
   "source": [
    "We can now also drop movie identifier columns Freebase_movie_ID (as everything is already indexed). We will need tconst later on so we keep it."
   ]
  },
  {
   "cell_type": "code",
   "execution_count": null,
   "metadata": {},
   "outputs": [],
   "source": [
    "movie_df.drop(columns=[\"Freebase_movie_ID\"], inplace=True)"
   ]
  },
  {
   "cell_type": "markdown",
   "metadata": {},
   "source": [
    "To connect this with the plot_summaries_df, we perform a left merge."
   ]
  },
  {
   "cell_type": "code",
   "execution_count": null,
   "metadata": {},
   "outputs": [],
   "source": [
    "movie_df = pd.merge(movie_df, plot_summaries_df, on=\"Wikipedia_movie_ID\", how=\"left\")"
   ]
  },
  {
   "cell_type": "markdown",
   "metadata": {},
   "source": [
    "Finally, we can drop Wikipedia_movie_ID, which is also a movie identifier column."
   ]
  },
  {
   "cell_type": "code",
   "execution_count": null,
   "metadata": {},
   "outputs": [],
   "source": [
    "movie_df.drop(columns=\"Wikipedia_movie_ID\", inplace=True)"
   ]
  },
  {
   "cell_type": "code",
   "execution_count": null,
   "metadata": {},
   "outputs": [],
   "source": [
    "movie_df[\"Movie_release_date\"] = movie_df[\"Movie_release_date\"].astype(float)"
   ]
  },
  {
   "cell_type": "code",
   "execution_count": null,
   "metadata": {},
   "outputs": [],
   "source": [
    "# Check for duplicates in movie_df\n",
    "movie_df.duplicated(subset=['Primary_title', 'Original_title', 'Movie_release_date']).sum()"
   ]
  },
  {
   "cell_type": "code",
   "execution_count": null,
   "metadata": {},
   "outputs": [],
   "source": [
    "# Get the index of the max Num_votes for duplicated rows\n",
    "idx = movie_df.groupby(['Primary_title', 'Original_title', 'Movie_release_date'])['Num_votes'].idxmax()\n",
    "\n",
    "movie_df = movie_df.loc[idx]\n",
    "\n",
    "movie_df.reset_index(drop=True, inplace=True)\n",
    "\n",
    "# Check again if duplicated rows are still here\n",
    "movie_df.duplicated(subset=['Primary_title', 'Original_title', 'Movie_release_date']).sum()"
   ]
  },
  {
   "cell_type": "markdown",
   "metadata": {},
   "source": [
    "##### 1.3.3 Merging Kaggle and The numbers datasets to the rest"
   ]
  },
  {
   "cell_type": "markdown",
   "metadata": {},
   "source": [
    "We have a problem, a lot of missing values(NaN or 0) in Movie box office revenue in movie_df and no production budget included. \n",
    "These two new datasets include information about movies revenue and budget and other attributes which are crucial for our analysis.\n",
    "\n",
    "- `Kaggle_df`: Contains important details about movies, including budgets, genres, and revenue.\n",
    "- `TheNumbers_df`: Provides detailed financial data, focusing on budget and box office gross both domestically and worldwide."
   ]
  },
  {
   "cell_type": "code",
   "execution_count": null,
   "metadata": {},
   "outputs": [],
   "source": [
    "Kaggle_df = KaggleDatasetLoader(directory).load_kaggle()\n",
    "TheNumbers_df = NumbersDatasetLoader(directory).load_numbers()"
   ]
  },
  {
   "cell_type": "markdown",
   "metadata": {},
   "source": [
    "Quickly view the structure of the dataframes to understand the data types and confirm data has loaded correctly"
   ]
  },
  {
   "cell_type": "code",
   "execution_count": null,
   "metadata": {},
   "outputs": [],
   "source": [
    "Kaggle_df.head()"
   ]
  },
  {
   "cell_type": "code",
   "execution_count": null,
   "metadata": {},
   "outputs": [],
   "source": [
    "# Clean and convert financials to float for consistency with the movie_df\n",
    "TheNumbers_df = data_utils.clean_currency_columns(TheNumbers_df, [\"production_budget\", \"domestic_gross\", \"worldwide_gross\"])"
   ]
  },
  {
   "cell_type": "code",
   "execution_count": null,
   "metadata": {},
   "outputs": [],
   "source": [
    "TheNumbers_df.head()"
   ]
  },
  {
   "cell_type": "markdown",
   "metadata": {},
   "source": [
    "We now perform an outer merge to include all records from both datasets, aligning them based on movie titles.\n"
   ]
  },
  {
   "cell_type": "code",
   "execution_count": null,
   "metadata": {},
   "outputs": [],
   "source": [
    "# Normalize the title columns for case insensitive matching\n",
    "Kaggle_df = data_utils.clean_string_columns(Kaggle_df, [\"original_title\"])\n",
    "TheNumbers_df = data_utils.clean_string_columns(TheNumbers_df, [\"movie\"])\n",
    "\n",
    "# Merge both dataframes on the title columns\n",
    "merged_df = pd.merge(Kaggle_df, TheNumbers_df, left_on=\"original_title\", right_on=\"movie\", how=\"outer\")"
   ]
  },
  {
   "cell_type": "markdown",
   "metadata": {},
   "source": [
    "##### Post-merge cleaning\n",
    "\n",
    "We create the main financial columns (\"movie_budget\" and \"movie_revenue\") by selecting non-null and non-zero values, prioritizing data from TheNumbers dataset when available.\n"
   ]
  },
  {
   "cell_type": "code",
   "execution_count": null,
   "metadata": {},
   "outputs": [],
   "source": [
    "merged_df[\"movie_budget\"] = np.where((merged_df[\"production_budget\"].notna() & (merged_df[\"production_budget\"] != 0)),\n",
    "                                     merged_df[\"production_budget\"],\n",
    "                                     merged_df[\"budget\"])\n",
    "\n",
    "merged_df[\"movie_revenue\"] = np.where((merged_df[\"worldwide_gross\"].notna() & (merged_df[\"worldwide_gross\"] != 0)),\n",
    "                                      merged_df[\"worldwide_gross\"],\n",
    "                                      merged_df[\"revenue\"])\n",
    "\n",
    "# Drop the original columns that were merged into new ones\n",
    "merged_df.drop(columns=[\"budget\", \"revenue\", \"production_budget\", \"worldwide_gross\", \"movie\"], inplace=True)"
   ]
  },
  {
   "cell_type": "markdown",
   "metadata": {},
   "source": [
    "Filter out movies where both budget and revenue data are missing or zero, as they do not provide value for financial analysis.\n"
   ]
  },
  {
   "cell_type": "code",
   "execution_count": null,
   "metadata": {},
   "outputs": [],
   "source": [
    "# Create a mask where both columns are either zero or NaN\n",
    "mask = (\n",
    "    (merged_df[\"movie_budget\"].isna() | (merged_df[\"movie_budget\"] == 0)) &\n",
    "    (merged_df[\"movie_revenue\"].isna() | (merged_df[\"movie_revenue\"] == 0))\n",
    ")\n",
    "\n",
    "# Apply the mask and drop those rows\n",
    "df_filtered = merged_df[~mask]"
   ]
  },
  {
   "cell_type": "code",
   "execution_count": null,
   "metadata": {},
   "outputs": [],
   "source": [
    "print(\"The number of available and relevant movie budget and revenue information is \" + str(df_filtered[\"movie_budget\"].size))\n",
    "\n",
    "df_filtered.head()"
   ]
  },
  {
   "cell_type": "markdown",
   "metadata": {},
   "source": [
    "Two merging strategies are employed here to maximize the potential for matching records across the datasets:\n",
    "\n",
    "Original Title Merge: Merging based on the Original_title from movie_df to the original_title from df_filtered to catch the most direct title matches. \n",
    "\n",
    "Primary Title Merge: Using Primary_title as an alternative matching criterion, knowing that some movies might be listed under alternate titles.\n"
   ]
  },
  {
   "cell_type": "code",
   "execution_count": null,
   "metadata": {},
   "outputs": [],
   "source": [
    "# Convert the 'Release_Date' column to datetime\n",
    "df_filtered['release_date'] = pd.to_datetime(df_filtered['release_date'])\n",
    "\n",
    "# Extract the year from the datetime\n",
    "df_filtered['release_date'] = df_filtered['release_date'].dt.year"
   ]
  },
  {
   "cell_type": "code",
   "execution_count": null,
   "metadata": {},
   "outputs": [],
   "source": [
    "# Normalize the title columns for case-insensitive matching\n",
    "movie_df[\"Original_title\"] = movie_df[\"Original_title\"].str.strip().str.lower()\n",
    "movie_df[\"Primary_title\"] = movie_df[\"Primary_title\"].str.strip().str.lower()\n",
    "\n",
    "# Merging on the original title.\n",
    "merge1 = pd.merge(movie_df, df_filtered, how=\"inner\", left_on=[\"Original_title\", \"Movie_release_date\"], right_on=[\"original_title\", \"release_date\"])\n",
    "# Merging on the secondary title.\n",
    "merge2 = pd.merge(movie_df, df_filtered, how=\"inner\", left_on=[\"Primary_title\", \"Movie_release_date\"], right_on=[\"original_title\", \"release_date\"])\n",
    "\n",
    "# Concatenating and dropping duplicates that appear from movies with the same Original_title and Primary_title.\n",
    "final_df = pd.concat([merge1, merge2]).drop_duplicates(subset=[\"tconst\"]).reset_index(drop=True)\n",
    "\n",
    "# Filter out movies where revenue data is missing or zero and prioritize initial revenue\n",
    "final_df[\"final_movie_revenue\"] = np.where(\n",
    "    (final_df[\"Movie_box_office_revenue\"].notna() & (final_df[\"Movie_box_office_revenue\"] != 0)),\n",
    "    final_df[\"Movie_box_office_revenue\"],\n",
    "    final_df[\"movie_revenue\"]\n",
    ")\n",
    "\n",
    "final_df.drop(columns=[\"Movie_box_office_revenue\", \"domestic_gross\", \"movie_revenue\", \"original_title\", \"genres\", \"id\", \"release_date\"], inplace=True, errors=\"ignore\")\n",
    "\n",
    "# Renaming the columns to follow the convention\n",
    "rename_columns = {\"popularity\":\"Popularity\", \n",
    "                  \"production_companies\":\"Production_companies\", \n",
    "                  \"prodcution_countries\":\"Production_countries\",\n",
    "                  \"movie_budget\":\"Movie_budget\",\n",
    "                  \"final_movie_revenue\":\"Final_movie_revenue\",\n",
    "                  \"Movie_genres_y\":\"Movie_genres\"}\n",
    "\n",
    "final_df.rename(columns=rename_columns, inplace=True)\n",
    "\n",
    "\n",
    "print(f\"The resulting dataframe has {len(final_df):,} rows.\")\n",
    "final_df.head()"
   ]
  },
  {
   "cell_type": "markdown",
   "metadata": {},
   "source": [
    "### 2. Our success metric"
   ]
  },
  {
   "cell_type": "markdown",
   "metadata": {},
   "source": [
    "#### Financial Analysis\n",
    "\n",
    "##### Calculating Return on Investment (ROI)\n",
    "\n",
    "To provide insights into the financial success of the movies, we calculate the Return on Investment (ROI). This metric is derived by comparing the movie\"s final revenue to its budget.\n",
    "\n",
    "- **Condition**: Ensure that both `movie_budget` and `final_movie_revenue` are non-zero and non-null to avoid division errors and ensure data integrity\n"
   ]
  },
  {
   "cell_type": "code",
   "execution_count": null,
   "metadata": {},
   "outputs": [],
   "source": [
    "final_df = evaluation_utils.calculate_roi(final_df, \"Movie_budget\", \"Final_movie_revenue\")\n",
    "print(\"There is now \" + str(final_df[\"Final_movie_revenue\"].size) + \" movies to work with in the financial success analysis\")"
   ]
  },
  {
   "cell_type": "markdown",
   "metadata": {},
   "source": [
    "#### Data Normalization and Scaling\n",
    "\n",
    "Given the varied scales of ratings and ROI, we standardize these features to a common scale using both Standard and Min-Max scalers. "
   ]
  },
  {
   "cell_type": "code",
   "execution_count": null,
   "metadata": {},
   "outputs": [],
   "source": [
    "# Initialize scalers\n",
    "final_df = evaluation_utils.scale_features(final_df)"
   ]
  },
  {
   "cell_type": "markdown",
   "metadata": {},
   "source": [
    "#### Weighted Success Metric\n",
    "\n",
    "To evaluate overall movie success, we calculate a weighted sum of normalized ratings and ROI, assigning double the weight to ROI given its financial significance in assessing success."
   ]
  },
  {
   "cell_type": "code",
   "execution_count": null,
   "metadata": {},
   "outputs": [],
   "source": [
    "# Calculate movie success which is a weighted sum choosing that the ROI feature will have double the importance of ratings\n",
    "#final_df = evaluation_utils.calculate_weighted_success(final_df, 0.67)\n",
    "\n",
    "final_df.head()"
   ]
  },
  {
   "cell_type": "markdown",
   "metadata": {},
   "source": [
    "### 3. Gender and age vs success"
   ]
  },
  {
   "cell_type": "markdown",
   "metadata": {},
   "source": [
    "Now that we have have established our success metric, we can evaluate the effect of actors' gender on the success of a movie. \n",
    "\n",
    "The best way we chose in order to conduct our analysis is a **Regression analysis**. Indeed, this will allow us to quantify and understand the relationship between gender, age, and other factors on ROI, ratings and our success metric while controlling for potential confounders.\n",
    "\n",
    "Before diving into regression, we should perform an **Exploratory Data Analysis (EDA)** to understand the relationships among variables and detect any anomalies."
   ]
  },
  {
   "cell_type": "markdown",
   "metadata": {},
   "source": [
    "#### 1.1 Exploratory Data Analysis (EDA)\n",
    "\n",
    "First, let's list the variable of interest:\n",
    "\n",
    "Categorical variable:\n",
    "- *Actor_gender*: An actor is either Male or Female. \n",
    "- *isAdult*: A boolean. Returns 1 if it a +18 rated movie\n",
    "- *Movie_genre*\n",
    "- *Movie_countries*, \n",
    "- *Movie_languages*\n",
    "\n",
    "Continous variable:\n",
    "- *Average_female_actor_age*: Represents the average age of the female actresses. \n",
    "- *Average_male_actor_age*: Represents the average age of the male actresses.\n",
    "- *Average_ratings* and *Movie_box_office_revenue*: These are the dependent variables of our studies.    \n",
    "\n"
   ]
  },
  {
   "cell_type": "markdown",
   "metadata": {},
   "source": [
    "##### A quick comment about the dependent variables:\n",
    "The goal of our study is to look at ratings, ROI and our succes metric. However, due to complications with finding enough data for the ROI and success metric estimation we will need to postpone the in-depth analysis to P3."
   ]
  },
  {
   "cell_type": "markdown",
   "metadata": {},
   "source": [
    "##### 1.1.1 Univariate Analysis of continuous variables"
   ]
  },
  {
   "cell_type": "markdown",
   "metadata": {},
   "source": [
    "As a numerical analysis, we can show a table with the minimum, maximum, mean, standard deviation (SD) and median of each variable."
   ]
  },
  {
   "cell_type": "code",
   "execution_count": null,
   "metadata": {},
   "outputs": [],
   "source": [
    "# Initialize object for EDA processing\n",
    "eda = EDA(final_df.copy())"
   ]
  },
  {
   "cell_type": "code",
   "execution_count": null,
   "metadata": {},
   "outputs": [],
   "source": [
    "pd.options.display.float_format = \"{:,.2f}\".format\n",
    "\n",
    "# Convert columns to numeric and drop rows with missing data.\n",
    "eda.dataframe[eda.numeric_columns] = eda.dataframe[eda.numeric_columns].apply(pd.to_numeric, errors=\"coerce\")\n",
    "eda.dataframe.dropna(subset=eda.numeric_columns, inplace=True)\n",
    "\n",
    "# Summary statistics\n",
    "summary_table = eda.summary()\n",
    "\n",
    "summary_table"
   ]
  },
  {
   "cell_type": "code",
   "execution_count": null,
   "metadata": {},
   "outputs": [],
   "source": [
    "eda.plot_histograms(\n",
    "    variables=[\"Average_ratings\", \"Movie_budget\", \"Final_movie_revenue\", \"ROI\"],\n",
    "    title=\"Figure 1: Histogram of Dependent Variables\",\n",
    "    bins=15,\n",
    "    layout=(2, 2)\n",
    ")"
   ]
  },
  {
   "cell_type": "markdown",
   "metadata": {},
   "source": [
    "As we can see in Figure 1, the histogram for *Average_ratings* is bell-shaped, indicating a **normal distribution** of movie ratings.\n",
    "\n",
    "As for the distribution of *Movie_budget*, *Final_movie_revenue* and *ROI* are highly skewed. In order to adresse that, we have to apply a log transformation to ROI which is a combination of the budget and revenue."
   ]
  },
  {
   "cell_type": "code",
   "execution_count": null,
   "metadata": {},
   "outputs": [],
   "source": [
    "# Apply log transformation to skewed dependent variables\n",
    "eda.dataframe = evaluation_utils.log_transform(eda.dataframe, [\"ROI\"])\n",
    "\n",
    "\n",
    "eda.plot_histograms(\n",
    "    variables=[\"log_ROI\"],\n",
    "    title=\"Figure 2: Histogram of Log Dependent Variable ROI\",\n",
    "    bins=15,\n",
    "    layout=(1, 1)\n",
    ")"
   ]
  },
  {
   "cell_type": "markdown",
   "metadata": {},
   "source": [
    "Now we have successfully obtained a normal distribution for the *ROI*. \n",
    "\n",
    "Let's now look at our independent variables."
   ]
  },
  {
   "cell_type": "code",
   "execution_count": null,
   "metadata": {},
   "outputs": [],
   "source": [
    "eda.plot_histograms(\n",
    "    variables=[\"Num_votes\", \"Movie_release_date\", \"Movie_runtime\", \"Female_actors\", \"Male_actors\"],\n",
    "    title=\"Figure 3: Histogram of Independent Variables\",\n",
    "    bins=15,\n",
    "    layout=(2, 3)\n",
    ")"
   ]
  },
  {
   "cell_type": "markdown",
   "metadata": {},
   "source": [
    "The histogram for the *Movie_release_date* shows an increase in movie releases after the 1980s, with a sharp spike around the 2000s. This suggests that the number of movie releases accelerated significantly in the late 20th and early 21st centuries.\n",
    "\n",
    "Since the histogram for *Movie_release_date*, *Movie_runtime*, *Female_actors* and *Male_actors* are bell-shaped and follow a normal distribution, thus we keep these variables as they are.\n",
    "\n",
    "For the *Num_votes*, we need to apply log transformation since it is skewed."
   ]
  },
  {
   "cell_type": "code",
   "execution_count": null,
   "metadata": {},
   "outputs": [],
   "source": [
    "# Apply log transformation to skewed independent variables\n",
    "eda.dataframe = evaluation_utils.log_transform(eda.dataframe, [\"Num_votes\"])\n",
    "\n",
    "eda.plot_histograms(\n",
    "    variables=[\"log_Num_votes\"],\n",
    "    title=\"Figure 4: Histogram of Log Independent Variable Num_votes\",\n",
    "    bins=15,\n",
    "    layout=(1, 1)\n",
    ")"
   ]
  },
  {
   "cell_type": "markdown",
   "metadata": {},
   "source": [
    "Log of Num_votes: A normal distribution with most movies receiving moderate number of votes and a smaller group of popular movies getting significantly more votes "
   ]
  },
  {
   "cell_type": "code",
   "execution_count": null,
   "metadata": {},
   "outputs": [],
   "source": [
    "eda.numeric_columns = [\"Average_ratings\",\n",
    "                   \"log_Num_votes\",\n",
    "                   \"Movie_release_date\",\n",
    "                   \"log_ROI\",\n",
    "                   \"Movie_runtime\",\n",
    "                   \"Female_actors\",\n",
    "                   \"Male_actors\"]\n",
    "\n",
    "eda.plot_boxplots()"
   ]
  },
  {
   "cell_type": "markdown",
   "metadata": {},
   "source": [
    "We filter movies with a release date after 1970 and a runtime below 200 minutes to ensure meaningful results from our linear regression model. The movies post-1970 align more with modern filmmaking trends, audience preferences, and even available data quality, all contributing to minimizing potential biases based on older production trends. Limiting runtime to under 200 minutes helps exclude extreme outliers that could distort model coefficients, as excessively long films are rare and often follow unconventional storytelling formats, making them less representative of typical movie characteristics."
   ]
  },
  {
   "cell_type": "code",
   "execution_count": null,
   "metadata": {},
   "outputs": [],
   "source": [
    "# Filtering movies after 1970 awith runtime less than 200 minutes\n",
    "eda.dataframe = eda.dataframe[(eda.dataframe[\"Movie_release_date\"] > 1970) & (eda.dataframe[\"Movie_runtime\"] < 200)]"
   ]
  },
  {
   "cell_type": "code",
   "execution_count": null,
   "metadata": {},
   "outputs": [],
   "source": [
    "print(f\"After filtering the dataframe we are left with {len(eda.dataframe):,} movies.\")"
   ]
  },
  {
   "cell_type": "markdown",
   "metadata": {},
   "source": [
    "We now have to focus on outliers and removing them for a more accurate modeling. From the boxplots, we chose the remove the outliers of the *Movie_box_office_revenue* and the *Minutes_runtime* variables. To do that, we use the **InterQuartile Range (IQR) method**, which identifies values that are significantly higher or lower than the majority of the data.\n",
    "\n",
    "The *remove_outliers* function will calculate the IQR for each column specified and removes any rows with values outside the range:\n",
    "\n",
    "$[Q1 - 1.5 \\times \\text{IQR}, Q3 + 1.5 \\times \\text{IQR}]$\n"
   ]
  },
  {
   "cell_type": "code",
   "execution_count": null,
   "metadata": {},
   "outputs": [],
   "source": [
    "# eda.numeric_columns = [\"Average_ratings\",\n",
    "#                    \"log_Num_votes\",\n",
    "#                    \"Movie_release_date\",\n",
    "#                    #\"log_Final_movie_revenue\",\n",
    "#                    \"log_ROI\",\n",
    "#                    \"log_Movie_runtime\",\n",
    "#                    \"log_Female_actors\",\n",
    "#                    \"log_Male_actors\",\n",
    "#                    \"Movie_success\"]\n",
    "\n",
    "# # Dataframe without outliers\n",
    "# eda.dataframe = data_utils.remove_outliers(eda.dataframe, eda.numeric_columns)\n",
    "\n",
    "# eda.plot_boxplots()"
   ]
  },
  {
   "cell_type": "code",
   "execution_count": null,
   "metadata": {},
   "outputs": [],
   "source": [
    "# print(f\"After removing the outliers and dropping the null values, we are left with {len(eda.dataframe):,} movies.\")"
   ]
  },
  {
   "cell_type": "markdown",
   "metadata": {},
   "source": [
    "##### 1.1.2 Bivariate Analysis of continuous variables"
   ]
  },
  {
   "cell_type": "code",
   "execution_count": null,
   "metadata": {},
   "outputs": [],
   "source": [
    "eda.plot_correlation_matrix()"
   ]
  },
  {
   "cell_type": "markdown",
   "metadata": {},
   "source": [
    "The correlation matrix for the continuous variables in our dataset shows the following relationships:\n",
    "\n",
    "•⁠  *⁠Female_actors* and *Male_actors*: The correlation coefficient is *0.12*, indicating a weak positive correlation. This suggests that movies with a higher number of female actors also tend to have a higher number of male actors. We note that this could indicate a general tendency for larger casts to include more actors of both genders.\n",
    "\n",
    "•⁠  *log_Female_actors* and *Movie_release_date*: The correlation coefficient is *0.13*, indicating a weak positive correlation. This suggests that more recent movies tend to include a higher number of female actors. \n",
    "\n",
    "While gender composition affects the correlation, these findings highlight the need for deeper analysis (e.g., regression) to control for potential confounders and isolate the impact of gender on box office success."
   ]
  },
  {
   "cell_type": "code",
   "execution_count": null,
   "metadata": {},
   "outputs": [],
   "source": [
    "eda.frequency_actors_gender()"
   ]
  },
  {
   "cell_type": "markdown",
   "metadata": {},
   "source": [
    "#### 1.1.3 Analysis and encoding of categorical variables\n",
    "Regression analysis with many categorical variables can quickly get complicated. Indeed using a boolean value for each category except one can cause us to have too many regressors. For variables like isAdult and Gender it is easy as there are only two possibilities. However, for Movie_genre, Movie_countries and Movie_languages we can quickly get into the hundreds. Here is how we plan on managing this:"
   ]
  },
  {
   "cell_type": "markdown",
   "metadata": {},
   "source": [
    "##### 1.1.3.1 Analysis of the Movies' genres"
   ]
  },
  {
   "cell_type": "markdown",
   "metadata": {},
   "source": [
    "We set a cutoff threshold of 200. This means all genres with less than 200 occurences will be discarded. "
   ]
  },
  {
   "cell_type": "code",
   "execution_count": null,
   "metadata": {},
   "outputs": [],
   "source": [
    "filtered_genre_counts = eda.filter_and_count(column_name=\"Movie_genres\", threshold=200)"
   ]
  },
  {
   "cell_type": "markdown",
   "metadata": {},
   "source": [
    "Let us check if this restricts our study to too few movies."
   ]
  },
  {
   "cell_type": "code",
   "execution_count": null,
   "metadata": {},
   "outputs": [],
   "source": [
    "popular_genres = eda.analyze_popular_genres(filtered_genre_counts=filtered_genre_counts)"
   ]
  },
  {
   "cell_type": "markdown",
   "metadata": {},
   "source": [
    "We can drop the movies that have none of the most popular genres. We can also assume that the genres are ordered by relevance. This assumption was made after manually checking for 50 randomly sampled movies. It was true for all 50. We will thus keep for each movie, the first popular genre that appears."
   ]
  },
  {
   "cell_type": "code",
   "execution_count": null,
   "metadata": {},
   "outputs": [],
   "source": [
    "# Creating a new column named \"Main_genre\" that stores, for each movie, the first occurence of one of the popular genres\n",
    "eda.get_main_genres(popular_genres=popular_genres)"
   ]
  },
  {
   "cell_type": "markdown",
   "metadata": {},
   "source": [
    "We can now create the dummy variables for the \"Main_genre\" column using one-hot encoding."
   ]
  },
  {
   "cell_type": "code",
   "execution_count": null,
   "metadata": {},
   "outputs": [],
   "source": [
    "eda.dataframe[\"Movie_main_genre\"] = eda.dataframe[\"Main_genre\"] # Backup the original genre column before get_dummies\n",
    "eda.dataframe = pd.get_dummies(eda.dataframe, columns=[\"Main_genre\"], drop_first=True)\n",
    "eda.dataframe.sample(5)"
   ]
  },
  {
   "cell_type": "code",
   "execution_count": null,
   "metadata": {},
   "outputs": [],
   "source": [
    "eda.plot_female_percentage(columns= [\"Movie_release_date\"], plot_type=\"Line\")"
   ]
  },
  {
   "cell_type": "code",
   "execution_count": null,
   "metadata": {},
   "outputs": [],
   "source": [
    "eda.plot_female_percentage(columns=[\"Movie_main_genre\"], plot_type = \"Bar\")\n"
   ]
  },
  {
   "cell_type": "code",
   "execution_count": null,
   "metadata": {},
   "outputs": [],
   "source": [
    "eda.plot_female_percentage(columns=[\"Movie_release_date\", \"Movie_main_genre\"], plot_type = \"Interactif by genre\")"
   ]
  },
  {
   "cell_type": "markdown",
   "metadata": {},
   "source": [
    "##### 1.1.3.2 Analysis of the Movies' languages"
   ]
  },
  {
   "cell_type": "markdown",
   "metadata": {},
   "source": [
    "We will plot the top 5 languages by number of occurences:"
   ]
  },
  {
   "cell_type": "code",
   "execution_count": null,
   "metadata": {},
   "outputs": [],
   "source": [
    "eda.analyze_languages()"
   ]
  },
  {
   "cell_type": "markdown",
   "metadata": {},
   "source": [
    "We have an unbalanced dataset with English being much more prominent than other languages."
   ]
  },
  {
   "cell_type": "markdown",
   "metadata": {},
   "source": [
    "Categorizing movies into two groups: \n",
    "- those available exclusively in English, \n",
    "- those available in other languages (which may include English alongside another language).\n",
    "\n",
    "This will be done through the creation of the boolean \"Is_not_only_english\" which is True when the movie is available in another language."
   ]
  },
  {
   "cell_type": "code",
   "execution_count": null,
   "metadata": {},
   "outputs": [],
   "source": [
    "eda.categorize_languages()"
   ]
  },
  {
   "cell_type": "markdown",
   "metadata": {},
   "source": [
    "##### 1.1.3.2 Analysis of the Movies' countries"
   ]
  },
  {
   "cell_type": "code",
   "execution_count": null,
   "metadata": {},
   "outputs": [],
   "source": [
    "eda.analyze_countries()"
   ]
  },
  {
   "cell_type": "markdown",
   "metadata": {},
   "source": [
    "We have a very similar situation to the languages. The United States of America have a much more prominent number of movies. We will thus proceed like previously by categorizing the movies into two groups:\n",
    "- USA movies \n",
    "- Movies from other countries \n",
    "\n",
    "This will be done through the creation of the boolean \"Is_USA_movie\" which is True when the movie is from the USA."
   ]
  },
  {
   "cell_type": "code",
   "execution_count": null,
   "metadata": {},
   "outputs": [],
   "source": [
    "count_usa_movies = (eda.dataframe[\"Movie_countries\"] == \"united states of america\").sum()\n",
    "count_other_countries_movie = len(eda.dataframe) - count_usa_movies \n",
    "print(f\"There are {count_usa_movies} USA movies and {count_other_countries_movie} movies from other countries.\")"
   ]
  },
  {
   "cell_type": "code",
   "execution_count": null,
   "metadata": {},
   "outputs": [],
   "source": [
    "eda.categorize_countries()"
   ]
  },
  {
   "cell_type": "markdown",
   "metadata": {},
   "source": [
    "##### 1.1.3.2 Analysis of the Movies' production companies"
   ]
  },
  {
   "cell_type": "code",
   "execution_count": null,
   "metadata": {},
   "outputs": [],
   "source": [
    "filtered_production_count = eda.analyze_production_companies()"
   ]
  },
  {
   "cell_type": "code",
   "execution_count": null,
   "metadata": {},
   "outputs": [],
   "source": [
    "prod_companies = pd.read_csv(\"data/Extra CSV/production_companies.csv\")\n",
    "\n",
    "box_office = eda.merge_production_data(filtered_production_count, prod_companies)\n"
   ]
  },
  {
   "cell_type": "markdown",
   "metadata": {},
   "source": [
    "We inspect the company names and we saw that there are Columbia Pictures and Columbia Pictures Corporation. There are two names for the same company. \n",
    "We apply unify_columbia_revenue to attribute the same revenue for them. "
   ]
  },
  {
   "cell_type": "code",
   "execution_count": null,
   "metadata": {},
   "outputs": [],
   "source": [
    "eda.unify_columbia_revenue(box_office_df=box_office)\n"
   ]
  },
  {
   "cell_type": "code",
   "execution_count": null,
   "metadata": {},
   "outputs": [],
   "source": [
    "box_office[\"Total Worldwide Box Office\"] = box_office[\"Total Worldwide Box Office\"].replace(\n",
    "    {\"\\$\": \"\", \",\": \"\"}, regex=True).astype(float)\n",
    "\n",
    "def calculate_box_office(companies_list):\n",
    "   if not companies_list:\n",
    "        return 0  \n",
    "   return box_office.loc[box_office[\"Company Name\"].isin(companies_list), \"Total Worldwide Box Office\"].sum()\n",
    "\n",
    "eda.dataframe[\"Box_office_companies\"] = eda.dataframe[\"Production_companies_cleaned\"].apply(calculate_box_office)\n",
    "eda.filter_movies_with_box_office(box_office_column=\"Box_office_companies\")"
   ]
  },
  {
   "cell_type": "code",
   "execution_count": null,
   "metadata": {},
   "outputs": [],
   "source": [
    "eda.plot_gender_comparison(columns=[\"log_ROI\", \"Normalized_Rating\"])"
   ]
  },
  {
   "cell_type": "code",
   "execution_count": null,
   "metadata": {},
   "outputs": [],
   "source": [
    "eda.plot_gender_comparison(columns=[\"log_ROI\", \"Normalized_Rating\"], interactive=True)"
   ]
  },
  {
   "cell_type": "markdown",
   "metadata": {},
   "source": []
  },
  {
   "cell_type": "code",
   "execution_count": null,
   "metadata": {},
   "outputs": [],
   "source": [
    "print(eda.dataframe.columns)\n"
   ]
  },
  {
   "cell_type": "markdown",
   "metadata": {},
   "source": [
    "### 1.2 Identifying Potential Confounders\n",
    "In order to not have bias in our study, it is essential we add the confounders. This means that we have to identify the variables that have an impact on both treatment and outcome, here being the actor gender and the final box office revenue respectivly. The confounders are: \n",
    "-  ⁠Movie_genre\n",
    "-  ⁠Movie_countries\n",
    "- ⁠Movie_languages\n",
    "- Num_votes"
   ]
  },
  {
   "cell_type": "markdown",
   "metadata": {},
   "source": [
    "### 1.3 General Linear Regression"
   ]
  },
  {
   "cell_type": "code",
   "execution_count": null,
   "metadata": {},
   "outputs": [],
   "source": [
    "final_df_regression = eda.dataframe.copy()\n",
    "\n",
    "# Calculating the Movie Success metric\n",
    "final_df_regression = evaluation_utils.calculate_weighted_success(final_df_regression, 0.67)"
   ]
  },
  {
   "cell_type": "markdown",
   "metadata": {},
   "source": [
    "We will run a different regression for each of the following dependent variables:\n",
    "- $ln(\\text{ROI})$\n",
    "- Normalized Ratings\n",
    "- Movie Success metric"
   ]
  },
  {
   "cell_type": "markdown",
   "metadata": {},
   "source": [
    "Let's start with $ln(\\text{ROI})$:"
   ]
  },
  {
   "cell_type": "code",
   "execution_count": null,
   "metadata": {},
   "outputs": [],
   "source": [
    "# Define independent and dependent variables\n",
    "indep_vars = [\"Female_actors\", \"Male_actors\", \"Movie_runtime\", \"Is_not_only_english\", \n",
    "                   \"Is_USA_movie\",  \"Main_genre_drama\",\n",
    "                   \"Main_genre_thriller\", \"Main_genre_comedy\", \"Main_genre_fantasy\", \"Main_genre_horror\", \"Movie_release_date\",\n",
    "                   \"Box_office_companies\", \"log_Num_votes\"]\n",
    "\n",
    "dep_var = \"log_ROI\"\n",
    "\n",
    "# Run the regression along with necessary preprocessing and metrics\n",
    "regression.run_regression(final_df_regression, indep_vars, dep_var)"
   ]
  },
  {
   "cell_type": "markdown",
   "metadata": {},
   "source": [
    "Let us analyze the results from the regression on `log_ROI`:\n",
    "- **$F$-statistic**: The p-value of the F-statistic is almost equal to zero. This means we can reject the null hypothesis that all coefficients are equal to zero at the 5% significance level, leading us to conclude that the model is statistically significant at the 5% significance level.\n",
    "\n",
    "- **$R^2$ and Adjusted $R^2$**: The $R^2$ value indicates a moderate fit, however a significant portion of the variance (around 65%) is not explained, suggesting factors not included in the model might influence `log_ROI`. The Adjusted $R^2$ being close to the $R^2$ suggests the model is not overfitting.\n",
    "\n",
    "- **Durbin-Watson statistic**: The Durbin-Watson statistic is close to 2 suggesting there is no autocorrelation of the residuals in the model.\n",
    "\n",
    "- **RMSE**: The Root mean squared error is of 0.96, indicating a relative error of 7.46% on the test set.\n",
    "\n",
    "- **Insignificant predictors**: `Is_not_only_english`, `Main_genre_thriller`, `Main_genre_fantasy` and `Production_companies` are all statistically insignificant at the 5% significance level.\n",
    "\n",
    "- **Notable coefficients**: It can be noted amongst the statistically significant predictors that the number of female actors has a positive coefficient as opposed to the number of male actors having a negative one. This suggests that movies with more women perform better in terms of return on investment. Is this increase in performance due to the right reasons? We will dive deeper into that in Part 5 of our analysis."
   ]
  },
  {
   "cell_type": "markdown",
   "metadata": {},
   "source": [
    "Let's now regress on the Normalized Ratings and the Movie Success metric:"
   ]
  },
  {
   "cell_type": "code",
   "execution_count": null,
   "metadata": {},
   "outputs": [],
   "source": [
    "# Removing log_Num_votes as it is involved in the calculation of Normalized_Rating and Movie_success\n",
    "indep_vars.remove(\"log_Num_votes\")\n",
    "\n",
    "# Define new dependent variables\n",
    "dep_vars = [\"Normalized_Rating\", \"Movie_success\"]\n",
    "\n",
    "show_VIF = True\n",
    "for dep_var in dep_vars:\n",
    "    # Run the regression along with necessary preprocessing and metrics\n",
    "    regression.run_regression(final_df_regression, indep_vars, dep_var, show_VIF)\n",
    "    \n",
    "    # Only display VIF information once as the independent variables have not changed\n",
    "    show_VIF = False"
   ]
  },
  {
   "cell_type": "markdown",
   "metadata": {},
   "source": [
    "Let us analyze the regression on `Normalized_Rating` first:\n",
    "- **$F$-statistic**: The p-value of the F-statistic is nearly zero. This allows us to reject the null hypothesis that all coefficients are equal to zero at the 5% significance level we can conclude that the model is statistically significant.\n",
    "\n",
    "- **$R^2$ and Adjusted $R^2$**: The \\( R^2 \\) value indicates that approximately 24.9% of the variance in `Normalized_Rating` is explained by the predictors. The adjusted \\( R^2 \\) being close to \\( R^2 \\) suggests that the model is not overfitting.\n",
    "\n",
    "- **Durbin-Watson statistic**: The Durbin-Watson statistic is close to 2, indicating no significant autocorrelation in the residuals.\n",
    "\n",
    "- **RMSE**: The Root Mean Squared Error is 0.08, with a relative error of 11.25% on the test set. This suggests the model does not make big errors on the test dataset\n",
    "\n",
    "- **Insignificant predictors**: `Is_USA_movie` and `Main_genre_horror` are statistically insignificant at the 5% significance level.\n",
    "\n",
    "- **Notable coefficients**:\n",
    "  - The number of female actors has a negative coefficient and is statistically significant, suggesting that an increase in female actors slightly decreases the normalized rating whilst the number of male actors has a positive coefficient and is significant, suggesting an increase in male actors is associated with a higher normalized rating. These results are opposite to what was seen with `log_ROI`\n"
   ]
  },
  {
   "cell_type": "markdown",
   "metadata": {},
   "source": [
    "Let us analyze the regression on `Movie_Success` next:\n",
    "- **$F$-statistic**: The p-value of the F-statistic is nearly zero. This allows us to reject the null hypothesis that all coefficients are equal to zero at the 5% significance level, we can conclude that the model is statistically significant.\n",
    "\n",
    "- **$R^2$ and Adjusted $R^2$**: The \\( R^2 \\)suggests that only 10.2% of the variance is explained by the predictors. The low \\( R^2 \\) indicates that a significant portion of the variance remains unexplained, suggesting that additional factors may contribute to `Movie_Success`. The adjusted \\( R^2 \\) being close to \\( R^2 \\) suggests no overfitting.\n",
    "\n",
    "- **Durbin-Watson statistic**: The Durbin-Watson statistic is close to 2, indicating no significant autocorrelation in the residuals.\n",
    "\n",
    "- **RMSE**: The RMSE is 0.11, with a relative error of 10.64% on the test set. This suggests a reasonable level of accuracy in predicting `Movie_Success`.\n",
    "\n",
    "- **Insignificant predictors**: `Female_actors`, `Is_USA_movie`, `Main_genre_thriller`, and `Box_office_companies` are statistically insignificant at the 5% significance level."
   ]
  },
  {
   "cell_type": "markdown",
   "metadata": {},
   "source": [
    "An important factor to note is that genres' significance varies from one regression to the next. Indeed, the expectations gender wise of movies varies largely from one genre to the next. It is thus important to take a deeper look into the different genres. We will analyze these differences thanks to genre specific linear regressions."
   ]
  },
  {
   "cell_type": "markdown",
   "metadata": {},
   "source": [
    "### 1.4 Genre specific Linear Regression"
   ]
  },
  {
   "cell_type": "markdown",
   "metadata": {},
   "source": [
    "In this section, we will run regressions of subsets of our dataset corresponding to each main genre we have identified. This will produce many different regressions. The same rigourous analysis was conducted on each regression results. However, to avoid cluttering the notebook, we will not go into as much detail and only report notable results."
   ]
  },
  {
   "cell_type": "code",
   "execution_count": null,
   "metadata": {},
   "outputs": [],
   "source": [
    "# Setting up the genre columns\n",
    "genre_columns = [\"Main_genre_drama\", \"Main_genre_thriller\", \"Main_genre_comedy\", \n",
    "                \"Main_genre_fantasy\", \"Main_genre_horror\"]\n",
    "\n",
    "# Define variables for regression on individual genres\n",
    "indep_vars = [\"Female_actors\", \"Male_actors\", \"Movie_runtime\", \"Is_not_only_english\", \n",
    "                   \"Is_USA_movie\", \"Movie_release_date\",\"Box_office_companies\", \"log_Num_votes\"]\n",
    "\n",
    "# Setting up the dependent variable\n",
    "dep_var = \"log_ROI\"\n",
    "\n",
    "show_VIF = True\n",
    "for genre in genre_columns:\n",
    "    # Run the genre specific regression along with necessary preprocessing and metrics\n",
    "    regression.run_regression(final_df_regression, indep_vars, dep_var, show_VIF, genre)\n",
    "    \n",
    "    # Only display VIF information once as the independent variables have not changed\n",
    "    show_VIF = False"
   ]
  },
  {
   "cell_type": "markdown",
   "metadata": {},
   "source": [
    "- **Drama**: \n",
    "  - **Male_actors**: Negative coefficient and not significant at the 5% level, \\(p = 0.079\\). Suggests that having more male actors is associated with a slight decrease in `log_ROI`, though this is not strongly significant.\n",
    "  - **Female_actors**: Positive but not significant at the 5% level, \\(p = 0.375\\). Gender composition of the cast does not appear to significantly influence ROI for drama films.\n",
    "  - **Movie_runtime**: Significant negative impact, \\(p < 0.001\\), indicating longer dramas are associated with lower ROI.\n",
    "\n",
    "- **Thriller**: \n",
    "  - **Female_actors**: Positive and significant coefficient, \\(p = 0.010\\). An increase in female actors is associated with a higher ROI for thrillers, suggesting that female representation may positively impact returns in this genre.\n",
    "  - **Male_actors**: not significant at the 5% level, \\(p = 0.541\\). Male actor representation has no noticeable impact on ROI for thrillers.\n",
    "  - **Movie_runtime**: Significant negative impact, \\(p < 0.001\\). Longer thrillers tend to have lower ROI.\n",
    "\n",
    "- **Comedy**: \n",
    "  - **Female_actors**: Positive but not significant at the 5% level, \\(p = 0.320\\). Female representation does not significantly influence ROI in comedies.\n",
    "  - **Male_actors**: Negative but not significant at the 5% level, \\(p = 0.313\\). Male representation also has no significant impact on ROI for comedies.\n",
    "  - **Movie_release_date**: Significant negative impact, \\(p < 0.001\\). Older comedy movies tend to have higher ROI.\n",
    "\n",
    "- **Fantasy**: \n",
    "  - **Female_actors**: Positive but not significant at the 5% level, \\(p = 0.055\\). Having more female actors does not significantly increase ROI for fantasy movies.\n",
    "  - **Male_actors**: not significant at the 5% level, \\(p = 0.547\\). Male representation has no noticeable impact on ROI for fantasy movies.\n",
    "  - **Movie_runtime**: Significant negative impact, \\(p = 0.016\\). Longer fantasy movies are associated with lower ROI.\n",
    "\n",
    "- **Horror**: \n",
    "  - **Female_actors**: Positive but not significant at the 5% level, \\(p = 0.574\\). Female representation has no significant impact on ROI for horror movies.\n",
    "  - **Male_actors**: Negative but not significant at the 5% level, \\(p = 0.227\\). Male representation shows no significant impact on ROI.\n",
    "  - **log_Num_votes**: Positive and significant coefficient, \\(p = 0.046\\). Popularity (as measured by votes) is a stronger driver of ROI for horror movies than gender representation.\n",
    "  - **Model Significance**: Overall \\(R^2 = 0.172\\) and an insignificant F-statistic, \\(p = 0.158\\), suggest that this model does not explain much of the variance in ROI for horror movies.\n",
    "\n",
    "- **General Observations**: \n",
    "  1. The impact of **female actors** is most pronounced in the **thriller genre**, where it significantly increases ROI, \\(p = 0.010\\).\n",
    "  2. **Male actors** consistently show negative or insignificant effects on ROI across all genres.\n",
    "  3. The **runtime** of movies has a strong negative impact on ROI across most genres (e.g., Drama, Thriller, Fantasy).\n",
    "  4. The **Fantasy genre** shows that female actors do not significantly influence ROI, \\(p = 0.055\\).\n",
    "  5. The **Horror genre** model appears poorly fitted overall, with insignificant predictors and low explanatory power. Gender effects are negligible here."
   ]
  },
  {
   "cell_type": "code",
   "execution_count": null,
   "metadata": {},
   "outputs": [],
   "source": [
    "# Removing log_Num_votes as it is involved in the calculation of Movie_success\n",
    "indep_vars.remove(\"log_Num_votes\")\n",
    "\n",
    "# Setting up the dependent variable\n",
    "dep_var = \"Movie_success\"\n",
    "\n",
    "show_VIF = True\n",
    "for genre in genre_columns:\n",
    "    # Run the genre specific regression along with necessary preprocessing and metrics\n",
    "    regression.run_regression(final_df_regression, indep_vars, dep_var, show_VIF, genre)\n",
    "    \n",
    "    # Only display VIF information once as the independent variables have not changed\n",
    "    show_VIF = False"
   ]
  },
  {
   "cell_type": "markdown",
   "metadata": {},
   "source": [
    "- **Drama**: \n",
    "  - **Female_actors**: Negative but not significant at the 5% level, \\(p = 0.342\\). Female representation does not significantly influence movie success in drama films.\n",
    "  - **Male_actors**: Negative but not significant at the 5% level, \\(p = 0.731\\). Male representation also shows no significant impact on movie success.\n",
    "  - **Movie_runtime**: Positive and significant, \\(p = 0.034\\). Longer runtime is associated with higher success for drama films.\n",
    "  - **Is_not_only_english**: Positive and significant, \\(p = 0.002\\). Non-English drama movies tend to have higher success.\n",
    "  - **Movie_release_date**: Negative and significant, \\(p < 0.001\\). Older drama movies tend to have higher success.\n",
    "\n",
    "- **Thriller**: \n",
    "  - **Female_actors**: Positive but not significant at the 5% level, \\(p = 0.064\\). Female representation does not significantly influence movie success in thrillers.\n",
    "  - **Male_actors**: not significant at the 5% level, \\(p = 0.764\\). Male representation has no noticeable impact on movie success for thrillers.\n",
    "  - **Movie_runtime**: Positive and significant, \\(p < 0.001\\). Longer runtime is associated with higher success for thrillers.\n",
    "  - **Movie_release_date**: Negative and significant, \\(p < 0.001\\). Older thriller movies tend to have higher success.\n",
    "\n",
    "- **Comedy**: \n",
    "  - **Female_actors**: Positive but not significant at the 5% level, \\(p = 0.445\\). Female representation does not significantly influence movie success in comedies.\n",
    "  - **Male_actors**: Positive and significant, \\(p = 0.011\\). An increase in male actors is associated with higher success in comedy films.\n",
    "  - **Movie_runtime**: Positive and significant, \\(p = 0.001\\). Longer runtime is associated with higher success for comedies.\n",
    "  - **Is_not_only_english**: Positive and significant, \\(p = 0.014\\). Non-English comedy movies tend to have higher success.\n",
    "  - **Movie_release_date**: Negative and significant, \\(p = 0.006\\). Older comedy movies tend to have higher success.\n",
    "\n",
    "- **Fantasy**: \n",
    "  - **Female_actors**: Positive but not significant at the 5% level, \\(p = 0.813\\). Female representation does not significantly influence movie success in fantasy films.\n",
    "  - **Male_actors**: Positive and significant, \\(p = 0.020\\). An increase in male actors is associated with higher success in fantasy movies.\n",
    "  - **Movie_runtime**: not significant at the 5% level, \\(p = 0.476\\). Runtime has no noticeable impact on success for fantasy movies.\n",
    "  - **Box_office_companies**: Negative but not significant at the 5% level, \\(p = 0.072\\). A higher number of box office companies may slightly reduce success, but the result is not strongly significant.\n",
    "\n",
    "- **Horror**: \n",
    "  - **Female_actors**: Positive but not significant at the 5% level, \\(p = 0.796\\). Female representation has no significant impact on movie success in horror films.\n",
    "  - **Male_actors**: Negative but not significant at the 5% level, \\(p = 0.625\\). Male representation shows no significant impact on movie success.\n",
    "  - **Movie_runtime**: Negative but not significant at the 5% level, \\(p = 0.190\\). Runtime does not significantly influence success for horror films.\n",
    "  - **Model Significance**: Overall \\(R^2 = 0.062\\) and an insignificant F-statistic, \\(p = 0.772\\), suggest that this model does not explain much of the variance in movie success for horror films.\n",
    "\n",
    "- **General Observations**: \n",
    "  1. The impact of **female actors** is not significant at the 5% level across all genres.\n",
    "  2. **Male actors** have a significant positive impact on success in **comedy** and **fantasy** genres, but no noticeable impact in other genres.\n",
    "  3. **Movie_runtime** positively influences movie success in **drama**, **thriller**, and **comedy** genres, while having no significant impact in **fantasy** and **horror**.\n",
    "  4. **Movie_release_date** is consistently negative and significant for **drama**, **thriller**, and **comedy**, suggesting older movies perform better in these genres.\n",
    "  5. The **horror genre** model has low explanatory power, with no significant predictors and a high relative error."
   ]
  },
  {
   "cell_type": "markdown",
   "metadata": {},
   "source": [
    "### 4. How does it compare to streaming platforms?"
   ]
  },
  {
   "cell_type": "markdown",
   "metadata": {},
   "source": [
    "In this section, we want to expand our study by analyzing data from various streaming platforms. We focus on the movies of Netflix, Amazon Prime, Disney+, and Hulu. To achieve this, we created a dataset by merging data from multiple sources found on Kaggle.\n",
    "\n",
    "\n",
    "This dataset structure enables comprehensive analysis across various dimensions such as gender repartition in the cast, the ratings and description. Using these columns, we can investigate how streaming platform movies differ in content and ratings compared to traditional box office movies.\n",
    "\n",
    "Actor genders were assigned using multiple CSV files and using a website called **Genderize.io** which provides gender predictions based on names.\n",
    "\n",
    "Given the large number of genres in the dataset, we grouped them into broader categories to simplify our analysis."
   ]
  },
  {
   "cell_type": "code",
   "execution_count": null,
   "metadata": {},
   "outputs": [],
   "source": [
    "streaming_df = get_streaming_dataframe()"
   ]
  },
  {
   "cell_type": "code",
   "execution_count": null,
   "metadata": {},
   "outputs": [],
   "source": [
    "streaming_df.head()"
   ]
  },
  {
   "cell_type": "code",
   "execution_count": null,
   "metadata": {},
   "outputs": [],
   "source": [
    "streaming_df.drop_duplicates(inplace=True)\n"
   ]
  },
  {
   "cell_type": "markdown",
   "metadata": {},
   "source": [
    "To measure the success of a movie we decided to use **ratings** as our main metric. Ratings are a clear way to show how much audiences enjoy a film, making them a reliable measure of success. Streaming platforms often use ratings from users to recommend content which shows how important they are for understanding audience preferences and movie success.\n",
    "\n",
    "By using ratings, we can explore how things like gender diversity, genre, and other factors affect a movie’s success. The best way we chose to conduct this analysis is through a **Regression Analysis**.\n",
    "\n",
    "Before diving into regression, we should perform an **Exploratory Data Analysis (EDA)** to understand the relationships among variables and detect any anomalies."
   ]
  },
  {
   "cell_type": "markdown",
   "metadata": {},
   "source": [
    "#### 4.1 Exploratory Data Analysis for Streaming (EDA)\n",
    "\n",
    "As in our previous analysis of box office movies, we will start by identifying the key variables of interest to guide our study. \n",
    "\n",
    "Categorical variable:\n",
    "- *Actor_gender*: An actor is either Male or Female. \n",
    "- *isAdult*: A boolean. Returns 1 if it a +18 rated movie\n",
    "- *Movie_genre*\n",
    "- *Movie_countries*, \n",
    "- *Movie_languages*\n",
    "- *Platform*\n",
    "\n",
    "Continous variable:\n",
    "\n",
    "- *Average_ratings* and :  the dependent variable of our studies.    \n",
    "\n"
   ]
  },
  {
   "cell_type": "markdown",
   "metadata": {},
   "source": [
    "##### 4.1.1 Univariate Analysis of continuous variables\n"
   ]
  },
  {
   "cell_type": "code",
   "execution_count": null,
   "metadata": {},
   "outputs": [],
   "source": [
    "eda_streaming = EDA(streaming_df.copy())\n"
   ]
  },
  {
   "cell_type": "code",
   "execution_count": null,
   "metadata": {},
   "outputs": [],
   "source": [
    "eda_streaming.plot_comparison_percentage_female(\n",
    "    second_dataframe=eda.dataframe, \n",
    "    year_column_primary=\"Movie_release_date\", \n",
    "    year_column_secondary=\"Start_year\", \n",
    "    title=\"Comparison of Average Percentage of Female Actors per Movie (After 1970)\"\n",
    ")"
   ]
  },
  {
   "cell_type": "markdown",
   "metadata": {},
   "source": [
    "\n",
    "- Both streaming platforms and box office movies show a steady rise in the percentage of female actors over time. This indicates a positive societal shift toward including more diverse perspectives in storytelling.\n",
    "\n",
    "\n",
    "- Streaming platforms consistently feature a higher percentage of female representation compared to box office movies. This trend may be due to the flexibility that streaming platforms enjoy.\n",
    "\n",
    "\n",
    "- After 2015, the percentage of female actors rises significantly, coinciding with the expansion of streaming platforms like Netflix and their focus on original content. This suggests that streaming platforms are playing a key role in driving more inclusive practices.\n",
    "\n"
   ]
  },
  {
   "cell_type": "markdown",
   "metadata": {},
   "source": [
    "As a numerical analysis, we can show a table with the minimum, maximum, mean, standard deviation (SD) and median of each variable."
   ]
  },
  {
   "cell_type": "code",
   "execution_count": null,
   "metadata": {},
   "outputs": [],
   "source": [
    "pd.options.display.float_format = \"{:,.2f}\".format\n",
    "\n",
    "# Filtrer uniquement les colonnes qui existent dans la dataframe\n",
    "existing_numeric_columns = [col for col in eda_streaming.numeric_columns if col in eda_streaming.dataframe.columns]\n",
    "\n",
    "# Convert columns to numeric for existing columns and drop rows with missing data\n",
    "eda_streaming.dataframe[existing_numeric_columns] = eda_streaming.dataframe[existing_numeric_columns].apply(pd.to_numeric, errors=\"coerce\")\n",
    "eda_streaming.dataframe.dropna(subset=existing_numeric_columns, inplace=True)\n",
    "\n",
    "# Summary statistics\n",
    "summary_table = eda_streaming.summary_bis()\n",
    "\n",
    "summary_table\n"
   ]
  },
  {
   "cell_type": "code",
   "execution_count": null,
   "metadata": {},
   "outputs": [],
   "source": [
    "eda_streaming.plot_histograms(\n",
    "    variables=[\"Average_ratings\"],\n",
    "    title=\"Histogram of Average Ratings\",\n",
    "    bins=15,\n",
    "    layout=(1, 1)\n",
    ")"
   ]
  },
  {
   "cell_type": "markdown",
   "metadata": {},
   "source": [
    "The histogram shows a nearly **normal distribution** of *Average_ratings*, with most movies receiving ratings between 6 and 7."
   ]
  },
  {
   "cell_type": "markdown",
   "metadata": {},
   "source": [
    "Let's look at our independent variables"
   ]
  },
  {
   "cell_type": "code",
   "execution_count": null,
   "metadata": {},
   "outputs": [],
   "source": [
    "variables = [\"Num_votes\", \"Movie_release_date\", \"Movie_runtime\", \"Female_actors\", \"Male_actors\"]\n",
    "\n",
    "eda_streaming.plotly_kde(\n",
    "    variables=variables,\n",
    "    bins=15,\n",
    "    second_dataframe=eda.dataframe,\n",
    "    save_html=False,\n",
    "    output_dir=\"./histograms_plots\"\n",
    ")\n"
   ]
  },
  {
   "cell_type": "markdown",
   "metadata": {},
   "source": [
    "- The KDE curve of *Movie_release_date* aligns with the growth of streaming platforms around 2015. During this time, platforms like Netflix began producing their own content and expanding their services globally. The small decrease in the curve after 2020 is likely due to the lack of recent data in the dataset. The spike in film releases reflects the rise of the streaming era and shows how society is adapting to new entertainment trends.\n",
    "\n",
    "\n",
    "- The distribution of *Male_actors* and *Female_actors* reveals distinct patterns. Streaming platforms tend to have a more balanced representation of men and women. This inclusivity contrasts with box office movies, which are still influenced by genres traditionally dominated by male casts.\n",
    "\n",
    "\n",
    "- The *Movie_runtime* graph shows that streaming platforms often favor shorter films, appealing to audiences who prefer binge-watching. This trend contrasts with box office movies, which tend to have longer runtimes, likely to meet the expectations of the theatrical experience.\n"
   ]
  },
  {
   "cell_type": "code",
   "execution_count": null,
   "metadata": {},
   "outputs": [],
   "source": [
    "# Apply log transformation to skewed independent variables\n",
    "eda_streaming.dataframe = evaluation_utils.log_transform(eda_streaming.dataframe, [\"Num_votes\"])\n",
    "\n",
    "eda_streaming.plot_histograms(\n",
    "    variables=[\"log_Num_votes\"],\n",
    "    title=\"Histogram of Log Independent Variable Num_votes\",\n",
    "    bins=15,\n",
    "    layout=(1, 1)\n",
    ")\n"
   ]
  },
  {
   "cell_type": "markdown",
   "metadata": {},
   "source": [
    "Log_Num_Votes : The distribution is approximately normal with most movies receiving a moderate number of votes. Most movies have log-votes between 6 and 10.\n"
   ]
  },
  {
   "cell_type": "code",
   "execution_count": null,
   "metadata": {},
   "outputs": [],
   "source": [
    "eda_streaming.numeric_columns = [\"Average_ratings\",\n",
    "                   \"log_Num_votes\",\n",
    "                   \"Movie_release_date\",\n",
    "                   \"Movie_runtime\",\n",
    "                   \"Female_actors\",\n",
    "                   \"Male_actors\"]\n",
    "\n",
    "eda_streaming.plot_boxplots()"
   ]
  },
  {
   "cell_type": "markdown",
   "metadata": {},
   "source": [
    "The boxplots show us the distributions of key variables and highlight the presence of several outliers. We now have to focus on outliers and removing them for a more accurate modeling."
   ]
  },
  {
   "cell_type": "code",
   "execution_count": null,
   "metadata": {},
   "outputs": [],
   "source": [
    "eda_streaming.dataframe = data_utils.remove_outliers(eda_streaming.dataframe, eda_streaming.numeric_columns)\n",
    "\n",
    "eda_streaming.plot_boxplots()"
   ]
  },
  {
   "cell_type": "code",
   "execution_count": null,
   "metadata": {},
   "outputs": [],
   "source": [
    "print(f\"After removing the outliers and dropping the null values, we are left with {len(eda_streaming.dataframe):,} movies.\")"
   ]
  },
  {
   "cell_type": "markdown",
   "metadata": {},
   "source": [
    "##### 4.1.2 Bivariate Analysis of continuous variables"
   ]
  },
  {
   "cell_type": "code",
   "execution_count": null,
   "metadata": {},
   "outputs": [],
   "source": [
    "eda_streaming.plot_correlation_matrix()"
   ]
  },
  {
   "cell_type": "markdown",
   "metadata": {},
   "source": [
    "The number of votes and gender composition (especially the number of male actors) seem to influence movie duration. It suggests that popularity and cast composition could impact movie production characteristics.\n",
    "Weak correlations between movie duration and other variables indicate that duration might not strongly determine popularity based on votes.\n",
    "This correlation matrix suggests further analysis like regression that could help separate and clarify the effects of gender and duration on popularity."
   ]
  },
  {
   "cell_type": "markdown",
   "metadata": {},
   "source": [
    "#### 4.1.3 Analysis and encoding of categorical variables\n",
    "Regression analysis with many categorical variables can quickly get complicated. Indeed using a boolean value for each category except one can cause us to have too many regressors. For variables like isAdult and Gender it is easy as there are only two possibilities. However, for Movie_genre, Movie_countries and Movie_languages we can quickly get into the hundreds. Here is how we plan on managing this:"
   ]
  },
  {
   "cell_type": "markdown",
   "metadata": {},
   "source": [
    "##### 4.1.3.1 Analysis of the Movies' genres"
   ]
  },
  {
   "cell_type": "markdown",
   "metadata": {},
   "source": [
    "We manually grouped the genres into broader categories because there were too many different genres in the dataset. This step was necessary to make the analysis more manageable and easier to interpret."
   ]
  },
  {
   "cell_type": "markdown",
   "metadata": {},
   "source": [
    "Let's analyze the two following graph :"
   ]
  },
  {
   "cell_type": "code",
   "execution_count": null,
   "metadata": {},
   "outputs": [],
   "source": [
    "eda_streaming.analyze_female_actors_by_genre()"
   ]
  },
  {
   "cell_type": "code",
   "execution_count": null,
   "metadata": {},
   "outputs": [],
   "source": [
    "eda_streaming.plot_female_percentage_evolution()"
   ]
  },
  {
   "cell_type": "markdown",
   "metadata": {},
   "source": [
    "- Female representation remains consistent across all genres, reflecting an industry-wide shift toward inclusivity.\n",
    "\n",
    "- The presence of female actors in genres such as Drama, Science Fiction, and Comedy showcases progress in creating more diverse stories that resonate with audiences.\n",
    "- This balance demonstrates a collective effort by the film industry to reflect societal changes and meet audience expectations for gender diversity."
   ]
  },
  {
   "cell_type": "markdown",
   "metadata": {},
   "source": [
    "We set a cutoff threshold of 500. This means all genres with less than 500 occurences will be discarded. "
   ]
  },
  {
   "cell_type": "code",
   "execution_count": null,
   "metadata": {},
   "outputs": [],
   "source": [
    "filtered_genre_counts = eda_streaming.filter_and_count(column_name=\"Movie_genres\", threshold=500)"
   ]
  },
  {
   "cell_type": "markdown",
   "metadata": {},
   "source": [
    "Let us check if this restricts our study to too few movies."
   ]
  },
  {
   "cell_type": "code",
   "execution_count": null,
   "metadata": {},
   "outputs": [],
   "source": [
    "popular_genres = eda_streaming.analyze_popular_genres(filtered_genre_counts=filtered_genre_counts)"
   ]
  },
  {
   "cell_type": "markdown",
   "metadata": {},
   "source": [
    "We can drop the Uncategorized genres to simplify our study"
   ]
  },
  {
   "cell_type": "markdown",
   "metadata": {},
   "source": [
    "We choose to only keep only the movies xhich have at more 2 genres and create dummies with all other combinations."
   ]
  },
  {
   "cell_type": "code",
   "execution_count": null,
   "metadata": {},
   "outputs": [],
   "source": [
    "eda_streaming.dataframe = eda_streaming.dataframe[eda_streaming.dataframe[\"Movie_genres\"].apply(lambda x: len(x.split(\",\")) <= 2)]"
   ]
  },
  {
   "cell_type": "code",
   "execution_count": null,
   "metadata": {},
   "outputs": [],
   "source": [
    "eda_streaming.dataframe[\"Movie_genres\"].value_counts()"
   ]
  },
  {
   "cell_type": "markdown",
   "metadata": {},
   "source": [
    "We can now create the dummy variables for the \"Main_genre\" column."
   ]
  },
  {
   "cell_type": "code",
   "execution_count": null,
   "metadata": {},
   "outputs": [],
   "source": [
    "\n",
    "dummies = pd.get_dummies(eda_streaming.dataframe[\"Movie_genres\"], prefix=\"Movie_genres\", drop_first=True)\n",
    "\n",
    "dummy_columns = dummies.columns.tolist()\n",
    "print(\"Dummies columns :\", dummy_columns)\n"
   ]
  },
  {
   "cell_type": "code",
   "execution_count": null,
   "metadata": {},
   "outputs": [],
   "source": [
    "#eda_streaming.dataframe = pd.get_dummies(eda_streaming.dataframe, columns=[\"Movie_genres\"], drop_first=True) \n",
    "eda_streaming.dataframe = pd.concat([eda_streaming.dataframe, dummies], axis=1)\n",
    "\n",
    "eda_streaming.dataframe.sample(5)"
   ]
  },
  {
   "cell_type": "markdown",
   "metadata": {},
   "source": [
    "##### 4.1.3.2 Analysis of the Movies' languages"
   ]
  },
  {
   "cell_type": "markdown",
   "metadata": {},
   "source": [
    "We will plot the top 5 languages by number of occurences:"
   ]
  },
  {
   "cell_type": "code",
   "execution_count": null,
   "metadata": {},
   "outputs": [],
   "source": [
    "eda_streaming.analyze_languages()"
   ]
  },
  {
   "cell_type": "markdown",
   "metadata": {},
   "source": [
    "Categorizing movies into two groups: \n",
    "- those available exclusively in English, \n",
    "- those available in other languages (which may include English alongside another language).\n",
    "\n",
    "This will be done through the creation of the boolean \"Is_not_only_english\" which is True when the movie is available in another language."
   ]
  },
  {
   "cell_type": "code",
   "execution_count": null,
   "metadata": {},
   "outputs": [],
   "source": [
    "eda_streaming.categorize_languages()"
   ]
  },
  {
   "cell_type": "markdown",
   "metadata": {},
   "source": [
    "We have more movies that are available in other languages than in the previous dataset. This shows how streaming platforms are making efforts to cater to different communities and reach a wider, more diverse audience by offering content in various languages."
   ]
  },
  {
   "cell_type": "markdown",
   "metadata": {},
   "source": [
    "##### 4.1.3.2 Analysis of the Movies' countries"
   ]
  },
  {
   "cell_type": "code",
   "execution_count": null,
   "metadata": {},
   "outputs": [],
   "source": [
    "eda_streaming.plot_average_rating_by_country(country_column=\"Movie_countries\", rating_column=\"Average_ratings\", color_scale=\"Purples\")"
   ]
  },
  {
   "cell_type": "markdown",
   "metadata": {},
   "source": [
    "We can see on this map that countries with darker shades show higher average ratings, showcasing regions where films are more successfull. The average ratings across countries should not be interpreted at face value due to unbalanced distribution of movies across regions. United States and India dominate the dataset with far more films than others, which could skew interpretations of their average ratings."
   ]
  },
  {
   "cell_type": "code",
   "execution_count": null,
   "metadata": {},
   "outputs": [],
   "source": [
    "eda_streaming.analyze_countries_plotly()"
   ]
  },
  {
   "cell_type": "markdown",
   "metadata": {},
   "source": [
    "We have a very similar situation to the languages. The United States of America have a much more prominent number of movies. We will thus proceed like previously by categorizing the movies into two groups:\n",
    "- USA movies \n",
    "- Movies from other countries \n",
    "\n",
    "This will be done through the creation of the boolean \"Is_USA_movie\" which is True when the movie is from the USA."
   ]
  },
  {
   "cell_type": "code",
   "execution_count": null,
   "metadata": {},
   "outputs": [],
   "source": [
    "eda_streaming.categorize_countries_bis()"
   ]
  },
  {
   "cell_type": "markdown",
   "metadata": {},
   "source": [
    "\n",
    "We have more movies from other countries than in the previous dataset. Similar to languages, this shows how streaming platforms are making efforts to include diverse cultures and reach audiences from different parts of the world."
   ]
  },
  {
   "cell_type": "markdown",
   "metadata": {},
   "source": [
    "##### 4.1.3.2 Analysis of the Movies' streaming platforms "
   ]
  },
  {
   "cell_type": "markdown",
   "metadata": {},
   "source": [
    "We created dummy variables for the streaming platforms(Netflix, Disney, Amazon prime). Each platform is now a column with 0 or 1, where 1 means the movie is available on that platform."
   ]
  },
  {
   "cell_type": "code",
   "execution_count": null,
   "metadata": {},
   "outputs": [],
   "source": [
    "eda_streaming.dataframe = pd.get_dummies(eda_streaming.dataframe, columns=[\"Platform\"], drop_first=True) \n",
    "eda_streaming.dataframe.sample(5)"
   ]
  },
  {
   "cell_type": "markdown",
   "metadata": {},
   "source": [
    "### 4.2 Identifying Potential Confounders for Streaming\n",
    "In order to not have bias in our study, it is essential we add the confounders. This means that we have to identify the variables that have an impact on both treatment and outcome, here being the actor gender and the final box office revenue respectivly. The confounders are: \n",
    "-  ⁠Movie_genre\n",
    "-  ⁠Movie_countries\n",
    "- ⁠Movie_languages\n",
    "- Num_votes"
   ]
  },
  {
   "cell_type": "markdown",
   "metadata": {},
   "source": [
    "### 1.3 Linear Regression"
   ]
  },
  {
   "cell_type": "code",
   "execution_count": null,
   "metadata": {},
   "outputs": [],
   "source": [
    "streaming_df_regression = eda_streaming.dataframe.copy()"
   ]
  },
  {
   "cell_type": "code",
   "execution_count": null,
   "metadata": {},
   "outputs": [],
   "source": [
    "indep_vars1=[\"Female_actors\", \"Male_actors\", \"Movie_runtime\", \"Is_not_only_english\", \"Is_USA_movie\",\n",
    "          'Platform_Disney', 'Platform_Netflix', \"Is_Adult\"]\n",
    "\n",
    "\n",
    "indep_vars=np.hstack([indep_vars1, dummy_columns]) #dummy columns contains the column genre\n",
    "dep_var = \"Average_ratings\"\n",
    "\n",
    "regression.run_regression(streaming_df_regression, indep_vars, dep_var)"
   ]
  },
  {
   "cell_type": "markdown",
   "metadata": {},
   "source": [
    "Let us analyze the regression on `Average_ratings`:\n",
    "\n",
    "- **$F$-statistic**: The p-value of the F-statistic is nearly zero. This allows us to reject the null hypothesis that all coefficients are equal to zero at the 5% significance level, meaning the model is statistically significant.\n",
    "\n",
    "- **$R^2$ and Adjusted $R^2$**: The \\( R^2 \\) value indicates that about 10% of the variance in `Average_ratings` is explained by the predictors. The adjusted \\( R^2 \\) is close to \\( R^2 \\), which shows the model is not overfitting but suggests there’s room for improvement.\n",
    "\n",
    "- **RMSE**: The Root Mean Squared Error is 1.06, with a relative error of 17.90% on the test dataset. This indicates moderate predictive accuracy but also shows that the model may struggle with some predictions.\n",
    "\n",
    "- **Insignificant predictors**: `Is_not_only_english` is statistically insignificant at the 5% significance level, meaning that having non-English content does not significantly impact the ratings.\n",
    "\n",
    "- **Notable coefficients**:\n",
    "  - **Female_actors** has a negative coefficient (-0.1248) and is statistically significant, indicating that movies with more female actors tend to have slightly lower ratings.\n",
    "  - **Male_actors** also has a negative coefficient (-0.0550) and is statistically significant, though its impact is smaller compared to female actors.\n",
    "  - **Movie_runtime** has a positive coefficient (0.2588) and is statistically significant, suggesting that longer movies tend to have higher ratings.\n",
    "  - **Is_USA_movie** has a positive and significant coefficient (0.1538), showing that movies produced in the U.S. generally perform better in terms of ratings.\n",
    "  - **Platform_Disney** and **Platform_Netflix** both have positive coefficients (0.1346 and 0.0899, respectively) and are significant, meaning that movies on these platforms tend to receive higher ratings.\n",
    "  - **Genres**:\n",
    "    - **Drama** and **Comedy** have positive and significant coefficients, indicating that these genres are generally associated with higher ratings.\n",
    "    - **Thriller** and **Fantasy** also have significant positive effects, though smaller compared to Drama and Comedy.\n",
    "    - **Horror** is not significant, suggesting that this genre does not strongly influence ratings.\n"
   ]
  },
  {
   "cell_type": "markdown",
   "metadata": {},
   "source": [
    "### 4.4 Genre specific Linear Regression"
   ]
  },
  {
   "cell_type": "code",
   "execution_count": null,
   "metadata": {},
   "outputs": [],
   "source": [
    "# Define variables for regression on individual genres\n",
    "indep_vars1=[\"Female_actors\", \"Male_actors\", \"Movie_runtime\", \"Is_not_only_english\", \"Is_USA_movie\",\n",
    "          'Platform_Disney', 'Platform_Netflix', \"Is_Adult\", \"log_Num_votes\"]\n",
    "\n",
    "#dummy columns contains the column genre\n",
    "\n",
    "# Setting up the dependent variable\n",
    "dep_var = \"Average_ratings\"\n",
    "\n",
    "show_VIF = True\n",
    "for genre in dummy_columns:\n",
    "    # Run the genre specific regression along with necessary preprocessing and metrics\n",
    "    regression.run_regression(streaming_df_regression, indep_vars, dep_var, show_VIF, genre)\n",
    "    \n",
    "    # Only display VIF information once as the independent variables have not changed\n",
    "    show_VIF = False"
   ]
  },
  {
   "cell_type": "markdown",
   "metadata": {},
   "source": [
    "### Action & Adventure, Drama & Emotion\n",
    "- **Female_actors**: Negative but not significant at the 5% level, \\(p = 0.345\\). Female representation does not significantly influence average ratings in this genre.  \n",
    "- **Male_actors**: Positive but not significant at the 5% level, \\(p = 0.248\\). Male representation shows no significant impact on average ratings.  \n",
    "- **Movie_runtime**: Positive and significant, \\(p < 0.001\\). Longer runtime is associated with higher average ratings for movies in this genre.  \n",
    "- **Is_not_only_english**: Positive and significant, \\(p = 0.035\\). Movies not exclusively in English tend to have higher ratings in this genre.  \n",
    "- **Is_USA_movie**: Positive but not significant at the 5% level, \\(p = 0.202\\). Being a USA production does not significantly affect ratings.  \n",
    "- **Platform_Disney**: Positive but not significant at the 5% level, \\(p = 0.086\\). Disney platform presence shows a slight trend towards higher ratings, but the result is not robust.  \n",
    "- **Platform_Netflix**: Positive but not significant at the 5% level, \\(p = 0.507\\). Netflix platform presence does not significantly influence ratings.  \n",
    "- **Is_Adult**: Positive and significant, \\(p = 0.024\\). Movies marked as adult content tend to have higher ratings in this genre.  \n",
    "\n",
    "---\n",
    "\n",
    "### Action & Adventure, Science Fiction & Fantasy\n",
    "- **Female_actors**: Negative but not significant at the 5% level, \\(p = 0.593\\). Female representation does not significantly influence ratings in this genre.  \n",
    "- **Male_actors**: Negative but not significant at the 5% level, \\(p = 0.566\\). Male representation does not significantly affect ratings.  \n",
    "- **Movie_runtime**: Positive and significant, \\(p = 0.002\\). Longer runtime is associated with higher ratings in this genre.  \n",
    "- **Is_not_only_english**: Negative but not significant at the 5% level, \\(p = 0.613\\). Non-English language status does not significantly impact ratings.  \n",
    "- **Is_USA_movie**: Positive but not significant at the 5% level, \\(p = 0.294\\). Being a USA production shows no significant effect on ratings.  \n",
    "- **Is_Adult**: Positive but not significant at the 5% level, \\(p = 0.804\\). Adult-marked movies do not show a significant effect on ratings.  \n",
    "\n",
    "---\n",
    "\n",
    "### Comedy & Light-Hearted\n",
    "- **Female_actors**: Negative and significant, \\(p < 0.001\\). An increase in female actors is associated with lower average ratings in this genre.  \n",
    "- **Male_actors**: Negative and significant, \\(p = 0.002\\). An increase in male actors is also associated with lower ratings.  \n",
    "- **Movie_runtime**: Positive and significant, \\(p = 0.008\\). Longer runtime is linked to higher ratings.  \n",
    "- **Is_not_only_english**: Negative and significant, \\(p = 0.045\\). Non-English movies tend to have lower ratings in this genre.  \n",
    "- **Is_USA_movie**: Positive and significant, \\(p = 0.010\\). Being a USA production is associated with higher ratings.  \n",
    "- **Platform_Disney**: Negative but not significant at the 5% level, \\(p = 0.080\\). Disney platform presence shows a slight negative trend in ratings, but the result is not robust.  \n",
    "- **Platform_Netflix**: Negative but not significant at the 5% level, \\(p = 0.337\\). Netflix platform presence does not significantly impact ratings.  \n",
    "- **Is_Adult**: Positive but not significant at the 5% level, \\(p = 0.969\\). Movies marked as adult content show no significant effect on ratings.  \n",
    "\n",
    "---\n",
    "\n",
    "### Drama & Emotion\n",
    "- **Female_actors**: Negative but not significant at the 5% level, \\(p = 0.157\\). Female representation does not significantly impact ratings in this genre.  \n",
    "- **Male_actors**: Positive but not significant at the 5% level, \\(p = 0.328\\). Male representation does not show a significant effect on ratings.  \n",
    "- **Movie_runtime**: Positive and significant, \\(p < 0.001\\). Longer runtime is strongly associated with higher ratings.  \n",
    "- **Is_not_only_english**: Positive and significant, \\(p = 0.004\\). Movies not exclusively in English tend to have higher ratings.  \n",
    "- **Is_USA_movie**: Positive and significant, \\(p = 0.003\\). Being a USA production is linked to higher ratings.  \n",
    "- **Platform_Disney**: Positive and significant, \\(p = 0.003\\). Disney platform presence is associated with higher ratings.  \n",
    "- **Platform_Netflix**: Positive but not significant at the 5% level, \\(p = 0.207\\). Netflix platform presence shows no strong effect on ratings.  \n",
    "- **Is_Adult**: Positive but not significant at the 5% level, \\(p = 0.228\\). Movies marked as adult content do not significantly impact ratings.  \n",
    "\n",
    "---\n",
    "\n",
    "### Science Fiction & Fantasy\n",
    "- **Female_actors**: Negative but not significant at the 5% level, \\(p = 0.443\\). Female representation does not significantly impact ratings in this genre.  \n",
    "- **Male_actors**: Negative but not significant at the 5% level, \\(p = 0.304\\). Male representation does not show a significant effect on ratings.  \n",
    "- **Movie_runtime**: Positive and significant, \\(p < 0.001\\). Longer runtime is strongly associated with higher ratings.  \n",
    "- **Is_not_only_english**: Negative but not significant at the 5% level, \\(p = 0.448\\). Non-English language status does not significantly influence ratings.  \n",
    "- **Is_USA_movie**: Positive and significant, \\(p = 0.033\\). Being a USA production is associated with higher ratings.  \n",
    "- **Platform_Disney**: Positive but not significant at the 5% level, \\(p = 0.094\\). Disney platform presence shows a slight positive trend, but the result is not robust.  \n",
    "- **Platform_Netflix**: Positive but not significant at the 5% level, \\(p = 0.165\\). Netflix platform presence does not significantly affect ratings.  \n",
    "- **Is_Adult**: Negative but not significant at the 5% level, \\(p = 0.106\\). Adult-marked movies do not significantly impact ratings.  \n",
    "\n",
    "---\n",
    "\n",
    "### Science Fiction & Fantasy, Drama & Emotion\n",
    "- **Female_actors**: Positive but not significant at the 5% level, \\(p = 0.804\\). Female representation does not significantly influence ratings in this genre.  \n",
    "- **Male_actors**: Positive but not significant at the 5% level, \\(p = 0.301\\). Male representation does not show a significant effect on ratings.  \n",
    "- **Movie_runtime**: Positive and significant, \\(p = 0.004\\). Longer runtime is associated with higher ratings.  \n",
    "- **Is_not_only_english**: Positive but not significant at the 5% level, \\(p = 0.108\\). Non-English movies may have slightly higher ratings, but this is not robust.  \n",
    "- **Is_USA_movie**: Negative but not significant at the 5% level, \\(p = 0.832\\). Being a USA production does not significantly impact ratings.  \n",
    "- **Platform_Disney**: Negative but not significant at the 5% level, \\(p = 0.902\\). Disney platform presence does not significantly affect ratings.  \n",
    "- **Platform_Netflix**: Negative but not significant at the 5% level, \\(p = 0.589\\). Netflix platform presence does not significantly influence ratings.  \n",
    "- **Is_Adult**: Negative but not significant at the 5% level, \\(p = 0.850\\). Adult-marked movies show no discernible effect on ratings.  \n"
   ]
  },
  {
   "cell_type": "markdown",
   "metadata": {},
   "source": [
    "### 5. <u>What are the social reasons behind the presence of female characters in movies? Is it due to sexualization or genuine equality of representation?</u>"
   ]
  },
  {
   "cell_type": "markdown",
   "metadata": {},
   "source": [
    "First, we will look at existing datasets that could give us a better general idea on the representation of women in movies."
   ]
  },
  {
   "cell_type": "markdown",
   "metadata": {},
   "source": [
    "#### 5.1 <u>Bechdel Dataset</u>"
   ]
  },
  {
   "cell_type": "markdown",
   "metadata": {},
   "source": [
    "The first dataset is the Bechdel dataset. The Bechdel dataset evaluates movies based on the Bechdel Test, which checks if a film has (1) at least two named women who (2) talk to each other (3) about something other than a man. It includes the Bechdel scores, which range from 0 to 3, each point reflecting one of the previously mentioned criteria. This dataset is used to analyze gender representation and trends in cinema."
   ]
  },
  {
   "cell_type": "code",
   "execution_count": null,
   "metadata": {},
   "outputs": [],
   "source": [
    "bechdel_loader = BechdelDatasetLoader(directory)\n",
    "bechdel_df = bechdel_loader.load_bechdel()\n",
    "bechdel_df.head()"
   ]
  },
  {
   "cell_type": "code",
   "execution_count": null,
   "metadata": {},
   "outputs": [],
   "source": [
    "eda_sexualization = EDA(eda.dataframe.copy())\n",
    "eda_sexualization.dataframe.head()"
   ]
  },
  {
   "cell_type": "code",
   "execution_count": null,
   "metadata": {},
   "outputs": [],
   "source": [
    "eda_sexualization_regression = evaluation_utils.calculate_weighted_success(eda_sexualization.dataframe, 0.67)"
   ]
  },
  {
   "cell_type": "code",
   "execution_count": null,
   "metadata": {},
   "outputs": [],
   "source": [
    "bechdel_final_merge = pd.merge(eda_sexualization_regression, bechdel_df, on=\"tconst\")\n",
    "bechdel_final_merge.head()"
   ]
  },
  {
   "cell_type": "code",
   "execution_count": null,
   "metadata": {},
   "outputs": [],
   "source": [
    "bechdel_final_merge = bechdel_final_merge.drop(columns=[\"tconst\"])"
   ]
  },
  {
   "cell_type": "markdown",
   "metadata": {},
   "source": [
    "To see if there is a relation between the Bechdel rating and the success of the movie, we apply linear regression qith 3 values as outputs independently:\n",
    "1. log_ROI\n",
    "2. Normalized_Rating\n",
    "3. Movie_success"
   ]
  },
  {
   "cell_type": "code",
   "execution_count": null,
   "metadata": {},
   "outputs": [],
   "source": [
    "indep_vars = [\"Female_actors\", \"Male_actors\", \"Movie_runtime\", \"Is_not_only_english\", \n",
    "                   \"Is_USA_movie\", \"Main_genre_drama\",\n",
    "                   \"Main_genre_thriller\", \"Main_genre_comedy\", \"Main_genre_fantasy\", \"Main_genre_horror\", \"Start_year\",\n",
    "                   \"Box_office_companies\", \"Bechdel_rating\", \"log_Num_votes\"]\n",
    "\n",
    "dep_var = \"log_ROI\"\n",
    "regression.run_regression(bechdel_final_merge, indep_vars, dep_var)"
   ]
  },
  {
   "cell_type": "markdown",
   "metadata": {},
   "source": [
    "The results show that Bechdel_rating has a **positive coefficient**, and is **significant** (p=0.003). This indicates that movies with a higher Bechdel Rating (better representation of women), have a higher ROI.\n",
    "\n",
    "Next, we apply regression with Normalized_Rating being the dependent variable:"
   ]
  },
  {
   "cell_type": "code",
   "execution_count": null,
   "metadata": {},
   "outputs": [],
   "source": [
    "indep_vars = [\"Female_actors\", \"Male_actors\", \"Movie_runtime\", \"Is_not_only_english\", \n",
    "                   \"Is_USA_movie\", \"Main_genre_drama\",\n",
    "                   \"Main_genre_thriller\", \"Main_genre_comedy\", \"Main_genre_fantasy\", \"Main_genre_horror\", \"Start_year\",\n",
    "                   \"Box_office_companies\", \"Bechdel_rating\", \"log_Num_votes\"]\n",
    "\n",
    "dep_var = \"Normalized_Rating\"\n",
    "regression.run_regression(bechdel_final_merge, indep_vars, dep_var)"
   ]
  },
  {
   "cell_type": "markdown",
   "metadata": {},
   "source": [
    "The results show that Bechdel_rating **does not affect the rating of the movie**. The p-value is 0.83>0.05, and the coefficient is almost negligible too."
   ]
  },
  {
   "cell_type": "code",
   "execution_count": null,
   "metadata": {},
   "outputs": [],
   "source": [
    "indep_vars = [\"Female_actors\", \"Male_actors\", \"Movie_runtime\", \"Is_not_only_english\", \n",
    "                   \"Is_USA_movie\", \"Main_genre_drama\",\n",
    "                   \"Main_genre_thriller\", \"Main_genre_comedy\", \"Main_genre_fantasy\", \"Main_genre_horror\", \"Start_year\",\n",
    "                   \"Box_office_companies\", \"Bechdel_rating\", \"log_Num_votes\"]\n",
    "\n",
    "dep_var = \"Movie_success\"\n",
    "regression.run_regression(bechdel_final_merge, indep_vars, dep_var)"
   ]
  },
  {
   "cell_type": "markdown",
   "metadata": {},
   "source": [
    "The results show that Bechdel_rating has a positive coefficient (0.0058), and is significant (p=0.01). However, the coefficient is quite small compared to other variables, which show its negligible effect on Movie_success."
   ]
  },
  {
   "cell_type": "markdown",
   "metadata": {},
   "source": [
    "#### 5.2 <u>Dialogue Dataset</u>"
   ]
  },
  {
   "cell_type": "markdown",
   "metadata": {},
   "source": [
    "The second dataset is Polygraph's Film Dialogue Dataset. It contains a dataframe of characters in movies, along with their gender and the number of words they have in the movie. It contains another dataframe of these movies, identified by their imdb_id.\n"
   ]
  },
  {
   "cell_type": "code",
   "execution_count": null,
   "metadata": {},
   "outputs": [],
   "source": [
    "dialogue_loader = DialogueDatasetLoader(directory)\n",
    "movie_dialogue_df = dialogue_loader.load_movie_dialogue()\n",
    "print(f\"There are {len(movie_dialogue_df)} movies.\")"
   ]
  },
  {
   "cell_type": "code",
   "execution_count": null,
   "metadata": {},
   "outputs": [],
   "source": [
    "character_dialogue_df = dialogue_loader.load_character_dialogue()\n",
    "print(f\"There are {len(character_dialogue_df)} characters.\")"
   ]
  },
  {
   "cell_type": "markdown",
   "metadata": {},
   "source": [
    "We merge the two dataframes:"
   ]
  },
  {
   "cell_type": "code",
   "execution_count": null,
   "metadata": {},
   "outputs": [],
   "source": [
    "dialogue_df = pd.merge(movie_dialogue_df, character_dialogue_df, on=\"Script_id\")\n",
    "dialogue_df.drop(columns=[\"Script_id\"], inplace = True)\n",
    "\n",
    "dialogue_gender_words_df = dialogue_df.drop(columns=[\"Character_name\", \"Age\", \"Year\", \"Title\"])\n",
    "dialogue_gender_words_df.head()"
   ]
  },
  {
   "cell_type": "code",
   "execution_count": null,
   "metadata": {},
   "outputs": [],
   "source": [
    "print(f\"The resulting dataframe has {len(dialogue_gender_words_df)} rows.\")"
   ]
  },
  {
   "cell_type": "markdown",
   "metadata": {},
   "source": [
    "We merge this dataframe with our final dataframe:"
   ]
  },
  {
   "cell_type": "code",
   "execution_count": null,
   "metadata": {},
   "outputs": [],
   "source": [
    "dialogue_merged_df = pd.merge(eda_sexualization.dataframe, dialogue_gender_words_df, on=\"tconst\")\n",
    "print(f\"The resulting dataframe has {len(dialogue_merged_df)} movies.\")"
   ]
  },
  {
   "cell_type": "code",
   "execution_count": null,
   "metadata": {},
   "outputs": [],
   "source": [
    "dialogue_merged_df.head()"
   ]
  },
  {
   "cell_type": "code",
   "execution_count": null,
   "metadata": {},
   "outputs": [],
   "source": [
    "eda_dialogue = EDA(dialogue_merged_df)"
   ]
  },
  {
   "cell_type": "markdown",
   "metadata": {},
   "source": [
    "To know how many words female characters talk in movies, which can relate to how represented they are, we group by movie and gender, to find the total word count for each of the genders in every movie."
   ]
  },
  {
   "cell_type": "code",
   "execution_count": null,
   "metadata": {},
   "outputs": [],
   "source": [
    "eda_dialogue_words = EDA(eda_dialogue.count_gender_words())"
   ]
  },
  {
   "cell_type": "markdown",
   "metadata": {},
   "source": [
    "We plot the results:"
   ]
  },
  {
   "cell_type": "code",
   "execution_count": null,
   "metadata": {},
   "outputs": [],
   "source": [
    "eda_dialogue_words.plotly_gender_words()"
   ]
  },
  {
   "cell_type": "code",
   "execution_count": null,
   "metadata": {},
   "outputs": [],
   "source": [
    "#ANALYSIS OF GRAPH"
   ]
  },
  {
   "cell_type": "markdown",
   "metadata": {},
   "source": [
    "#### 5.3 <u>Character Types</u>"
   ]
  },
  {
   "cell_type": "markdown",
   "metadata": {},
   "source": [
    "After looking at the representation of women in movies, we take a deeper look at the reason behind this representation, using character types and plot summaries."
   ]
  },
  {
   "cell_type": "code",
   "execution_count": null,
   "metadata": {},
   "outputs": [],
   "source": [
    "character_types = CMU_loader.load_character_types()\n",
    "character_types.head()"
   ]
  },
  {
   "cell_type": "code",
   "execution_count": null,
   "metadata": {},
   "outputs": [],
   "source": [
    "print(f\"There are {len(character_types)} samples in character_types\")"
   ]
  },
  {
   "cell_type": "code",
   "execution_count": null,
   "metadata": {},
   "outputs": [],
   "source": [
    "empty_actor_names = (character_types['Actor_name'].isna() | (character_types['Actor_name'] == '')).sum()\n",
    "empty_map_ids = (character_types['Freebase_character_actor_map_ID'].isna() | (character_types['Freebase_character_actor_map_ID'] == '')).sum()\n",
    "empty_character_names = (character_types['Character_name'].isna() | (character_types['Character_name'] == '')).sum()\n",
    "\n",
    "print(f\"There are {empty_actor_names} NaN actor names.\")\n",
    "print(f\"There are {empty_map_ids} NaN freebase_character_actor_map_id.\")\n",
    "print(f\"There are {empty_character_names} NaN character names.\")"
   ]
  },
  {
   "cell_type": "markdown",
   "metadata": {},
   "source": [
    "We first do a preliminary merge of character_types with character_metadata using Freebase_character_actor_map_ID:"
   ]
  },
  {
   "cell_type": "code",
   "execution_count": null,
   "metadata": {},
   "outputs": [],
   "source": [
    "character_metadata_sexualization_study = CMU_loader.load_character_metadata()\n",
    "character_metadata_sexualization_study.head()"
   ]
  },
  {
   "cell_type": "code",
   "execution_count": null,
   "metadata": {},
   "outputs": [],
   "source": [
    "merged_character_df = pd.merge(character_types, character_metadata_sexualization_study, on=[\"Freebase_character_actor_map_ID\"], how=\"inner\")\n",
    "print(f\"There are {len(merged_character_df)} matches between the two dataframes.\")"
   ]
  },
  {
   "cell_type": "code",
   "execution_count": null,
   "metadata": {},
   "outputs": [],
   "source": [
    "gender_counts = merged_character_df.groupby(['Actor_gender']).size()\n",
    "print(gender_counts)"
   ]
  },
  {
   "cell_type": "markdown",
   "metadata": {},
   "source": [
    "Even if we choose not to drop null values for other columns and use character_metadata as is, we only have 69 samples of female characters to study, which is not enough data for a complete analysis of the sexualization of women. Hence, we look at the plot summaries next."
   ]
  },
  {
   "cell_type": "markdown",
   "metadata": {},
   "source": [
    "#### 5.4 <u>Plot Summaries</u>"
   ]
  },
  {
   "cell_type": "markdown",
   "metadata": {},
   "source": [
    "##### 5.4.1 <u>Classification</u>"
   ]
  },
  {
   "cell_type": "markdown",
   "metadata": {},
   "source": [
    "To classify instances of sexualization of women, we perform zero-shot classification on the plot summaries using Facebook's BART Large model.\n",
    "We try with different classification labels, and manually check the output on only the first 50 samples to get a general idea of the model's performance, due to computational constraints."
   ]
  },
  {
   "cell_type": "code",
   "execution_count": null,
   "metadata": {},
   "outputs": [],
   "source": [
    "sexualization_study_sample = final_df.dropna(subset=[\"Plot Summaries\"])\n",
    "sexualization_study_sample = sexualization_study_sample.head(50)\n",
    "sexualization_study_sample.head()"
   ]
  },
  {
   "cell_type": "code",
   "execution_count": null,
   "metadata": {},
   "outputs": [],
   "source": [
    "labels1 = ['sexualization', 'no sexualization']\n",
    "zeroshot_loader = ZeroShotResultsLoader(directory)\n",
    "zeroshot_df1 = zeroshot_loader.load_results(1) #Since this takes time, we ar eloading the results directly. The codes for running the classification+clustering are in the \"sexualization_study_compute.py\" script in src/scripts/\n",
    "zeroshot_df1[['Plot Summaries','sexualization_prediction','sexualization_confidence']].head(10)"
   ]
  },
  {
   "cell_type": "code",
   "execution_count": null,
   "metadata": {},
   "outputs": [],
   "source": [
    "labels2 = ['gender stereotype', 'no gender stereotype']\n",
    "zeroshot_df2 = zeroshot_loader.load_results(2)\n",
    "zeroshot_df2[['Plot Summaries','sexualization_prediction','sexualization_confidence']].head(10)"
   ]
  },
  {
   "cell_type": "code",
   "execution_count": null,
   "metadata": {},
   "outputs": [],
   "source": [
    "below_80 = zeroshot_df1[zeroshot_df1['sexualization_confidence'] < 0.80]\n",
    "print(f\"Percentage of samples for the first set of labels with sexualization_confidence below 80% is {below_80.shape[0]*100/len(zeroshot_df1):.2f}%\")"
   ]
  },
  {
   "cell_type": "code",
   "execution_count": null,
   "metadata": {},
   "outputs": [],
   "source": [
    "below_80 = zeroshot_df2[zeroshot_df2['sexualization_confidence'] < 0.80]\n",
    "print(f\"Percentage of samples for the second set of labels with sexualization_confidence below 80% is {below_80.shape[0]*100/len(zeroshot_df2):.2f}%\")"
   ]
  },
  {
   "cell_type": "markdown",
   "metadata": {},
   "source": [
    "The model, in both cases, is not confident with its classification, especially the second model. Additionally, even for sample with very high confidence scores, the model could predict a positive case of sexualization, eventhough there is no proof or evidence from the plot summaries that this could be true. One instance of this is the second sample in the classification of first label set: the model is 92% confident of the classification of \"sexualization\", eventhough the plot summary indicates otherwise:\n",
    "\n"
   ]
  },
  {
   "cell_type": "code",
   "execution_count": null,
   "metadata": {},
   "outputs": [],
   "source": [
    "print(zeroshot_df1[\"Plot Summaries\"][1])"
   ]
  },
  {
   "cell_type": "markdown",
   "metadata": {},
   "source": [
    "Hence, we cannot trust the classification results of the models and complete our analysis based on it."
   ]
  },
  {
   "cell_type": "markdown",
   "metadata": {},
   "source": [
    "##### 5.4.2 <u>Clustering</u>"
   ]
  },
  {
   "cell_type": "markdown",
   "metadata": {},
   "source": [
    "As an alternative, we attempt to cluster movies within the same main genre. The topic a movie revolves about could help identify if there are forms of sexualization of women. Movies in sub-clusters such as \"sex comedy\" are more likely to have sexualization instances of women than \"family comedy\" for instance."
   ]
  },
  {
   "cell_type": "code",
   "execution_count": null,
   "metadata": {},
   "outputs": [],
   "source": [
    "filtered_genre_counts = eda_sexualization.filter_and_count(column_name=\"Movie_genres\", threshold=500)\n",
    "popular_genres = eda_sexualization.analyze_popular_genres(column_name=\"Movie_genres\", filtered_genre_counts=filtered_genre_counts)\n",
    "main_genres = eda_sexualization.get_main_genres(column_name=\"Movie_genres\", popular_genres = popular_genres)"
   ]
  },
  {
   "cell_type": "markdown",
   "metadata": {},
   "source": [
    "Next, clustering is applied. The function processes the dataset of movies by performing text preprocessing on their plot summaries, generating embeddings using the SentenceTransformer model, and clustering movies within each genre based on a combination of semantic embeddings and TF-IDF features. It determines the optimal number of clusters for each genre using silhouette scores and assigns cluster labels to the data. Additionally, it identifies the top TF-IDF terms for each cluster, providing insights into the key themes within each group."
   ]
  },
  {
   "cell_type": "code",
   "execution_count": null,
   "metadata": {},
   "outputs": [],
   "source": [
    "clustering_loader = ClusteringResultsLoader(directory)\n",
    "clustered_df, genre_cluster_details = clustering_loader.load_clusters()"
   ]
  },
  {
   "cell_type": "code",
   "execution_count": null,
   "metadata": {},
   "outputs": [],
   "source": [
    "eda_clustered = EDA(clustered_df.copy())"
   ]
  },
  {
   "cell_type": "code",
   "execution_count": null,
   "metadata": {},
   "outputs": [],
   "source": [
    "for genre, clusters in genre_cluster_details.items():\n",
    "    print(f\"Top terms for {genre}:\")\n",
    "    for cluster, terms in clusters.items():\n",
    "        print(f\"  Cluster {cluster}: {', '.join(terms)}\")"
   ]
  },
  {
   "cell_type": "code",
   "execution_count": null,
   "metadata": {},
   "outputs": [],
   "source": [
    "eda_clustered.plotly_cluster_words(genre_cluster_details)"
   ]
  },
  {
   "cell_type": "markdown",
   "metadata": {},
   "source": [
    "As we can see in the sample wordclouds above, the clusters produced by the model does not capture sub-topics that could be useful in terms of determining the sexualization of women. The sub-clusters are irrelevant."
   ]
  }
 ],
 "metadata": {
  "kernelspec": {
   "display_name": "Python 3 (ipykernel)",
   "language": "python",
   "name": "python3"
  },
  "language_info": {
   "codemirror_mode": {
    "name": "ipython",
    "version": 3
   },
   "file_extension": ".py",
   "mimetype": "text/x-python",
   "name": "python",
   "nbconvert_exporter": "python",
   "pygments_lexer": "ipython3",
   "version": "3.12.4"
  }
 },
 "nbformat": 4,
 "nbformat_minor": 4
}
